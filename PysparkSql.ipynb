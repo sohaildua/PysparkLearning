{
  "nbformat": 4,
  "nbformat_minor": 0,
  "metadata": {
    "colab": {
      "provenance": [],
      "collapsed_sections": [],
      "authorship_tag": "ABX9TyOpfG95z/wo7DU6NtqPbaaH",
      "include_colab_link": true
    },
    "kernelspec": {
      "name": "python3",
      "display_name": "Python 3"
    },
    "language_info": {
      "name": "python"
    }
  },
  "cells": [
    {
      "cell_type": "markdown",
      "metadata": {
        "id": "view-in-github",
        "colab_type": "text"
      },
      "source": [
        "<a href=\"https://colab.research.google.com/github/sohaildua/PysparkLearning/blob/main/PysparkSql.ipynb\" target=\"_parent\"><img src=\"https://colab.research.google.com/assets/colab-badge.svg\" alt=\"Open In Colab\"/></a>"
      ]
    },
    {
      "cell_type": "code",
      "execution_count": 1,
      "metadata": {
        "colab": {
          "base_uri": "https://localhost:8080/"
        },
        "id": "861urVxBKyzQ",
        "outputId": "c72f9936-12db-4f36-ab4c-b1f18eb5eb20"
      },
      "outputs": [
        {
          "output_type": "stream",
          "name": "stdout",
          "text": [
            "Looking in indexes: https://pypi.org/simple, https://us-python.pkg.dev/colab-wheels/public/simple/\n",
            "Collecting pyspark\n",
            "  Downloading pyspark-3.3.0.tar.gz (281.3 MB)\n",
            "\u001b[K     |████████████████████████████████| 281.3 MB 39 kB/s \n",
            "\u001b[?25hCollecting py4j==0.10.9.5\n",
            "  Downloading py4j-0.10.9.5-py2.py3-none-any.whl (199 kB)\n",
            "\u001b[K     |████████████████████████████████| 199 kB 51.7 MB/s \n",
            "\u001b[?25hBuilding wheels for collected packages: pyspark\n",
            "  Building wheel for pyspark (setup.py) ... \u001b[?25l\u001b[?25hdone\n",
            "  Created wheel for pyspark: filename=pyspark-3.3.0-py2.py3-none-any.whl size=281764026 sha256=c1c5ba9f46904ae9575253e7113d4fa3df42c717fdc2e716b11e120efe832f15\n",
            "  Stored in directory: /root/.cache/pip/wheels/7a/8e/1b/f73a52650d2e5f337708d9f6a1750d451a7349a867f928b885\n",
            "Successfully built pyspark\n",
            "Installing collected packages: py4j, pyspark\n",
            "Successfully installed py4j-0.10.9.5 pyspark-3.3.0\n"
          ]
        }
      ],
      "source": [
        "!pip install pyspark\n",
        "!pip install -U -q PyDrive --quiet \n",
        "\n"
      ]
    },
    {
      "cell_type": "code",
      "source": [
        "import pyspark\n",
        "from pyspark.sql import SparkSession\n",
        "spark = SparkSession.builder.appName(\"SparkSql\").getOrCreate()\n",
        "spark"
      ],
      "metadata": {
        "colab": {
          "base_uri": "https://localhost:8080/",
          "height": 219
        },
        "id": "gmWRzgYzLU7l",
        "outputId": "7e98d242-8eef-4d44-dd4c-e06e59221a8e"
      },
      "execution_count": 3,
      "outputs": [
        {
          "output_type": "execute_result",
          "data": {
            "text/plain": [
              "<pyspark.sql.session.SparkSession at 0x7fd47058e450>"
            ],
            "text/html": [
              "\n",
              "            <div>\n",
              "                <p><b>SparkSession - in-memory</b></p>\n",
              "                \n",
              "        <div>\n",
              "            <p><b>SparkContext</b></p>\n",
              "\n",
              "            <p><a href=\"http://785c72199203:4040\">Spark UI</a></p>\n",
              "\n",
              "            <dl>\n",
              "              <dt>Version</dt>\n",
              "                <dd><code>v3.3.0</code></dd>\n",
              "              <dt>Master</dt>\n",
              "                <dd><code>local[*]</code></dd>\n",
              "              <dt>AppName</dt>\n",
              "                <dd><code>ReadWriteVal</code></dd>\n",
              "            </dl>\n",
              "        </div>\n",
              "        \n",
              "            </div>\n",
              "        "
            ]
          },
          "metadata": {},
          "execution_count": 3
        }
      ]
    },
    {
      "cell_type": "markdown",
      "source": [
        "# New Section"
      ],
      "metadata": {
        "id": "wHzN82-bLi0-"
      }
    },
    {
      "cell_type": "code",
      "source": [
        "crime = spark.read.csv(\"rec-crime-pfa.csv\",inferSchema=True, header=True)"
      ],
      "metadata": {
        "id": "f6eNdy4ULU4t"
      },
      "execution_count": 4,
      "outputs": []
    },
    {
      "cell_type": "code",
      "source": [
        "crime.printSchema()"
      ],
      "metadata": {
        "colab": {
          "base_uri": "https://localhost:8080/"
        },
        "id": "U3fCMUNsLU2L",
        "outputId": "e73e2dc6-25b6-4dd2-f811-8fa0207a0a4c"
      },
      "execution_count": 5,
      "outputs": [
        {
          "output_type": "stream",
          "name": "stdout",
          "text": [
            "root\n",
            " |-- 12 months ending: string (nullable = true)\n",
            " |-- PFA: string (nullable = true)\n",
            " |-- Region: string (nullable = true)\n",
            " |-- Offence: string (nullable = true)\n",
            " |-- Rolling year total number of offences: integer (nullable = true)\n",
            "\n"
          ]
        }
      ]
    },
    {
      "cell_type": "code",
      "source": [
        "crime.limit(4).show()"
      ],
      "metadata": {
        "colab": {
          "base_uri": "https://localhost:8080/"
        },
        "id": "IsGhL6eiLUzd",
        "outputId": "0122a803-2d2f-4718-c163-698d0e0987de"
      },
      "execution_count": 6,
      "outputs": [
        {
          "output_type": "stream",
          "name": "stdout",
          "text": [
            "+----------------+-----------------+----------+--------------------+-------------------------------------+\n",
            "|12 months ending|              PFA|    Region|             Offence|Rolling year total number of offences|\n",
            "+----------------+-----------------+----------+--------------------+-------------------------------------+\n",
            "|      31/03/2003|Avon and Somerset|South West|All other theft o...|                                25959|\n",
            "|      31/03/2003|Avon and Somerset|South West|       Bicycle theft|                                 3090|\n",
            "|      31/03/2003|Avon and Somerset|South West|Criminal damage a...|                                26202|\n",
            "|      31/03/2003|Avon and Somerset|South West|Death or serious ...|                                    2|\n",
            "+----------------+-----------------+----------+--------------------+-------------------------------------+\n",
            "\n"
          ]
        }
      ]
    },
    {
      "cell_type": "code",
      "source": [
        "crime.toPandas()"
      ],
      "metadata": {
        "colab": {
          "base_uri": "https://localhost:8080/",
          "height": 424
        },
        "id": "2vs__uVELUw1",
        "outputId": "4ca58e5f-896e-4822-bfa4-483718d90af3"
      },
      "execution_count": 7,
      "outputs": [
        {
          "output_type": "execute_result",
          "data": {
            "text/plain": [
              "      12 months ending                PFA      Region  \\\n",
              "0           31/03/2003  Avon and Somerset  South West   \n",
              "1           31/03/2003  Avon and Somerset  South West   \n",
              "2           31/03/2003  Avon and Somerset  South West   \n",
              "3           31/03/2003  Avon and Somerset  South West   \n",
              "4           31/03/2003  Avon and Somerset  South West   \n",
              "...                ...                ...         ...   \n",
              "46464       31/12/2018          Wiltshire  South West   \n",
              "46465       31/12/2018          Wiltshire  South West   \n",
              "46466       31/12/2018          Wiltshire  South West   \n",
              "46467       31/12/2018          Wiltshire  South West   \n",
              "46468       31/12/2018          Wiltshire  South West   \n",
              "\n",
              "                                                 Offence  \\\n",
              "0                               All other theft offences   \n",
              "1                                          Bicycle theft   \n",
              "2                              Criminal damage and arson   \n",
              "3      Death or serious injury caused by illegal driving   \n",
              "4                                      Domestic burglary   \n",
              "...                                                  ...   \n",
              "46464                            Stalking and harassment   \n",
              "46465                              Theft from the person   \n",
              "46466                                   Vehicle offences   \n",
              "46467                               Violence with injury   \n",
              "46468                            Violence without injury   \n",
              "\n",
              "       Rolling year total number of offences  \n",
              "0                                      25959  \n",
              "1                                       3090  \n",
              "2                                      26202  \n",
              "3                                          2  \n",
              "4                                      14561  \n",
              "...                                      ...  \n",
              "46464                                   2380  \n",
              "46465                                    347  \n",
              "46466                                   2895  \n",
              "46467                                   5701  \n",
              "46468                                   5840  \n",
              "\n",
              "[46469 rows x 5 columns]"
            ],
            "text/html": [
              "\n",
              "  <div id=\"df-9e994e3e-50d0-4148-a04c-5be03e10e11a\">\n",
              "    <div class=\"colab-df-container\">\n",
              "      <div>\n",
              "<style scoped>\n",
              "    .dataframe tbody tr th:only-of-type {\n",
              "        vertical-align: middle;\n",
              "    }\n",
              "\n",
              "    .dataframe tbody tr th {\n",
              "        vertical-align: top;\n",
              "    }\n",
              "\n",
              "    .dataframe thead th {\n",
              "        text-align: right;\n",
              "    }\n",
              "</style>\n",
              "<table border=\"1\" class=\"dataframe\">\n",
              "  <thead>\n",
              "    <tr style=\"text-align: right;\">\n",
              "      <th></th>\n",
              "      <th>12 months ending</th>\n",
              "      <th>PFA</th>\n",
              "      <th>Region</th>\n",
              "      <th>Offence</th>\n",
              "      <th>Rolling year total number of offences</th>\n",
              "    </tr>\n",
              "  </thead>\n",
              "  <tbody>\n",
              "    <tr>\n",
              "      <th>0</th>\n",
              "      <td>31/03/2003</td>\n",
              "      <td>Avon and Somerset</td>\n",
              "      <td>South West</td>\n",
              "      <td>All other theft offences</td>\n",
              "      <td>25959</td>\n",
              "    </tr>\n",
              "    <tr>\n",
              "      <th>1</th>\n",
              "      <td>31/03/2003</td>\n",
              "      <td>Avon and Somerset</td>\n",
              "      <td>South West</td>\n",
              "      <td>Bicycle theft</td>\n",
              "      <td>3090</td>\n",
              "    </tr>\n",
              "    <tr>\n",
              "      <th>2</th>\n",
              "      <td>31/03/2003</td>\n",
              "      <td>Avon and Somerset</td>\n",
              "      <td>South West</td>\n",
              "      <td>Criminal damage and arson</td>\n",
              "      <td>26202</td>\n",
              "    </tr>\n",
              "    <tr>\n",
              "      <th>3</th>\n",
              "      <td>31/03/2003</td>\n",
              "      <td>Avon and Somerset</td>\n",
              "      <td>South West</td>\n",
              "      <td>Death or serious injury caused by illegal driving</td>\n",
              "      <td>2</td>\n",
              "    </tr>\n",
              "    <tr>\n",
              "      <th>4</th>\n",
              "      <td>31/03/2003</td>\n",
              "      <td>Avon and Somerset</td>\n",
              "      <td>South West</td>\n",
              "      <td>Domestic burglary</td>\n",
              "      <td>14561</td>\n",
              "    </tr>\n",
              "    <tr>\n",
              "      <th>...</th>\n",
              "      <td>...</td>\n",
              "      <td>...</td>\n",
              "      <td>...</td>\n",
              "      <td>...</td>\n",
              "      <td>...</td>\n",
              "    </tr>\n",
              "    <tr>\n",
              "      <th>46464</th>\n",
              "      <td>31/12/2018</td>\n",
              "      <td>Wiltshire</td>\n",
              "      <td>South West</td>\n",
              "      <td>Stalking and harassment</td>\n",
              "      <td>2380</td>\n",
              "    </tr>\n",
              "    <tr>\n",
              "      <th>46465</th>\n",
              "      <td>31/12/2018</td>\n",
              "      <td>Wiltshire</td>\n",
              "      <td>South West</td>\n",
              "      <td>Theft from the person</td>\n",
              "      <td>347</td>\n",
              "    </tr>\n",
              "    <tr>\n",
              "      <th>46466</th>\n",
              "      <td>31/12/2018</td>\n",
              "      <td>Wiltshire</td>\n",
              "      <td>South West</td>\n",
              "      <td>Vehicle offences</td>\n",
              "      <td>2895</td>\n",
              "    </tr>\n",
              "    <tr>\n",
              "      <th>46467</th>\n",
              "      <td>31/12/2018</td>\n",
              "      <td>Wiltshire</td>\n",
              "      <td>South West</td>\n",
              "      <td>Violence with injury</td>\n",
              "      <td>5701</td>\n",
              "    </tr>\n",
              "    <tr>\n",
              "      <th>46468</th>\n",
              "      <td>31/12/2018</td>\n",
              "      <td>Wiltshire</td>\n",
              "      <td>South West</td>\n",
              "      <td>Violence without injury</td>\n",
              "      <td>5840</td>\n",
              "    </tr>\n",
              "  </tbody>\n",
              "</table>\n",
              "<p>46469 rows × 5 columns</p>\n",
              "</div>\n",
              "      <button class=\"colab-df-convert\" onclick=\"convertToInteractive('df-9e994e3e-50d0-4148-a04c-5be03e10e11a')\"\n",
              "              title=\"Convert this dataframe to an interactive table.\"\n",
              "              style=\"display:none;\">\n",
              "        \n",
              "  <svg xmlns=\"http://www.w3.org/2000/svg\" height=\"24px\"viewBox=\"0 0 24 24\"\n",
              "       width=\"24px\">\n",
              "    <path d=\"M0 0h24v24H0V0z\" fill=\"none\"/>\n",
              "    <path d=\"M18.56 5.44l.94 2.06.94-2.06 2.06-.94-2.06-.94-.94-2.06-.94 2.06-2.06.94zm-11 1L8.5 8.5l.94-2.06 2.06-.94-2.06-.94L8.5 2.5l-.94 2.06-2.06.94zm10 10l.94 2.06.94-2.06 2.06-.94-2.06-.94-.94-2.06-.94 2.06-2.06.94z\"/><path d=\"M17.41 7.96l-1.37-1.37c-.4-.4-.92-.59-1.43-.59-.52 0-1.04.2-1.43.59L10.3 9.45l-7.72 7.72c-.78.78-.78 2.05 0 2.83L4 21.41c.39.39.9.59 1.41.59.51 0 1.02-.2 1.41-.59l7.78-7.78 2.81-2.81c.8-.78.8-2.07 0-2.86zM5.41 20L4 18.59l7.72-7.72 1.47 1.35L5.41 20z\"/>\n",
              "  </svg>\n",
              "      </button>\n",
              "      \n",
              "  <style>\n",
              "    .colab-df-container {\n",
              "      display:flex;\n",
              "      flex-wrap:wrap;\n",
              "      gap: 12px;\n",
              "    }\n",
              "\n",
              "    .colab-df-convert {\n",
              "      background-color: #E8F0FE;\n",
              "      border: none;\n",
              "      border-radius: 50%;\n",
              "      cursor: pointer;\n",
              "      display: none;\n",
              "      fill: #1967D2;\n",
              "      height: 32px;\n",
              "      padding: 0 0 0 0;\n",
              "      width: 32px;\n",
              "    }\n",
              "\n",
              "    .colab-df-convert:hover {\n",
              "      background-color: #E2EBFA;\n",
              "      box-shadow: 0px 1px 2px rgba(60, 64, 67, 0.3), 0px 1px 3px 1px rgba(60, 64, 67, 0.15);\n",
              "      fill: #174EA6;\n",
              "    }\n",
              "\n",
              "    [theme=dark] .colab-df-convert {\n",
              "      background-color: #3B4455;\n",
              "      fill: #D2E3FC;\n",
              "    }\n",
              "\n",
              "    [theme=dark] .colab-df-convert:hover {\n",
              "      background-color: #434B5C;\n",
              "      box-shadow: 0px 1px 3px 1px rgba(0, 0, 0, 0.15);\n",
              "      filter: drop-shadow(0px 1px 2px rgba(0, 0, 0, 0.3));\n",
              "      fill: #FFFFFF;\n",
              "    }\n",
              "  </style>\n",
              "\n",
              "      <script>\n",
              "        const buttonEl =\n",
              "          document.querySelector('#df-9e994e3e-50d0-4148-a04c-5be03e10e11a button.colab-df-convert');\n",
              "        buttonEl.style.display =\n",
              "          google.colab.kernel.accessAllowed ? 'block' : 'none';\n",
              "\n",
              "        async function convertToInteractive(key) {\n",
              "          const element = document.querySelector('#df-9e994e3e-50d0-4148-a04c-5be03e10e11a');\n",
              "          const dataTable =\n",
              "            await google.colab.kernel.invokeFunction('convertToInteractive',\n",
              "                                                     [key], {});\n",
              "          if (!dataTable) return;\n",
              "\n",
              "          const docLinkHtml = 'Like what you see? Visit the ' +\n",
              "            '<a target=\"_blank\" href=https://colab.research.google.com/notebooks/data_table.ipynb>data table notebook</a>'\n",
              "            + ' to learn more about interactive tables.';\n",
              "          element.innerHTML = '';\n",
              "          dataTable['output_type'] = 'display_data';\n",
              "          await google.colab.output.renderOutput(dataTable, element);\n",
              "          const docLink = document.createElement('div');\n",
              "          docLink.innerHTML = docLinkHtml;\n",
              "          element.appendChild(docLink);\n",
              "        }\n",
              "      </script>\n",
              "    </div>\n",
              "  </div>\n",
              "  "
            ]
          },
          "metadata": {},
          "execution_count": 7
        }
      ]
    },
    {
      "cell_type": "code",
      "source": [
        "df = crime.withColumnRenamed('Rolling year total number of offences', 'CountOffences')"
      ],
      "metadata": {
        "id": "iwDrVwv8LUt-"
      },
      "execution_count": 8,
      "outputs": []
    },
    {
      "cell_type": "code",
      "source": [
        "df"
      ],
      "metadata": {
        "colab": {
          "base_uri": "https://localhost:8080/"
        },
        "id": "0mmsWipLLUre",
        "outputId": "2a02d877-19ef-4293-8139-530c8077331d"
      },
      "execution_count": 9,
      "outputs": [
        {
          "output_type": "execute_result",
          "data": {
            "text/plain": [
              "DataFrame[12 months ending: string, PFA: string, Region: string, Offence: string, CountOffences: int]"
            ]
          },
          "metadata": {},
          "execution_count": 9
        }
      ]
    },
    {
      "cell_type": "code",
      "source": [
        "df.createOrReplaceTempView(\"TempView\")"
      ],
      "metadata": {
        "id": "mpz_kTfgLUow"
      },
      "execution_count": 10,
      "outputs": []
    },
    {
      "cell_type": "code",
      "source": [
        "spark.sql(\"Select Region, Offence from TempView where CountOffences >300000\").toPandas()"
      ],
      "metadata": {
        "colab": {
          "base_uri": "https://localhost:8080/",
          "height": 206
        },
        "id": "PyyWmPv0LUmI",
        "outputId": "27803e5f-df3a-4cae-9c3c-77fffef4dd79"
      },
      "execution_count": 21,
      "outputs": [
        {
          "output_type": "execute_result",
          "data": {
            "text/plain": [
              "                Region       Offence\n",
              "0         Fraud: CIFAS         CIFAS\n",
              "1         Fraud: CIFAS         CIFAS\n",
              "2         Fraud: CIFAS         CIFAS\n",
              "3         Fraud: CIFAS         CIFAS\n",
              "4  Fraud: Action Fraud  Action Fraud"
            ],
            "text/html": [
              "\n",
              "  <div id=\"df-fcb4510b-90ca-4b79-b212-3cfc50ff4c35\">\n",
              "    <div class=\"colab-df-container\">\n",
              "      <div>\n",
              "<style scoped>\n",
              "    .dataframe tbody tr th:only-of-type {\n",
              "        vertical-align: middle;\n",
              "    }\n",
              "\n",
              "    .dataframe tbody tr th {\n",
              "        vertical-align: top;\n",
              "    }\n",
              "\n",
              "    .dataframe thead th {\n",
              "        text-align: right;\n",
              "    }\n",
              "</style>\n",
              "<table border=\"1\" class=\"dataframe\">\n",
              "  <thead>\n",
              "    <tr style=\"text-align: right;\">\n",
              "      <th></th>\n",
              "      <th>Region</th>\n",
              "      <th>Offence</th>\n",
              "    </tr>\n",
              "  </thead>\n",
              "  <tbody>\n",
              "    <tr>\n",
              "      <th>0</th>\n",
              "      <td>Fraud: CIFAS</td>\n",
              "      <td>CIFAS</td>\n",
              "    </tr>\n",
              "    <tr>\n",
              "      <th>1</th>\n",
              "      <td>Fraud: CIFAS</td>\n",
              "      <td>CIFAS</td>\n",
              "    </tr>\n",
              "    <tr>\n",
              "      <th>2</th>\n",
              "      <td>Fraud: CIFAS</td>\n",
              "      <td>CIFAS</td>\n",
              "    </tr>\n",
              "    <tr>\n",
              "      <th>3</th>\n",
              "      <td>Fraud: CIFAS</td>\n",
              "      <td>CIFAS</td>\n",
              "    </tr>\n",
              "    <tr>\n",
              "      <th>4</th>\n",
              "      <td>Fraud: Action Fraud</td>\n",
              "      <td>Action Fraud</td>\n",
              "    </tr>\n",
              "  </tbody>\n",
              "</table>\n",
              "</div>\n",
              "      <button class=\"colab-df-convert\" onclick=\"convertToInteractive('df-fcb4510b-90ca-4b79-b212-3cfc50ff4c35')\"\n",
              "              title=\"Convert this dataframe to an interactive table.\"\n",
              "              style=\"display:none;\">\n",
              "        \n",
              "  <svg xmlns=\"http://www.w3.org/2000/svg\" height=\"24px\"viewBox=\"0 0 24 24\"\n",
              "       width=\"24px\">\n",
              "    <path d=\"M0 0h24v24H0V0z\" fill=\"none\"/>\n",
              "    <path d=\"M18.56 5.44l.94 2.06.94-2.06 2.06-.94-2.06-.94-.94-2.06-.94 2.06-2.06.94zm-11 1L8.5 8.5l.94-2.06 2.06-.94-2.06-.94L8.5 2.5l-.94 2.06-2.06.94zm10 10l.94 2.06.94-2.06 2.06-.94-2.06-.94-.94-2.06-.94 2.06-2.06.94z\"/><path d=\"M17.41 7.96l-1.37-1.37c-.4-.4-.92-.59-1.43-.59-.52 0-1.04.2-1.43.59L10.3 9.45l-7.72 7.72c-.78.78-.78 2.05 0 2.83L4 21.41c.39.39.9.59 1.41.59.51 0 1.02-.2 1.41-.59l7.78-7.78 2.81-2.81c.8-.78.8-2.07 0-2.86zM5.41 20L4 18.59l7.72-7.72 1.47 1.35L5.41 20z\"/>\n",
              "  </svg>\n",
              "      </button>\n",
              "      \n",
              "  <style>\n",
              "    .colab-df-container {\n",
              "      display:flex;\n",
              "      flex-wrap:wrap;\n",
              "      gap: 12px;\n",
              "    }\n",
              "\n",
              "    .colab-df-convert {\n",
              "      background-color: #E8F0FE;\n",
              "      border: none;\n",
              "      border-radius: 50%;\n",
              "      cursor: pointer;\n",
              "      display: none;\n",
              "      fill: #1967D2;\n",
              "      height: 32px;\n",
              "      padding: 0 0 0 0;\n",
              "      width: 32px;\n",
              "    }\n",
              "\n",
              "    .colab-df-convert:hover {\n",
              "      background-color: #E2EBFA;\n",
              "      box-shadow: 0px 1px 2px rgba(60, 64, 67, 0.3), 0px 1px 3px 1px rgba(60, 64, 67, 0.15);\n",
              "      fill: #174EA6;\n",
              "    }\n",
              "\n",
              "    [theme=dark] .colab-df-convert {\n",
              "      background-color: #3B4455;\n",
              "      fill: #D2E3FC;\n",
              "    }\n",
              "\n",
              "    [theme=dark] .colab-df-convert:hover {\n",
              "      background-color: #434B5C;\n",
              "      box-shadow: 0px 1px 3px 1px rgba(0, 0, 0, 0.15);\n",
              "      filter: drop-shadow(0px 1px 2px rgba(0, 0, 0, 0.3));\n",
              "      fill: #FFFFFF;\n",
              "    }\n",
              "  </style>\n",
              "\n",
              "      <script>\n",
              "        const buttonEl =\n",
              "          document.querySelector('#df-fcb4510b-90ca-4b79-b212-3cfc50ff4c35 button.colab-df-convert');\n",
              "        buttonEl.style.display =\n",
              "          google.colab.kernel.accessAllowed ? 'block' : 'none';\n",
              "\n",
              "        async function convertToInteractive(key) {\n",
              "          const element = document.querySelector('#df-fcb4510b-90ca-4b79-b212-3cfc50ff4c35');\n",
              "          const dataTable =\n",
              "            await google.colab.kernel.invokeFunction('convertToInteractive',\n",
              "                                                     [key], {});\n",
              "          if (!dataTable) return;\n",
              "\n",
              "          const docLinkHtml = 'Like what you see? Visit the ' +\n",
              "            '<a target=\"_blank\" href=https://colab.research.google.com/notebooks/data_table.ipynb>data table notebook</a>'\n",
              "            + ' to learn more about interactive tables.';\n",
              "          element.innerHTML = '';\n",
              "          dataTable['output_type'] = 'display_data';\n",
              "          await google.colab.output.renderOutput(dataTable, element);\n",
              "          const docLink = document.createElement('div');\n",
              "          docLink.innerHTML = docLinkHtml;\n",
              "          element.appendChild(docLink);\n",
              "        }\n",
              "      </script>\n",
              "    </div>\n",
              "  </div>\n",
              "  "
            ]
          },
          "metadata": {},
          "execution_count": 21
        }
      ]
    },
    {
      "cell_type": "code",
      "source": [
        "spark.sql(\"select Region ,PFA , sum(CountOffences) from TempView GROUP BY Region,PFA\").show()"
      ],
      "metadata": {
        "colab": {
          "base_uri": "https://localhost:8080/"
        },
        "id": "2eOmSkmDLUjg",
        "outputId": "238bc40a-7ad8-41aa-b278-b008850dd06e"
      },
      "execution_count": 27,
      "outputs": [
        {
          "output_type": "stream",
          "name": "stdout",
          "text": [
            "+--------------------+-------------------+------------------+\n",
            "|              Region|                PFA|sum(CountOffences)|\n",
            "+--------------------+-------------------+------------------+\n",
            "|                East|              Essex|           5938998|\n",
            "|        Fraud: CIFAS|              CIFAS|           7678981|\n",
            "|              London|Metropolitan Police|          42358281|\n",
            "|          South East|               Kent|           6452567|\n",
            "|       West Midlands|      West Midlands|          11320518|\n",
            "|Yorkshire and The...|         Humberside|           4325685|\n",
            "|                East|     Cambridgeshire|           3006281|\n",
            "|                East|       Bedfordshire|           2328534|\n",
            "|               Wales|        North Wales|           2307437|\n",
            "|               Wales|        South Wales|           5309011|\n",
            "|          South East|             Sussex|           5434316|\n",
            "|          North West|            Cumbria|           1510798|\n",
            "|          South West| Devon and Cornwall|           4991544|\n",
            "|          South West|          Wiltshire|           2030706|\n",
            "|                East|      Hertfordshire|           3676310|\n",
            "|          South West|  Avon and Somerset|           6606674|\n",
            "|       East Midlands|     Leicestershire|           3889279|\n",
            "|          South East|          Hampshire|           7351498|\n",
            "|   Fraud: UK Finance|         UK Finance|           2925861|\n",
            "|          North West|         Lancashire|           5821965|\n",
            "+--------------------+-------------------+------------------+\n",
            "only showing top 20 rows\n",
            "\n"
          ]
        }
      ]
    },
    {
      "cell_type": "code",
      "source": [
        "from pyspark.ml.feature import SQLTransformer"
      ],
      "metadata": {
        "id": "IiN4mi2CLUgv"
      },
      "execution_count": 32,
      "outputs": []
    },
    {
      "cell_type": "code",
      "source": [
        "sqlTrans=SQLTransformer(statement=\"select sum(CountOffences) from __THIS__\")"
      ],
      "metadata": {
        "id": "mTziqo_WLUeK"
      },
      "execution_count": 36,
      "outputs": []
    },
    {
      "cell_type": "code",
      "source": [
        "sqlTrans.transform(df).show()"
      ],
      "metadata": {
        "colab": {
          "base_uri": "https://localhost:8080/"
        },
        "id": "QfZhGUbGLUbq",
        "outputId": "82160e4f-8338-4e3f-f961-061554a726c3"
      },
      "execution_count": 37,
      "outputs": [
        {
          "output_type": "stream",
          "name": "stdout",
          "text": [
            "+------------------+\n",
            "|sum(CountOffences)|\n",
            "+------------------+\n",
            "|         244720928|\n",
            "+------------------+\n",
            "\n"
          ]
        }
      ]
    },
    {
      "cell_type": "code",
      "source": [
        "from pyspark.sql.functions import expr"
      ],
      "metadata": {
        "id": "1hfkKCbMLUY9"
      },
      "execution_count": 35,
      "outputs": []
    },
    {
      "cell_type": "code",
      "source": [
        "df.withColumn('percent', expr('(CountOffences/244720928)* 100')).show()"
      ],
      "metadata": {
        "colab": {
          "base_uri": "https://localhost:8080/"
        },
        "id": "mvLv3dL_LUW3",
        "outputId": "9ac7219a-2543-4574-cb29-77cbfe3cfe07"
      },
      "execution_count": 39,
      "outputs": [
        {
          "output_type": "stream",
          "name": "stdout",
          "text": [
            "+----------------+-----------------+----------+--------------------+-------------+--------------------+\n",
            "|12 months ending|              PFA|    Region|             Offence|CountOffences|             percent|\n",
            "+----------------+-----------------+----------+--------------------+-------------+--------------------+\n",
            "|      31/03/2003|Avon and Somerset|South West|All other theft o...|        25959|0.010607592988532637|\n",
            "|      31/03/2003|Avon and Somerset|South West|       Bicycle theft|         3090|0.001262662750281823|\n",
            "|      31/03/2003|Avon and Somerset|South West|Criminal damage a...|        26202| 0.01070688976792373|\n",
            "|      31/03/2003|Avon and Somerset|South West|Death or serious ...|            2|8.172574435481055E-7|\n",
            "|      31/03/2003|Avon and Somerset|South West|   Domestic burglary|        14561|0.005950042817751...|\n",
            "|      31/03/2003|Avon and Somerset|South West|       Drug offences|         2308|9.431150898545138E-4|\n",
            "|      31/03/2003|Avon and Somerset|South West|      Fraud offences|         5339|0.002181668745551668|\n",
            "|      31/03/2003|Avon and Somerset|South West|            Homicide|           19|7.763945713707002E-6|\n",
            "|      31/03/2003|Avon and Somerset|South West|Miscellaneous cri...|         1597|6.525800686731623E-4|\n",
            "|      31/03/2003|Avon and Somerset|South West|Non-domestic burg...|        15621|0.006383189262832478|\n",
            "|      31/03/2003|Avon and Somerset|South West|Possession of wea...|          735|3.003421105039288E-4|\n",
            "|      31/03/2003|Avon and Somerset|South West|Public order offe...|         4025|0.001644730605140...|\n",
            "|      31/03/2003|Avon and Somerset|South West|             Robbery|         3504|0.001431835041096281|\n",
            "|      31/03/2003|Avon and Somerset|South West|     Sexual offences|         1737|7.097880897215296E-4|\n",
            "|      31/03/2003|Avon and Somerset|South West|         Shoplifting|         8410|0.003436567550119...|\n",
            "|      31/03/2003|Avon and Somerset|South West|Stalking and hara...|          740|3.023852541127990...|\n",
            "|      31/03/2003|Avon and Somerset|South West|Theft from the pe...|         2554|0.001043637755410...|\n",
            "|      31/03/2003|Avon and Somerset|South West|    Vehicle offences|        41781|  0.0170729166244417|\n",
            "|      31/03/2003|Avon and Somerset|South West|Violence with injury|         8565|0.003499905001994...|\n",
            "|      31/03/2003|Avon and Somerset|South West|Violence without ...|         7117|0.002908210612865...|\n",
            "+----------------+-----------------+----------+--------------------+-------------+--------------------+\n",
            "only showing top 20 rows\n",
            "\n"
          ]
        }
      ]
    },
    {
      "cell_type": "code",
      "source": [
        "df.selectExpr(\"*\", '(CountOffences/244720928)* 100 as percent').filter(\"Region='South West'\").show()"
      ],
      "metadata": {
        "colab": {
          "base_uri": "https://localhost:8080/"
        },
        "id": "iGzl2yYBLUUZ",
        "outputId": "383e6bc6-018e-480d-a678-bdd0fd1b0be4"
      },
      "execution_count": 43,
      "outputs": [
        {
          "output_type": "stream",
          "name": "stdout",
          "text": [
            "+----------------+-----------------+----------+--------------------+-------------+--------------------+\n",
            "|12 months ending|              PFA|    Region|             Offence|CountOffences|             percent|\n",
            "+----------------+-----------------+----------+--------------------+-------------+--------------------+\n",
            "|      31/03/2003|Avon and Somerset|South West|All other theft o...|        25959|0.010607592988532637|\n",
            "|      31/03/2003|Avon and Somerset|South West|       Bicycle theft|         3090|0.001262662750281823|\n",
            "|      31/03/2003|Avon and Somerset|South West|Criminal damage a...|        26202| 0.01070688976792373|\n",
            "|      31/03/2003|Avon and Somerset|South West|Death or serious ...|            2|8.172574435481055E-7|\n",
            "|      31/03/2003|Avon and Somerset|South West|   Domestic burglary|        14561|0.005950042817751...|\n",
            "|      31/03/2003|Avon and Somerset|South West|       Drug offences|         2308|9.431150898545138E-4|\n",
            "|      31/03/2003|Avon and Somerset|South West|      Fraud offences|         5339|0.002181668745551668|\n",
            "|      31/03/2003|Avon and Somerset|South West|            Homicide|           19|7.763945713707002E-6|\n",
            "|      31/03/2003|Avon and Somerset|South West|Miscellaneous cri...|         1597|6.525800686731623E-4|\n",
            "|      31/03/2003|Avon and Somerset|South West|Non-domestic burg...|        15621|0.006383189262832478|\n",
            "|      31/03/2003|Avon and Somerset|South West|Possession of wea...|          735|3.003421105039288E-4|\n",
            "|      31/03/2003|Avon and Somerset|South West|Public order offe...|         4025|0.001644730605140...|\n",
            "|      31/03/2003|Avon and Somerset|South West|             Robbery|         3504|0.001431835041096281|\n",
            "|      31/03/2003|Avon and Somerset|South West|     Sexual offences|         1737|7.097880897215296E-4|\n",
            "|      31/03/2003|Avon and Somerset|South West|         Shoplifting|         8410|0.003436567550119...|\n",
            "|      31/03/2003|Avon and Somerset|South West|Stalking and hara...|          740|3.023852541127990...|\n",
            "|      31/03/2003|Avon and Somerset|South West|Theft from the pe...|         2554|0.001043637755410...|\n",
            "|      31/03/2003|Avon and Somerset|South West|    Vehicle offences|        41781|  0.0170729166244417|\n",
            "|      31/03/2003|Avon and Somerset|South West|Violence with injury|         8565|0.003499905001994...|\n",
            "|      31/03/2003|Avon and Somerset|South West|Violence without ...|         7117|0.002908210612865...|\n",
            "+----------------+-----------------+----------+--------------------+-------------+--------------------+\n",
            "only showing top 20 rows\n",
            "\n"
          ]
        }
      ]
    },
    {
      "cell_type": "code",
      "source": [
        "spark1 = SparkSession.builder.appName(\"SparkSql1\").getOrCreate()\n",
        "spark1\n",
        "google= spark1.read.csv(\"googleplaystore.csv\",inferSchema=True, header=True)"
      ],
      "metadata": {
        "id": "orU497twLUR_"
      },
      "execution_count": 53,
      "outputs": []
    },
    {
      "cell_type": "code",
      "source": [
        "google.printSchema()\n",
        "google.show()"
      ],
      "metadata": {
        "colab": {
          "base_uri": "https://localhost:8080/"
        },
        "id": "Bvl5_4YhLUPn",
        "outputId": "ba1c083e-02e6-4224-a3da-3045cef6175f"
      },
      "execution_count": 61,
      "outputs": [
        {
          "output_type": "stream",
          "name": "stdout",
          "text": [
            "root\n",
            " |-- App: string (nullable = true)\n",
            " |-- Category: string (nullable = true)\n",
            " |-- Rating: string (nullable = true)\n",
            " |-- Reviews: string (nullable = true)\n",
            " |-- Size: string (nullable = true)\n",
            " |-- Installs: string (nullable = true)\n",
            " |-- Type: string (nullable = true)\n",
            " |-- Price: string (nullable = true)\n",
            " |-- Content Rating: string (nullable = true)\n",
            " |-- Genres: string (nullable = true)\n",
            " |-- Last Updated: string (nullable = true)\n",
            " |-- Current Ver: string (nullable = true)\n",
            " |-- Android Ver: string (nullable = true)\n",
            "\n",
            "+--------------------+--------------+------+-------+----+-----------+----+-----+--------------+--------------------+------------------+------------------+------------+\n",
            "|                 App|      Category|Rating|Reviews|Size|   Installs|Type|Price|Content Rating|              Genres|      Last Updated|       Current Ver| Android Ver|\n",
            "+--------------------+--------------+------+-------+----+-----------+----+-----+--------------+--------------------+------------------+------------------+------------+\n",
            "|Photo Editor & Ca...|ART_AND_DESIGN|   4.1|    159| 19M|    10,000+|Free|    0|      Everyone|        Art & Design|   January 7, 2018|             1.0.0|4.0.3 and up|\n",
            "| Coloring book moana|ART_AND_DESIGN|   3.9|    967| 14M|   500,000+|Free|    0|      Everyone|Art & Design;Pret...|  January 15, 2018|             2.0.0|4.0.3 and up|\n",
            "|U Launcher Lite –...|ART_AND_DESIGN|   4.7|  87510|8.7M| 5,000,000+|Free|    0|      Everyone|        Art & Design|    August 1, 2018|             1.2.4|4.0.3 and up|\n",
            "|Sketch - Draw & P...|ART_AND_DESIGN|   4.5| 215644| 25M|50,000,000+|Free|    0|          Teen|        Art & Design|      June 8, 2018|Varies with device|  4.2 and up|\n",
            "|Pixel Draw - Numb...|ART_AND_DESIGN|   4.3|    967|2.8M|   100,000+|Free|    0|      Everyone|Art & Design;Crea...|     June 20, 2018|               1.1|  4.4 and up|\n",
            "|Paper flowers ins...|ART_AND_DESIGN|   4.4|    167|5.6M|    50,000+|Free|    0|      Everyone|        Art & Design|    March 26, 2017|               1.0|  2.3 and up|\n",
            "|Smoke Effect Phot...|ART_AND_DESIGN|   3.8|    178| 19M|    50,000+|Free|    0|      Everyone|        Art & Design|    April 26, 2018|               1.1|4.0.3 and up|\n",
            "|    Infinite Painter|ART_AND_DESIGN|   4.1|  36815| 29M| 1,000,000+|Free|    0|      Everyone|        Art & Design|     June 14, 2018|          6.1.61.1|  4.2 and up|\n",
            "|Garden Coloring Book|ART_AND_DESIGN|   4.4|  13791| 33M| 1,000,000+|Free|    0|      Everyone|        Art & Design|September 20, 2017|             2.9.2|  3.0 and up|\n",
            "|Kids Paint Free -...|ART_AND_DESIGN|   4.7|    121|3.1M|    10,000+|Free|    0|      Everyone|Art & Design;Crea...|      July 3, 2018|               2.8|4.0.3 and up|\n",
            "|Text on Photo - F...|ART_AND_DESIGN|   4.4|  13880| 28M| 1,000,000+|Free|    0|      Everyone|        Art & Design|  October 27, 2017|             1.0.4|  4.1 and up|\n",
            "|Name Art Photo Ed...|ART_AND_DESIGN|   4.4|   8788| 12M| 1,000,000+|Free|    0|      Everyone|        Art & Design|     July 31, 2018|            1.0.15|  4.0 and up|\n",
            "|Tattoo Name On My...|ART_AND_DESIGN|   4.2|  44829| 20M|10,000,000+|Free|    0|          Teen|        Art & Design|     April 2, 2018|               3.8|  4.1 and up|\n",
            "|Mandala Coloring ...|ART_AND_DESIGN|   4.6|   4326| 21M|   100,000+|Free|    0|      Everyone|        Art & Design|     June 26, 2018|             1.0.4|  4.4 and up|\n",
            "|3D Color Pixel by...|ART_AND_DESIGN|   4.4|   1518| 37M|   100,000+|Free|    0|      Everyone|        Art & Design|    August 3, 2018|             1.2.3|  2.3 and up|\n",
            "|Learn To Draw Kaw...|ART_AND_DESIGN|   3.2|     55|2.7M|     5,000+|Free|    0|      Everyone|        Art & Design|      June 6, 2018|               NaN|  4.2 and up|\n",
            "|Photo Designer - ...|ART_AND_DESIGN|   4.7|   3632|5.5M|   500,000+|Free|    0|      Everyone|        Art & Design|     July 31, 2018|               3.1|  4.1 and up|\n",
            "|350 Diy Room Deco...|ART_AND_DESIGN|   4.5|     27| 17M|    10,000+|Free|    0|      Everyone|        Art & Design|  November 7, 2017|               1.0|  2.3 and up|\n",
            "|FlipaClip - Carto...|ART_AND_DESIGN|   4.3| 194216| 39M| 5,000,000+|Free|    0|      Everyone|        Art & Design|    August 3, 2018|             2.2.5|4.0.3 and up|\n",
            "|        ibis Paint X|ART_AND_DESIGN|   4.6| 224399| 31M|10,000,000+|Free|    0|      Everyone|        Art & Design|     July 30, 2018|             5.5.4|  4.1 and up|\n",
            "+--------------------+--------------+------+-------+----+-----------+----+-----+--------------+--------------------+------------------+------------------+------------+\n",
            "only showing top 20 rows\n",
            "\n"
          ]
        }
      ]
    },
    {
      "cell_type": "code",
      "source": [
        "from pyspark.sql.types import *\n"
      ],
      "metadata": {
        "id": "uczvmV-OLUNK"
      },
      "execution_count": 56,
      "outputs": []
    },
    {
      "cell_type": "code",
      "source": [
        "google_final =google.withColumn(\"Rating\",google[\"Rating\"].cast(FloatType())).\\\n",
        "withColumn(\"Reviews\",google[\"Reviews\"].cast(IntegerType())).\\\n",
        "withColumn(\"Price\",google[\"Price\"].cast(IntegerType()))"
      ],
      "metadata": {
        "id": "py84d2fDLUKu"
      },
      "execution_count": 58,
      "outputs": []
    },
    {
      "cell_type": "code",
      "source": [
        "google_final.createOrReplaceTempView(\"TempView1\")"
      ],
      "metadata": {
        "id": "B35Ne1yrLUIP"
      },
      "execution_count": 60,
      "outputs": []
    },
    {
      "cell_type": "code",
      "source": [
        "spark1.sql(\"select * from TempView1 where Rating>4.1\").show()"
      ],
      "metadata": {
        "colab": {
          "base_uri": "https://localhost:8080/"
        },
        "id": "_i1uqmXWLUFq",
        "outputId": "ad289490-b9c0-4452-86a7-19f2b8e14585"
      },
      "execution_count": 65,
      "outputs": [
        {
          "output_type": "stream",
          "name": "stdout",
          "text": [
            "+--------------------+--------------+------+-------+----+-----------+----+-----+--------------+--------------------+------------------+------------------+------------+\n",
            "|                 App|      Category|Rating|Reviews|Size|   Installs|Type|Price|Content Rating|              Genres|      Last Updated|       Current Ver| Android Ver|\n",
            "+--------------------+--------------+------+-------+----+-----------+----+-----+--------------+--------------------+------------------+------------------+------------+\n",
            "|U Launcher Lite –...|ART_AND_DESIGN|   4.7|  87510|8.7M| 5,000,000+|Free|    0|      Everyone|        Art & Design|    August 1, 2018|             1.2.4|4.0.3 and up|\n",
            "|Sketch - Draw & P...|ART_AND_DESIGN|   4.5| 215644| 25M|50,000,000+|Free|    0|          Teen|        Art & Design|      June 8, 2018|Varies with device|  4.2 and up|\n",
            "|Pixel Draw - Numb...|ART_AND_DESIGN|   4.3|    967|2.8M|   100,000+|Free|    0|      Everyone|Art & Design;Crea...|     June 20, 2018|               1.1|  4.4 and up|\n",
            "|Paper flowers ins...|ART_AND_DESIGN|   4.4|    167|5.6M|    50,000+|Free|    0|      Everyone|        Art & Design|    March 26, 2017|               1.0|  2.3 and up|\n",
            "|Garden Coloring Book|ART_AND_DESIGN|   4.4|  13791| 33M| 1,000,000+|Free|    0|      Everyone|        Art & Design|September 20, 2017|             2.9.2|  3.0 and up|\n",
            "|Kids Paint Free -...|ART_AND_DESIGN|   4.7|    121|3.1M|    10,000+|Free|    0|      Everyone|Art & Design;Crea...|      July 3, 2018|               2.8|4.0.3 and up|\n",
            "|Text on Photo - F...|ART_AND_DESIGN|   4.4|  13880| 28M| 1,000,000+|Free|    0|      Everyone|        Art & Design|  October 27, 2017|             1.0.4|  4.1 and up|\n",
            "|Name Art Photo Ed...|ART_AND_DESIGN|   4.4|   8788| 12M| 1,000,000+|Free|    0|      Everyone|        Art & Design|     July 31, 2018|            1.0.15|  4.0 and up|\n",
            "|Tattoo Name On My...|ART_AND_DESIGN|   4.2|  44829| 20M|10,000,000+|Free|    0|          Teen|        Art & Design|     April 2, 2018|               3.8|  4.1 and up|\n",
            "|Mandala Coloring ...|ART_AND_DESIGN|   4.6|   4326| 21M|   100,000+|Free|    0|      Everyone|        Art & Design|     June 26, 2018|             1.0.4|  4.4 and up|\n",
            "|3D Color Pixel by...|ART_AND_DESIGN|   4.4|   1518| 37M|   100,000+|Free|    0|      Everyone|        Art & Design|    August 3, 2018|             1.2.3|  2.3 and up|\n",
            "|Photo Designer - ...|ART_AND_DESIGN|   4.7|   3632|5.5M|   500,000+|Free|    0|      Everyone|        Art & Design|     July 31, 2018|               3.1|  4.1 and up|\n",
            "|350 Diy Room Deco...|ART_AND_DESIGN|   4.5|     27| 17M|    10,000+|Free|    0|      Everyone|        Art & Design|  November 7, 2017|               1.0|  2.3 and up|\n",
            "|FlipaClip - Carto...|ART_AND_DESIGN|   4.3| 194216| 39M| 5,000,000+|Free|    0|      Everyone|        Art & Design|    August 3, 2018|             2.2.5|4.0.3 and up|\n",
            "|        ibis Paint X|ART_AND_DESIGN|   4.6| 224399| 31M|10,000,000+|Free|    0|      Everyone|        Art & Design|     July 30, 2018|             5.5.4|  4.1 and up|\n",
            "|Superheroes Wallp...|ART_AND_DESIGN|   4.7|   7699|4.2M|   500,000+|Free|    0|  Everyone 10+|        Art & Design|     July 12, 2018|           2.2.6.2|4.0.3 and up|\n",
            "|Mcqueen Coloring ...|ART_AND_DESIGN|   NaN|     61|7.0M|   100,000+|Free|    0|      Everyone|Art & Design;Acti...|     March 7, 2018|             1.0.0|  4.1 and up|\n",
            "|HD Mickey Minnie ...|ART_AND_DESIGN|   4.7|    118| 23M|    50,000+|Free|    0|      Everyone|        Art & Design|      July 7, 2018|             1.1.3|  4.1 and up|\n",
            "|Harley Quinn wall...|ART_AND_DESIGN|   4.8|    192|6.0M|    10,000+|Free|    0|      Everyone|        Art & Design|    April 25, 2018|               1.5|  3.0 and up|\n",
            "|Colorfit - Drawin...|ART_AND_DESIGN|   4.7|  20260| 25M|   500,000+|Free|    0|      Everyone|Art & Design;Crea...|  October 11, 2017|             1.0.8|4.0.3 and up|\n",
            "+--------------------+--------------+------+-------+----+-----------+----+-----+--------------+--------------------+------------------+------------------+------------+\n",
            "only showing top 20 rows\n",
            "\n"
          ]
        }
      ]
    },
    {
      "cell_type": "code",
      "source": [
        "spark1.sql(\"select Category , count(Category) from TempView1 group by Category \").show()\n",
        "spark1.sql(\"select App,Rating from TempView1 where Rating>4.5 and Category='COMICS'\").show(100,False)"
      ],
      "metadata": {
        "colab": {
          "base_uri": "https://localhost:8080/"
        },
        "id": "W24yVxs5LUC1",
        "outputId": "46bbbbfb-ab13-4cad-8aea-26c82b1f01a3"
      },
      "execution_count": 72,
      "outputs": [
        {
          "output_type": "stream",
          "name": "stdout",
          "text": [
            "+-------------------+---------------+\n",
            "|           Category|count(Category)|\n",
            "+-------------------+---------------+\n",
            "|             EVENTS|             64|\n",
            "|             COMICS|             60|\n",
            "|             SPORTS|            384|\n",
            "|            WEATHER|             82|\n",
            "|      VIDEO_PLAYERS|            175|\n",
            "|  AUTO_AND_VEHICLES|             85|\n",
            "|          PARENTING|             60|\n",
            "|      ENTERTAINMENT|            149|\n",
            "|    PERSONALIZATION|            392|\n",
            "| HEALTH_AND_FITNESS|            340|\n",
            "|   TRAVEL_AND_LOCAL|            258|\n",
            "|BOOKS_AND_REFERENCE|            231|\n",
            "|     FOOD_AND_DRINK|            127|\n",
            "|        PHOTOGRAPHY|            335|\n",
            "|           BUSINESS|            460|\n",
            "|             FAMILY|           1972|\n",
            "|           SHOPPING|            260|\n",
            "|     HOUSE_AND_HOME|             88|\n",
            "|               GAME|           1144|\n",
            "|               Face|              1|\n",
            "+-------------------+---------------+\n",
            "only showing top 20 rows\n",
            "\n",
            "+-------------------------------------------------------------------------------+------+\n",
            "|App                                                                            |Rating|\n",
            "+-------------------------------------------------------------------------------+------+\n",
            "|Manga Master - Best manga & comic reader                                       |4.6   |\n",
            "|GANMA! - All original stories free of charge for all original comics           |4.7   |\n",
            "|Röhrich Werner Soundboard                                                      |4.7   |\n",
            "|Unicorn Pokez - Color By Number                                                |4.8   |\n",
            "|Manga - read Thai translation                                                  |4.6   |\n",
            "|Dragon Ball Wallpaper - Ringtones                                              |4.7   |\n",
            "|Children's cartoons (Mithu-Mina-Raju)                                          |4.6   |\n",
            "|【Ranobbe complete free】 Novelba - Free app that you can read and write novels|NaN   |\n",
            "|Faustop Sounds                                                                 |4.7   |\n",
            "|Hojiboy Tojiboyev Life Hacks                                                   |5.0   |\n",
            "|Best Wallpapers Backgrounds(100,000+ 4K HD)                                    |4.7   |\n",
            "|Laftel - Watching and Announcing Snooping, Streaming                           |4.6   |\n",
            "|WebComics                                                                      |4.8   |\n",
            "|Superheroes, Marvel, DC, Comics, TV, Movies News                               |5.0   |\n",
            "|Pepsi Cards DC                                                                 |NaN   |\n",
            "+-------------------------------------------------------------------------------+------+\n",
            "\n"
          ]
        }
      ]
    },
    {
      "cell_type": "code",
      "source": [
        "spark1.sql(\"select  Category ,Sum(Reviews) from TempView1 GROUP BY Category ORDER BY SUM(Reviews) DESC limit 1\").show(100,False)"
      ],
      "metadata": {
        "colab": {
          "base_uri": "https://localhost:8080/"
        },
        "id": "0hy_ZP9bLUAW",
        "outputId": "5a151ba7-676d-43ba-af77-852047c92758"
      },
      "execution_count": 81,
      "outputs": [
        {
          "output_type": "stream",
          "name": "stdout",
          "text": [
            "+--------+------------+\n",
            "|Category|sum(Reviews)|\n",
            "+--------+------------+\n",
            "|GAME    |1585422349  |\n",
            "+--------+------------+\n",
            "\n"
          ]
        }
      ]
    }
  ]
}