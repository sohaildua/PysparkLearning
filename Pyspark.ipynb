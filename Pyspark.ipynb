{
  "nbformat": 4,
  "nbformat_minor": 0,
  "metadata": {
    "colab": {
      "provenance": [],
      "collapsed_sections": [],
      "authorship_tag": "ABX9TyMYK9jKq3K8LglLIQ11Nm1j",
      "include_colab_link": true
    },
    "kernelspec": {
      "name": "python3",
      "display_name": "Python 3"
    },
    "language_info": {
      "name": "python"
    }
  },
  "cells": [
    {
      "cell_type": "markdown",
      "metadata": {
        "id": "view-in-github",
        "colab_type": "text"
      },
      "source": [
        "<a href=\"https://colab.research.google.com/github/sohaildua/PysparkLearning/blob/main/Pyspark.ipynb\" target=\"_parent\"><img src=\"https://colab.research.google.com/assets/colab-badge.svg\" alt=\"Open In Colab\"/></a>"
      ]
    },
    {
      "cell_type": "code",
      "execution_count": 1,
      "metadata": {
        "colab": {
          "base_uri": "https://localhost:8080/"
        },
        "id": "A0Sy4NPC2vrk",
        "outputId": "c7ddcbb9-fe41-40bd-c669-2071dd677940"
      },
      "outputs": [
        {
          "output_type": "stream",
          "name": "stdout",
          "text": [
            "Looking in indexes: https://pypi.org/simple, https://us-python.pkg.dev/colab-wheels/public/simple/\n",
            "Collecting pyspark\n",
            "  Downloading pyspark-3.3.0.tar.gz (281.3 MB)\n",
            "\u001b[K     |████████████████████████████████| 281.3 MB 45 kB/s \n",
            "\u001b[?25hCollecting py4j==0.10.9.5\n",
            "  Downloading py4j-0.10.9.5-py2.py3-none-any.whl (199 kB)\n",
            "\u001b[K     |████████████████████████████████| 199 kB 49.7 MB/s \n",
            "\u001b[?25hBuilding wheels for collected packages: pyspark\n",
            "  Building wheel for pyspark (setup.py) ... \u001b[?25l\u001b[?25hdone\n",
            "  Created wheel for pyspark: filename=pyspark-3.3.0-py2.py3-none-any.whl size=281764026 sha256=294f8d0c8fe890b5e52a4d5aebca6e289d63e9b8bbc858230405178813e4b136\n",
            "  Stored in directory: /root/.cache/pip/wheels/7a/8e/1b/f73a52650d2e5f337708d9f6a1750d451a7349a867f928b885\n",
            "Successfully built pyspark\n",
            "Installing collected packages: py4j, pyspark\n",
            "Successfully installed py4j-0.10.9.5 pyspark-3.3.0\n"
          ]
        }
      ],
      "source": [
        "!pip install pyspark\n",
        "!pip install -U -q PyDrive --quiet \n",
        "\n"
      ]
    },
    {
      "cell_type": "markdown",
      "source": [
        "Insatalling **Pyspark**"
      ],
      "metadata": {
        "id": "owU7bhj2hlqL"
      }
    },
    {
      "cell_type": "code",
      "source": [
        "import pyspark\n",
        "from pyspark.sql import SparkSession\n",
        "spark = SparkSession.builder.appName(\"ReadWriteVal\").getOrCreate()\n",
        "spark"
      ],
      "metadata": {
        "id": "QvqkERVF21IG",
        "colab": {
          "base_uri": "https://localhost:8080/",
          "height": 219
        },
        "outputId": "a680cfdd-a0bd-44c2-cf48-76b347c434ec"
      },
      "execution_count": 2,
      "outputs": [
        {
          "output_type": "execute_result",
          "data": {
            "text/plain": [
              "<pyspark.sql.session.SparkSession at 0x7f876f5e72d0>"
            ],
            "text/html": [
              "\n",
              "            <div>\n",
              "                <p><b>SparkSession - in-memory</b></p>\n",
              "                \n",
              "        <div>\n",
              "            <p><b>SparkContext</b></p>\n",
              "\n",
              "            <p><a href=\"http://60ec39adfa16:4040\">Spark UI</a></p>\n",
              "\n",
              "            <dl>\n",
              "              <dt>Version</dt>\n",
              "                <dd><code>v3.3.0</code></dd>\n",
              "              <dt>Master</dt>\n",
              "                <dd><code>local[*]</code></dd>\n",
              "              <dt>AppName</dt>\n",
              "                <dd><code>ReadWriteVal</code></dd>\n",
              "            </dl>\n",
              "        </div>\n",
              "        \n",
              "            </div>\n",
              "        "
            ]
          },
          "metadata": {},
          "execution_count": 2
        }
      ]
    },
    {
      "cell_type": "code",
      "source": [],
      "metadata": {
        "id": "87JsCM2MYfVx"
      },
      "execution_count": null,
      "outputs": []
    },
    {
      "cell_type": "code",
      "execution_count": 3,
      "metadata": {
        "id": "irish-hamilton"
      },
      "outputs": [],
      "source": [
        "!wget https://bin.equinox.io/c/4VmDzA7iaHb/ngrok-stable-linux-amd64.zip &> /dev/null\n",
        "!unzip ngrok-stable-linux-amd64.zip &> /dev/null\n",
        "get_ipython().system_raw('./ngrok http 4050 &')"
      ]
    },
    {
      "cell_type": "code",
      "source": [],
      "metadata": {
        "id": "S8ahc5J6YjO1"
      },
      "execution_count": null,
      "outputs": []
    },
    {
      "cell_type": "code",
      "execution_count": 4,
      "metadata": {
        "id": "directed-desktop"
      },
      "outputs": [],
      "source": [
        "!curl -s http://localhost:4050/api/tunnels "
      ]
    },
    {
      "cell_type": "code",
      "source": [
        "cores = spark._jsc.sc().getExecutorMemoryStatus().keySet().size()\n",
        "cores"
      ],
      "metadata": {
        "id": "daewIlOPYjMV",
        "colab": {
          "base_uri": "https://localhost:8080/"
        },
        "outputId": "fdeeec6f-c965-4e3f-d8df-a5432257a713"
      },
      "execution_count": 29,
      "outputs": [
        {
          "output_type": "execute_result",
          "data": {
            "text/plain": [
              "1"
            ]
          },
          "metadata": {},
          "execution_count": 29
        }
      ]
    },
    {
      "cell_type": "code",
      "source": [
        "students = spark.read.csv(\"students.csv\",inferSchema=True, header=True)"
      ],
      "metadata": {
        "id": "o-FmRYyrYjKO"
      },
      "execution_count": 5,
      "outputs": []
    },
    {
      "cell_type": "code",
      "source": [
        "students"
      ],
      "metadata": {
        "id": "G-DvOyg7YjHy",
        "colab": {
          "base_uri": "https://localhost:8080/"
        },
        "outputId": "a30b7fb4-5831-49c5-c38a-de9232755a7c"
      },
      "execution_count": 33,
      "outputs": [
        {
          "output_type": "execute_result",
          "data": {
            "text/plain": [
              "DataFrame[gender: string, race/ethnicity: string, parental level of education: string, lunch: string, test preparation course: string, math score: int, reading score: int, writing score: int]"
            ]
          },
          "metadata": {},
          "execution_count": 33
        }
      ]
    },
    {
      "cell_type": "code",
      "source": [
        "students.show(5)"
      ],
      "metadata": {
        "id": "xrJDqVICYjFc",
        "colab": {
          "base_uri": "https://localhost:8080/"
        },
        "outputId": "412c9b97-7c73-4d65-800a-30ce42831278"
      },
      "execution_count": 6,
      "outputs": [
        {
          "output_type": "stream",
          "name": "stdout",
          "text": [
            "+------+--------------+---------------------------+------------+-----------------------+----------+-------------+-------------+\n",
            "|gender|race/ethnicity|parental level of education|       lunch|test preparation course|math score|reading score|writing score|\n",
            "+------+--------------+---------------------------+------------+-----------------------+----------+-------------+-------------+\n",
            "|female|       group B|          bachelor's degree|    standard|                   none|        72|           72|           74|\n",
            "|female|       group C|               some college|    standard|              completed|        69|           90|           88|\n",
            "|female|       group B|            master's degree|    standard|                   none|        90|           95|           93|\n",
            "|  male|       group A|         associate's degree|free/reduced|                   none|        47|           57|           44|\n",
            "|  male|       group C|               some college|    standard|                   none|        76|           78|           75|\n",
            "+------+--------------+---------------------------+------------+-----------------------+----------+-------------+-------------+\n",
            "only showing top 5 rows\n",
            "\n"
          ]
        }
      ]
    },
    {
      "cell_type": "code",
      "source": [],
      "metadata": {
        "id": "-oC_CeSymWdy"
      },
      "execution_count": null,
      "outputs": []
    },
    {
      "cell_type": "code",
      "source": [
        "students.limit(10).toPandas()"
      ],
      "metadata": {
        "id": "OwL1uMviYjC-",
        "colab": {
          "base_uri": "https://localhost:8080/",
          "height": 363
        },
        "outputId": "d90be735-3ec1-4933-d802-2d022510f6cd"
      },
      "execution_count": 7,
      "outputs": [
        {
          "output_type": "execute_result",
          "data": {
            "text/plain": [
              "   gender race/ethnicity parental level of education         lunch  \\\n",
              "0  female        group B           bachelor's degree      standard   \n",
              "1  female        group C                some college      standard   \n",
              "2  female        group B             master's degree      standard   \n",
              "3    male        group A          associate's degree  free/reduced   \n",
              "4    male        group C                some college      standard   \n",
              "5  female        group B          associate's degree      standard   \n",
              "6  female        group B                some college      standard   \n",
              "7    male        group B                some college  free/reduced   \n",
              "8    male        group D                 high school  free/reduced   \n",
              "9  female        group B                 high school  free/reduced   \n",
              "\n",
              "  test preparation course  math score  reading score  writing score  \n",
              "0                    none          72             72             74  \n",
              "1               completed          69             90             88  \n",
              "2                    none          90             95             93  \n",
              "3                    none          47             57             44  \n",
              "4                    none          76             78             75  \n",
              "5                    none          71             83             78  \n",
              "6               completed          88             95             92  \n",
              "7                    none          40             43             39  \n",
              "8               completed          64             64             67  \n",
              "9                    none          38             60             50  "
            ],
            "text/html": [
              "\n",
              "  <div id=\"df-215cdedb-6572-44aa-8ef9-9c6763ee71c1\">\n",
              "    <div class=\"colab-df-container\">\n",
              "      <div>\n",
              "<style scoped>\n",
              "    .dataframe tbody tr th:only-of-type {\n",
              "        vertical-align: middle;\n",
              "    }\n",
              "\n",
              "    .dataframe tbody tr th {\n",
              "        vertical-align: top;\n",
              "    }\n",
              "\n",
              "    .dataframe thead th {\n",
              "        text-align: right;\n",
              "    }\n",
              "</style>\n",
              "<table border=\"1\" class=\"dataframe\">\n",
              "  <thead>\n",
              "    <tr style=\"text-align: right;\">\n",
              "      <th></th>\n",
              "      <th>gender</th>\n",
              "      <th>race/ethnicity</th>\n",
              "      <th>parental level of education</th>\n",
              "      <th>lunch</th>\n",
              "      <th>test preparation course</th>\n",
              "      <th>math score</th>\n",
              "      <th>reading score</th>\n",
              "      <th>writing score</th>\n",
              "    </tr>\n",
              "  </thead>\n",
              "  <tbody>\n",
              "    <tr>\n",
              "      <th>0</th>\n",
              "      <td>female</td>\n",
              "      <td>group B</td>\n",
              "      <td>bachelor's degree</td>\n",
              "      <td>standard</td>\n",
              "      <td>none</td>\n",
              "      <td>72</td>\n",
              "      <td>72</td>\n",
              "      <td>74</td>\n",
              "    </tr>\n",
              "    <tr>\n",
              "      <th>1</th>\n",
              "      <td>female</td>\n",
              "      <td>group C</td>\n",
              "      <td>some college</td>\n",
              "      <td>standard</td>\n",
              "      <td>completed</td>\n",
              "      <td>69</td>\n",
              "      <td>90</td>\n",
              "      <td>88</td>\n",
              "    </tr>\n",
              "    <tr>\n",
              "      <th>2</th>\n",
              "      <td>female</td>\n",
              "      <td>group B</td>\n",
              "      <td>master's degree</td>\n",
              "      <td>standard</td>\n",
              "      <td>none</td>\n",
              "      <td>90</td>\n",
              "      <td>95</td>\n",
              "      <td>93</td>\n",
              "    </tr>\n",
              "    <tr>\n",
              "      <th>3</th>\n",
              "      <td>male</td>\n",
              "      <td>group A</td>\n",
              "      <td>associate's degree</td>\n",
              "      <td>free/reduced</td>\n",
              "      <td>none</td>\n",
              "      <td>47</td>\n",
              "      <td>57</td>\n",
              "      <td>44</td>\n",
              "    </tr>\n",
              "    <tr>\n",
              "      <th>4</th>\n",
              "      <td>male</td>\n",
              "      <td>group C</td>\n",
              "      <td>some college</td>\n",
              "      <td>standard</td>\n",
              "      <td>none</td>\n",
              "      <td>76</td>\n",
              "      <td>78</td>\n",
              "      <td>75</td>\n",
              "    </tr>\n",
              "    <tr>\n",
              "      <th>5</th>\n",
              "      <td>female</td>\n",
              "      <td>group B</td>\n",
              "      <td>associate's degree</td>\n",
              "      <td>standard</td>\n",
              "      <td>none</td>\n",
              "      <td>71</td>\n",
              "      <td>83</td>\n",
              "      <td>78</td>\n",
              "    </tr>\n",
              "    <tr>\n",
              "      <th>6</th>\n",
              "      <td>female</td>\n",
              "      <td>group B</td>\n",
              "      <td>some college</td>\n",
              "      <td>standard</td>\n",
              "      <td>completed</td>\n",
              "      <td>88</td>\n",
              "      <td>95</td>\n",
              "      <td>92</td>\n",
              "    </tr>\n",
              "    <tr>\n",
              "      <th>7</th>\n",
              "      <td>male</td>\n",
              "      <td>group B</td>\n",
              "      <td>some college</td>\n",
              "      <td>free/reduced</td>\n",
              "      <td>none</td>\n",
              "      <td>40</td>\n",
              "      <td>43</td>\n",
              "      <td>39</td>\n",
              "    </tr>\n",
              "    <tr>\n",
              "      <th>8</th>\n",
              "      <td>male</td>\n",
              "      <td>group D</td>\n",
              "      <td>high school</td>\n",
              "      <td>free/reduced</td>\n",
              "      <td>completed</td>\n",
              "      <td>64</td>\n",
              "      <td>64</td>\n",
              "      <td>67</td>\n",
              "    </tr>\n",
              "    <tr>\n",
              "      <th>9</th>\n",
              "      <td>female</td>\n",
              "      <td>group B</td>\n",
              "      <td>high school</td>\n",
              "      <td>free/reduced</td>\n",
              "      <td>none</td>\n",
              "      <td>38</td>\n",
              "      <td>60</td>\n",
              "      <td>50</td>\n",
              "    </tr>\n",
              "  </tbody>\n",
              "</table>\n",
              "</div>\n",
              "      <button class=\"colab-df-convert\" onclick=\"convertToInteractive('df-215cdedb-6572-44aa-8ef9-9c6763ee71c1')\"\n",
              "              title=\"Convert this dataframe to an interactive table.\"\n",
              "              style=\"display:none;\">\n",
              "        \n",
              "  <svg xmlns=\"http://www.w3.org/2000/svg\" height=\"24px\"viewBox=\"0 0 24 24\"\n",
              "       width=\"24px\">\n",
              "    <path d=\"M0 0h24v24H0V0z\" fill=\"none\"/>\n",
              "    <path d=\"M18.56 5.44l.94 2.06.94-2.06 2.06-.94-2.06-.94-.94-2.06-.94 2.06-2.06.94zm-11 1L8.5 8.5l.94-2.06 2.06-.94-2.06-.94L8.5 2.5l-.94 2.06-2.06.94zm10 10l.94 2.06.94-2.06 2.06-.94-2.06-.94-.94-2.06-.94 2.06-2.06.94z\"/><path d=\"M17.41 7.96l-1.37-1.37c-.4-.4-.92-.59-1.43-.59-.52 0-1.04.2-1.43.59L10.3 9.45l-7.72 7.72c-.78.78-.78 2.05 0 2.83L4 21.41c.39.39.9.59 1.41.59.51 0 1.02-.2 1.41-.59l7.78-7.78 2.81-2.81c.8-.78.8-2.07 0-2.86zM5.41 20L4 18.59l7.72-7.72 1.47 1.35L5.41 20z\"/>\n",
              "  </svg>\n",
              "      </button>\n",
              "      \n",
              "  <style>\n",
              "    .colab-df-container {\n",
              "      display:flex;\n",
              "      flex-wrap:wrap;\n",
              "      gap: 12px;\n",
              "    }\n",
              "\n",
              "    .colab-df-convert {\n",
              "      background-color: #E8F0FE;\n",
              "      border: none;\n",
              "      border-radius: 50%;\n",
              "      cursor: pointer;\n",
              "      display: none;\n",
              "      fill: #1967D2;\n",
              "      height: 32px;\n",
              "      padding: 0 0 0 0;\n",
              "      width: 32px;\n",
              "    }\n",
              "\n",
              "    .colab-df-convert:hover {\n",
              "      background-color: #E2EBFA;\n",
              "      box-shadow: 0px 1px 2px rgba(60, 64, 67, 0.3), 0px 1px 3px 1px rgba(60, 64, 67, 0.15);\n",
              "      fill: #174EA6;\n",
              "    }\n",
              "\n",
              "    [theme=dark] .colab-df-convert {\n",
              "      background-color: #3B4455;\n",
              "      fill: #D2E3FC;\n",
              "    }\n",
              "\n",
              "    [theme=dark] .colab-df-convert:hover {\n",
              "      background-color: #434B5C;\n",
              "      box-shadow: 0px 1px 3px 1px rgba(0, 0, 0, 0.15);\n",
              "      filter: drop-shadow(0px 1px 2px rgba(0, 0, 0, 0.3));\n",
              "      fill: #FFFFFF;\n",
              "    }\n",
              "  </style>\n",
              "\n",
              "      <script>\n",
              "        const buttonEl =\n",
              "          document.querySelector('#df-215cdedb-6572-44aa-8ef9-9c6763ee71c1 button.colab-df-convert');\n",
              "        buttonEl.style.display =\n",
              "          google.colab.kernel.accessAllowed ? 'block' : 'none';\n",
              "\n",
              "        async function convertToInteractive(key) {\n",
              "          const element = document.querySelector('#df-215cdedb-6572-44aa-8ef9-9c6763ee71c1');\n",
              "          const dataTable =\n",
              "            await google.colab.kernel.invokeFunction('convertToInteractive',\n",
              "                                                     [key], {});\n",
              "          if (!dataTable) return;\n",
              "\n",
              "          const docLinkHtml = 'Like what you see? Visit the ' +\n",
              "            '<a target=\"_blank\" href=https://colab.research.google.com/notebooks/data_table.ipynb>data table notebook</a>'\n",
              "            + ' to learn more about interactive tables.';\n",
              "          element.innerHTML = '';\n",
              "          dataTable['output_type'] = 'display_data';\n",
              "          await google.colab.output.renderOutput(dataTable, element);\n",
              "          const docLink = document.createElement('div');\n",
              "          docLink.innerHTML = docLinkHtml;\n",
              "          element.appendChild(docLink);\n",
              "        }\n",
              "      </script>\n",
              "    </div>\n",
              "  </div>\n",
              "  "
            ]
          },
          "metadata": {},
          "execution_count": 7
        }
      ]
    },
    {
      "cell_type": "code",
      "source": [],
      "metadata": {
        "id": "lureQcX4YjAZ"
      },
      "execution_count": null,
      "outputs": []
    },
    {
      "cell_type": "code",
      "source": [
        "parquet_data = spark.read.parquet(\"users1.parquet\")"
      ],
      "metadata": {
        "id": "Z5AZ1pr2mZO2"
      },
      "execution_count": 8,
      "outputs": []
    },
    {
      "cell_type": "code",
      "source": [
        "parquet_data.limit(10).toPandas()"
      ],
      "metadata": {
        "colab": {
          "base_uri": "https://localhost:8080/",
          "height": 652
        },
        "id": "Tb3LdzvAmZLL",
        "outputId": "784394f9-ad63-49c3-c4b4-9be49fa60352"
      },
      "execution_count": 9,
      "outputs": [
        {
          "output_type": "execute_result",
          "data": {
            "text/plain": [
              "    registration_dttm  id first_name last_name                     email  \\\n",
              "0 2016-02-03 07:55:29   1     Amanda    Jordan          ajordan0@com.com   \n",
              "1 2016-02-03 17:04:03   2     Albert   Freeman           afreeman1@is.gd   \n",
              "2 2016-02-03 01:09:31   3     Evelyn    Morgan   emorgan2@altervista.org   \n",
              "3 2016-02-03 00:36:21   4     Denise     Riley          driley3@gmpg.org   \n",
              "4 2016-02-03 05:05:31   5     Carlos     Burns  cburns4@miitbeian.gov.cn   \n",
              "5 2016-02-03 07:22:34   6    Kathryn     White        kwhite5@google.com   \n",
              "6 2016-02-03 08:33:08   7     Samuel    Holmes      sholmes6@foxnews.com   \n",
              "7 2016-02-03 06:47:06   8      Harry    Howell       hhowell7@eepurl.com   \n",
              "8 2016-02-03 03:52:53   9       Jose    Foster         jfoster8@yelp.com   \n",
              "9 2016-02-03 18:29:47  10      Emily   Stewart  estewart9@opensource.org   \n",
              "\n",
              "   gender      ip_address                cc                 country  \\\n",
              "0  Female     1.197.201.2  6759521864920116               Indonesia   \n",
              "1    Male  218.111.175.34                                    Canada   \n",
              "2  Female    7.161.136.94  6767119071901597                  Russia   \n",
              "3  Female   140.35.109.83  3576031598965625                   China   \n",
              "4          169.113.235.40  5602256255204850            South Africa   \n",
              "5  Female  195.131.81.179  3583136326049310               Indonesia   \n",
              "6    Male  232.234.81.197  3582641366974690                Portugal   \n",
              "7    Male    91.235.51.73                    Bosnia and Herzegovina   \n",
              "8    Male    132.31.53.61                               South Korea   \n",
              "9  Female  143.28.251.245  3574254110301671                 Nigeria   \n",
              "\n",
              "    birthdate     salary                     title comments  \n",
              "0    3/8/1971   49756.53          Internal Auditor    1E+02  \n",
              "1   1/16/1968  150280.17             Accountant IV           \n",
              "2    2/1/1960  144972.51       Structural Engineer           \n",
              "3    4/8/1997   90263.05    Senior Cost Accountant           \n",
              "4                    NaN                                     \n",
              "5   2/25/1983   69227.11         Account Executive           \n",
              "6  12/18/1987   14247.62  Senior Financial Analyst           \n",
              "7    3/1/1962  186469.43          Web Developer IV           \n",
              "8   3/27/1992  231067.84  Software Test Engineer I    1E+02  \n",
              "9   1/28/1997   27234.28           Health Coach IV           "
            ],
            "text/html": [
              "\n",
              "  <div id=\"df-814f1c48-1bd6-4493-a720-2f4677d2bc5c\">\n",
              "    <div class=\"colab-df-container\">\n",
              "      <div>\n",
              "<style scoped>\n",
              "    .dataframe tbody tr th:only-of-type {\n",
              "        vertical-align: middle;\n",
              "    }\n",
              "\n",
              "    .dataframe tbody tr th {\n",
              "        vertical-align: top;\n",
              "    }\n",
              "\n",
              "    .dataframe thead th {\n",
              "        text-align: right;\n",
              "    }\n",
              "</style>\n",
              "<table border=\"1\" class=\"dataframe\">\n",
              "  <thead>\n",
              "    <tr style=\"text-align: right;\">\n",
              "      <th></th>\n",
              "      <th>registration_dttm</th>\n",
              "      <th>id</th>\n",
              "      <th>first_name</th>\n",
              "      <th>last_name</th>\n",
              "      <th>email</th>\n",
              "      <th>gender</th>\n",
              "      <th>ip_address</th>\n",
              "      <th>cc</th>\n",
              "      <th>country</th>\n",
              "      <th>birthdate</th>\n",
              "      <th>salary</th>\n",
              "      <th>title</th>\n",
              "      <th>comments</th>\n",
              "    </tr>\n",
              "  </thead>\n",
              "  <tbody>\n",
              "    <tr>\n",
              "      <th>0</th>\n",
              "      <td>2016-02-03 07:55:29</td>\n",
              "      <td>1</td>\n",
              "      <td>Amanda</td>\n",
              "      <td>Jordan</td>\n",
              "      <td>ajordan0@com.com</td>\n",
              "      <td>Female</td>\n",
              "      <td>1.197.201.2</td>\n",
              "      <td>6759521864920116</td>\n",
              "      <td>Indonesia</td>\n",
              "      <td>3/8/1971</td>\n",
              "      <td>49756.53</td>\n",
              "      <td>Internal Auditor</td>\n",
              "      <td>1E+02</td>\n",
              "    </tr>\n",
              "    <tr>\n",
              "      <th>1</th>\n",
              "      <td>2016-02-03 17:04:03</td>\n",
              "      <td>2</td>\n",
              "      <td>Albert</td>\n",
              "      <td>Freeman</td>\n",
              "      <td>afreeman1@is.gd</td>\n",
              "      <td>Male</td>\n",
              "      <td>218.111.175.34</td>\n",
              "      <td></td>\n",
              "      <td>Canada</td>\n",
              "      <td>1/16/1968</td>\n",
              "      <td>150280.17</td>\n",
              "      <td>Accountant IV</td>\n",
              "      <td></td>\n",
              "    </tr>\n",
              "    <tr>\n",
              "      <th>2</th>\n",
              "      <td>2016-02-03 01:09:31</td>\n",
              "      <td>3</td>\n",
              "      <td>Evelyn</td>\n",
              "      <td>Morgan</td>\n",
              "      <td>emorgan2@altervista.org</td>\n",
              "      <td>Female</td>\n",
              "      <td>7.161.136.94</td>\n",
              "      <td>6767119071901597</td>\n",
              "      <td>Russia</td>\n",
              "      <td>2/1/1960</td>\n",
              "      <td>144972.51</td>\n",
              "      <td>Structural Engineer</td>\n",
              "      <td></td>\n",
              "    </tr>\n",
              "    <tr>\n",
              "      <th>3</th>\n",
              "      <td>2016-02-03 00:36:21</td>\n",
              "      <td>4</td>\n",
              "      <td>Denise</td>\n",
              "      <td>Riley</td>\n",
              "      <td>driley3@gmpg.org</td>\n",
              "      <td>Female</td>\n",
              "      <td>140.35.109.83</td>\n",
              "      <td>3576031598965625</td>\n",
              "      <td>China</td>\n",
              "      <td>4/8/1997</td>\n",
              "      <td>90263.05</td>\n",
              "      <td>Senior Cost Accountant</td>\n",
              "      <td></td>\n",
              "    </tr>\n",
              "    <tr>\n",
              "      <th>4</th>\n",
              "      <td>2016-02-03 05:05:31</td>\n",
              "      <td>5</td>\n",
              "      <td>Carlos</td>\n",
              "      <td>Burns</td>\n",
              "      <td>cburns4@miitbeian.gov.cn</td>\n",
              "      <td></td>\n",
              "      <td>169.113.235.40</td>\n",
              "      <td>5602256255204850</td>\n",
              "      <td>South Africa</td>\n",
              "      <td></td>\n",
              "      <td>NaN</td>\n",
              "      <td></td>\n",
              "      <td></td>\n",
              "    </tr>\n",
              "    <tr>\n",
              "      <th>5</th>\n",
              "      <td>2016-02-03 07:22:34</td>\n",
              "      <td>6</td>\n",
              "      <td>Kathryn</td>\n",
              "      <td>White</td>\n",
              "      <td>kwhite5@google.com</td>\n",
              "      <td>Female</td>\n",
              "      <td>195.131.81.179</td>\n",
              "      <td>3583136326049310</td>\n",
              "      <td>Indonesia</td>\n",
              "      <td>2/25/1983</td>\n",
              "      <td>69227.11</td>\n",
              "      <td>Account Executive</td>\n",
              "      <td></td>\n",
              "    </tr>\n",
              "    <tr>\n",
              "      <th>6</th>\n",
              "      <td>2016-02-03 08:33:08</td>\n",
              "      <td>7</td>\n",
              "      <td>Samuel</td>\n",
              "      <td>Holmes</td>\n",
              "      <td>sholmes6@foxnews.com</td>\n",
              "      <td>Male</td>\n",
              "      <td>232.234.81.197</td>\n",
              "      <td>3582641366974690</td>\n",
              "      <td>Portugal</td>\n",
              "      <td>12/18/1987</td>\n",
              "      <td>14247.62</td>\n",
              "      <td>Senior Financial Analyst</td>\n",
              "      <td></td>\n",
              "    </tr>\n",
              "    <tr>\n",
              "      <th>7</th>\n",
              "      <td>2016-02-03 06:47:06</td>\n",
              "      <td>8</td>\n",
              "      <td>Harry</td>\n",
              "      <td>Howell</td>\n",
              "      <td>hhowell7@eepurl.com</td>\n",
              "      <td>Male</td>\n",
              "      <td>91.235.51.73</td>\n",
              "      <td></td>\n",
              "      <td>Bosnia and Herzegovina</td>\n",
              "      <td>3/1/1962</td>\n",
              "      <td>186469.43</td>\n",
              "      <td>Web Developer IV</td>\n",
              "      <td></td>\n",
              "    </tr>\n",
              "    <tr>\n",
              "      <th>8</th>\n",
              "      <td>2016-02-03 03:52:53</td>\n",
              "      <td>9</td>\n",
              "      <td>Jose</td>\n",
              "      <td>Foster</td>\n",
              "      <td>jfoster8@yelp.com</td>\n",
              "      <td>Male</td>\n",
              "      <td>132.31.53.61</td>\n",
              "      <td></td>\n",
              "      <td>South Korea</td>\n",
              "      <td>3/27/1992</td>\n",
              "      <td>231067.84</td>\n",
              "      <td>Software Test Engineer I</td>\n",
              "      <td>1E+02</td>\n",
              "    </tr>\n",
              "    <tr>\n",
              "      <th>9</th>\n",
              "      <td>2016-02-03 18:29:47</td>\n",
              "      <td>10</td>\n",
              "      <td>Emily</td>\n",
              "      <td>Stewart</td>\n",
              "      <td>estewart9@opensource.org</td>\n",
              "      <td>Female</td>\n",
              "      <td>143.28.251.245</td>\n",
              "      <td>3574254110301671</td>\n",
              "      <td>Nigeria</td>\n",
              "      <td>1/28/1997</td>\n",
              "      <td>27234.28</td>\n",
              "      <td>Health Coach IV</td>\n",
              "      <td></td>\n",
              "    </tr>\n",
              "  </tbody>\n",
              "</table>\n",
              "</div>\n",
              "      <button class=\"colab-df-convert\" onclick=\"convertToInteractive('df-814f1c48-1bd6-4493-a720-2f4677d2bc5c')\"\n",
              "              title=\"Convert this dataframe to an interactive table.\"\n",
              "              style=\"display:none;\">\n",
              "        \n",
              "  <svg xmlns=\"http://www.w3.org/2000/svg\" height=\"24px\"viewBox=\"0 0 24 24\"\n",
              "       width=\"24px\">\n",
              "    <path d=\"M0 0h24v24H0V0z\" fill=\"none\"/>\n",
              "    <path d=\"M18.56 5.44l.94 2.06.94-2.06 2.06-.94-2.06-.94-.94-2.06-.94 2.06-2.06.94zm-11 1L8.5 8.5l.94-2.06 2.06-.94-2.06-.94L8.5 2.5l-.94 2.06-2.06.94zm10 10l.94 2.06.94-2.06 2.06-.94-2.06-.94-.94-2.06-.94 2.06-2.06.94z\"/><path d=\"M17.41 7.96l-1.37-1.37c-.4-.4-.92-.59-1.43-.59-.52 0-1.04.2-1.43.59L10.3 9.45l-7.72 7.72c-.78.78-.78 2.05 0 2.83L4 21.41c.39.39.9.59 1.41.59.51 0 1.02-.2 1.41-.59l7.78-7.78 2.81-2.81c.8-.78.8-2.07 0-2.86zM5.41 20L4 18.59l7.72-7.72 1.47 1.35L5.41 20z\"/>\n",
              "  </svg>\n",
              "      </button>\n",
              "      \n",
              "  <style>\n",
              "    .colab-df-container {\n",
              "      display:flex;\n",
              "      flex-wrap:wrap;\n",
              "      gap: 12px;\n",
              "    }\n",
              "\n",
              "    .colab-df-convert {\n",
              "      background-color: #E8F0FE;\n",
              "      border: none;\n",
              "      border-radius: 50%;\n",
              "      cursor: pointer;\n",
              "      display: none;\n",
              "      fill: #1967D2;\n",
              "      height: 32px;\n",
              "      padding: 0 0 0 0;\n",
              "      width: 32px;\n",
              "    }\n",
              "\n",
              "    .colab-df-convert:hover {\n",
              "      background-color: #E2EBFA;\n",
              "      box-shadow: 0px 1px 2px rgba(60, 64, 67, 0.3), 0px 1px 3px 1px rgba(60, 64, 67, 0.15);\n",
              "      fill: #174EA6;\n",
              "    }\n",
              "\n",
              "    [theme=dark] .colab-df-convert {\n",
              "      background-color: #3B4455;\n",
              "      fill: #D2E3FC;\n",
              "    }\n",
              "\n",
              "    [theme=dark] .colab-df-convert:hover {\n",
              "      background-color: #434B5C;\n",
              "      box-shadow: 0px 1px 3px 1px rgba(0, 0, 0, 0.15);\n",
              "      filter: drop-shadow(0px 1px 2px rgba(0, 0, 0, 0.3));\n",
              "      fill: #FFFFFF;\n",
              "    }\n",
              "  </style>\n",
              "\n",
              "      <script>\n",
              "        const buttonEl =\n",
              "          document.querySelector('#df-814f1c48-1bd6-4493-a720-2f4677d2bc5c button.colab-df-convert');\n",
              "        buttonEl.style.display =\n",
              "          google.colab.kernel.accessAllowed ? 'block' : 'none';\n",
              "\n",
              "        async function convertToInteractive(key) {\n",
              "          const element = document.querySelector('#df-814f1c48-1bd6-4493-a720-2f4677d2bc5c');\n",
              "          const dataTable =\n",
              "            await google.colab.kernel.invokeFunction('convertToInteractive',\n",
              "                                                     [key], {});\n",
              "          if (!dataTable) return;\n",
              "\n",
              "          const docLinkHtml = 'Like what you see? Visit the ' +\n",
              "            '<a target=\"_blank\" href=https://colab.research.google.com/notebooks/data_table.ipynb>data table notebook</a>'\n",
              "            + ' to learn more about interactive tables.';\n",
              "          element.innerHTML = '';\n",
              "          dataTable['output_type'] = 'display_data';\n",
              "          await google.colab.output.renderOutput(dataTable, element);\n",
              "          const docLink = document.createElement('div');\n",
              "          docLink.innerHTML = docLinkHtml;\n",
              "          element.appendChild(docLink);\n",
              "        }\n",
              "      </script>\n",
              "    </div>\n",
              "  </div>\n",
              "  "
            ]
          },
          "metadata": {},
          "execution_count": 9
        }
      ]
    },
    {
      "cell_type": "code",
      "source": [
        "parquet_datas_allfiles = spark.read.parquet(\"users*\")"
      ],
      "metadata": {
        "id": "kf_ax7w9mZJS"
      },
      "execution_count": 10,
      "outputs": []
    },
    {
      "cell_type": "code",
      "source": [
        "parquet_datas_allfiles.limit(10).toPandas()"
      ],
      "metadata": {
        "colab": {
          "base_uri": "https://localhost:8080/",
          "height": 652
        },
        "id": "fCHExwb0mZFe",
        "outputId": "3d743ae5-91e9-443f-9b23-4a49975a4bbb"
      },
      "execution_count": 11,
      "outputs": [
        {
          "output_type": "execute_result",
          "data": {
            "text/plain": [
              "    registration_dttm  id first_name last_name                     email  \\\n",
              "0 2016-02-03 07:55:29   1     Amanda    Jordan          ajordan0@com.com   \n",
              "1 2016-02-03 17:04:03   2     Albert   Freeman           afreeman1@is.gd   \n",
              "2 2016-02-03 01:09:31   3     Evelyn    Morgan   emorgan2@altervista.org   \n",
              "3 2016-02-03 00:36:21   4     Denise     Riley          driley3@gmpg.org   \n",
              "4 2016-02-03 05:05:31   5     Carlos     Burns  cburns4@miitbeian.gov.cn   \n",
              "5 2016-02-03 07:22:34   6    Kathryn     White        kwhite5@google.com   \n",
              "6 2016-02-03 08:33:08   7     Samuel    Holmes      sholmes6@foxnews.com   \n",
              "7 2016-02-03 06:47:06   8      Harry    Howell       hhowell7@eepurl.com   \n",
              "8 2016-02-03 03:52:53   9       Jose    Foster         jfoster8@yelp.com   \n",
              "9 2016-02-03 18:29:47  10      Emily   Stewart  estewart9@opensource.org   \n",
              "\n",
              "   gender      ip_address                cc                 country  \\\n",
              "0  Female     1.197.201.2  6759521864920116               Indonesia   \n",
              "1    Male  218.111.175.34                                    Canada   \n",
              "2  Female    7.161.136.94  6767119071901597                  Russia   \n",
              "3  Female   140.35.109.83  3576031598965625                   China   \n",
              "4          169.113.235.40  5602256255204850            South Africa   \n",
              "5  Female  195.131.81.179  3583136326049310               Indonesia   \n",
              "6    Male  232.234.81.197  3582641366974690                Portugal   \n",
              "7    Male    91.235.51.73                    Bosnia and Herzegovina   \n",
              "8    Male    132.31.53.61                               South Korea   \n",
              "9  Female  143.28.251.245  3574254110301671                 Nigeria   \n",
              "\n",
              "    birthdate     salary                     title comments  \n",
              "0    3/8/1971   49756.53          Internal Auditor    1E+02  \n",
              "1   1/16/1968  150280.17             Accountant IV           \n",
              "2    2/1/1960  144972.51       Structural Engineer           \n",
              "3    4/8/1997   90263.05    Senior Cost Accountant           \n",
              "4                    NaN                                     \n",
              "5   2/25/1983   69227.11         Account Executive           \n",
              "6  12/18/1987   14247.62  Senior Financial Analyst           \n",
              "7    3/1/1962  186469.43          Web Developer IV           \n",
              "8   3/27/1992  231067.84  Software Test Engineer I    1E+02  \n",
              "9   1/28/1997   27234.28           Health Coach IV           "
            ],
            "text/html": [
              "\n",
              "  <div id=\"df-9968cadf-02b1-435e-b2c6-d6f897ecadcb\">\n",
              "    <div class=\"colab-df-container\">\n",
              "      <div>\n",
              "<style scoped>\n",
              "    .dataframe tbody tr th:only-of-type {\n",
              "        vertical-align: middle;\n",
              "    }\n",
              "\n",
              "    .dataframe tbody tr th {\n",
              "        vertical-align: top;\n",
              "    }\n",
              "\n",
              "    .dataframe thead th {\n",
              "        text-align: right;\n",
              "    }\n",
              "</style>\n",
              "<table border=\"1\" class=\"dataframe\">\n",
              "  <thead>\n",
              "    <tr style=\"text-align: right;\">\n",
              "      <th></th>\n",
              "      <th>registration_dttm</th>\n",
              "      <th>id</th>\n",
              "      <th>first_name</th>\n",
              "      <th>last_name</th>\n",
              "      <th>email</th>\n",
              "      <th>gender</th>\n",
              "      <th>ip_address</th>\n",
              "      <th>cc</th>\n",
              "      <th>country</th>\n",
              "      <th>birthdate</th>\n",
              "      <th>salary</th>\n",
              "      <th>title</th>\n",
              "      <th>comments</th>\n",
              "    </tr>\n",
              "  </thead>\n",
              "  <tbody>\n",
              "    <tr>\n",
              "      <th>0</th>\n",
              "      <td>2016-02-03 07:55:29</td>\n",
              "      <td>1</td>\n",
              "      <td>Amanda</td>\n",
              "      <td>Jordan</td>\n",
              "      <td>ajordan0@com.com</td>\n",
              "      <td>Female</td>\n",
              "      <td>1.197.201.2</td>\n",
              "      <td>6759521864920116</td>\n",
              "      <td>Indonesia</td>\n",
              "      <td>3/8/1971</td>\n",
              "      <td>49756.53</td>\n",
              "      <td>Internal Auditor</td>\n",
              "      <td>1E+02</td>\n",
              "    </tr>\n",
              "    <tr>\n",
              "      <th>1</th>\n",
              "      <td>2016-02-03 17:04:03</td>\n",
              "      <td>2</td>\n",
              "      <td>Albert</td>\n",
              "      <td>Freeman</td>\n",
              "      <td>afreeman1@is.gd</td>\n",
              "      <td>Male</td>\n",
              "      <td>218.111.175.34</td>\n",
              "      <td></td>\n",
              "      <td>Canada</td>\n",
              "      <td>1/16/1968</td>\n",
              "      <td>150280.17</td>\n",
              "      <td>Accountant IV</td>\n",
              "      <td></td>\n",
              "    </tr>\n",
              "    <tr>\n",
              "      <th>2</th>\n",
              "      <td>2016-02-03 01:09:31</td>\n",
              "      <td>3</td>\n",
              "      <td>Evelyn</td>\n",
              "      <td>Morgan</td>\n",
              "      <td>emorgan2@altervista.org</td>\n",
              "      <td>Female</td>\n",
              "      <td>7.161.136.94</td>\n",
              "      <td>6767119071901597</td>\n",
              "      <td>Russia</td>\n",
              "      <td>2/1/1960</td>\n",
              "      <td>144972.51</td>\n",
              "      <td>Structural Engineer</td>\n",
              "      <td></td>\n",
              "    </tr>\n",
              "    <tr>\n",
              "      <th>3</th>\n",
              "      <td>2016-02-03 00:36:21</td>\n",
              "      <td>4</td>\n",
              "      <td>Denise</td>\n",
              "      <td>Riley</td>\n",
              "      <td>driley3@gmpg.org</td>\n",
              "      <td>Female</td>\n",
              "      <td>140.35.109.83</td>\n",
              "      <td>3576031598965625</td>\n",
              "      <td>China</td>\n",
              "      <td>4/8/1997</td>\n",
              "      <td>90263.05</td>\n",
              "      <td>Senior Cost Accountant</td>\n",
              "      <td></td>\n",
              "    </tr>\n",
              "    <tr>\n",
              "      <th>4</th>\n",
              "      <td>2016-02-03 05:05:31</td>\n",
              "      <td>5</td>\n",
              "      <td>Carlos</td>\n",
              "      <td>Burns</td>\n",
              "      <td>cburns4@miitbeian.gov.cn</td>\n",
              "      <td></td>\n",
              "      <td>169.113.235.40</td>\n",
              "      <td>5602256255204850</td>\n",
              "      <td>South Africa</td>\n",
              "      <td></td>\n",
              "      <td>NaN</td>\n",
              "      <td></td>\n",
              "      <td></td>\n",
              "    </tr>\n",
              "    <tr>\n",
              "      <th>5</th>\n",
              "      <td>2016-02-03 07:22:34</td>\n",
              "      <td>6</td>\n",
              "      <td>Kathryn</td>\n",
              "      <td>White</td>\n",
              "      <td>kwhite5@google.com</td>\n",
              "      <td>Female</td>\n",
              "      <td>195.131.81.179</td>\n",
              "      <td>3583136326049310</td>\n",
              "      <td>Indonesia</td>\n",
              "      <td>2/25/1983</td>\n",
              "      <td>69227.11</td>\n",
              "      <td>Account Executive</td>\n",
              "      <td></td>\n",
              "    </tr>\n",
              "    <tr>\n",
              "      <th>6</th>\n",
              "      <td>2016-02-03 08:33:08</td>\n",
              "      <td>7</td>\n",
              "      <td>Samuel</td>\n",
              "      <td>Holmes</td>\n",
              "      <td>sholmes6@foxnews.com</td>\n",
              "      <td>Male</td>\n",
              "      <td>232.234.81.197</td>\n",
              "      <td>3582641366974690</td>\n",
              "      <td>Portugal</td>\n",
              "      <td>12/18/1987</td>\n",
              "      <td>14247.62</td>\n",
              "      <td>Senior Financial Analyst</td>\n",
              "      <td></td>\n",
              "    </tr>\n",
              "    <tr>\n",
              "      <th>7</th>\n",
              "      <td>2016-02-03 06:47:06</td>\n",
              "      <td>8</td>\n",
              "      <td>Harry</td>\n",
              "      <td>Howell</td>\n",
              "      <td>hhowell7@eepurl.com</td>\n",
              "      <td>Male</td>\n",
              "      <td>91.235.51.73</td>\n",
              "      <td></td>\n",
              "      <td>Bosnia and Herzegovina</td>\n",
              "      <td>3/1/1962</td>\n",
              "      <td>186469.43</td>\n",
              "      <td>Web Developer IV</td>\n",
              "      <td></td>\n",
              "    </tr>\n",
              "    <tr>\n",
              "      <th>8</th>\n",
              "      <td>2016-02-03 03:52:53</td>\n",
              "      <td>9</td>\n",
              "      <td>Jose</td>\n",
              "      <td>Foster</td>\n",
              "      <td>jfoster8@yelp.com</td>\n",
              "      <td>Male</td>\n",
              "      <td>132.31.53.61</td>\n",
              "      <td></td>\n",
              "      <td>South Korea</td>\n",
              "      <td>3/27/1992</td>\n",
              "      <td>231067.84</td>\n",
              "      <td>Software Test Engineer I</td>\n",
              "      <td>1E+02</td>\n",
              "    </tr>\n",
              "    <tr>\n",
              "      <th>9</th>\n",
              "      <td>2016-02-03 18:29:47</td>\n",
              "      <td>10</td>\n",
              "      <td>Emily</td>\n",
              "      <td>Stewart</td>\n",
              "      <td>estewart9@opensource.org</td>\n",
              "      <td>Female</td>\n",
              "      <td>143.28.251.245</td>\n",
              "      <td>3574254110301671</td>\n",
              "      <td>Nigeria</td>\n",
              "      <td>1/28/1997</td>\n",
              "      <td>27234.28</td>\n",
              "      <td>Health Coach IV</td>\n",
              "      <td></td>\n",
              "    </tr>\n",
              "  </tbody>\n",
              "</table>\n",
              "</div>\n",
              "      <button class=\"colab-df-convert\" onclick=\"convertToInteractive('df-9968cadf-02b1-435e-b2c6-d6f897ecadcb')\"\n",
              "              title=\"Convert this dataframe to an interactive table.\"\n",
              "              style=\"display:none;\">\n",
              "        \n",
              "  <svg xmlns=\"http://www.w3.org/2000/svg\" height=\"24px\"viewBox=\"0 0 24 24\"\n",
              "       width=\"24px\">\n",
              "    <path d=\"M0 0h24v24H0V0z\" fill=\"none\"/>\n",
              "    <path d=\"M18.56 5.44l.94 2.06.94-2.06 2.06-.94-2.06-.94-.94-2.06-.94 2.06-2.06.94zm-11 1L8.5 8.5l.94-2.06 2.06-.94-2.06-.94L8.5 2.5l-.94 2.06-2.06.94zm10 10l.94 2.06.94-2.06 2.06-.94-2.06-.94-.94-2.06-.94 2.06-2.06.94z\"/><path d=\"M17.41 7.96l-1.37-1.37c-.4-.4-.92-.59-1.43-.59-.52 0-1.04.2-1.43.59L10.3 9.45l-7.72 7.72c-.78.78-.78 2.05 0 2.83L4 21.41c.39.39.9.59 1.41.59.51 0 1.02-.2 1.41-.59l7.78-7.78 2.81-2.81c.8-.78.8-2.07 0-2.86zM5.41 20L4 18.59l7.72-7.72 1.47 1.35L5.41 20z\"/>\n",
              "  </svg>\n",
              "      </button>\n",
              "      \n",
              "  <style>\n",
              "    .colab-df-container {\n",
              "      display:flex;\n",
              "      flex-wrap:wrap;\n",
              "      gap: 12px;\n",
              "    }\n",
              "\n",
              "    .colab-df-convert {\n",
              "      background-color: #E8F0FE;\n",
              "      border: none;\n",
              "      border-radius: 50%;\n",
              "      cursor: pointer;\n",
              "      display: none;\n",
              "      fill: #1967D2;\n",
              "      height: 32px;\n",
              "      padding: 0 0 0 0;\n",
              "      width: 32px;\n",
              "    }\n",
              "\n",
              "    .colab-df-convert:hover {\n",
              "      background-color: #E2EBFA;\n",
              "      box-shadow: 0px 1px 2px rgba(60, 64, 67, 0.3), 0px 1px 3px 1px rgba(60, 64, 67, 0.15);\n",
              "      fill: #174EA6;\n",
              "    }\n",
              "\n",
              "    [theme=dark] .colab-df-convert {\n",
              "      background-color: #3B4455;\n",
              "      fill: #D2E3FC;\n",
              "    }\n",
              "\n",
              "    [theme=dark] .colab-df-convert:hover {\n",
              "      background-color: #434B5C;\n",
              "      box-shadow: 0px 1px 3px 1px rgba(0, 0, 0, 0.15);\n",
              "      filter: drop-shadow(0px 1px 2px rgba(0, 0, 0, 0.3));\n",
              "      fill: #FFFFFF;\n",
              "    }\n",
              "  </style>\n",
              "\n",
              "      <script>\n",
              "        const buttonEl =\n",
              "          document.querySelector('#df-9968cadf-02b1-435e-b2c6-d6f897ecadcb button.colab-df-convert');\n",
              "        buttonEl.style.display =\n",
              "          google.colab.kernel.accessAllowed ? 'block' : 'none';\n",
              "\n",
              "        async function convertToInteractive(key) {\n",
              "          const element = document.querySelector('#df-9968cadf-02b1-435e-b2c6-d6f897ecadcb');\n",
              "          const dataTable =\n",
              "            await google.colab.kernel.invokeFunction('convertToInteractive',\n",
              "                                                     [key], {});\n",
              "          if (!dataTable) return;\n",
              "\n",
              "          const docLinkHtml = 'Like what you see? Visit the ' +\n",
              "            '<a target=\"_blank\" href=https://colab.research.google.com/notebooks/data_table.ipynb>data table notebook</a>'\n",
              "            + ' to learn more about interactive tables.';\n",
              "          element.innerHTML = '';\n",
              "          dataTable['output_type'] = 'display_data';\n",
              "          await google.colab.output.renderOutput(dataTable, element);\n",
              "          const docLink = document.createElement('div');\n",
              "          docLink.innerHTML = docLinkHtml;\n",
              "          element.appendChild(docLink);\n",
              "        }\n",
              "      </script>\n",
              "    </div>\n",
              "  </div>\n",
              "  "
            ]
          },
          "metadata": {},
          "execution_count": 11
        }
      ]
    },
    {
      "cell_type": "code",
      "source": [
        "users_1_2  = spark.read.parquet(\"users1.parquet\",\"users2.parquet\")"
      ],
      "metadata": {
        "id": "diGOCMmlmZDR"
      },
      "execution_count": 12,
      "outputs": []
    },
    {
      "cell_type": "code",
      "source": [
        "users_1_2.limit(10).toPandas()"
      ],
      "metadata": {
        "colab": {
          "base_uri": "https://localhost:8080/",
          "height": 652
        },
        "id": "_-ZoZqjImYk4",
        "outputId": "405978c4-7481-4baa-dcf6-a16217e02611"
      },
      "execution_count": 13,
      "outputs": [
        {
          "output_type": "execute_result",
          "data": {
            "text/plain": [
              "    registration_dttm  id first_name last_name                     email  \\\n",
              "0 2016-02-03 07:55:29   1     Amanda    Jordan          ajordan0@com.com   \n",
              "1 2016-02-03 17:04:03   2     Albert   Freeman           afreeman1@is.gd   \n",
              "2 2016-02-03 01:09:31   3     Evelyn    Morgan   emorgan2@altervista.org   \n",
              "3 2016-02-03 00:36:21   4     Denise     Riley          driley3@gmpg.org   \n",
              "4 2016-02-03 05:05:31   5     Carlos     Burns  cburns4@miitbeian.gov.cn   \n",
              "5 2016-02-03 07:22:34   6    Kathryn     White        kwhite5@google.com   \n",
              "6 2016-02-03 08:33:08   7     Samuel    Holmes      sholmes6@foxnews.com   \n",
              "7 2016-02-03 06:47:06   8      Harry    Howell       hhowell7@eepurl.com   \n",
              "8 2016-02-03 03:52:53   9       Jose    Foster         jfoster8@yelp.com   \n",
              "9 2016-02-03 18:29:47  10      Emily   Stewart  estewart9@opensource.org   \n",
              "\n",
              "   gender      ip_address                cc                 country  \\\n",
              "0  Female     1.197.201.2  6759521864920116               Indonesia   \n",
              "1    Male  218.111.175.34                                    Canada   \n",
              "2  Female    7.161.136.94  6767119071901597                  Russia   \n",
              "3  Female   140.35.109.83  3576031598965625                   China   \n",
              "4          169.113.235.40  5602256255204850            South Africa   \n",
              "5  Female  195.131.81.179  3583136326049310               Indonesia   \n",
              "6    Male  232.234.81.197  3582641366974690                Portugal   \n",
              "7    Male    91.235.51.73                    Bosnia and Herzegovina   \n",
              "8    Male    132.31.53.61                               South Korea   \n",
              "9  Female  143.28.251.245  3574254110301671                 Nigeria   \n",
              "\n",
              "    birthdate     salary                     title comments  \n",
              "0    3/8/1971   49756.53          Internal Auditor    1E+02  \n",
              "1   1/16/1968  150280.17             Accountant IV           \n",
              "2    2/1/1960  144972.51       Structural Engineer           \n",
              "3    4/8/1997   90263.05    Senior Cost Accountant           \n",
              "4                    NaN                                     \n",
              "5   2/25/1983   69227.11         Account Executive           \n",
              "6  12/18/1987   14247.62  Senior Financial Analyst           \n",
              "7    3/1/1962  186469.43          Web Developer IV           \n",
              "8   3/27/1992  231067.84  Software Test Engineer I    1E+02  \n",
              "9   1/28/1997   27234.28           Health Coach IV           "
            ],
            "text/html": [
              "\n",
              "  <div id=\"df-c3de32ad-bc10-421c-a5c9-bc303e3104e8\">\n",
              "    <div class=\"colab-df-container\">\n",
              "      <div>\n",
              "<style scoped>\n",
              "    .dataframe tbody tr th:only-of-type {\n",
              "        vertical-align: middle;\n",
              "    }\n",
              "\n",
              "    .dataframe tbody tr th {\n",
              "        vertical-align: top;\n",
              "    }\n",
              "\n",
              "    .dataframe thead th {\n",
              "        text-align: right;\n",
              "    }\n",
              "</style>\n",
              "<table border=\"1\" class=\"dataframe\">\n",
              "  <thead>\n",
              "    <tr style=\"text-align: right;\">\n",
              "      <th></th>\n",
              "      <th>registration_dttm</th>\n",
              "      <th>id</th>\n",
              "      <th>first_name</th>\n",
              "      <th>last_name</th>\n",
              "      <th>email</th>\n",
              "      <th>gender</th>\n",
              "      <th>ip_address</th>\n",
              "      <th>cc</th>\n",
              "      <th>country</th>\n",
              "      <th>birthdate</th>\n",
              "      <th>salary</th>\n",
              "      <th>title</th>\n",
              "      <th>comments</th>\n",
              "    </tr>\n",
              "  </thead>\n",
              "  <tbody>\n",
              "    <tr>\n",
              "      <th>0</th>\n",
              "      <td>2016-02-03 07:55:29</td>\n",
              "      <td>1</td>\n",
              "      <td>Amanda</td>\n",
              "      <td>Jordan</td>\n",
              "      <td>ajordan0@com.com</td>\n",
              "      <td>Female</td>\n",
              "      <td>1.197.201.2</td>\n",
              "      <td>6759521864920116</td>\n",
              "      <td>Indonesia</td>\n",
              "      <td>3/8/1971</td>\n",
              "      <td>49756.53</td>\n",
              "      <td>Internal Auditor</td>\n",
              "      <td>1E+02</td>\n",
              "    </tr>\n",
              "    <tr>\n",
              "      <th>1</th>\n",
              "      <td>2016-02-03 17:04:03</td>\n",
              "      <td>2</td>\n",
              "      <td>Albert</td>\n",
              "      <td>Freeman</td>\n",
              "      <td>afreeman1@is.gd</td>\n",
              "      <td>Male</td>\n",
              "      <td>218.111.175.34</td>\n",
              "      <td></td>\n",
              "      <td>Canada</td>\n",
              "      <td>1/16/1968</td>\n",
              "      <td>150280.17</td>\n",
              "      <td>Accountant IV</td>\n",
              "      <td></td>\n",
              "    </tr>\n",
              "    <tr>\n",
              "      <th>2</th>\n",
              "      <td>2016-02-03 01:09:31</td>\n",
              "      <td>3</td>\n",
              "      <td>Evelyn</td>\n",
              "      <td>Morgan</td>\n",
              "      <td>emorgan2@altervista.org</td>\n",
              "      <td>Female</td>\n",
              "      <td>7.161.136.94</td>\n",
              "      <td>6767119071901597</td>\n",
              "      <td>Russia</td>\n",
              "      <td>2/1/1960</td>\n",
              "      <td>144972.51</td>\n",
              "      <td>Structural Engineer</td>\n",
              "      <td></td>\n",
              "    </tr>\n",
              "    <tr>\n",
              "      <th>3</th>\n",
              "      <td>2016-02-03 00:36:21</td>\n",
              "      <td>4</td>\n",
              "      <td>Denise</td>\n",
              "      <td>Riley</td>\n",
              "      <td>driley3@gmpg.org</td>\n",
              "      <td>Female</td>\n",
              "      <td>140.35.109.83</td>\n",
              "      <td>3576031598965625</td>\n",
              "      <td>China</td>\n",
              "      <td>4/8/1997</td>\n",
              "      <td>90263.05</td>\n",
              "      <td>Senior Cost Accountant</td>\n",
              "      <td></td>\n",
              "    </tr>\n",
              "    <tr>\n",
              "      <th>4</th>\n",
              "      <td>2016-02-03 05:05:31</td>\n",
              "      <td>5</td>\n",
              "      <td>Carlos</td>\n",
              "      <td>Burns</td>\n",
              "      <td>cburns4@miitbeian.gov.cn</td>\n",
              "      <td></td>\n",
              "      <td>169.113.235.40</td>\n",
              "      <td>5602256255204850</td>\n",
              "      <td>South Africa</td>\n",
              "      <td></td>\n",
              "      <td>NaN</td>\n",
              "      <td></td>\n",
              "      <td></td>\n",
              "    </tr>\n",
              "    <tr>\n",
              "      <th>5</th>\n",
              "      <td>2016-02-03 07:22:34</td>\n",
              "      <td>6</td>\n",
              "      <td>Kathryn</td>\n",
              "      <td>White</td>\n",
              "      <td>kwhite5@google.com</td>\n",
              "      <td>Female</td>\n",
              "      <td>195.131.81.179</td>\n",
              "      <td>3583136326049310</td>\n",
              "      <td>Indonesia</td>\n",
              "      <td>2/25/1983</td>\n",
              "      <td>69227.11</td>\n",
              "      <td>Account Executive</td>\n",
              "      <td></td>\n",
              "    </tr>\n",
              "    <tr>\n",
              "      <th>6</th>\n",
              "      <td>2016-02-03 08:33:08</td>\n",
              "      <td>7</td>\n",
              "      <td>Samuel</td>\n",
              "      <td>Holmes</td>\n",
              "      <td>sholmes6@foxnews.com</td>\n",
              "      <td>Male</td>\n",
              "      <td>232.234.81.197</td>\n",
              "      <td>3582641366974690</td>\n",
              "      <td>Portugal</td>\n",
              "      <td>12/18/1987</td>\n",
              "      <td>14247.62</td>\n",
              "      <td>Senior Financial Analyst</td>\n",
              "      <td></td>\n",
              "    </tr>\n",
              "    <tr>\n",
              "      <th>7</th>\n",
              "      <td>2016-02-03 06:47:06</td>\n",
              "      <td>8</td>\n",
              "      <td>Harry</td>\n",
              "      <td>Howell</td>\n",
              "      <td>hhowell7@eepurl.com</td>\n",
              "      <td>Male</td>\n",
              "      <td>91.235.51.73</td>\n",
              "      <td></td>\n",
              "      <td>Bosnia and Herzegovina</td>\n",
              "      <td>3/1/1962</td>\n",
              "      <td>186469.43</td>\n",
              "      <td>Web Developer IV</td>\n",
              "      <td></td>\n",
              "    </tr>\n",
              "    <tr>\n",
              "      <th>8</th>\n",
              "      <td>2016-02-03 03:52:53</td>\n",
              "      <td>9</td>\n",
              "      <td>Jose</td>\n",
              "      <td>Foster</td>\n",
              "      <td>jfoster8@yelp.com</td>\n",
              "      <td>Male</td>\n",
              "      <td>132.31.53.61</td>\n",
              "      <td></td>\n",
              "      <td>South Korea</td>\n",
              "      <td>3/27/1992</td>\n",
              "      <td>231067.84</td>\n",
              "      <td>Software Test Engineer I</td>\n",
              "      <td>1E+02</td>\n",
              "    </tr>\n",
              "    <tr>\n",
              "      <th>9</th>\n",
              "      <td>2016-02-03 18:29:47</td>\n",
              "      <td>10</td>\n",
              "      <td>Emily</td>\n",
              "      <td>Stewart</td>\n",
              "      <td>estewart9@opensource.org</td>\n",
              "      <td>Female</td>\n",
              "      <td>143.28.251.245</td>\n",
              "      <td>3574254110301671</td>\n",
              "      <td>Nigeria</td>\n",
              "      <td>1/28/1997</td>\n",
              "      <td>27234.28</td>\n",
              "      <td>Health Coach IV</td>\n",
              "      <td></td>\n",
              "    </tr>\n",
              "  </tbody>\n",
              "</table>\n",
              "</div>\n",
              "      <button class=\"colab-df-convert\" onclick=\"convertToInteractive('df-c3de32ad-bc10-421c-a5c9-bc303e3104e8')\"\n",
              "              title=\"Convert this dataframe to an interactive table.\"\n",
              "              style=\"display:none;\">\n",
              "        \n",
              "  <svg xmlns=\"http://www.w3.org/2000/svg\" height=\"24px\"viewBox=\"0 0 24 24\"\n",
              "       width=\"24px\">\n",
              "    <path d=\"M0 0h24v24H0V0z\" fill=\"none\"/>\n",
              "    <path d=\"M18.56 5.44l.94 2.06.94-2.06 2.06-.94-2.06-.94-.94-2.06-.94 2.06-2.06.94zm-11 1L8.5 8.5l.94-2.06 2.06-.94-2.06-.94L8.5 2.5l-.94 2.06-2.06.94zm10 10l.94 2.06.94-2.06 2.06-.94-2.06-.94-.94-2.06-.94 2.06-2.06.94z\"/><path d=\"M17.41 7.96l-1.37-1.37c-.4-.4-.92-.59-1.43-.59-.52 0-1.04.2-1.43.59L10.3 9.45l-7.72 7.72c-.78.78-.78 2.05 0 2.83L4 21.41c.39.39.9.59 1.41.59.51 0 1.02-.2 1.41-.59l7.78-7.78 2.81-2.81c.8-.78.8-2.07 0-2.86zM5.41 20L4 18.59l7.72-7.72 1.47 1.35L5.41 20z\"/>\n",
              "  </svg>\n",
              "      </button>\n",
              "      \n",
              "  <style>\n",
              "    .colab-df-container {\n",
              "      display:flex;\n",
              "      flex-wrap:wrap;\n",
              "      gap: 12px;\n",
              "    }\n",
              "\n",
              "    .colab-df-convert {\n",
              "      background-color: #E8F0FE;\n",
              "      border: none;\n",
              "      border-radius: 50%;\n",
              "      cursor: pointer;\n",
              "      display: none;\n",
              "      fill: #1967D2;\n",
              "      height: 32px;\n",
              "      padding: 0 0 0 0;\n",
              "      width: 32px;\n",
              "    }\n",
              "\n",
              "    .colab-df-convert:hover {\n",
              "      background-color: #E2EBFA;\n",
              "      box-shadow: 0px 1px 2px rgba(60, 64, 67, 0.3), 0px 1px 3px 1px rgba(60, 64, 67, 0.15);\n",
              "      fill: #174EA6;\n",
              "    }\n",
              "\n",
              "    [theme=dark] .colab-df-convert {\n",
              "      background-color: #3B4455;\n",
              "      fill: #D2E3FC;\n",
              "    }\n",
              "\n",
              "    [theme=dark] .colab-df-convert:hover {\n",
              "      background-color: #434B5C;\n",
              "      box-shadow: 0px 1px 3px 1px rgba(0, 0, 0, 0.15);\n",
              "      filter: drop-shadow(0px 1px 2px rgba(0, 0, 0, 0.3));\n",
              "      fill: #FFFFFF;\n",
              "    }\n",
              "  </style>\n",
              "\n",
              "      <script>\n",
              "        const buttonEl =\n",
              "          document.querySelector('#df-c3de32ad-bc10-421c-a5c9-bc303e3104e8 button.colab-df-convert');\n",
              "        buttonEl.style.display =\n",
              "          google.colab.kernel.accessAllowed ? 'block' : 'none';\n",
              "\n",
              "        async function convertToInteractive(key) {\n",
              "          const element = document.querySelector('#df-c3de32ad-bc10-421c-a5c9-bc303e3104e8');\n",
              "          const dataTable =\n",
              "            await google.colab.kernel.invokeFunction('convertToInteractive',\n",
              "                                                     [key], {});\n",
              "          if (!dataTable) return;\n",
              "\n",
              "          const docLinkHtml = 'Like what you see? Visit the ' +\n",
              "            '<a target=\"_blank\" href=https://colab.research.google.com/notebooks/data_table.ipynb>data table notebook</a>'\n",
              "            + ' to learn more about interactive tables.';\n",
              "          element.innerHTML = '';\n",
              "          dataTable['output_type'] = 'display_data';\n",
              "          await google.colab.output.renderOutput(dataTable, element);\n",
              "          const docLink = document.createElement('div');\n",
              "          docLink.innerHTML = docLinkHtml;\n",
              "          element.appendChild(docLink);\n",
              "        }\n",
              "      </script>\n",
              "    </div>\n",
              "  </div>\n",
              "  "
            ]
          },
          "metadata": {},
          "execution_count": 13
        }
      ]
    },
    {
      "cell_type": "code",
      "source": [
        "students.printSchema()"
      ],
      "metadata": {
        "colab": {
          "base_uri": "https://localhost:8080/"
        },
        "id": "O97FVLhlmYi4",
        "outputId": "fd73b142-69c0-415e-b015-453e78a02c0c"
      },
      "execution_count": 14,
      "outputs": [
        {
          "output_type": "stream",
          "name": "stdout",
          "text": [
            "root\n",
            " |-- gender: string (nullable = true)\n",
            " |-- race/ethnicity: string (nullable = true)\n",
            " |-- parental level of education: string (nullable = true)\n",
            " |-- lunch: string (nullable = true)\n",
            " |-- test preparation course: string (nullable = true)\n",
            " |-- math score: integer (nullable = true)\n",
            " |-- reading score: integer (nullable = true)\n",
            " |-- writing score: integer (nullable = true)\n",
            "\n"
          ]
        }
      ]
    },
    {
      "cell_type": "code",
      "source": [
        "students.columns"
      ],
      "metadata": {
        "colab": {
          "base_uri": "https://localhost:8080/"
        },
        "id": "gMICE29NmYfV",
        "outputId": "ddc076f0-ba60-4938-af73-0fb278364eb1"
      },
      "execution_count": 16,
      "outputs": [
        {
          "output_type": "execute_result",
          "data": {
            "text/plain": [
              "['gender',\n",
              " 'race/ethnicity',\n",
              " 'parental level of education',\n",
              " 'lunch',\n",
              " 'test preparation course',\n",
              " 'math score',\n",
              " 'reading score',\n",
              " 'writing score']"
            ]
          },
          "metadata": {},
          "execution_count": 16
        }
      ]
    },
    {
      "cell_type": "code",
      "source": [
        "students.describe()"
      ],
      "metadata": {
        "colab": {
          "base_uri": "https://localhost:8080/"
        },
        "id": "LNnHmK36mYdo",
        "outputId": "415bf35e-f9fd-4311-e050-12cd0d5581cf"
      },
      "execution_count": 17,
      "outputs": [
        {
          "output_type": "execute_result",
          "data": {
            "text/plain": [
              "DataFrame[summary: string, gender: string, race/ethnicity: string, parental level of education: string, lunch: string, test preparation course: string, math score: string, reading score: string, writing score: string]"
            ]
          },
          "metadata": {},
          "execution_count": 17
        }
      ]
    },
    {
      "cell_type": "code",
      "source": [
        "students.schema['gender'].dataType"
      ],
      "metadata": {
        "colab": {
          "base_uri": "https://localhost:8080/"
        },
        "id": "zSSQwqfMmYZ5",
        "outputId": "59268789-375f-4053-9934-98d9a34402f9"
      },
      "execution_count": 20,
      "outputs": [
        {
          "output_type": "execute_result",
          "data": {
            "text/plain": [
              "StringType()"
            ]
          },
          "metadata": {},
          "execution_count": 20
        }
      ]
    },
    {
      "cell_type": "code",
      "source": [
        "students.select(\"math score\", \"reading score\").summary(\"count\",\"mean\",\"min\",\"max\").show()"
      ],
      "metadata": {
        "colab": {
          "base_uri": "https://localhost:8080/"
        },
        "id": "uY8SgJtqmYXw",
        "outputId": "169dda93-ca74-495b-ff01-1e172a61974e"
      },
      "execution_count": 24,
      "outputs": [
        {
          "output_type": "stream",
          "name": "stdout",
          "text": [
            "+-------+----------+-------------+\n",
            "|summary|math score|reading score|\n",
            "+-------+----------+-------------+\n",
            "|  count|      1000|         1000|\n",
            "|   mean|    66.089|       69.169|\n",
            "|    min|         0|           17|\n",
            "|    max|       100|          100|\n",
            "+-------+----------+-------------+\n",
            "\n"
          ]
        }
      ]
    },
    {
      "cell_type": "code",
      "source": [
        "from pyspark.sql.types import *"
      ],
      "metadata": {
        "id": "hlce5CyJmX1H"
      },
      "execution_count": 25,
      "outputs": []
    },
    {
      "cell_type": "code",
      "source": [
        "data_schema=[StructField(\"name\",StringType(), True),StructField(\"email\",StringType(), True),StructField(\"city\",StringType(), True),\n",
        "             StructField(\"mac\",StringType(), True),StructField(\"timestamp\",DateType(), True),StructField(\"creditcard\",StringType(), True)]"
      ],
      "metadata": {
        "id": "moPnmxWTmXzR"
      },
      "execution_count": 32,
      "outputs": []
    },
    {
      "cell_type": "code",
      "source": [
        "data_schema"
      ],
      "metadata": {
        "colab": {
          "base_uri": "https://localhost:8080/"
        },
        "id": "wuFZGYM4mXvk",
        "outputId": "4c2a88cf-a5e0-4a4a-c51c-e8b91d8725e4"
      },
      "execution_count": 33,
      "outputs": [
        {
          "output_type": "execute_result",
          "data": {
            "text/plain": [
              "[StructField('name', StringType(), True),\n",
              " StructField('email', StringType(), True),\n",
              " StructField('city', StringType(), True),\n",
              " StructField('mac', StringType(), True),\n",
              " StructField('timestamp', DateType(), True),\n",
              " StructField('creditcard', StringType(), True)]"
            ]
          },
          "metadata": {},
          "execution_count": 33
        }
      ]
    },
    {
      "cell_type": "code",
      "source": [
        "final_struc = StructType(fields=data_schema)"
      ],
      "metadata": {
        "id": "DmeOektzmXtx"
      },
      "execution_count": 34,
      "outputs": []
    },
    {
      "cell_type": "code",
      "source": [
        "final_struc"
      ],
      "metadata": {
        "colab": {
          "base_uri": "https://localhost:8080/"
        },
        "id": "SsRk6V_lmXqh",
        "outputId": "749a58c1-64cc-48f7-91d7-015ef16ea5f2"
      },
      "execution_count": 35,
      "outputs": [
        {
          "output_type": "execute_result",
          "data": {
            "text/plain": [
              "StructType([StructField('name', StringType(), True), StructField('email', StringType(), True), StructField('city', StringType(), True), StructField('mac', StringType(), True), StructField('timestamp', DateType(), True), StructField('creditcard', StringType(), True)])"
            ]
          },
          "metadata": {},
          "execution_count": 35
        }
      ]
    },
    {
      "cell_type": "code",
      "source": [
        "people_schema = spark.read.json(\"people.json\",schema=final_struc)"
      ],
      "metadata": {
        "id": "Gey9X4VVmXok"
      },
      "execution_count": 36,
      "outputs": []
    },
    {
      "cell_type": "code",
      "source": [
        "people_schema"
      ],
      "metadata": {
        "colab": {
          "base_uri": "https://localhost:8080/"
        },
        "id": "CKAij7m8mXld",
        "outputId": "2dd32388-da67-4d87-b82b-f695d0a44187"
      },
      "execution_count": 38,
      "outputs": [
        {
          "output_type": "execute_result",
          "data": {
            "text/plain": [
              "DataFrame[name: string, email: string, city: string, mac: string, timestamp: date, creditcard: string]"
            ]
          },
          "metadata": {},
          "execution_count": 38
        }
      ]
    },
    {
      "cell_type": "code",
      "source": [
        "people_schema.limit(10).toPandas()"
      ],
      "metadata": {
        "colab": {
          "base_uri": "https://localhost:8080/",
          "height": 363
        },
        "id": "1We8qMqimXjO",
        "outputId": "e232385e-7cd5-490f-d6f2-63597b3601d4"
      },
      "execution_count": 43,
      "outputs": [
        {
          "output_type": "execute_result",
          "data": {
            "text/plain": [
              "                      name                           email             city  \\\n",
              "0                     None                            None             None   \n",
              "1             Keeley Bosco        katlyn@jenkinsmaggio.net  Lake Gladysberg   \n",
              "2              Rubye Jerde           juvenal@johnston.name             None   \n",
              "3  Miss Darian Breitenberg                            None             None   \n",
              "4         Celine Ankunding          emery_kunze@rogahn.net             None   \n",
              "5         Dr. Araceli Lang        mavis_lehner@jacobi.name      Yvettemouth   \n",
              "6              Esteban Von                            None             None   \n",
              "7           Everette Swift  gielle_jacobs@flatleyboehm.biz             None   \n",
              "8            Terrell Boyle   augustine.conroy@keebler.name  Port Reaganfort   \n",
              "9        Miss Emmie Muller                            None       Kaleyhaven   \n",
              "\n",
              "                 mac   timestamp           creditcard  \n",
              "0               None        None                 None  \n",
              "1  08:fd:0b:cd:77:f7  2015-04-25  1228-1221-1221-1431  \n",
              "2  90:4d:fa:42:63:a2  2015-04-25  1228-1221-1221-1431  \n",
              "3  f9:0e:d3:40:cb:e9  2015-04-25                 None  \n",
              "4  3a:af:c9:0b:5c:08  2015-04-25  1228-1221-1221-1431  \n",
              "5  9e:ea:28:41:2a:50  2015-04-25  1211-1221-1234-2201  \n",
              "6  2d:e4:f0:dd:90:96  2015-04-25                 None  \n",
              "7  29:e0:54:7a:b7:ca  2015-04-25                 None  \n",
              "8  c5:32:09:5a:f7:15  2015-04-25  1228-1221-1221-1431  \n",
              "9  be:dc:d2:57:81:8b  2015-04-25                 None  "
            ],
            "text/html": [
              "\n",
              "  <div id=\"df-e5d22062-697b-43bc-8f7e-57b01136da50\">\n",
              "    <div class=\"colab-df-container\">\n",
              "      <div>\n",
              "<style scoped>\n",
              "    .dataframe tbody tr th:only-of-type {\n",
              "        vertical-align: middle;\n",
              "    }\n",
              "\n",
              "    .dataframe tbody tr th {\n",
              "        vertical-align: top;\n",
              "    }\n",
              "\n",
              "    .dataframe thead th {\n",
              "        text-align: right;\n",
              "    }\n",
              "</style>\n",
              "<table border=\"1\" class=\"dataframe\">\n",
              "  <thead>\n",
              "    <tr style=\"text-align: right;\">\n",
              "      <th></th>\n",
              "      <th>name</th>\n",
              "      <th>email</th>\n",
              "      <th>city</th>\n",
              "      <th>mac</th>\n",
              "      <th>timestamp</th>\n",
              "      <th>creditcard</th>\n",
              "    </tr>\n",
              "  </thead>\n",
              "  <tbody>\n",
              "    <tr>\n",
              "      <th>0</th>\n",
              "      <td>None</td>\n",
              "      <td>None</td>\n",
              "      <td>None</td>\n",
              "      <td>None</td>\n",
              "      <td>None</td>\n",
              "      <td>None</td>\n",
              "    </tr>\n",
              "    <tr>\n",
              "      <th>1</th>\n",
              "      <td>Keeley Bosco</td>\n",
              "      <td>katlyn@jenkinsmaggio.net</td>\n",
              "      <td>Lake Gladysberg</td>\n",
              "      <td>08:fd:0b:cd:77:f7</td>\n",
              "      <td>2015-04-25</td>\n",
              "      <td>1228-1221-1221-1431</td>\n",
              "    </tr>\n",
              "    <tr>\n",
              "      <th>2</th>\n",
              "      <td>Rubye Jerde</td>\n",
              "      <td>juvenal@johnston.name</td>\n",
              "      <td>None</td>\n",
              "      <td>90:4d:fa:42:63:a2</td>\n",
              "      <td>2015-04-25</td>\n",
              "      <td>1228-1221-1221-1431</td>\n",
              "    </tr>\n",
              "    <tr>\n",
              "      <th>3</th>\n",
              "      <td>Miss Darian Breitenberg</td>\n",
              "      <td>None</td>\n",
              "      <td>None</td>\n",
              "      <td>f9:0e:d3:40:cb:e9</td>\n",
              "      <td>2015-04-25</td>\n",
              "      <td>None</td>\n",
              "    </tr>\n",
              "    <tr>\n",
              "      <th>4</th>\n",
              "      <td>Celine Ankunding</td>\n",
              "      <td>emery_kunze@rogahn.net</td>\n",
              "      <td>None</td>\n",
              "      <td>3a:af:c9:0b:5c:08</td>\n",
              "      <td>2015-04-25</td>\n",
              "      <td>1228-1221-1221-1431</td>\n",
              "    </tr>\n",
              "    <tr>\n",
              "      <th>5</th>\n",
              "      <td>Dr. Araceli Lang</td>\n",
              "      <td>mavis_lehner@jacobi.name</td>\n",
              "      <td>Yvettemouth</td>\n",
              "      <td>9e:ea:28:41:2a:50</td>\n",
              "      <td>2015-04-25</td>\n",
              "      <td>1211-1221-1234-2201</td>\n",
              "    </tr>\n",
              "    <tr>\n",
              "      <th>6</th>\n",
              "      <td>Esteban Von</td>\n",
              "      <td>None</td>\n",
              "      <td>None</td>\n",
              "      <td>2d:e4:f0:dd:90:96</td>\n",
              "      <td>2015-04-25</td>\n",
              "      <td>None</td>\n",
              "    </tr>\n",
              "    <tr>\n",
              "      <th>7</th>\n",
              "      <td>Everette Swift</td>\n",
              "      <td>gielle_jacobs@flatleyboehm.biz</td>\n",
              "      <td>None</td>\n",
              "      <td>29:e0:54:7a:b7:ca</td>\n",
              "      <td>2015-04-25</td>\n",
              "      <td>None</td>\n",
              "    </tr>\n",
              "    <tr>\n",
              "      <th>8</th>\n",
              "      <td>Terrell Boyle</td>\n",
              "      <td>augustine.conroy@keebler.name</td>\n",
              "      <td>Port Reaganfort</td>\n",
              "      <td>c5:32:09:5a:f7:15</td>\n",
              "      <td>2015-04-25</td>\n",
              "      <td>1228-1221-1221-1431</td>\n",
              "    </tr>\n",
              "    <tr>\n",
              "      <th>9</th>\n",
              "      <td>Miss Emmie Muller</td>\n",
              "      <td>None</td>\n",
              "      <td>Kaleyhaven</td>\n",
              "      <td>be:dc:d2:57:81:8b</td>\n",
              "      <td>2015-04-25</td>\n",
              "      <td>None</td>\n",
              "    </tr>\n",
              "  </tbody>\n",
              "</table>\n",
              "</div>\n",
              "      <button class=\"colab-df-convert\" onclick=\"convertToInteractive('df-e5d22062-697b-43bc-8f7e-57b01136da50')\"\n",
              "              title=\"Convert this dataframe to an interactive table.\"\n",
              "              style=\"display:none;\">\n",
              "        \n",
              "  <svg xmlns=\"http://www.w3.org/2000/svg\" height=\"24px\"viewBox=\"0 0 24 24\"\n",
              "       width=\"24px\">\n",
              "    <path d=\"M0 0h24v24H0V0z\" fill=\"none\"/>\n",
              "    <path d=\"M18.56 5.44l.94 2.06.94-2.06 2.06-.94-2.06-.94-.94-2.06-.94 2.06-2.06.94zm-11 1L8.5 8.5l.94-2.06 2.06-.94-2.06-.94L8.5 2.5l-.94 2.06-2.06.94zm10 10l.94 2.06.94-2.06 2.06-.94-2.06-.94-.94-2.06-.94 2.06-2.06.94z\"/><path d=\"M17.41 7.96l-1.37-1.37c-.4-.4-.92-.59-1.43-.59-.52 0-1.04.2-1.43.59L10.3 9.45l-7.72 7.72c-.78.78-.78 2.05 0 2.83L4 21.41c.39.39.9.59 1.41.59.51 0 1.02-.2 1.41-.59l7.78-7.78 2.81-2.81c.8-.78.8-2.07 0-2.86zM5.41 20L4 18.59l7.72-7.72 1.47 1.35L5.41 20z\"/>\n",
              "  </svg>\n",
              "      </button>\n",
              "      \n",
              "  <style>\n",
              "    .colab-df-container {\n",
              "      display:flex;\n",
              "      flex-wrap:wrap;\n",
              "      gap: 12px;\n",
              "    }\n",
              "\n",
              "    .colab-df-convert {\n",
              "      background-color: #E8F0FE;\n",
              "      border: none;\n",
              "      border-radius: 50%;\n",
              "      cursor: pointer;\n",
              "      display: none;\n",
              "      fill: #1967D2;\n",
              "      height: 32px;\n",
              "      padding: 0 0 0 0;\n",
              "      width: 32px;\n",
              "    }\n",
              "\n",
              "    .colab-df-convert:hover {\n",
              "      background-color: #E2EBFA;\n",
              "      box-shadow: 0px 1px 2px rgba(60, 64, 67, 0.3), 0px 1px 3px 1px rgba(60, 64, 67, 0.15);\n",
              "      fill: #174EA6;\n",
              "    }\n",
              "\n",
              "    [theme=dark] .colab-df-convert {\n",
              "      background-color: #3B4455;\n",
              "      fill: #D2E3FC;\n",
              "    }\n",
              "\n",
              "    [theme=dark] .colab-df-convert:hover {\n",
              "      background-color: #434B5C;\n",
              "      box-shadow: 0px 1px 3px 1px rgba(0, 0, 0, 0.15);\n",
              "      filter: drop-shadow(0px 1px 2px rgba(0, 0, 0, 0.3));\n",
              "      fill: #FFFFFF;\n",
              "    }\n",
              "  </style>\n",
              "\n",
              "      <script>\n",
              "        const buttonEl =\n",
              "          document.querySelector('#df-e5d22062-697b-43bc-8f7e-57b01136da50 button.colab-df-convert');\n",
              "        buttonEl.style.display =\n",
              "          google.colab.kernel.accessAllowed ? 'block' : 'none';\n",
              "\n",
              "        async function convertToInteractive(key) {\n",
              "          const element = document.querySelector('#df-e5d22062-697b-43bc-8f7e-57b01136da50');\n",
              "          const dataTable =\n",
              "            await google.colab.kernel.invokeFunction('convertToInteractive',\n",
              "                                                     [key], {});\n",
              "          if (!dataTable) return;\n",
              "\n",
              "          const docLinkHtml = 'Like what you see? Visit the ' +\n",
              "            '<a target=\"_blank\" href=https://colab.research.google.com/notebooks/data_table.ipynb>data table notebook</a>'\n",
              "            + ' to learn more about interactive tables.';\n",
              "          element.innerHTML = '';\n",
              "          dataTable['output_type'] = 'display_data';\n",
              "          await google.colab.output.renderOutput(dataTable, element);\n",
              "          const docLink = document.createElement('div');\n",
              "          docLink.innerHTML = docLinkHtml;\n",
              "          element.appendChild(docLink);\n",
              "        }\n",
              "      </script>\n",
              "    </div>\n",
              "  </div>\n",
              "  "
            ]
          },
          "metadata": {},
          "execution_count": 43
        }
      ]
    },
    {
      "cell_type": "code",
      "source": [
        "people_schema.printSchema()"
      ],
      "metadata": {
        "colab": {
          "base_uri": "https://localhost:8080/"
        },
        "id": "X22VMXQumXf0",
        "outputId": "65851b0a-2565-43f0-bcd7-75b88eefada0"
      },
      "execution_count": 44,
      "outputs": [
        {
          "output_type": "stream",
          "name": "stdout",
          "text": [
            "root\n",
            " |-- name: string (nullable = true)\n",
            " |-- email: string (nullable = true)\n",
            " |-- city: string (nullable = true)\n",
            " |-- mac: string (nullable = true)\n",
            " |-- timestamp: date (nullable = true)\n",
            " |-- creditcard: string (nullable = true)\n",
            "\n"
          ]
        }
      ]
    },
    {
      "cell_type": "code",
      "source": [
        "students.write.mode(\"overwrite\").csv('write_test.csv')"
      ],
      "metadata": {
        "id": "IuRVQpVHmXdU"
      },
      "execution_count": 48,
      "outputs": []
    },
    {
      "cell_type": "code",
      "source": [
        "from py4j.java_gateway import java_import\n",
        "java_import(spark._jvm, 'org.apache.hadoop.fs.Path')\n",
        "\n",
        "fs = spark._jvm.org.apache.hadoop.fs.FileSystem.get(spark._jsc.hadoopConfiguration())\n",
        "file = fs.globStatus(spark._jvm.Path('write_test.csv/part*'))[0].getPath().getName()\n",
        "fs.rename(spark._jvm.Path('write_test.csv/' + file), spark._jvm.Path('write_test2.csv')) #these two need to be different\n",
        "fs.delete(spark._jvm.Path('write_test.csv'), True)"
      ],
      "metadata": {
        "colab": {
          "base_uri": "https://localhost:8080/"
        },
        "id": "hGUE5eh5mXZC",
        "outputId": "6d153289-89a4-4ade-fe04-eecc839434d5"
      },
      "execution_count": 47,
      "outputs": [
        {
          "output_type": "execute_result",
          "data": {
            "text/plain": [
              "True"
            ]
          },
          "metadata": {},
          "execution_count": 47
        }
      ]
    },
    {
      "cell_type": "code",
      "source": [
        "#wrriting parquet file\n",
        "\n",
        "users_1_2.write.mode(\"overwrite\").csv(\"write_test.csv\")"
      ],
      "metadata": {
        "id": "zT7NuFLoYi-A"
      },
      "execution_count": 49,
      "outputs": []
    },
    {
      "cell_type": "code",
      "source": [
        "users_1_2.write.mode(\"overwrite\").parquet(\"parquet/\")"
      ],
      "metadata": {
        "id": "jVCmWGTkFJSh"
      },
      "execution_count": 50,
      "outputs": []
    },
    {
      "cell_type": "code",
      "source": [
        "users_1_2.write.partitionBy(\"gender\").parquet(\"parquet_part/\")"
      ],
      "metadata": {
        "id": "0wffB-pTFJQC"
      },
      "execution_count": 51,
      "outputs": []
    },
    {
      "cell_type": "code",
      "source": [
        "value = [('orange',10),(\"guave\",3),(\"kiwi\",44)]"
      ],
      "metadata": {
        "id": "K03e9HUJFJNO"
      },
      "execution_count": 52,
      "outputs": []
    },
    {
      "cell_type": "code",
      "source": [
        "df = spark.createDataFrame(value,['fruit','quant'])"
      ],
      "metadata": {
        "id": "dQWWk1fUFJKe"
      },
      "execution_count": 53,
      "outputs": []
    },
    {
      "cell_type": "code",
      "source": [
        "df"
      ],
      "metadata": {
        "colab": {
          "base_uri": "https://localhost:8080/"
        },
        "id": "sJwtmo7GFJH4",
        "outputId": "f60f7fa1-10f5-40a4-8a91-9ffb3859c2c5"
      },
      "execution_count": 54,
      "outputs": [
        {
          "output_type": "execute_result",
          "data": {
            "text/plain": [
              "DataFrame[fruit: string, quant: bigint]"
            ]
          },
          "metadata": {},
          "execution_count": 54
        }
      ]
    },
    {
      "cell_type": "code",
      "source": [
        "df.show()"
      ],
      "metadata": {
        "colab": {
          "base_uri": "https://localhost:8080/"
        },
        "id": "o3SCAcA8FJCj",
        "outputId": "f2c1cc61-5fda-4e8e-9c9b-000fdaecb22b"
      },
      "execution_count": 57,
      "outputs": [
        {
          "output_type": "stream",
          "name": "stdout",
          "text": [
            "+------+-----+\n",
            "| fruit|quant|\n",
            "+------+-----+\n",
            "|orange|   10|\n",
            "| guave|    3|\n",
            "|  kiwi|   44|\n",
            "+------+-----+\n",
            "\n"
          ]
        }
      ]
    },
    {
      "cell_type": "code",
      "source": [
        "df.toPandas()"
      ],
      "metadata": {
        "colab": {
          "base_uri": "https://localhost:8080/",
          "height": 143
        },
        "id": "ZfCOuTEgFJBC",
        "outputId": "5bf4f2e4-bcbd-4544-99d1-3ad80a15b035"
      },
      "execution_count": 56,
      "outputs": [
        {
          "output_type": "execute_result",
          "data": {
            "text/plain": [
              "    fruit  quant\n",
              "0  orange     10\n",
              "1   guave      3\n",
              "2    kiwi     44"
            ],
            "text/html": [
              "\n",
              "  <div id=\"df-83183f3b-1a66-4a9d-b3e3-fa7058120880\">\n",
              "    <div class=\"colab-df-container\">\n",
              "      <div>\n",
              "<style scoped>\n",
              "    .dataframe tbody tr th:only-of-type {\n",
              "        vertical-align: middle;\n",
              "    }\n",
              "\n",
              "    .dataframe tbody tr th {\n",
              "        vertical-align: top;\n",
              "    }\n",
              "\n",
              "    .dataframe thead th {\n",
              "        text-align: right;\n",
              "    }\n",
              "</style>\n",
              "<table border=\"1\" class=\"dataframe\">\n",
              "  <thead>\n",
              "    <tr style=\"text-align: right;\">\n",
              "      <th></th>\n",
              "      <th>fruit</th>\n",
              "      <th>quant</th>\n",
              "    </tr>\n",
              "  </thead>\n",
              "  <tbody>\n",
              "    <tr>\n",
              "      <th>0</th>\n",
              "      <td>orange</td>\n",
              "      <td>10</td>\n",
              "    </tr>\n",
              "    <tr>\n",
              "      <th>1</th>\n",
              "      <td>guave</td>\n",
              "      <td>3</td>\n",
              "    </tr>\n",
              "    <tr>\n",
              "      <th>2</th>\n",
              "      <td>kiwi</td>\n",
              "      <td>44</td>\n",
              "    </tr>\n",
              "  </tbody>\n",
              "</table>\n",
              "</div>\n",
              "      <button class=\"colab-df-convert\" onclick=\"convertToInteractive('df-83183f3b-1a66-4a9d-b3e3-fa7058120880')\"\n",
              "              title=\"Convert this dataframe to an interactive table.\"\n",
              "              style=\"display:none;\">\n",
              "        \n",
              "  <svg xmlns=\"http://www.w3.org/2000/svg\" height=\"24px\"viewBox=\"0 0 24 24\"\n",
              "       width=\"24px\">\n",
              "    <path d=\"M0 0h24v24H0V0z\" fill=\"none\"/>\n",
              "    <path d=\"M18.56 5.44l.94 2.06.94-2.06 2.06-.94-2.06-.94-.94-2.06-.94 2.06-2.06.94zm-11 1L8.5 8.5l.94-2.06 2.06-.94-2.06-.94L8.5 2.5l-.94 2.06-2.06.94zm10 10l.94 2.06.94-2.06 2.06-.94-2.06-.94-.94-2.06-.94 2.06-2.06.94z\"/><path d=\"M17.41 7.96l-1.37-1.37c-.4-.4-.92-.59-1.43-.59-.52 0-1.04.2-1.43.59L10.3 9.45l-7.72 7.72c-.78.78-.78 2.05 0 2.83L4 21.41c.39.39.9.59 1.41.59.51 0 1.02-.2 1.41-.59l7.78-7.78 2.81-2.81c.8-.78.8-2.07 0-2.86zM5.41 20L4 18.59l7.72-7.72 1.47 1.35L5.41 20z\"/>\n",
              "  </svg>\n",
              "      </button>\n",
              "      \n",
              "  <style>\n",
              "    .colab-df-container {\n",
              "      display:flex;\n",
              "      flex-wrap:wrap;\n",
              "      gap: 12px;\n",
              "    }\n",
              "\n",
              "    .colab-df-convert {\n",
              "      background-color: #E8F0FE;\n",
              "      border: none;\n",
              "      border-radius: 50%;\n",
              "      cursor: pointer;\n",
              "      display: none;\n",
              "      fill: #1967D2;\n",
              "      height: 32px;\n",
              "      padding: 0 0 0 0;\n",
              "      width: 32px;\n",
              "    }\n",
              "\n",
              "    .colab-df-convert:hover {\n",
              "      background-color: #E2EBFA;\n",
              "      box-shadow: 0px 1px 2px rgba(60, 64, 67, 0.3), 0px 1px 3px 1px rgba(60, 64, 67, 0.15);\n",
              "      fill: #174EA6;\n",
              "    }\n",
              "\n",
              "    [theme=dark] .colab-df-convert {\n",
              "      background-color: #3B4455;\n",
              "      fill: #D2E3FC;\n",
              "    }\n",
              "\n",
              "    [theme=dark] .colab-df-convert:hover {\n",
              "      background-color: #434B5C;\n",
              "      box-shadow: 0px 1px 3px 1px rgba(0, 0, 0, 0.15);\n",
              "      filter: drop-shadow(0px 1px 2px rgba(0, 0, 0, 0.3));\n",
              "      fill: #FFFFFF;\n",
              "    }\n",
              "  </style>\n",
              "\n",
              "      <script>\n",
              "        const buttonEl =\n",
              "          document.querySelector('#df-83183f3b-1a66-4a9d-b3e3-fa7058120880 button.colab-df-convert');\n",
              "        buttonEl.style.display =\n",
              "          google.colab.kernel.accessAllowed ? 'block' : 'none';\n",
              "\n",
              "        async function convertToInteractive(key) {\n",
              "          const element = document.querySelector('#df-83183f3b-1a66-4a9d-b3e3-fa7058120880');\n",
              "          const dataTable =\n",
              "            await google.colab.kernel.invokeFunction('convertToInteractive',\n",
              "                                                     [key], {});\n",
              "          if (!dataTable) return;\n",
              "\n",
              "          const docLinkHtml = 'Like what you see? Visit the ' +\n",
              "            '<a target=\"_blank\" href=https://colab.research.google.com/notebooks/data_table.ipynb>data table notebook</a>'\n",
              "            + ' to learn more about interactive tables.';\n",
              "          element.innerHTML = '';\n",
              "          dataTable['output_type'] = 'display_data';\n",
              "          await google.colab.output.renderOutput(dataTable, element);\n",
              "          const docLink = document.createElement('div');\n",
              "          docLink.innerHTML = docLinkHtml;\n",
              "          element.appendChild(docLink);\n",
              "        }\n",
              "      </script>\n",
              "    </div>\n",
              "  </div>\n",
              "  "
            ]
          },
          "metadata": {},
          "execution_count": 56
        }
      ]
    },
    {
      "cell_type": "code",
      "source": [
        "pgatour_schema = spark.read.csv(\"pgaTourData.csv\", inferSchema=True,header=True)"
      ],
      "metadata": {
        "id": "dkdGd27-FI_f"
      },
      "execution_count": 59,
      "outputs": []
    },
    {
      "cell_type": "code",
      "source": [
        "pgatour_schema.columns"
      ],
      "metadata": {
        "colab": {
          "base_uri": "https://localhost:8080/"
        },
        "id": "_14bxhvFFI98",
        "outputId": "2187d637-ef73-46e3-8185-f1c12706ed23"
      },
      "execution_count": 62,
      "outputs": [
        {
          "output_type": "execute_result",
          "data": {
            "text/plain": [
              "['Player Name',\n",
              " 'Rounds',\n",
              " 'Fairway Percentage',\n",
              " 'Year',\n",
              " 'Avg Distance',\n",
              " 'gir',\n",
              " 'Average Putts',\n",
              " 'Average Scrambling',\n",
              " 'Average Score',\n",
              " 'Points',\n",
              " 'Wins',\n",
              " 'Top 10',\n",
              " 'Average SG Putts',\n",
              " 'Average SG Total',\n",
              " 'SG:OTT',\n",
              " 'SG:APR',\n",
              " 'SG:ARG',\n",
              " 'Money']"
            ]
          },
          "metadata": {},
          "execution_count": 62
        }
      ]
    },
    {
      "cell_type": "code",
      "source": [
        "pgatour_schema.limit(4).show()"
      ],
      "metadata": {
        "colab": {
          "base_uri": "https://localhost:8080/"
        },
        "id": "UQRwWjMBFI3H",
        "outputId": "ba390ce1-25af-40cb-d764-77feb6f8cb11"
      },
      "execution_count": 64,
      "outputs": [
        {
          "output_type": "stream",
          "name": "stdout",
          "text": [
            "+--------------+------+------------------+----+------------+-----+-------------+------------------+-------------+------+----+------+--------------------+----------------+-------------------+-------------------+--------------------+----------+\n",
            "|   Player Name|Rounds|Fairway Percentage|Year|Avg Distance|  gir|Average Putts|Average Scrambling|Average Score|Points|Wins|Top 10|    Average SG Putts|Average SG Total|             SG:OTT|             SG:APR|              SG:ARG|     Money|\n",
            "+--------------+------+------------------+----+------------+-----+-------------+------------------+-------------+------+----+------+--------------------+----------------+-------------------+-------------------+--------------------+----------+\n",
            "|Henrik Stenson|  60.0|             75.19|2018|       291.5|73.51|        29.93|             60.67|       69.617|   868|null|   5.0|              -0.207|           1.153|0.42700000000000005|               0.96|-0.02700000000000...|$2,680,487|\n",
            "|   Ryan Armour| 109.0|             73.58|2018|       283.5|68.22|        29.31|             60.13|       70.758| 1,006| 1.0|   3.0|-0.05799999999999...|           0.337|             -0.012|              0.213| 0.19399999999999998|$2,485,203|\n",
            "|   Chez Reavie|  93.0|             72.24|2018|       286.5|68.67|        29.12|             62.27|       70.432| 1,020|null|   3.0|               0.192|           0.674|              0.183|0.43700000000000006|-0.13699999999999998|$2,700,018|\n",
            "|    Ryan Moore|  78.0|             71.94|2018|       289.2| 68.8|        29.17|             64.16|       70.015|   795|null|   5.0|              -0.271|           0.941|              0.406|              0.532|               0.273|$1,986,608|\n",
            "+--------------+------+------------------+----+------------+-----+-------------+------------------+-------------+------+----+------+--------------------+----------------+-------------------+-------------------+--------------------+----------+\n",
            "\n"
          ]
        }
      ]
    },
    {
      "cell_type": "code",
      "source": [
        "pgatour_schema.limit(4).toPandas()"
      ],
      "metadata": {
        "colab": {
          "base_uri": "https://localhost:8080/",
          "height": 343
        },
        "id": "1leacZHhFI0o",
        "outputId": "451c84ba-8807-45a0-bcbb-2f36a277bb8e"
      },
      "execution_count": 65,
      "outputs": [
        {
          "output_type": "execute_result",
          "data": {
            "text/plain": [
              "      Player Name  Rounds  Fairway Percentage  Year  Avg Distance    gir  \\\n",
              "0  Henrik Stenson    60.0               75.19  2018         291.5  73.51   \n",
              "1     Ryan Armour   109.0               73.58  2018         283.5  68.22   \n",
              "2     Chez Reavie    93.0               72.24  2018         286.5  68.67   \n",
              "3      Ryan Moore    78.0               71.94  2018         289.2  68.80   \n",
              "\n",
              "   Average Putts  Average Scrambling  Average Score Points  Wins  Top 10  \\\n",
              "0          29.93               60.67         69.617    868   NaN     5.0   \n",
              "1          29.31               60.13         70.758  1,006   1.0     3.0   \n",
              "2          29.12               62.27         70.432  1,020   NaN     3.0   \n",
              "3          29.17               64.16         70.015    795   NaN     5.0   \n",
              "\n",
              "   Average SG Putts  Average SG Total  SG:OTT  SG:APR  SG:ARG       Money  \n",
              "0            -0.207             1.153   0.427   0.960  -0.027  $2,680,487  \n",
              "1            -0.058             0.337  -0.012   0.213   0.194  $2,485,203  \n",
              "2             0.192             0.674   0.183   0.437  -0.137  $2,700,018  \n",
              "3            -0.271             0.941   0.406   0.532   0.273  $1,986,608  "
            ],
            "text/html": [
              "\n",
              "  <div id=\"df-d904b748-f9b5-4d17-a084-dbb7c09d91f9\">\n",
              "    <div class=\"colab-df-container\">\n",
              "      <div>\n",
              "<style scoped>\n",
              "    .dataframe tbody tr th:only-of-type {\n",
              "        vertical-align: middle;\n",
              "    }\n",
              "\n",
              "    .dataframe tbody tr th {\n",
              "        vertical-align: top;\n",
              "    }\n",
              "\n",
              "    .dataframe thead th {\n",
              "        text-align: right;\n",
              "    }\n",
              "</style>\n",
              "<table border=\"1\" class=\"dataframe\">\n",
              "  <thead>\n",
              "    <tr style=\"text-align: right;\">\n",
              "      <th></th>\n",
              "      <th>Player Name</th>\n",
              "      <th>Rounds</th>\n",
              "      <th>Fairway Percentage</th>\n",
              "      <th>Year</th>\n",
              "      <th>Avg Distance</th>\n",
              "      <th>gir</th>\n",
              "      <th>Average Putts</th>\n",
              "      <th>Average Scrambling</th>\n",
              "      <th>Average Score</th>\n",
              "      <th>Points</th>\n",
              "      <th>Wins</th>\n",
              "      <th>Top 10</th>\n",
              "      <th>Average SG Putts</th>\n",
              "      <th>Average SG Total</th>\n",
              "      <th>SG:OTT</th>\n",
              "      <th>SG:APR</th>\n",
              "      <th>SG:ARG</th>\n",
              "      <th>Money</th>\n",
              "    </tr>\n",
              "  </thead>\n",
              "  <tbody>\n",
              "    <tr>\n",
              "      <th>0</th>\n",
              "      <td>Henrik Stenson</td>\n",
              "      <td>60.0</td>\n",
              "      <td>75.19</td>\n",
              "      <td>2018</td>\n",
              "      <td>291.5</td>\n",
              "      <td>73.51</td>\n",
              "      <td>29.93</td>\n",
              "      <td>60.67</td>\n",
              "      <td>69.617</td>\n",
              "      <td>868</td>\n",
              "      <td>NaN</td>\n",
              "      <td>5.0</td>\n",
              "      <td>-0.207</td>\n",
              "      <td>1.153</td>\n",
              "      <td>0.427</td>\n",
              "      <td>0.960</td>\n",
              "      <td>-0.027</td>\n",
              "      <td>$2,680,487</td>\n",
              "    </tr>\n",
              "    <tr>\n",
              "      <th>1</th>\n",
              "      <td>Ryan Armour</td>\n",
              "      <td>109.0</td>\n",
              "      <td>73.58</td>\n",
              "      <td>2018</td>\n",
              "      <td>283.5</td>\n",
              "      <td>68.22</td>\n",
              "      <td>29.31</td>\n",
              "      <td>60.13</td>\n",
              "      <td>70.758</td>\n",
              "      <td>1,006</td>\n",
              "      <td>1.0</td>\n",
              "      <td>3.0</td>\n",
              "      <td>-0.058</td>\n",
              "      <td>0.337</td>\n",
              "      <td>-0.012</td>\n",
              "      <td>0.213</td>\n",
              "      <td>0.194</td>\n",
              "      <td>$2,485,203</td>\n",
              "    </tr>\n",
              "    <tr>\n",
              "      <th>2</th>\n",
              "      <td>Chez Reavie</td>\n",
              "      <td>93.0</td>\n",
              "      <td>72.24</td>\n",
              "      <td>2018</td>\n",
              "      <td>286.5</td>\n",
              "      <td>68.67</td>\n",
              "      <td>29.12</td>\n",
              "      <td>62.27</td>\n",
              "      <td>70.432</td>\n",
              "      <td>1,020</td>\n",
              "      <td>NaN</td>\n",
              "      <td>3.0</td>\n",
              "      <td>0.192</td>\n",
              "      <td>0.674</td>\n",
              "      <td>0.183</td>\n",
              "      <td>0.437</td>\n",
              "      <td>-0.137</td>\n",
              "      <td>$2,700,018</td>\n",
              "    </tr>\n",
              "    <tr>\n",
              "      <th>3</th>\n",
              "      <td>Ryan Moore</td>\n",
              "      <td>78.0</td>\n",
              "      <td>71.94</td>\n",
              "      <td>2018</td>\n",
              "      <td>289.2</td>\n",
              "      <td>68.80</td>\n",
              "      <td>29.17</td>\n",
              "      <td>64.16</td>\n",
              "      <td>70.015</td>\n",
              "      <td>795</td>\n",
              "      <td>NaN</td>\n",
              "      <td>5.0</td>\n",
              "      <td>-0.271</td>\n",
              "      <td>0.941</td>\n",
              "      <td>0.406</td>\n",
              "      <td>0.532</td>\n",
              "      <td>0.273</td>\n",
              "      <td>$1,986,608</td>\n",
              "    </tr>\n",
              "  </tbody>\n",
              "</table>\n",
              "</div>\n",
              "      <button class=\"colab-df-convert\" onclick=\"convertToInteractive('df-d904b748-f9b5-4d17-a084-dbb7c09d91f9')\"\n",
              "              title=\"Convert this dataframe to an interactive table.\"\n",
              "              style=\"display:none;\">\n",
              "        \n",
              "  <svg xmlns=\"http://www.w3.org/2000/svg\" height=\"24px\"viewBox=\"0 0 24 24\"\n",
              "       width=\"24px\">\n",
              "    <path d=\"M0 0h24v24H0V0z\" fill=\"none\"/>\n",
              "    <path d=\"M18.56 5.44l.94 2.06.94-2.06 2.06-.94-2.06-.94-.94-2.06-.94 2.06-2.06.94zm-11 1L8.5 8.5l.94-2.06 2.06-.94-2.06-.94L8.5 2.5l-.94 2.06-2.06.94zm10 10l.94 2.06.94-2.06 2.06-.94-2.06-.94-.94-2.06-.94 2.06-2.06.94z\"/><path d=\"M17.41 7.96l-1.37-1.37c-.4-.4-.92-.59-1.43-.59-.52 0-1.04.2-1.43.59L10.3 9.45l-7.72 7.72c-.78.78-.78 2.05 0 2.83L4 21.41c.39.39.9.59 1.41.59.51 0 1.02-.2 1.41-.59l7.78-7.78 2.81-2.81c.8-.78.8-2.07 0-2.86zM5.41 20L4 18.59l7.72-7.72 1.47 1.35L5.41 20z\"/>\n",
              "  </svg>\n",
              "      </button>\n",
              "      \n",
              "  <style>\n",
              "    .colab-df-container {\n",
              "      display:flex;\n",
              "      flex-wrap:wrap;\n",
              "      gap: 12px;\n",
              "    }\n",
              "\n",
              "    .colab-df-convert {\n",
              "      background-color: #E8F0FE;\n",
              "      border: none;\n",
              "      border-radius: 50%;\n",
              "      cursor: pointer;\n",
              "      display: none;\n",
              "      fill: #1967D2;\n",
              "      height: 32px;\n",
              "      padding: 0 0 0 0;\n",
              "      width: 32px;\n",
              "    }\n",
              "\n",
              "    .colab-df-convert:hover {\n",
              "      background-color: #E2EBFA;\n",
              "      box-shadow: 0px 1px 2px rgba(60, 64, 67, 0.3), 0px 1px 3px 1px rgba(60, 64, 67, 0.15);\n",
              "      fill: #174EA6;\n",
              "    }\n",
              "\n",
              "    [theme=dark] .colab-df-convert {\n",
              "      background-color: #3B4455;\n",
              "      fill: #D2E3FC;\n",
              "    }\n",
              "\n",
              "    [theme=dark] .colab-df-convert:hover {\n",
              "      background-color: #434B5C;\n",
              "      box-shadow: 0px 1px 3px 1px rgba(0, 0, 0, 0.15);\n",
              "      filter: drop-shadow(0px 1px 2px rgba(0, 0, 0, 0.3));\n",
              "      fill: #FFFFFF;\n",
              "    }\n",
              "  </style>\n",
              "\n",
              "      <script>\n",
              "        const buttonEl =\n",
              "          document.querySelector('#df-d904b748-f9b5-4d17-a084-dbb7c09d91f9 button.colab-df-convert');\n",
              "        buttonEl.style.display =\n",
              "          google.colab.kernel.accessAllowed ? 'block' : 'none';\n",
              "\n",
              "        async function convertToInteractive(key) {\n",
              "          const element = document.querySelector('#df-d904b748-f9b5-4d17-a084-dbb7c09d91f9');\n",
              "          const dataTable =\n",
              "            await google.colab.kernel.invokeFunction('convertToInteractive',\n",
              "                                                     [key], {});\n",
              "          if (!dataTable) return;\n",
              "\n",
              "          const docLinkHtml = 'Like what you see? Visit the ' +\n",
              "            '<a target=\"_blank\" href=https://colab.research.google.com/notebooks/data_table.ipynb>data table notebook</a>'\n",
              "            + ' to learn more about interactive tables.';\n",
              "          element.innerHTML = '';\n",
              "          dataTable['output_type'] = 'display_data';\n",
              "          await google.colab.output.renderOutput(dataTable, element);\n",
              "          const docLink = document.createElement('div');\n",
              "          docLink.innerHTML = docLinkHtml;\n",
              "          element.appendChild(docLink);\n",
              "        }\n",
              "      </script>\n",
              "    </div>\n",
              "  </div>\n",
              "  "
            ]
          },
          "metadata": {},
          "execution_count": 65
        }
      ]
    },
    {
      "cell_type": "code",
      "source": [
        "pgatour_schema.describe()"
      ],
      "metadata": {
        "colab": {
          "base_uri": "https://localhost:8080/"
        },
        "id": "cEbUzivAFIx-",
        "outputId": "e7fdae5a-3919-4a00-9ebe-93407c1a0777"
      },
      "execution_count": 66,
      "outputs": [
        {
          "output_type": "execute_result",
          "data": {
            "text/plain": [
              "DataFrame[summary: string, Player Name: string, Rounds: string, Fairway Percentage: string, Year: string, Avg Distance: string, gir: string, Average Putts: string, Average Scrambling: string, Average Score: string, Points: string, Wins: string, Top 10: string, Average SG Putts: string, Average SG Total: string, SG:OTT: string, SG:APR: string, SG:ARG: string, Money: string]"
            ]
          },
          "metadata": {},
          "execution_count": 66
        }
      ]
    },
    {
      "cell_type": "code",
      "source": [
        "pgatour_schema.select(\"Points\",\"Money\").summary(\"count\",\"mean\",\"max\",\"min\").show()"
      ],
      "metadata": {
        "colab": {
          "base_uri": "https://localhost:8080/"
        },
        "id": "WgAy9uWjZkB4",
        "outputId": "8b8553b9-7fcc-47ee-b47c-10fffdcdc0cf"
      },
      "execution_count": 67,
      "outputs": [
        {
          "output_type": "stream",
          "name": "stdout",
          "text": [
            "+-------+------------------+----------+\n",
            "|summary|            Points|     Money|\n",
            "+-------+------------------+----------+\n",
            "|  count|              2296|      2300|\n",
            "|   mean|348.32852882703776|      null|\n",
            "|    max|               999|   989,415|\n",
            "|    min|                 1|$1,002,036|\n",
            "+-------+------------------+----------+\n",
            "\n"
          ]
        }
      ]
    },
    {
      "cell_type": "code",
      "source": [],
      "metadata": {
        "id": "S1kNMlIDZj_S"
      },
      "execution_count": null,
      "outputs": []
    },
    {
      "cell_type": "code",
      "source": [],
      "metadata": {
        "id": "tZVMY75YZj8i"
      },
      "execution_count": null,
      "outputs": []
    },
    {
      "cell_type": "code",
      "source": [],
      "metadata": {
        "id": "6bdD2tagZj5i"
      },
      "execution_count": null,
      "outputs": []
    },
    {
      "cell_type": "code",
      "source": [],
      "metadata": {
        "id": "hUjp0s_9Zj2i"
      },
      "execution_count": null,
      "outputs": []
    },
    {
      "cell_type": "code",
      "source": [],
      "metadata": {
        "id": "Yv6wupnGZj0P"
      },
      "execution_count": null,
      "outputs": []
    },
    {
      "cell_type": "code",
      "source": [],
      "metadata": {
        "id": "dSJr6PR4ZjyH"
      },
      "execution_count": null,
      "outputs": []
    },
    {
      "cell_type": "code",
      "source": [],
      "metadata": {
        "id": "vIk8nXqOZjuA"
      },
      "execution_count": null,
      "outputs": []
    },
    {
      "cell_type": "code",
      "source": [],
      "metadata": {
        "id": "pjgff72bZjrK"
      },
      "execution_count": null,
      "outputs": []
    },
    {
      "cell_type": "code",
      "source": [],
      "metadata": {
        "id": "-vpNA9IqZjoj"
      },
      "execution_count": null,
      "outputs": []
    },
    {
      "cell_type": "code",
      "source": [],
      "metadata": {
        "id": "9fPtr8IIZjl6"
      },
      "execution_count": null,
      "outputs": []
    },
    {
      "cell_type": "code",
      "source": [],
      "metadata": {
        "id": "7KgC3-cnZji8"
      },
      "execution_count": null,
      "outputs": []
    },
    {
      "cell_type": "code",
      "source": [],
      "metadata": {
        "id": "VURw2WiqZjgZ"
      },
      "execution_count": null,
      "outputs": []
    },
    {
      "cell_type": "code",
      "source": [],
      "metadata": {
        "id": "wvyEAx0FZjdi"
      },
      "execution_count": null,
      "outputs": []
    },
    {
      "cell_type": "code",
      "source": [],
      "metadata": {
        "id": "B5EfGmAgZjbC"
      },
      "execution_count": null,
      "outputs": []
    },
    {
      "cell_type": "code",
      "source": [],
      "metadata": {
        "id": "_prtMx9tZjYO"
      },
      "execution_count": null,
      "outputs": []
    },
    {
      "cell_type": "code",
      "source": [],
      "metadata": {
        "id": "Dj4LX4VcZjVr"
      },
      "execution_count": null,
      "outputs": []
    },
    {
      "cell_type": "code",
      "source": [],
      "metadata": {
        "id": "vL_lMDh9ZjTV"
      },
      "execution_count": null,
      "outputs": []
    },
    {
      "cell_type": "code",
      "source": [],
      "metadata": {
        "id": "j2kNVeUkZjQx"
      },
      "execution_count": null,
      "outputs": []
    },
    {
      "cell_type": "code",
      "source": [],
      "metadata": {
        "id": "657MUtYGZjN7"
      },
      "execution_count": null,
      "outputs": []
    },
    {
      "cell_type": "code",
      "source": [],
      "metadata": {
        "id": "0jBjFreKZjLX"
      },
      "execution_count": null,
      "outputs": []
    },
    {
      "cell_type": "code",
      "source": [],
      "metadata": {
        "id": "AAhBWn1aZjIe"
      },
      "execution_count": null,
      "outputs": []
    },
    {
      "cell_type": "code",
      "source": [],
      "metadata": {
        "id": "j3Aob1pzZjFy"
      },
      "execution_count": null,
      "outputs": []
    },
    {
      "cell_type": "code",
      "source": [],
      "metadata": {
        "id": "8RGPM2_PZjDN"
      },
      "execution_count": null,
      "outputs": []
    },
    {
      "cell_type": "code",
      "source": [],
      "metadata": {
        "id": "qUiZ1oS2ZjAx"
      },
      "execution_count": null,
      "outputs": []
    },
    {
      "cell_type": "code",
      "source": [],
      "metadata": {
        "id": "e3pK_I39Zi-S"
      },
      "execution_count": null,
      "outputs": []
    },
    {
      "cell_type": "code",
      "source": [],
      "metadata": {
        "id": "5hkoPS7UZi8M"
      },
      "execution_count": null,
      "outputs": []
    },
    {
      "cell_type": "code",
      "source": [],
      "metadata": {
        "id": "nZJUWhyqZi5c"
      },
      "execution_count": null,
      "outputs": []
    },
    {
      "cell_type": "code",
      "source": [],
      "metadata": {
        "id": "ax70esbVZi2c"
      },
      "execution_count": null,
      "outputs": []
    },
    {
      "cell_type": "code",
      "source": [],
      "metadata": {
        "id": "WhCXSBrIZiz2"
      },
      "execution_count": null,
      "outputs": []
    }
  ]
}