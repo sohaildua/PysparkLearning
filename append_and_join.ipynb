{
  "nbformat": 4,
  "nbformat_minor": 0,
  "metadata": {
    "colab": {
      "provenance": [],
      "authorship_tag": "ABX9TyMgM55yO9t6CzkxX91ppOLs",
      "include_colab_link": true
    },
    "kernelspec": {
      "name": "python3",
      "display_name": "Python 3"
    },
    "language_info": {
      "name": "python"
    }
  },
  "cells": [
    {
      "cell_type": "markdown",
      "metadata": {
        "id": "view-in-github",
        "colab_type": "text"
      },
      "source": [
        "<a href=\"https://colab.research.google.com/github/sohaildua/PysparkLearning/blob/main/append_and_join.ipynb\" target=\"_parent\"><img src=\"https://colab.research.google.com/assets/colab-badge.svg\" alt=\"Open In Colab\"/></a>"
      ]
    },
    {
      "cell_type": "code",
      "execution_count": null,
      "metadata": {
        "id": "mfYdy3HKF2Od"
      },
      "outputs": [],
      "source": []
    },
    {
      "cell_type": "code",
      "execution_count": 34,
      "metadata": {
        "colab": {
          "base_uri": "https://localhost:8080/"
        },
        "id": "JC0rMQJ-vQaf",
        "outputId": "3fba242f-7283-454a-bd73-0aa8d001cccd"
      },
      "outputs": [
        {
          "output_type": "stream",
          "name": "stdout",
          "text": [
            "Looking in indexes: https://pypi.org/simple, https://us-python.pkg.dev/colab-wheels/public/simple/\n",
            "Requirement already satisfied: pyspark in /usr/local/lib/python3.7/dist-packages (3.3.0)\n",
            "Requirement already satisfied: py4j==0.10.9.5 in /usr/local/lib/python3.7/dist-packages (from pyspark) (0.10.9.5)\n"
          ]
        }
      ],
      "source": [
        "!pip install pyspark\n",
        "!pip install -U -q PyDrive --quiet \n",
        "\n"
      ]
    },
    {
      "cell_type": "code",
      "source": [],
      "metadata": {
        "id": "dObEruApGIHx"
      },
      "execution_count": null,
      "outputs": []
    },
    {
      "cell_type": "code",
      "source": [
        "import pyspark\n",
        "from pyspark.sql import SparkSession\n",
        "spark = SparkSession.builder.appName(\"appendjoin\").getOrCreate()\n",
        "spark"
      ],
      "metadata": {
        "colab": {
          "base_uri": "https://localhost:8080/",
          "height": 219
        },
        "id": "QZcFejd2GIEx",
        "outputId": "ad5ccf17-c68a-4d1d-a075-fa88e70a7914"
      },
      "execution_count": 35,
      "outputs": [
        {
          "output_type": "execute_result",
          "data": {
            "text/plain": [
              "<pyspark.sql.session.SparkSession at 0x7fd772e902d0>"
            ],
            "text/html": [
              "\n",
              "            <div>\n",
              "                <p><b>SparkSession - in-memory</b></p>\n",
              "                \n",
              "        <div>\n",
              "            <p><b>SparkContext</b></p>\n",
              "\n",
              "            <p><a href=\"http://17960f1af8a6:4040\">Spark UI</a></p>\n",
              "\n",
              "            <dl>\n",
              "              <dt>Version</dt>\n",
              "                <dd><code>v3.3.0</code></dd>\n",
              "              <dt>Master</dt>\n",
              "                <dd><code>local[*]</code></dd>\n",
              "              <dt>AppName</dt>\n",
              "                <dd><code>Manipulate</code></dd>\n",
              "            </dl>\n",
              "        </div>\n",
              "        \n",
              "            </div>\n",
              "        "
            ]
          },
          "metadata": {},
          "execution_count": 35
        }
      ]
    },
    {
      "cell_type": "code",
      "source": [
        "valuesP = [('koala',1,'yes'),('caterpillar',2,'yes'),('deer',3,'yes'),('human',4,'yes')]\n",
        "eats_plants = spark.createDataFrame(valuesP,['name','id','eats_plants'])\n",
        "\n",
        "valuesM = [('shark',5,'yes'),('lion',6,'yes'),('tiger',7,'yes'),('human',4,'yes')]\n",
        "eats_meat = spark.createDataFrame(valuesM,['name','id','eats_meat'])\n",
        "\n",
        "print(\"Plant eaters (herbivores)\")\n",
        "print(eats_plants.show())\n",
        "print(\"Meat eaters (carnivores)\")\n",
        "print(eats_meat.show())"
      ],
      "metadata": {
        "colab": {
          "base_uri": "https://localhost:8080/"
        },
        "id": "YbKvavjrGIBp",
        "outputId": "367ac4fb-f5c8-4485-cc0e-f7d3867e5036"
      },
      "execution_count": 36,
      "outputs": [
        {
          "output_type": "stream",
          "name": "stdout",
          "text": [
            "Plant eaters (herbivores)\n",
            "+-----------+---+-----------+\n",
            "|       name| id|eats_plants|\n",
            "+-----------+---+-----------+\n",
            "|      koala|  1|        yes|\n",
            "|caterpillar|  2|        yes|\n",
            "|       deer|  3|        yes|\n",
            "|      human|  4|        yes|\n",
            "+-----------+---+-----------+\n",
            "\n",
            "None\n",
            "Meat eaters (carnivores)\n",
            "+-----+---+---------+\n",
            "| name| id|eats_meat|\n",
            "+-----+---+---------+\n",
            "|shark|  5|      yes|\n",
            "| lion|  6|      yes|\n",
            "|tiger|  7|      yes|\n",
            "|human|  4|      yes|\n",
            "+-----+---+---------+\n",
            "\n",
            "None\n"
          ]
        }
      ]
    },
    {
      "cell_type": "code",
      "source": [
        "new_df = eats_plants\n"
      ],
      "metadata": {
        "id": "FY9szTf7GH-Z"
      },
      "execution_count": 37,
      "outputs": []
    },
    {
      "cell_type": "code",
      "source": [
        "df_append = eats_plants.union(new_df)"
      ],
      "metadata": {
        "id": "cvJebXPEGH7Z"
      },
      "execution_count": 38,
      "outputs": []
    },
    {
      "cell_type": "code",
      "source": [
        "df_append.show()"
      ],
      "metadata": {
        "colab": {
          "base_uri": "https://localhost:8080/"
        },
        "id": "tMtQmt_vGH4R",
        "outputId": "fcbe2888-6fb2-4486-f5fe-ac9e0d2707fb"
      },
      "execution_count": 39,
      "outputs": [
        {
          "output_type": "stream",
          "name": "stdout",
          "text": [
            "+-----------+---+-----------+\n",
            "|       name| id|eats_plants|\n",
            "+-----------+---+-----------+\n",
            "|      koala|  1|        yes|\n",
            "|caterpillar|  2|        yes|\n",
            "|       deer|  3|        yes|\n",
            "|      human|  4|        yes|\n",
            "|      koala|  1|        yes|\n",
            "|caterpillar|  2|        yes|\n",
            "|       deer|  3|        yes|\n",
            "|      human|  4|        yes|\n",
            "+-----------+---+-----------+\n",
            "\n"
          ]
        }
      ]
    },
    {
      "cell_type": "code",
      "source": [
        "eats_plants.show()"
      ],
      "metadata": {
        "colab": {
          "base_uri": "https://localhost:8080/"
        },
        "id": "jtOlfs8MGH1Z",
        "outputId": "5be2fe9d-c761-4044-db2b-0592307733ba"
      },
      "execution_count": 40,
      "outputs": [
        {
          "output_type": "stream",
          "name": "stdout",
          "text": [
            "+-----------+---+-----------+\n",
            "|       name| id|eats_plants|\n",
            "+-----------+---+-----------+\n",
            "|      koala|  1|        yes|\n",
            "|caterpillar|  2|        yes|\n",
            "|       deer|  3|        yes|\n",
            "|      human|  4|        yes|\n",
            "+-----------+---+-----------+\n",
            "\n"
          ]
        }
      ]
    },
    {
      "cell_type": "code",
      "source": [
        "#innerjoin\n",
        "inner_join= eats_plants.join(eats_meat,[\"name\",\"id\"],\"inner\").show()"
      ],
      "metadata": {
        "colab": {
          "base_uri": "https://localhost:8080/"
        },
        "id": "5MGwydzIGHyZ",
        "outputId": "2687575b-6daa-451b-b616-b68d3570046d"
      },
      "execution_count": 41,
      "outputs": [
        {
          "output_type": "stream",
          "name": "stdout",
          "text": [
            "+-----+---+-----------+---------+\n",
            "| name| id|eats_plants|eats_meat|\n",
            "+-----+---+-----------+---------+\n",
            "|human|  4|        yes|      yes|\n",
            "+-----+---+-----------+---------+\n",
            "\n"
          ]
        }
      ]
    },
    {
      "cell_type": "code",
      "source": [
        "#left_join "
      ],
      "metadata": {
        "id": "cjovFHk6GHvR"
      },
      "execution_count": 42,
      "outputs": []
    },
    {
      "cell_type": "code",
      "source": [
        "left_join= eats_plants.join(eats_meat,[\"name\",\"id\"],\"left\").show()"
      ],
      "metadata": {
        "colab": {
          "base_uri": "https://localhost:8080/"
        },
        "id": "SUCyj2YUGHsR",
        "outputId": "93a4551a-abe0-41b4-c38b-f70a6b1ebdc2"
      },
      "execution_count": 43,
      "outputs": [
        {
          "output_type": "stream",
          "name": "stdout",
          "text": [
            "+-----------+---+-----------+---------+\n",
            "|       name| id|eats_plants|eats_meat|\n",
            "+-----------+---+-----------+---------+\n",
            "|      koala|  1|        yes|     null|\n",
            "|caterpillar|  2|        yes|     null|\n",
            "|       deer|  3|        yes|     null|\n",
            "|      human|  4|        yes|      yes|\n",
            "+-----------+---+-----------+---------+\n",
            "\n"
          ]
        }
      ]
    },
    {
      "cell_type": "code",
      "source": [
        "right_join= eats_plants.join(eats_meat,[\"name\",\"id\"],\"right\").show()"
      ],
      "metadata": {
        "colab": {
          "base_uri": "https://localhost:8080/"
        },
        "id": "tj32lezwGHpc",
        "outputId": "bb42f550-b5e1-4da7-8398-026e7df43c83"
      },
      "execution_count": 44,
      "outputs": [
        {
          "output_type": "stream",
          "name": "stdout",
          "text": [
            "+-----+---+-----------+---------+\n",
            "| name| id|eats_plants|eats_meat|\n",
            "+-----+---+-----------+---------+\n",
            "|shark|  5|       null|      yes|\n",
            "| lion|  6|       null|      yes|\n",
            "|human|  4|        yes|      yes|\n",
            "|tiger|  7|       null|      yes|\n",
            "+-----+---+-----------+---------+\n",
            "\n"
          ]
        }
      ]
    },
    {
      "cell_type": "code",
      "source": [
        "full_join= eats_plants.join(eats_meat,[\"name\",\"id\"],\"full\").show()"
      ],
      "metadata": {
        "colab": {
          "base_uri": "https://localhost:8080/"
        },
        "id": "cTOY78INGHmS",
        "outputId": "c2e89611-72ae-417d-fb87-af6cbba62a7b"
      },
      "execution_count": 45,
      "outputs": [
        {
          "output_type": "stream",
          "name": "stdout",
          "text": [
            "+-----------+---+-----------+---------+\n",
            "|       name| id|eats_plants|eats_meat|\n",
            "+-----------+---+-----------+---------+\n",
            "|caterpillar|  2|        yes|     null|\n",
            "|       deer|  3|        yes|     null|\n",
            "|      human|  4|        yes|      yes|\n",
            "|      koala|  1|        yes|     null|\n",
            "|       lion|  6|       null|      yes|\n",
            "|      shark|  5|       null|      yes|\n",
            "|      tiger|  7|       null|      yes|\n",
            "+-----------+---+-----------+---------+\n",
            "\n"
          ]
        }
      ]
    },
    {
      "cell_type": "code",
      "source": [
        "left_join= eats_plants.join(eats_meat,[\"name\",\"id\"],\"left\").filter(eats_meat.id.isNull()).show() #id or name both work"
      ],
      "metadata": {
        "colab": {
          "base_uri": "https://localhost:8080/"
        },
        "id": "HL4FJnSYGHkD",
        "outputId": "ea7f8cb3-89fe-49b5-a7f1-6d18e66b78b4"
      },
      "execution_count": 46,
      "outputs": [
        {
          "output_type": "stream",
          "name": "stdout",
          "text": [
            "+-----------+---+-----------+---------+\n",
            "|       name| id|eats_plants|eats_meat|\n",
            "+-----------+---+-----------+---------+\n",
            "|      koala|  1|        yes|     null|\n",
            "|caterpillar|  2|        yes|     null|\n",
            "|       deer|  3|        yes|     null|\n",
            "+-----------+---+-----------+---------+\n",
            "\n"
          ]
        }
      ]
    },
    {
      "cell_type": "code",
      "source": [
        "import os "
      ],
      "metadata": {
        "id": "vcV106UWGHg0"
      },
      "execution_count": 47,
      "outputs": []
    },
    {
      "cell_type": "code",
      "source": [
        "print(os.listdir('/content'))"
      ],
      "metadata": {
        "colab": {
          "base_uri": "https://localhost:8080/"
        },
        "id": "7hWKWc-gGHWj",
        "outputId": "397dbcf0-64ab-490d-9555-d92a72b710b7"
      },
      "execution_count": 22,
      "outputs": [
        {
          "output_type": "stream",
          "name": "stdout",
          "text": [
            "['.config', 'schedules.csv', 'grade_distributions.csv', 'sections.csv', 'courses.csv', 'teachings.csv', 'course_offerings.csv', 'subjects.csv', 'subject_memberships.csv', 'rooms.csv', '.ipynb_checkpoints', 'database.sqlite3', 'instructors.csv']\n"
          ]
        }
      ]
    },
    {
      "cell_type": "code",
      "source": [
        "df_list =[]\n",
        "for filename in os.listdir('/content/'):\n",
        "  if filename.endswith(\".csv\"):\n",
        "    filename_lst = filename.split(\".\")\n",
        "    df_name = filename_lst[0]\n",
        "    df = spark.read.csv('/content/'+filename,inferSchema=True,header=True)\n",
        "    df.name=df_name\n",
        "    df_list.append(df_name)\n",
        "    exec(df_name+ ' = df')\n",
        "\n"
      ],
      "metadata": {
        "id": "Wml7ZC8RGHT8"
      },
      "execution_count": 31,
      "outputs": []
    },
    {
      "cell_type": "code",
      "source": [
        "df_list"
      ],
      "metadata": {
        "colab": {
          "base_uri": "https://localhost:8080/"
        },
        "id": "XEfU-jZoGHRT",
        "outputId": "a3bc16bb-671e-4fee-eead-92ef459f5265"
      },
      "execution_count": 48,
      "outputs": [
        {
          "output_type": "execute_result",
          "data": {
            "text/plain": [
              "['schedules',\n",
              " 'grade_distributions',\n",
              " 'sections',\n",
              " 'courses',\n",
              " 'teachings',\n",
              " 'course_offerings',\n",
              " 'subjects',\n",
              " 'subject_memberships',\n",
              " 'rooms',\n",
              " 'instructors']"
            ]
          },
          "metadata": {},
          "execution_count": 48
        }
      ]
    },
    {
      "cell_type": "code",
      "source": [
        "schedules.show()"
      ],
      "metadata": {
        "colab": {
          "base_uri": "https://localhost:8080/"
        },
        "id": "qSM7GOPzGHO0",
        "outputId": "e15bd8ce-38aa-4e6f-d7d7-45064051c2f1"
      },
      "execution_count": 50,
      "outputs": [
        {
          "output_type": "stream",
          "name": "stdout",
          "text": [
            "+--------------------+----------+--------+-----+-----+-----+-----+-----+-----+-----+\n",
            "|                uuid|start_time|end_time|  mon| tues|  wed|thurs|  fri|  sat|  sun|\n",
            "+--------------------+----------+--------+-----+-----+-----+-----+-----+-----+-----+\n",
            "|f2d66a4d-0c08-3b4...|        -1|      -1|false|false|false|false|false|false|false|\n",
            "|875542a2-f786-34d...|       530|     580| true|false| true|false|false|false|false|\n",
            "|f41f1e4d-cb4f-3de...|       660|     710|false| true|false| true|false|false|false|\n",
            "|46da55a4-17f7-31a...|       800|     850|false| true|false| true|false|false|false|\n",
            "|8c7cd81e-4f81-357...|       725|     775|false| true|false| true|false|false|false|\n",
            "|76c82895-6420-3a2...|       800|     850| true|false| true|false|false|false|false|\n",
            "|88ad9821-70fb-382...|       660|     760|false|false| true|false|false|false|false|\n",
            "|d81c681b-958c-3b1...|       865|     915| true|false| true|false|false|false|false|\n",
            "|9fe9fc2a-fdfa-36b...|       660|     760| true|false|false|false|false|false|false|\n",
            "|99c6bbc5-fb31-356...|       595|     645| true|false| true|false|false|false|false|\n",
            "|f022ea9c-ee92-302...|       660|     760|false|false|false|false| true|false|false|\n",
            "|eb229c80-319d-3c8...|       800|     900| true|false|false|false|false|false|false|\n",
            "|ce61f856-0774-398...|       930|     980| true|false| true|false|false|false|false|\n",
            "|566badf2-c44f-3e4...|       870|     920|false| true|false| true|false|false|false|\n",
            "|f82cce91-8cbd-359...|      1040|    1090| true|false| true|false|false|false|false|\n",
            "|dc1a042d-2e0b-3aa...|      1040|    1140|false|false|false| true|false|false|false|\n",
            "|b00bd9e3-27c0-3d9...|       595|     645|false| true|false| true|false|false|false|\n",
            "|e33a173f-d936-32b...|       530|     580|false|false|false|false| true|false|false|\n",
            "|57d572b8-9285-38e...|       530|     580|false|false| true|false| true|false|false|\n",
            "|777eb31b-cba1-3a3...|       930|     980|false| true|false| true|false|false|false|\n",
            "+--------------------+----------+--------+-----+-----+-----+-----+-----+-----+-----+\n",
            "only showing top 20 rows\n",
            "\n"
          ]
        }
      ]
    },
    {
      "cell_type": "code",
      "source": [
        "step1 = teachings.join(instructors ,teachings.instructor_id == instructors.id ,'left').select(\"instructor_id\",\"section_uuid\",\"name\")"
      ],
      "metadata": {
        "id": "B-iIs032GHMa"
      },
      "execution_count": 54,
      "outputs": []
    },
    {
      "cell_type": "code",
      "source": [
        "step1.show()"
      ],
      "metadata": {
        "colab": {
          "base_uri": "https://localhost:8080/"
        },
        "id": "nagKwQwHGHKD",
        "outputId": "169a42d0-dc3b-4ccf-a0d8-1e18a0de5965"
      },
      "execution_count": 55,
      "outputs": [
        {
          "output_type": "stream",
          "name": "stdout",
          "text": [
            "+-------------+--------------------+----------------+\n",
            "|instructor_id|        section_uuid|            name|\n",
            "+-------------+--------------------+----------------+\n",
            "|       761703|45adf63c-48c9-365...|JOHN ARCHAMBAULT|\n",
            "|       761703|c6280e23-5e43-385...|JOHN ARCHAMBAULT|\n",
            "|       761703|9395dc21-15d1-3fa...|JOHN ARCHAMBAULT|\n",
            "|      3677061|b99e440b-39db-350...|  STEPHANIE KANN|\n",
            "|       761703|ca1c841f-41d5-329...|JOHN ARCHAMBAULT|\n",
            "|      3677061|da41b0aa-2b81-378...|  STEPHANIE KANN|\n",
            "|       761703|51c4dc00-1fc7-3c7...|JOHN ARCHAMBAULT|\n",
            "|       761703|53f95c0f-4ea9-374...|JOHN ARCHAMBAULT|\n",
            "|       761703|574d9b35-9c76-338...|JOHN ARCHAMBAULT|\n",
            "|       761703|8fc362a6-d94e-3ad...|JOHN ARCHAMBAULT|\n",
            "|       761703|d50e7478-e12f-363...|JOHN ARCHAMBAULT|\n",
            "|       761703|b21564d2-2bc4-3b8...|JOHN ARCHAMBAULT|\n",
            "|       788586|8853d23e-64b1-3cf...|      KATHY PREM|\n",
            "|       788586|94339199-eaf3-393...|      KATHY PREM|\n",
            "|       761703|0d72958a-291b-33d...|JOHN ARCHAMBAULT|\n",
            "|       761703|dfb55b25-ac7a-366...|JOHN ARCHAMBAULT|\n",
            "|       761703|27be2077-fd69-3a2...|JOHN ARCHAMBAULT|\n",
            "|       761703|56ef2b0f-0776-309...|JOHN ARCHAMBAULT|\n",
            "|      3677061|ad67e659-fbf4-32a...|  STEPHANIE KANN|\n",
            "|      3677061|e80fe1ab-6b0b-32d...|  STEPHANIE KANN|\n",
            "+-------------+--------------------+----------------+\n",
            "only showing top 20 rows\n",
            "\n"
          ]
        }
      ]
    },
    {
      "cell_type": "code",
      "source": [
        "step2 = step1.join(sections, step1.section_uuid== sections.uuid,'left').select(\"name\",\"course_offering_uuid\")"
      ],
      "metadata": {
        "id": "aOt6ortEGHE6"
      },
      "execution_count": 62,
      "outputs": []
    },
    {
      "cell_type": "code",
      "source": [
        "step2.show(5,False)"
      ],
      "metadata": {
        "colab": {
          "base_uri": "https://localhost:8080/"
        },
        "id": "YLvZ4Hahykkp",
        "outputId": "7007445c-b88e-41d6-b3a9-fc55060fcb2b"
      },
      "execution_count": 63,
      "outputs": [
        {
          "output_type": "stream",
          "name": "stdout",
          "text": [
            "+----------------+------------------------------------+\n",
            "|name            |course_offering_uuid                |\n",
            "+----------------+------------------------------------+\n",
            "|JAMES CLEARY    |051f4e0c-983c-322c-a28b-51f461c662c8|\n",
            "|JAMES CLEARY    |051f4e0c-983c-322c-a28b-51f461c662c8|\n",
            "|JAMES CLEARY    |051f4e0c-983c-322c-a28b-51f461c662c8|\n",
            "|STEPHANIE KANN  |ea3b717c-d66b-30dc-8b37-964d9688295f|\n",
            "|JOHN ARCHAMBAULT|f718e6cd-33f0-3c14-a9a6-834d9c3610a8|\n",
            "+----------------+------------------------------------+\n",
            "only showing top 5 rows\n",
            "\n"
          ]
        }
      ]
    },
    {
      "cell_type": "code",
      "source": [
        "from pyspark.sql.functions import *\n",
        "step2 =step2.withColumnRenamed('name','instructor')"
      ],
      "metadata": {
        "id": "rbIg5n3Rykh-"
      },
      "execution_count": 65,
      "outputs": []
    },
    {
      "cell_type": "code",
      "source": [
        "step2.show()"
      ],
      "metadata": {
        "colab": {
          "base_uri": "https://localhost:8080/"
        },
        "id": "N5ZQbvDfyke_",
        "outputId": "018a5c00-0b27-4cb6-aa8a-0a655b40ae1d"
      },
      "execution_count": 66,
      "outputs": [
        {
          "output_type": "stream",
          "name": "stdout",
          "text": [
            "+----------------+--------------------+\n",
            "|      instructor|course_offering_uuid|\n",
            "+----------------+--------------------+\n",
            "|    JAMES CLEARY|051f4e0c-983c-322...|\n",
            "|JOHN ARCHAMBAULT|b3e26604-fe6e-30d...|\n",
            "|    JAMES CLEARY|051f4e0c-983c-322...|\n",
            "|JOHN ARCHAMBAULT|e100d196-5e82-32e...|\n",
            "|    JAMES CLEARY|051f4e0c-983c-322...|\n",
            "|    JAMES CLEARY|07a83850-5716-364...|\n",
            "|JOHN ARCHAMBAULT|075da420-5f49-3dd...|\n",
            "|JOHN ARCHAMBAULT|075da420-5f49-3dd...|\n",
            "|JOHN ARCHAMBAULT|e100d196-5e82-32e...|\n",
            "|JOHN ARCHAMBAULT|2b4e216d-a728-371...|\n",
            "|    JAMES CLEARY|051f4e0c-983c-322...|\n",
            "|  STEPHANIE KANN|76b9c458-d3c2-38c...|\n",
            "|    JAMES CLEARY|051f4e0c-983c-322...|\n",
            "|JOHN ARCHAMBAULT|2b4e216d-a728-371...|\n",
            "|    JAMES CLEARY|ff3d0b20-b5a4-338...|\n",
            "|  STEPHANIE KANN|e100d196-5e82-32e...|\n",
            "|JOHN ARCHAMBAULT|ff511882-5eab-3e7...|\n",
            "|  STEPHANIE KANN|ea3b717c-d66b-30d...|\n",
            "|JOHN ARCHAMBAULT|f718e6cd-33f0-3c1...|\n",
            "|JOHN ARCHAMBAULT|ea3b717c-d66b-30d...|\n",
            "+----------------+--------------------+\n",
            "only showing top 20 rows\n",
            "\n"
          ]
        }
      ]
    },
    {
      "cell_type": "code",
      "source": [
        "step3= step2.join(course_offerings,step2.course_offering_uuid==course_offerings.uuid,'inner')"
      ],
      "metadata": {
        "id": "JJV8hczCykdF"
      },
      "execution_count": 68,
      "outputs": []
    },
    {
      "cell_type": "code",
      "source": [
        "step3.show()"
      ],
      "metadata": {
        "colab": {
          "base_uri": "https://localhost:8080/"
        },
        "id": "rVpZSlNtykYX",
        "outputId": "34eec92c-2121-4d8c-8d10-434dd61155d4"
      },
      "execution_count": 69,
      "outputs": [
        {
          "output_type": "stream",
          "name": "stdout",
          "text": [
            "+--------------------+--------------------+--------------------+--------------------+---------+--------------------+\n",
            "|          instructor|course_offering_uuid|                uuid|         course_uuid|term_code|                name|\n",
            "+--------------------+--------------------+--------------------+--------------------+---------+--------------------+\n",
            "|     MICHAEL CONNORS|128f24cf-b7bf-3a8...|128f24cf-b7bf-3a8...|1f7cc0a1-e94f-37b...|     1154|      Special Topics|\n",
            "|         ANDREW PHAM|c90ecf44-6564-302...|c90ecf44-6564-302...|e9d9ef4a-c72d-324...|     1122|Organic Chemistry...|\n",
            "|     GREGREY HILTGEN|da9485eb-04d2-32b...|da9485eb-04d2-32b...|42d0805f-b851-3b5...|     1172|Clrk Fam&Comm Med...|\n",
            "|        RICK JENISON|f513b3a7-9fdc-30f...|f513b3a7-9fdc-30f...|7fb80554-a997-3ee...|     1084|            Research|\n",
            "|     SUSANNE BARNETT|9dcee3f1-0909-318...|9dcee3f1-0909-318...|1dfde01c-2e50-31d...|     1114|Advanced Independ...|\n",
            "|          DAVID BROW|8c7e7127-c331-332...|8c7e7127-c331-332...|b68419cd-dff6-36e...|     1084|Smr-RiboGroup (Ad...|\n",
            "|        EILEEN BURKE|3026d6be-c341-328...|3026d6be-c341-328...|f9c8f047-0915-375...|     1174|Intmed Organic Ch...|\n",
            "|     JEANNE BOYDSTON|f7480aeb-f190-3c1...|f7480aeb-f190-3c1...|c4ea31e9-5260-302...|     1074|Advanced Seminar ...|\n",
            "|      GAIL L. GEIGER|138e88d7-2f8b-373...|138e88d7-2f8b-373...|e5d10f39-fcc3-321...|     1152|Arts in 16th Cent...|\n",
            "|      SUSAN HEIDRICH|d858901f-cdc0-34a...|d858901f-cdc0-34a...|fd28f0dc-bad1-3ff...|     1072|Essentials-Geront...|\n",
            "|       TRACY IFTIKAR|5192e84c-43a7-318...|5192e84c-43a7-318...|519c01d1-5659-3d5...|     1134|ESL: Academic Wri...|\n",
            "|          IAN DOBSON|1ac02905-0b13-306...|1ac02905-0b13-306...|64c83256-ecbb-318...|     1102|Intro-Random Sig ...|\n",
            "|        THOMAS JAHNS|f850ab24-740c-311...|f850ab24-740c-311...|2c3a2a38-9f53-3cf...|     1074|Master's Research...|\n",
            "|     CHENSHENG KUANG|94554e3c-7af8-3d3...|94554e3c-7af8-3d3...|0a79210e-443f-338...|     1154|Intro Math Sat (T...|\n",
            "|      JERRY GOLDBERG|4f7c1ebb-7417-32e...|4f7c1ebb-7417-32e...|51553739-ef6e-314...|     1134|Clin Rheumatol Cl...|\n",
            "|      NATHAN SHELTON|47d0acbb-5945-3c3...|47d0acbb-5945-3c3...|023773f7-4ead-37f...|     1142|Am Racial&Ethnic ...|\n",
            "|         SUSAN YADRO|f72cf5b4-3895-33e...|f72cf5b4-3895-33e...|e6697792-07c1-31a...|     1144|Health Care: Intr...|\n",
            "|JENNY OYALLON-KOL...|5d79f156-2fb1-36a...|5d79f156-2fb1-36a...|e77da687-7e88-33a...|     1112|Introduction to Film|\n",
            "|     WILLIAM WOEHRLE|3dd5f845-5e06-31a...|3dd5f845-5e06-31a...|e995f6ec-004b-3e9...|     1112|     Weight Training|\n",
            "|          STACEY LEE|45a766b9-7716-3c6...|45a766b9-7716-3c6...|42cddb5c-109e-351...|     1174|Methods-Qualitati...|\n",
            "+--------------------+--------------------+--------------------+--------------------+---------+--------------------+\n",
            "only showing top 20 rows\n",
            "\n"
          ]
        }
      ]
    },
    {
      "cell_type": "code",
      "source": [],
      "metadata": {
        "id": "vKg3DRDQykVO"
      },
      "execution_count": null,
      "outputs": []
    },
    {
      "cell_type": "code",
      "source": [],
      "metadata": {
        "id": "T-c9WkFSykRx"
      },
      "execution_count": null,
      "outputs": []
    },
    {
      "cell_type": "code",
      "source": [],
      "metadata": {
        "id": "w5393vIMykOi"
      },
      "execution_count": null,
      "outputs": []
    }
  ]
}