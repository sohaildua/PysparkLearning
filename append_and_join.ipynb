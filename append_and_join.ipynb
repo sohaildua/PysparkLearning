{
  "nbformat": 4,
  "nbformat_minor": 0,
  "metadata": {
    "colab": {
      "provenance": [],
      "authorship_tag": "ABX9TyO0kZsBwWceyo8xK7sq/AfJ",
      "include_colab_link": true
    },
    "kernelspec": {
      "name": "python3",
      "display_name": "Python 3"
    },
    "language_info": {
      "name": "python"
    }
  },
  "cells": [
    {
      "cell_type": "markdown",
      "metadata": {
        "id": "view-in-github",
        "colab_type": "text"
      },
      "source": [
        "<a href=\"https://colab.research.google.com/github/sohaildua/PysparkLearning/blob/main/append_and_join.ipynb\" target=\"_parent\"><img src=\"https://colab.research.google.com/assets/colab-badge.svg\" alt=\"Open In Colab\"/></a>"
      ]
    },
    {
      "cell_type": "code",
      "execution_count": null,
      "metadata": {
        "id": "mfYdy3HKF2Od"
      },
      "outputs": [],
      "source": []
    },
    {
      "cell_type": "code",
      "execution_count": 1,
      "metadata": {
        "colab": {
          "base_uri": "https://localhost:8080/"
        },
        "id": "JC0rMQJ-vQaf",
        "outputId": "6e00f7da-ddf2-4a75-8dc2-83a91a75d6bb"
      },
      "outputs": [
        {
          "output_type": "stream",
          "name": "stdout",
          "text": [
            "Looking in indexes: https://pypi.org/simple, https://us-python.pkg.dev/colab-wheels/public/simple/\n",
            "Collecting pyspark\n",
            "  Downloading pyspark-3.3.0.tar.gz (281.3 MB)\n",
            "\u001b[K     |████████████████████████████████| 281.3 MB 47 kB/s \n",
            "\u001b[?25hCollecting py4j==0.10.9.5\n",
            "  Downloading py4j-0.10.9.5-py2.py3-none-any.whl (199 kB)\n",
            "\u001b[K     |████████████████████████████████| 199 kB 42.9 MB/s \n",
            "\u001b[?25hBuilding wheels for collected packages: pyspark\n",
            "  Building wheel for pyspark (setup.py) ... \u001b[?25l\u001b[?25hdone\n",
            "  Created wheel for pyspark: filename=pyspark-3.3.0-py2.py3-none-any.whl size=281764026 sha256=312add5d50f21900a2f49f2ee78dddc8616a2d772e4385d2e537994c82051856\n",
            "  Stored in directory: /root/.cache/pip/wheels/7a/8e/1b/f73a52650d2e5f337708d9f6a1750d451a7349a867f928b885\n",
            "Successfully built pyspark\n",
            "Installing collected packages: py4j, pyspark\n",
            "Successfully installed py4j-0.10.9.5 pyspark-3.3.0\n"
          ]
        }
      ],
      "source": [
        "!pip install pyspark\n",
        "!pip install -U -q PyDrive --quiet \n",
        "\n"
      ]
    },
    {
      "cell_type": "code",
      "source": [],
      "metadata": {
        "id": "dObEruApGIHx"
      },
      "execution_count": null,
      "outputs": []
    },
    {
      "cell_type": "code",
      "source": [
        "import pyspark\n",
        "from pyspark.sql import SparkSession\n",
        "spark = SparkSession.builder.appName(\"appendjoin\").getOrCreate()\n",
        "spark"
      ],
      "metadata": {
        "colab": {
          "base_uri": "https://localhost:8080/",
          "height": 219
        },
        "id": "QZcFejd2GIEx",
        "outputId": "e8ab4b06-ca7a-47c3-8fc6-141610d44864"
      },
      "execution_count": 2,
      "outputs": [
        {
          "output_type": "execute_result",
          "data": {
            "text/plain": [
              "<pyspark.sql.session.SparkSession at 0x7fd772e902d0>"
            ],
            "text/html": [
              "\n",
              "            <div>\n",
              "                <p><b>SparkSession - in-memory</b></p>\n",
              "                \n",
              "        <div>\n",
              "            <p><b>SparkContext</b></p>\n",
              "\n",
              "            <p><a href=\"http://17960f1af8a6:4040\">Spark UI</a></p>\n",
              "\n",
              "            <dl>\n",
              "              <dt>Version</dt>\n",
              "                <dd><code>v3.3.0</code></dd>\n",
              "              <dt>Master</dt>\n",
              "                <dd><code>local[*]</code></dd>\n",
              "              <dt>AppName</dt>\n",
              "                <dd><code>Manipulate</code></dd>\n",
              "            </dl>\n",
              "        </div>\n",
              "        \n",
              "            </div>\n",
              "        "
            ]
          },
          "metadata": {},
          "execution_count": 2
        }
      ]
    },
    {
      "cell_type": "code",
      "source": [
        "valuesP = [('koala',1,'yes'),('caterpillar',2,'yes'),('deer',3,'yes'),('human',4,'yes')]\n",
        "eats_plants = spark.createDataFrame(valuesP,['name','id','eats_plants'])\n",
        "\n",
        "valuesM = [('shark',5,'yes'),('lion',6,'yes'),('tiger',7,'yes'),('human',4,'yes')]\n",
        "eats_meat = spark.createDataFrame(valuesM,['name','id','eats_meat'])\n",
        "\n",
        "print(\"Plant eaters (herbivores)\")\n",
        "print(eats_plants.show())\n",
        "print(\"Meat eaters (carnivores)\")\n",
        "print(eats_meat.show())"
      ],
      "metadata": {
        "colab": {
          "base_uri": "https://localhost:8080/"
        },
        "id": "YbKvavjrGIBp",
        "outputId": "005c414b-54b8-40eb-ca99-83ef7c505824"
      },
      "execution_count": 3,
      "outputs": [
        {
          "output_type": "stream",
          "name": "stdout",
          "text": [
            "Plant eaters (herbivores)\n",
            "+-----------+---+-----------+\n",
            "|       name| id|eats_plants|\n",
            "+-----------+---+-----------+\n",
            "|      koala|  1|        yes|\n",
            "|caterpillar|  2|        yes|\n",
            "|       deer|  3|        yes|\n",
            "|      human|  4|        yes|\n",
            "+-----------+---+-----------+\n",
            "\n",
            "None\n",
            "Meat eaters (carnivores)\n",
            "+-----+---+---------+\n",
            "| name| id|eats_meat|\n",
            "+-----+---+---------+\n",
            "|shark|  5|      yes|\n",
            "| lion|  6|      yes|\n",
            "|tiger|  7|      yes|\n",
            "|human|  4|      yes|\n",
            "+-----+---+---------+\n",
            "\n",
            "None\n"
          ]
        }
      ]
    },
    {
      "cell_type": "code",
      "source": [
        "new_df = eats_plants\n"
      ],
      "metadata": {
        "colab": {
          "base_uri": "https://localhost:8080/",
          "height": 182
        },
        "id": "FY9szTf7GH-Z",
        "outputId": "92b1ef05-8722-48c6-c162-2fc2cf2aaa83"
      },
      "execution_count": 29,
      "outputs": [
        {
          "output_type": "error",
          "ename": "NameError",
          "evalue": "ignored",
          "traceback": [
            "\u001b[0;31m---------------------------------------------------------------------------\u001b[0m",
            "\u001b[0;31mNameError\u001b[0m                                 Traceback (most recent call last)",
            "\u001b[0;32m<ipython-input-29-1063d14ead34>\u001b[0m in \u001b[0;36m<module>\u001b[0;34m\u001b[0m\n\u001b[1;32m      1\u001b[0m \u001b[0mnew_df\u001b[0m \u001b[0;34m=\u001b[0m \u001b[0meats_plants\u001b[0m\u001b[0;34m\u001b[0m\u001b[0;34m\u001b[0m\u001b[0m\n\u001b[0;32m----> 2\u001b[0;31m \u001b[0meat_plants\u001b[0m\u001b[0;34m.\u001b[0m\u001b[0mname\u001b[0m\u001b[0;34m(\u001b[0m\u001b[0;34m)\u001b[0m\u001b[0;34m\u001b[0m\u001b[0;34m\u001b[0m\u001b[0m\n\u001b[0m",
            "\u001b[0;31mNameError\u001b[0m: name 'eat_plants' is not defined"
          ]
        }
      ]
    },
    {
      "cell_type": "code",
      "source": [
        "df_append = eats_plants.union(new_df)"
      ],
      "metadata": {
        "id": "cvJebXPEGH7Z"
      },
      "execution_count": 7,
      "outputs": []
    },
    {
      "cell_type": "code",
      "source": [
        "df_append.show()"
      ],
      "metadata": {
        "colab": {
          "base_uri": "https://localhost:8080/"
        },
        "id": "tMtQmt_vGH4R",
        "outputId": "818a1aa9-e93c-4a89-86b6-b039a48974fa"
      },
      "execution_count": 8,
      "outputs": [
        {
          "output_type": "stream",
          "name": "stdout",
          "text": [
            "+-----------+---+-----------+\n",
            "|       name| id|eats_plants|\n",
            "+-----------+---+-----------+\n",
            "|      koala|  1|        yes|\n",
            "|caterpillar|  2|        yes|\n",
            "|       deer|  3|        yes|\n",
            "|      human|  4|        yes|\n",
            "|      koala|  1|        yes|\n",
            "|caterpillar|  2|        yes|\n",
            "|       deer|  3|        yes|\n",
            "|      human|  4|        yes|\n",
            "+-----------+---+-----------+\n",
            "\n"
          ]
        }
      ]
    },
    {
      "cell_type": "code",
      "source": [
        "eats_plants.show()"
      ],
      "metadata": {
        "colab": {
          "base_uri": "https://localhost:8080/"
        },
        "id": "jtOlfs8MGH1Z",
        "outputId": "fd26f539-984a-4ba4-b213-d2cdb0c24de8"
      },
      "execution_count": 9,
      "outputs": [
        {
          "output_type": "stream",
          "name": "stdout",
          "text": [
            "+-----------+---+-----------+\n",
            "|       name| id|eats_plants|\n",
            "+-----------+---+-----------+\n",
            "|      koala|  1|        yes|\n",
            "|caterpillar|  2|        yes|\n",
            "|       deer|  3|        yes|\n",
            "|      human|  4|        yes|\n",
            "+-----------+---+-----------+\n",
            "\n"
          ]
        }
      ]
    },
    {
      "cell_type": "code",
      "source": [
        "#innerjoin\n",
        "inner_join= eats_plants.join(eats_meat,[\"name\",\"id\"],\"inner\").show()"
      ],
      "metadata": {
        "colab": {
          "base_uri": "https://localhost:8080/"
        },
        "id": "5MGwydzIGHyZ",
        "outputId": "ac6a537c-c939-48ae-c6ee-d3ec31ef82a2"
      },
      "execution_count": 11,
      "outputs": [
        {
          "output_type": "stream",
          "name": "stdout",
          "text": [
            "+-----+---+-----------+---------+\n",
            "| name| id|eats_plants|eats_meat|\n",
            "+-----+---+-----------+---------+\n",
            "|human|  4|        yes|      yes|\n",
            "+-----+---+-----------+---------+\n",
            "\n"
          ]
        }
      ]
    },
    {
      "cell_type": "code",
      "source": [
        "#left_join "
      ],
      "metadata": {
        "id": "cjovFHk6GHvR"
      },
      "execution_count": null,
      "outputs": []
    },
    {
      "cell_type": "code",
      "source": [
        "left_join= eats_plants.join(eats_meat,[\"name\",\"id\"],\"left\").show()"
      ],
      "metadata": {
        "colab": {
          "base_uri": "https://localhost:8080/"
        },
        "id": "SUCyj2YUGHsR",
        "outputId": "c79b9cc1-2d88-4d23-ae75-033a123347e0"
      },
      "execution_count": 12,
      "outputs": [
        {
          "output_type": "stream",
          "name": "stdout",
          "text": [
            "+-----------+---+-----------+---------+\n",
            "|       name| id|eats_plants|eats_meat|\n",
            "+-----------+---+-----------+---------+\n",
            "|      koala|  1|        yes|     null|\n",
            "|caterpillar|  2|        yes|     null|\n",
            "|       deer|  3|        yes|     null|\n",
            "|      human|  4|        yes|      yes|\n",
            "+-----------+---+-----------+---------+\n",
            "\n"
          ]
        }
      ]
    },
    {
      "cell_type": "code",
      "source": [
        "right_join= eats_plants.join(eats_meat,[\"name\",\"id\"],\"right\").show()"
      ],
      "metadata": {
        "colab": {
          "base_uri": "https://localhost:8080/"
        },
        "id": "tj32lezwGHpc",
        "outputId": "fd6502ad-ec95-4d74-e8f6-d33ac4f532a9"
      },
      "execution_count": 13,
      "outputs": [
        {
          "output_type": "stream",
          "name": "stdout",
          "text": [
            "+-----+---+-----------+---------+\n",
            "| name| id|eats_plants|eats_meat|\n",
            "+-----+---+-----------+---------+\n",
            "|shark|  5|       null|      yes|\n",
            "| lion|  6|       null|      yes|\n",
            "|human|  4|        yes|      yes|\n",
            "|tiger|  7|       null|      yes|\n",
            "+-----+---+-----------+---------+\n",
            "\n"
          ]
        }
      ]
    },
    {
      "cell_type": "code",
      "source": [
        "full_join= eats_plants.join(eats_meat,[\"name\",\"id\"],\"full\").show()"
      ],
      "metadata": {
        "colab": {
          "base_uri": "https://localhost:8080/"
        },
        "id": "cTOY78INGHmS",
        "outputId": "48191413-94b7-4992-bdb0-e87003159ccc"
      },
      "execution_count": 14,
      "outputs": [
        {
          "output_type": "stream",
          "name": "stdout",
          "text": [
            "+-----------+---+-----------+---------+\n",
            "|       name| id|eats_plants|eats_meat|\n",
            "+-----------+---+-----------+---------+\n",
            "|caterpillar|  2|        yes|     null|\n",
            "|       deer|  3|        yes|     null|\n",
            "|      human|  4|        yes|      yes|\n",
            "|      koala|  1|        yes|     null|\n",
            "|       lion|  6|       null|      yes|\n",
            "|      shark|  5|       null|      yes|\n",
            "|      tiger|  7|       null|      yes|\n",
            "+-----------+---+-----------+---------+\n",
            "\n"
          ]
        }
      ]
    },
    {
      "cell_type": "code",
      "source": [
        "left_join= eats_plants.join(eats_meat,[\"name\",\"id\"],\"left\").filter(eats_meat.id.isNull()).show() #id or name both work"
      ],
      "metadata": {
        "colab": {
          "base_uri": "https://localhost:8080/"
        },
        "id": "HL4FJnSYGHkD",
        "outputId": "6b99a692-2df9-41f9-e301-7d03c69b868d"
      },
      "execution_count": 17,
      "outputs": [
        {
          "output_type": "stream",
          "name": "stdout",
          "text": [
            "+-----------+---+-----------+---------+\n",
            "|       name| id|eats_plants|eats_meat|\n",
            "+-----------+---+-----------+---------+\n",
            "|      koala|  1|        yes|     null|\n",
            "|caterpillar|  2|        yes|     null|\n",
            "|       deer|  3|        yes|     null|\n",
            "+-----------+---+-----------+---------+\n",
            "\n"
          ]
        }
      ]
    },
    {
      "cell_type": "code",
      "source": [
        "import os "
      ],
      "metadata": {
        "id": "vcV106UWGHg0"
      },
      "execution_count": 21,
      "outputs": []
    },
    {
      "cell_type": "code",
      "source": [
        "print(os.listdir('/content'))"
      ],
      "metadata": {
        "colab": {
          "base_uri": "https://localhost:8080/"
        },
        "id": "7hWKWc-gGHWj",
        "outputId": "397dbcf0-64ab-490d-9555-d92a72b710b7"
      },
      "execution_count": 22,
      "outputs": [
        {
          "output_type": "stream",
          "name": "stdout",
          "text": [
            "['.config', 'schedules.csv', 'grade_distributions.csv', 'sections.csv', 'courses.csv', 'teachings.csv', 'course_offerings.csv', 'subjects.csv', 'subject_memberships.csv', 'rooms.csv', '.ipynb_checkpoints', 'database.sqlite3', 'instructors.csv']\n"
          ]
        }
      ]
    },
    {
      "cell_type": "code",
      "source": [
        "df_list =[]\n",
        "for filename in os.listdir('/content/'):\n",
        "  if filename.endswith(\".csv\"):\n",
        "    filename_lst = filename.split(\".\")\n",
        "    df_name = filename_lst[0]\n",
        "    df = spark.read.csv('/content/'+filename,inferSchema=True,header=True)\n",
        "    df.name=df_name\n",
        "    df_list.append(df_name)\n",
        "    exec(df_name+ ' = df')\n",
        "\n"
      ],
      "metadata": {
        "id": "Wml7ZC8RGHT8"
      },
      "execution_count": 31,
      "outputs": []
    },
    {
      "cell_type": "code",
      "source": [
        "df_list"
      ],
      "metadata": {
        "colab": {
          "base_uri": "https://localhost:8080/"
        },
        "id": "XEfU-jZoGHRT",
        "outputId": "eee8aff8-dbc9-4686-8c09-50892dc948f7"
      },
      "execution_count": 32,
      "outputs": [
        {
          "output_type": "execute_result",
          "data": {
            "text/plain": [
              "['schedules',\n",
              " 'grade_distributions',\n",
              " 'sections',\n",
              " 'courses',\n",
              " 'teachings',\n",
              " 'course_offerings',\n",
              " 'subjects',\n",
              " 'subject_memberships',\n",
              " 'rooms',\n",
              " 'instructors']"
            ]
          },
          "metadata": {},
          "execution_count": 32
        }
      ]
    },
    {
      "cell_type": "code",
      "source": [
        "schedules.show()"
      ],
      "metadata": {
        "colab": {
          "base_uri": "https://localhost:8080/"
        },
        "id": "qSM7GOPzGHO0",
        "outputId": "82ff7fca-1220-4050-e647-bcbe44a19e37"
      },
      "execution_count": 33,
      "outputs": [
        {
          "output_type": "stream",
          "name": "stdout",
          "text": [
            "+--------------------+----------+--------+-----+-----+-----+-----+-----+-----+-----+\n",
            "|                uuid|start_time|end_time|  mon| tues|  wed|thurs|  fri|  sat|  sun|\n",
            "+--------------------+----------+--------+-----+-----+-----+-----+-----+-----+-----+\n",
            "|f2d66a4d-0c08-3b4...|        -1|      -1|false|false|false|false|false|false|false|\n",
            "|875542a2-f786-34d...|       530|     580| true|false| true|false|false|false|false|\n",
            "|f41f1e4d-cb4f-3de...|       660|     710|false| true|false| true|false|false|false|\n",
            "|46da55a4-17f7-31a...|       800|     850|false| true|false| true|false|false|false|\n",
            "|8c7cd81e-4f81-357...|       725|     775|false| true|false| true|false|false|false|\n",
            "|76c82895-6420-3a2...|       800|     850| true|false| true|false|false|false|false|\n",
            "|88ad9821-70fb-382...|       660|     760|false|false| true|false|false|false|false|\n",
            "|d81c681b-958c-3b1...|       865|     915| true|false| true|false|false|false|false|\n",
            "|9fe9fc2a-fdfa-36b...|       660|     760| true|false|false|false|false|false|false|\n",
            "|99c6bbc5-fb31-356...|       595|     645| true|false| true|false|false|false|false|\n",
            "|f022ea9c-ee92-302...|       660|     760|false|false|false|false| true|false|false|\n",
            "|eb229c80-319d-3c8...|       800|     900| true|false|false|false|false|false|false|\n",
            "|ce61f856-0774-398...|       930|     980| true|false| true|false|false|false|false|\n",
            "|566badf2-c44f-3e4...|       870|     920|false| true|false| true|false|false|false|\n",
            "|f82cce91-8cbd-359...|      1040|    1090| true|false| true|false|false|false|false|\n",
            "|dc1a042d-2e0b-3aa...|      1040|    1140|false|false|false| true|false|false|false|\n",
            "|b00bd9e3-27c0-3d9...|       595|     645|false| true|false| true|false|false|false|\n",
            "|e33a173f-d936-32b...|       530|     580|false|false|false|false| true|false|false|\n",
            "|57d572b8-9285-38e...|       530|     580|false|false| true|false| true|false|false|\n",
            "|777eb31b-cba1-3a3...|       930|     980|false| true|false| true|false|false|false|\n",
            "+--------------------+----------+--------+-----+-----+-----+-----+-----+-----+-----+\n",
            "only showing top 20 rows\n",
            "\n"
          ]
        }
      ]
    },
    {
      "cell_type": "code",
      "source": [],
      "metadata": {
        "id": "B-iIs032GHMa"
      },
      "execution_count": null,
      "outputs": []
    },
    {
      "cell_type": "code",
      "source": [],
      "metadata": {
        "id": "nagKwQwHGHKD"
      },
      "execution_count": null,
      "outputs": []
    },
    {
      "cell_type": "code",
      "source": [],
      "metadata": {
        "id": "aOt6ortEGHE6"
      },
      "execution_count": null,
      "outputs": []
    }
  ]
}