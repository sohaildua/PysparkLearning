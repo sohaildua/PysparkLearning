{
  "nbformat": 4,
  "nbformat_minor": 0,
  "metadata": {
    "colab": {
      "provenance": [],
      "authorship_tag": "ABX9TyPj1UMxCMHWDyFo1+r66p1O",
      "include_colab_link": true
    },
    "kernelspec": {
      "name": "python3",
      "display_name": "Python 3"
    },
    "language_info": {
      "name": "python"
    }
  },
  "cells": [
    {
      "cell_type": "markdown",
      "metadata": {
        "id": "view-in-github",
        "colab_type": "text"
      },
      "source": [
        "<a href=\"https://colab.research.google.com/github/sohaildua/PysparkLearning/blob/main/append_and_join.ipynb\" target=\"_parent\"><img src=\"https://colab.research.google.com/assets/colab-badge.svg\" alt=\"Open In Colab\"/></a>"
      ]
    },
    {
      "cell_type": "code",
      "execution_count": null,
      "metadata": {
        "id": "mfYdy3HKF2Od"
      },
      "outputs": [],
      "source": []
    },
    {
      "cell_type": "code",
      "execution_count": 34,
      "metadata": {
        "colab": {
          "base_uri": "https://localhost:8080/"
        },
        "id": "JC0rMQJ-vQaf",
        "outputId": "3fba242f-7283-454a-bd73-0aa8d001cccd"
      },
      "outputs": [
        {
          "output_type": "stream",
          "name": "stdout",
          "text": [
            "Looking in indexes: https://pypi.org/simple, https://us-python.pkg.dev/colab-wheels/public/simple/\n",
            "Requirement already satisfied: pyspark in /usr/local/lib/python3.7/dist-packages (3.3.0)\n",
            "Requirement already satisfied: py4j==0.10.9.5 in /usr/local/lib/python3.7/dist-packages (from pyspark) (0.10.9.5)\n"
          ]
        }
      ],
      "source": [
        "!pip install pyspark\n",
        "!pip install -U -q PyDrive --quiet \n",
        "\n"
      ]
    },
    {
      "cell_type": "code",
      "source": [],
      "metadata": {
        "id": "dObEruApGIHx"
      },
      "execution_count": null,
      "outputs": []
    },
    {
      "cell_type": "code",
      "source": [
        "import pyspark\n",
        "from pyspark.sql import SparkSession\n",
        "spark = SparkSession.builder.appName(\"appendjoin\").getOrCreate()\n",
        "spark"
      ],
      "metadata": {
        "colab": {
          "base_uri": "https://localhost:8080/",
          "height": 219
        },
        "id": "QZcFejd2GIEx",
        "outputId": "ad5ccf17-c68a-4d1d-a075-fa88e70a7914"
      },
      "execution_count": 35,
      "outputs": [
        {
          "output_type": "execute_result",
          "data": {
            "text/plain": [
              "<pyspark.sql.session.SparkSession at 0x7fd772e902d0>"
            ],
            "text/html": [
              "\n",
              "            <div>\n",
              "                <p><b>SparkSession - in-memory</b></p>\n",
              "                \n",
              "        <div>\n",
              "            <p><b>SparkContext</b></p>\n",
              "\n",
              "            <p><a href=\"http://17960f1af8a6:4040\">Spark UI</a></p>\n",
              "\n",
              "            <dl>\n",
              "              <dt>Version</dt>\n",
              "                <dd><code>v3.3.0</code></dd>\n",
              "              <dt>Master</dt>\n",
              "                <dd><code>local[*]</code></dd>\n",
              "              <dt>AppName</dt>\n",
              "                <dd><code>Manipulate</code></dd>\n",
              "            </dl>\n",
              "        </div>\n",
              "        \n",
              "            </div>\n",
              "        "
            ]
          },
          "metadata": {},
          "execution_count": 35
        }
      ]
    },
    {
      "cell_type": "code",
      "source": [
        "valuesP = [('koala',1,'yes'),('caterpillar',2,'yes'),('deer',3,'yes'),('human',4,'yes')]\n",
        "eats_plants = spark.createDataFrame(valuesP,['name','id','eats_plants'])\n",
        "\n",
        "valuesM = [('shark',5,'yes'),('lion',6,'yes'),('tiger',7,'yes'),('human',4,'yes')]\n",
        "eats_meat = spark.createDataFrame(valuesM,['name','id','eats_meat'])\n",
        "\n",
        "print(\"Plant eaters (herbivores)\")\n",
        "print(eats_plants.show())\n",
        "print(\"Meat eaters (carnivores)\")\n",
        "print(eats_meat.show())"
      ],
      "metadata": {
        "colab": {
          "base_uri": "https://localhost:8080/"
        },
        "id": "YbKvavjrGIBp",
        "outputId": "367ac4fb-f5c8-4485-cc0e-f7d3867e5036"
      },
      "execution_count": 36,
      "outputs": [
        {
          "output_type": "stream",
          "name": "stdout",
          "text": [
            "Plant eaters (herbivores)\n",
            "+-----------+---+-----------+\n",
            "|       name| id|eats_plants|\n",
            "+-----------+---+-----------+\n",
            "|      koala|  1|        yes|\n",
            "|caterpillar|  2|        yes|\n",
            "|       deer|  3|        yes|\n",
            "|      human|  4|        yes|\n",
            "+-----------+---+-----------+\n",
            "\n",
            "None\n",
            "Meat eaters (carnivores)\n",
            "+-----+---+---------+\n",
            "| name| id|eats_meat|\n",
            "+-----+---+---------+\n",
            "|shark|  5|      yes|\n",
            "| lion|  6|      yes|\n",
            "|tiger|  7|      yes|\n",
            "|human|  4|      yes|\n",
            "+-----+---+---------+\n",
            "\n",
            "None\n"
          ]
        }
      ]
    },
    {
      "cell_type": "code",
      "source": [
        "new_df = eats_plants\n"
      ],
      "metadata": {
        "id": "FY9szTf7GH-Z"
      },
      "execution_count": 37,
      "outputs": []
    },
    {
      "cell_type": "code",
      "source": [
        "df_append = eats_plants.union(new_df)"
      ],
      "metadata": {
        "id": "cvJebXPEGH7Z"
      },
      "execution_count": 38,
      "outputs": []
    },
    {
      "cell_type": "code",
      "source": [
        "df_append.show()"
      ],
      "metadata": {
        "colab": {
          "base_uri": "https://localhost:8080/"
        },
        "id": "tMtQmt_vGH4R",
        "outputId": "fcbe2888-6fb2-4486-f5fe-ac9e0d2707fb"
      },
      "execution_count": 39,
      "outputs": [
        {
          "output_type": "stream",
          "name": "stdout",
          "text": [
            "+-----------+---+-----------+\n",
            "|       name| id|eats_plants|\n",
            "+-----------+---+-----------+\n",
            "|      koala|  1|        yes|\n",
            "|caterpillar|  2|        yes|\n",
            "|       deer|  3|        yes|\n",
            "|      human|  4|        yes|\n",
            "|      koala|  1|        yes|\n",
            "|caterpillar|  2|        yes|\n",
            "|       deer|  3|        yes|\n",
            "|      human|  4|        yes|\n",
            "+-----------+---+-----------+\n",
            "\n"
          ]
        }
      ]
    },
    {
      "cell_type": "code",
      "source": [
        "eats_plants.show()"
      ],
      "metadata": {
        "colab": {
          "base_uri": "https://localhost:8080/"
        },
        "id": "jtOlfs8MGH1Z",
        "outputId": "5be2fe9d-c761-4044-db2b-0592307733ba"
      },
      "execution_count": 40,
      "outputs": [
        {
          "output_type": "stream",
          "name": "stdout",
          "text": [
            "+-----------+---+-----------+\n",
            "|       name| id|eats_plants|\n",
            "+-----------+---+-----------+\n",
            "|      koala|  1|        yes|\n",
            "|caterpillar|  2|        yes|\n",
            "|       deer|  3|        yes|\n",
            "|      human|  4|        yes|\n",
            "+-----------+---+-----------+\n",
            "\n"
          ]
        }
      ]
    },
    {
      "cell_type": "code",
      "source": [
        "#innerjoin\n",
        "inner_join= eats_plants.join(eats_meat,[\"name\",\"id\"],\"inner\").show()"
      ],
      "metadata": {
        "colab": {
          "base_uri": "https://localhost:8080/"
        },
        "id": "5MGwydzIGHyZ",
        "outputId": "2687575b-6daa-451b-b616-b68d3570046d"
      },
      "execution_count": 41,
      "outputs": [
        {
          "output_type": "stream",
          "name": "stdout",
          "text": [
            "+-----+---+-----------+---------+\n",
            "| name| id|eats_plants|eats_meat|\n",
            "+-----+---+-----------+---------+\n",
            "|human|  4|        yes|      yes|\n",
            "+-----+---+-----------+---------+\n",
            "\n"
          ]
        }
      ]
    },
    {
      "cell_type": "code",
      "source": [
        "#left_join "
      ],
      "metadata": {
        "id": "cjovFHk6GHvR"
      },
      "execution_count": 42,
      "outputs": []
    },
    {
      "cell_type": "code",
      "source": [
        "left_join= eats_plants.join(eats_meat,[\"name\",\"id\"],\"left\").show()"
      ],
      "metadata": {
        "colab": {
          "base_uri": "https://localhost:8080/"
        },
        "id": "SUCyj2YUGHsR",
        "outputId": "93a4551a-abe0-41b4-c38b-f70a6b1ebdc2"
      },
      "execution_count": 43,
      "outputs": [
        {
          "output_type": "stream",
          "name": "stdout",
          "text": [
            "+-----------+---+-----------+---------+\n",
            "|       name| id|eats_plants|eats_meat|\n",
            "+-----------+---+-----------+---------+\n",
            "|      koala|  1|        yes|     null|\n",
            "|caterpillar|  2|        yes|     null|\n",
            "|       deer|  3|        yes|     null|\n",
            "|      human|  4|        yes|      yes|\n",
            "+-----------+---+-----------+---------+\n",
            "\n"
          ]
        }
      ]
    },
    {
      "cell_type": "code",
      "source": [
        "right_join= eats_plants.join(eats_meat,[\"name\",\"id\"],\"right\").show()"
      ],
      "metadata": {
        "colab": {
          "base_uri": "https://localhost:8080/"
        },
        "id": "tj32lezwGHpc",
        "outputId": "bb42f550-b5e1-4da7-8398-026e7df43c83"
      },
      "execution_count": 44,
      "outputs": [
        {
          "output_type": "stream",
          "name": "stdout",
          "text": [
            "+-----+---+-----------+---------+\n",
            "| name| id|eats_plants|eats_meat|\n",
            "+-----+---+-----------+---------+\n",
            "|shark|  5|       null|      yes|\n",
            "| lion|  6|       null|      yes|\n",
            "|human|  4|        yes|      yes|\n",
            "|tiger|  7|       null|      yes|\n",
            "+-----+---+-----------+---------+\n",
            "\n"
          ]
        }
      ]
    },
    {
      "cell_type": "code",
      "source": [
        "full_join= eats_plants.join(eats_meat,[\"name\",\"id\"],\"full\").show()"
      ],
      "metadata": {
        "colab": {
          "base_uri": "https://localhost:8080/"
        },
        "id": "cTOY78INGHmS",
        "outputId": "c2e89611-72ae-417d-fb87-af6cbba62a7b"
      },
      "execution_count": 45,
      "outputs": [
        {
          "output_type": "stream",
          "name": "stdout",
          "text": [
            "+-----------+---+-----------+---------+\n",
            "|       name| id|eats_plants|eats_meat|\n",
            "+-----------+---+-----------+---------+\n",
            "|caterpillar|  2|        yes|     null|\n",
            "|       deer|  3|        yes|     null|\n",
            "|      human|  4|        yes|      yes|\n",
            "|      koala|  1|        yes|     null|\n",
            "|       lion|  6|       null|      yes|\n",
            "|      shark|  5|       null|      yes|\n",
            "|      tiger|  7|       null|      yes|\n",
            "+-----------+---+-----------+---------+\n",
            "\n"
          ]
        }
      ]
    },
    {
      "cell_type": "code",
      "source": [
        "left_join= eats_plants.join(eats_meat,[\"name\",\"id\"],\"left\").filter(eats_meat.id.isNull()).show() #id or name both work"
      ],
      "metadata": {
        "colab": {
          "base_uri": "https://localhost:8080/"
        },
        "id": "HL4FJnSYGHkD",
        "outputId": "ea7f8cb3-89fe-49b5-a7f1-6d18e66b78b4"
      },
      "execution_count": 46,
      "outputs": [
        {
          "output_type": "stream",
          "name": "stdout",
          "text": [
            "+-----------+---+-----------+---------+\n",
            "|       name| id|eats_plants|eats_meat|\n",
            "+-----------+---+-----------+---------+\n",
            "|      koala|  1|        yes|     null|\n",
            "|caterpillar|  2|        yes|     null|\n",
            "|       deer|  3|        yes|     null|\n",
            "+-----------+---+-----------+---------+\n",
            "\n"
          ]
        }
      ]
    },
    {
      "cell_type": "code",
      "source": [
        "import os "
      ],
      "metadata": {
        "id": "vcV106UWGHg0"
      },
      "execution_count": 47,
      "outputs": []
    },
    {
      "cell_type": "code",
      "source": [
        "print(os.listdir('/content'))"
      ],
      "metadata": {
        "colab": {
          "base_uri": "https://localhost:8080/"
        },
        "id": "7hWKWc-gGHWj",
        "outputId": "397dbcf0-64ab-490d-9555-d92a72b710b7"
      },
      "execution_count": 22,
      "outputs": [
        {
          "output_type": "stream",
          "name": "stdout",
          "text": [
            "['.config', 'schedules.csv', 'grade_distributions.csv', 'sections.csv', 'courses.csv', 'teachings.csv', 'course_offerings.csv', 'subjects.csv', 'subject_memberships.csv', 'rooms.csv', '.ipynb_checkpoints', 'database.sqlite3', 'instructors.csv']\n"
          ]
        }
      ]
    },
    {
      "cell_type": "code",
      "source": [
        "df_list =[]\n",
        "for filename in os.listdir('/content/'):\n",
        "  if filename.endswith(\".csv\"):\n",
        "    filename_lst = filename.split(\".\")\n",
        "    df_name = filename_lst[0]\n",
        "    df = spark.read.csv('/content/'+filename,inferSchema=True,header=True)\n",
        "    df.name=df_name\n",
        "    df_list.append(df_name)\n",
        "    exec(df_name+ ' = df')\n",
        "\n"
      ],
      "metadata": {
        "id": "Wml7ZC8RGHT8"
      },
      "execution_count": 31,
      "outputs": []
    },
    {
      "cell_type": "code",
      "source": [
        "df_list"
      ],
      "metadata": {
        "colab": {
          "base_uri": "https://localhost:8080/"
        },
        "id": "XEfU-jZoGHRT",
        "outputId": "a3bc16bb-671e-4fee-eead-92ef459f5265"
      },
      "execution_count": 48,
      "outputs": [
        {
          "output_type": "execute_result",
          "data": {
            "text/plain": [
              "['schedules',\n",
              " 'grade_distributions',\n",
              " 'sections',\n",
              " 'courses',\n",
              " 'teachings',\n",
              " 'course_offerings',\n",
              " 'subjects',\n",
              " 'subject_memberships',\n",
              " 'rooms',\n",
              " 'instructors']"
            ]
          },
          "metadata": {},
          "execution_count": 48
        }
      ]
    },
    {
      "cell_type": "code",
      "source": [
        "schedules.show()"
      ],
      "metadata": {
        "colab": {
          "base_uri": "https://localhost:8080/"
        },
        "id": "qSM7GOPzGHO0",
        "outputId": "e15bd8ce-38aa-4e6f-d7d7-45064051c2f1"
      },
      "execution_count": 50,
      "outputs": [
        {
          "output_type": "stream",
          "name": "stdout",
          "text": [
            "+--------------------+----------+--------+-----+-----+-----+-----+-----+-----+-----+\n",
            "|                uuid|start_time|end_time|  mon| tues|  wed|thurs|  fri|  sat|  sun|\n",
            "+--------------------+----------+--------+-----+-----+-----+-----+-----+-----+-----+\n",
            "|f2d66a4d-0c08-3b4...|        -1|      -1|false|false|false|false|false|false|false|\n",
            "|875542a2-f786-34d...|       530|     580| true|false| true|false|false|false|false|\n",
            "|f41f1e4d-cb4f-3de...|       660|     710|false| true|false| true|false|false|false|\n",
            "|46da55a4-17f7-31a...|       800|     850|false| true|false| true|false|false|false|\n",
            "|8c7cd81e-4f81-357...|       725|     775|false| true|false| true|false|false|false|\n",
            "|76c82895-6420-3a2...|       800|     850| true|false| true|false|false|false|false|\n",
            "|88ad9821-70fb-382...|       660|     760|false|false| true|false|false|false|false|\n",
            "|d81c681b-958c-3b1...|       865|     915| true|false| true|false|false|false|false|\n",
            "|9fe9fc2a-fdfa-36b...|       660|     760| true|false|false|false|false|false|false|\n",
            "|99c6bbc5-fb31-356...|       595|     645| true|false| true|false|false|false|false|\n",
            "|f022ea9c-ee92-302...|       660|     760|false|false|false|false| true|false|false|\n",
            "|eb229c80-319d-3c8...|       800|     900| true|false|false|false|false|false|false|\n",
            "|ce61f856-0774-398...|       930|     980| true|false| true|false|false|false|false|\n",
            "|566badf2-c44f-3e4...|       870|     920|false| true|false| true|false|false|false|\n",
            "|f82cce91-8cbd-359...|      1040|    1090| true|false| true|false|false|false|false|\n",
            "|dc1a042d-2e0b-3aa...|      1040|    1140|false|false|false| true|false|false|false|\n",
            "|b00bd9e3-27c0-3d9...|       595|     645|false| true|false| true|false|false|false|\n",
            "|e33a173f-d936-32b...|       530|     580|false|false|false|false| true|false|false|\n",
            "|57d572b8-9285-38e...|       530|     580|false|false| true|false| true|false|false|\n",
            "|777eb31b-cba1-3a3...|       930|     980|false| true|false| true|false|false|false|\n",
            "+--------------------+----------+--------+-----+-----+-----+-----+-----+-----+-----+\n",
            "only showing top 20 rows\n",
            "\n"
          ]
        }
      ]
    },
    {
      "cell_type": "code",
      "source": [
        "step1 = teachings.join(instructors ,teachings.instructor_id == instructors.id ,'left').select(\"instructor_id\",\"section_uuid\",\"name\")"
      ],
      "metadata": {
        "id": "B-iIs032GHMa"
      },
      "execution_count": 54,
      "outputs": []
    },
    {
      "cell_type": "code",
      "source": [
        "step1.show()"
      ],
      "metadata": {
        "colab": {
          "base_uri": "https://localhost:8080/"
        },
        "id": "nagKwQwHGHKD",
        "outputId": "169a42d0-dc3b-4ccf-a0d8-1e18a0de5965"
      },
      "execution_count": 55,
      "outputs": [
        {
          "output_type": "stream",
          "name": "stdout",
          "text": [
            "+-------------+--------------------+----------------+\n",
            "|instructor_id|        section_uuid|            name|\n",
            "+-------------+--------------------+----------------+\n",
            "|       761703|45adf63c-48c9-365...|JOHN ARCHAMBAULT|\n",
            "|       761703|c6280e23-5e43-385...|JOHN ARCHAMBAULT|\n",
            "|       761703|9395dc21-15d1-3fa...|JOHN ARCHAMBAULT|\n",
            "|      3677061|b99e440b-39db-350...|  STEPHANIE KANN|\n",
            "|       761703|ca1c841f-41d5-329...|JOHN ARCHAMBAULT|\n",
            "|      3677061|da41b0aa-2b81-378...|  STEPHANIE KANN|\n",
            "|       761703|51c4dc00-1fc7-3c7...|JOHN ARCHAMBAULT|\n",
            "|       761703|53f95c0f-4ea9-374...|JOHN ARCHAMBAULT|\n",
            "|       761703|574d9b35-9c76-338...|JOHN ARCHAMBAULT|\n",
            "|       761703|8fc362a6-d94e-3ad...|JOHN ARCHAMBAULT|\n",
            "|       761703|d50e7478-e12f-363...|JOHN ARCHAMBAULT|\n",
            "|       761703|b21564d2-2bc4-3b8...|JOHN ARCHAMBAULT|\n",
            "|       788586|8853d23e-64b1-3cf...|      KATHY PREM|\n",
            "|       788586|94339199-eaf3-393...|      KATHY PREM|\n",
            "|       761703|0d72958a-291b-33d...|JOHN ARCHAMBAULT|\n",
            "|       761703|dfb55b25-ac7a-366...|JOHN ARCHAMBAULT|\n",
            "|       761703|27be2077-fd69-3a2...|JOHN ARCHAMBAULT|\n",
            "|       761703|56ef2b0f-0776-309...|JOHN ARCHAMBAULT|\n",
            "|      3677061|ad67e659-fbf4-32a...|  STEPHANIE KANN|\n",
            "|      3677061|e80fe1ab-6b0b-32d...|  STEPHANIE KANN|\n",
            "+-------------+--------------------+----------------+\n",
            "only showing top 20 rows\n",
            "\n"
          ]
        }
      ]
    },
    {
      "cell_type": "code",
      "source": [
        "step2 = step1.join(sections, step1.section_uuid== sections.uuid,'left').select(\"name\",\"course_offering_uuid\")"
      ],
      "metadata": {
        "id": "aOt6ortEGHE6"
      },
      "execution_count": 62,
      "outputs": []
    },
    {
      "cell_type": "code",
      "source": [
        "step2.show(5,False)"
      ],
      "metadata": {
        "colab": {
          "base_uri": "https://localhost:8080/"
        },
        "id": "YLvZ4Hahykkp",
        "outputId": "7007445c-b88e-41d6-b3a9-fc55060fcb2b"
      },
      "execution_count": 63,
      "outputs": [
        {
          "output_type": "stream",
          "name": "stdout",
          "text": [
            "+----------------+------------------------------------+\n",
            "|name            |course_offering_uuid                |\n",
            "+----------------+------------------------------------+\n",
            "|JAMES CLEARY    |051f4e0c-983c-322c-a28b-51f461c662c8|\n",
            "|JAMES CLEARY    |051f4e0c-983c-322c-a28b-51f461c662c8|\n",
            "|JAMES CLEARY    |051f4e0c-983c-322c-a28b-51f461c662c8|\n",
            "|STEPHANIE KANN  |ea3b717c-d66b-30dc-8b37-964d9688295f|\n",
            "|JOHN ARCHAMBAULT|f718e6cd-33f0-3c14-a9a6-834d9c3610a8|\n",
            "+----------------+------------------------------------+\n",
            "only showing top 5 rows\n",
            "\n"
          ]
        }
      ]
    },
    {
      "cell_type": "code",
      "source": [
        "from pyspark.sql.functions import *\n",
        "step2 =step2.withColumnRenamed('name','instructor')"
      ],
      "metadata": {
        "id": "rbIg5n3Rykh-"
      },
      "execution_count": 65,
      "outputs": []
    },
    {
      "cell_type": "code",
      "source": [
        "step2.show()"
      ],
      "metadata": {
        "colab": {
          "base_uri": "https://localhost:8080/"
        },
        "id": "N5ZQbvDfyke_",
        "outputId": "018a5c00-0b27-4cb6-aa8a-0a655b40ae1d"
      },
      "execution_count": 66,
      "outputs": [
        {
          "output_type": "stream",
          "name": "stdout",
          "text": [
            "+----------------+--------------------+\n",
            "|      instructor|course_offering_uuid|\n",
            "+----------------+--------------------+\n",
            "|    JAMES CLEARY|051f4e0c-983c-322...|\n",
            "|JOHN ARCHAMBAULT|b3e26604-fe6e-30d...|\n",
            "|    JAMES CLEARY|051f4e0c-983c-322...|\n",
            "|JOHN ARCHAMBAULT|e100d196-5e82-32e...|\n",
            "|    JAMES CLEARY|051f4e0c-983c-322...|\n",
            "|    JAMES CLEARY|07a83850-5716-364...|\n",
            "|JOHN ARCHAMBAULT|075da420-5f49-3dd...|\n",
            "|JOHN ARCHAMBAULT|075da420-5f49-3dd...|\n",
            "|JOHN ARCHAMBAULT|e100d196-5e82-32e...|\n",
            "|JOHN ARCHAMBAULT|2b4e216d-a728-371...|\n",
            "|    JAMES CLEARY|051f4e0c-983c-322...|\n",
            "|  STEPHANIE KANN|76b9c458-d3c2-38c...|\n",
            "|    JAMES CLEARY|051f4e0c-983c-322...|\n",
            "|JOHN ARCHAMBAULT|2b4e216d-a728-371...|\n",
            "|    JAMES CLEARY|ff3d0b20-b5a4-338...|\n",
            "|  STEPHANIE KANN|e100d196-5e82-32e...|\n",
            "|JOHN ARCHAMBAULT|ff511882-5eab-3e7...|\n",
            "|  STEPHANIE KANN|ea3b717c-d66b-30d...|\n",
            "|JOHN ARCHAMBAULT|f718e6cd-33f0-3c1...|\n",
            "|JOHN ARCHAMBAULT|ea3b717c-d66b-30d...|\n",
            "+----------------+--------------------+\n",
            "only showing top 20 rows\n",
            "\n"
          ]
        }
      ]
    },
    {
      "cell_type": "code",
      "source": [
        "step3= step2.join(course_offerings,step2.course_offering_uuid==course_offerings.uuid,'inner')"
      ],
      "metadata": {
        "id": "JJV8hczCykdF"
      },
      "execution_count": 68,
      "outputs": []
    },
    {
      "cell_type": "code",
      "source": [
        "step3.show()"
      ],
      "metadata": {
        "colab": {
          "base_uri": "https://localhost:8080/"
        },
        "id": "rVpZSlNtykYX",
        "outputId": "34eec92c-2121-4d8c-8d10-434dd61155d4"
      },
      "execution_count": 69,
      "outputs": [
        {
          "output_type": "stream",
          "name": "stdout",
          "text": [
            "+--------------------+--------------------+--------------------+--------------------+---------+--------------------+\n",
            "|          instructor|course_offering_uuid|                uuid|         course_uuid|term_code|                name|\n",
            "+--------------------+--------------------+--------------------+--------------------+---------+--------------------+\n",
            "|     MICHAEL CONNORS|128f24cf-b7bf-3a8...|128f24cf-b7bf-3a8...|1f7cc0a1-e94f-37b...|     1154|      Special Topics|\n",
            "|         ANDREW PHAM|c90ecf44-6564-302...|c90ecf44-6564-302...|e9d9ef4a-c72d-324...|     1122|Organic Chemistry...|\n",
            "|     GREGREY HILTGEN|da9485eb-04d2-32b...|da9485eb-04d2-32b...|42d0805f-b851-3b5...|     1172|Clrk Fam&Comm Med...|\n",
            "|        RICK JENISON|f513b3a7-9fdc-30f...|f513b3a7-9fdc-30f...|7fb80554-a997-3ee...|     1084|            Research|\n",
            "|     SUSANNE BARNETT|9dcee3f1-0909-318...|9dcee3f1-0909-318...|1dfde01c-2e50-31d...|     1114|Advanced Independ...|\n",
            "|          DAVID BROW|8c7e7127-c331-332...|8c7e7127-c331-332...|b68419cd-dff6-36e...|     1084|Smr-RiboGroup (Ad...|\n",
            "|        EILEEN BURKE|3026d6be-c341-328...|3026d6be-c341-328...|f9c8f047-0915-375...|     1174|Intmed Organic Ch...|\n",
            "|     JEANNE BOYDSTON|f7480aeb-f190-3c1...|f7480aeb-f190-3c1...|c4ea31e9-5260-302...|     1074|Advanced Seminar ...|\n",
            "|      GAIL L. GEIGER|138e88d7-2f8b-373...|138e88d7-2f8b-373...|e5d10f39-fcc3-321...|     1152|Arts in 16th Cent...|\n",
            "|      SUSAN HEIDRICH|d858901f-cdc0-34a...|d858901f-cdc0-34a...|fd28f0dc-bad1-3ff...|     1072|Essentials-Geront...|\n",
            "|       TRACY IFTIKAR|5192e84c-43a7-318...|5192e84c-43a7-318...|519c01d1-5659-3d5...|     1134|ESL: Academic Wri...|\n",
            "|          IAN DOBSON|1ac02905-0b13-306...|1ac02905-0b13-306...|64c83256-ecbb-318...|     1102|Intro-Random Sig ...|\n",
            "|        THOMAS JAHNS|f850ab24-740c-311...|f850ab24-740c-311...|2c3a2a38-9f53-3cf...|     1074|Master's Research...|\n",
            "|     CHENSHENG KUANG|94554e3c-7af8-3d3...|94554e3c-7af8-3d3...|0a79210e-443f-338...|     1154|Intro Math Sat (T...|\n",
            "|      JERRY GOLDBERG|4f7c1ebb-7417-32e...|4f7c1ebb-7417-32e...|51553739-ef6e-314...|     1134|Clin Rheumatol Cl...|\n",
            "|      NATHAN SHELTON|47d0acbb-5945-3c3...|47d0acbb-5945-3c3...|023773f7-4ead-37f...|     1142|Am Racial&Ethnic ...|\n",
            "|         SUSAN YADRO|f72cf5b4-3895-33e...|f72cf5b4-3895-33e...|e6697792-07c1-31a...|     1144|Health Care: Intr...|\n",
            "|JENNY OYALLON-KOL...|5d79f156-2fb1-36a...|5d79f156-2fb1-36a...|e77da687-7e88-33a...|     1112|Introduction to Film|\n",
            "|     WILLIAM WOEHRLE|3dd5f845-5e06-31a...|3dd5f845-5e06-31a...|e995f6ec-004b-3e9...|     1112|     Weight Training|\n",
            "|          STACEY LEE|45a766b9-7716-3c6...|45a766b9-7716-3c6...|42cddb5c-109e-351...|     1174|Methods-Qualitati...|\n",
            "+--------------------+--------------------+--------------------+--------------------+---------+--------------------+\n",
            "only showing top 20 rows\n",
            "\n"
          ]
        }
      ]
    },
    {
      "cell_type": "code",
      "source": [
        "course_offerings.show(5)"
      ],
      "metadata": {
        "colab": {
          "base_uri": "https://localhost:8080/"
        },
        "id": "vKg3DRDQykVO",
        "outputId": "a7ad4b91-289b-4a6a-e1af-39a324143b2f"
      },
      "execution_count": 70,
      "outputs": [
        {
          "output_type": "stream",
          "name": "stdout",
          "text": [
            "+--------------------+--------------------+---------+--------------------+\n",
            "|                uuid|         course_uuid|term_code|                name|\n",
            "+--------------------+--------------------+---------+--------------------+\n",
            "|344b3ebe-da7e-314...|a3e3e1c3-543d-3bb...|     1092|Cooperative Educa...|\n",
            "|f718e6cd-33f0-3c1...|a3e3e1c3-543d-3bb...|     1082|Cooperative Educa...|\n",
            "|ea3b717c-d66b-30d...|a3e3e1c3-543d-3bb...|     1172|Cooperative Educa...|\n",
            "|075da420-5f49-3dd...|a3e3e1c3-543d-3bb...|     1114|Cooperative Educa...|\n",
            "|2b4e216d-a728-371...|a3e3e1c3-543d-3bb...|     1104|Cooperative Educa...|\n",
            "+--------------------+--------------------+---------+--------------------+\n",
            "only showing top 5 rows\n",
            "\n"
          ]
        }
      ]
    },
    {
      "cell_type": "code",
      "source": [
        "rooms.show(5)"
      ],
      "metadata": {
        "colab": {
          "base_uri": "https://localhost:8080/"
        },
        "id": "T-c9WkFSykRx",
        "outputId": "8c99f045-1c78-4959-a199-0d789cf893c8"
      },
      "execution_count": 71,
      "outputs": [
        {
          "output_type": "stream",
          "name": "stdout",
          "text": [
            "+--------------------+-------------+---------+\n",
            "|                uuid|facility_code|room_code|\n",
            "+--------------------+-------------+---------+\n",
            "|04368a56-c959-3e4...|   OFF CAMPUS|     null|\n",
            "|2cc50da3-ef0e-357...|         0032|     0249|\n",
            "|ebbf62b4-2ac3-356...|         0032|     B101|\n",
            "|ed828265-475b-31b...|         0032|     0549|\n",
            "|b277dc8e-bab1-3a1...|         0032|     0349|\n",
            "+--------------------+-------------+---------+\n",
            "only showing top 5 rows\n",
            "\n"
          ]
        }
      ]
    },
    {
      "cell_type": "code",
      "source": [
        "sections.show()\n",
        "#course_offerings.join(rooms,['uuid','facility_code','','',''])"
      ],
      "metadata": {
        "colab": {
          "base_uri": "https://localhost:8080/"
        },
        "id": "w5393vIMykOi",
        "outputId": "5897e139-77a8-4107-ec9e-0cc87e04513c"
      },
      "execution_count": 73,
      "outputs": [
        {
          "output_type": "stream",
          "name": "stdout",
          "text": [
            "+--------------------+--------------------+------------+------+--------------------+--------------------+\n",
            "|                uuid|course_offering_uuid|section_type|number|           room_uuid|       schedule_uuid|\n",
            "+--------------------+--------------------+------------+------+--------------------+--------------------+\n",
            "|45adf63c-48c9-365...|344b3ebe-da7e-314...|         FLD|     1|                null|f2d66a4d-0c08-3b4...|\n",
            "|c6280e23-5e43-385...|f718e6cd-33f0-3c1...|         FLD|     1|                null|f2d66a4d-0c08-3b4...|\n",
            "|9395dc21-15d1-3fa...|ea3b717c-d66b-30d...|         FLD|     1|04368a56-c959-3e4...|f2d66a4d-0c08-3b4...|\n",
            "|b99e440b-39db-350...|ea3b717c-d66b-30d...|         FLD|     1|                null|f2d66a4d-0c08-3b4...|\n",
            "|ca1c841f-41d5-329...|ea3b717c-d66b-30d...|         FLD|     1|                null|f2d66a4d-0c08-3b4...|\n",
            "|da41b0aa-2b81-378...|ea3b717c-d66b-30d...|         FLD|     1|04368a56-c959-3e4...|f2d66a4d-0c08-3b4...|\n",
            "|51c4dc00-1fc7-3c7...|075da420-5f49-3dd...|         FLD|     1|04368a56-c959-3e4...|f2d66a4d-0c08-3b4...|\n",
            "|53f95c0f-4ea9-374...|075da420-5f49-3dd...|         FLD|     1|                null|f2d66a4d-0c08-3b4...|\n",
            "|574d9b35-9c76-338...|2b4e216d-a728-371...|         FLD|     1|                null|f2d66a4d-0c08-3b4...|\n",
            "|8fc362a6-d94e-3ad...|2b4e216d-a728-371...|         FLD|     1|04368a56-c959-3e4...|f2d66a4d-0c08-3b4...|\n",
            "|d50e7478-e12f-363...|87966a7b-f676-33d...|         FLD|     1|                null|f2d66a4d-0c08-3b4...|\n",
            "|b21564d2-2bc4-3b8...|ff511882-5eab-3e7...|         FLD|     1|04368a56-c959-3e4...|f2d66a4d-0c08-3b4...|\n",
            "|8853d23e-64b1-3cf...|ff511882-5eab-3e7...|         FLD|     1|04368a56-c959-3e4...|f2d66a4d-0c08-3b4...|\n",
            "|94339199-eaf3-393...|ff511882-5eab-3e7...|         FLD|     1|                null|f2d66a4d-0c08-3b4...|\n",
            "|0d72958a-291b-33d...|b3e26604-fe6e-30d...|         FLD|     1|                null|f2d66a4d-0c08-3b4...|\n",
            "|dfb55b25-ac7a-366...|b3e26604-fe6e-30d...|         FLD|     1|04368a56-c959-3e4...|f2d66a4d-0c08-3b4...|\n",
            "|27be2077-fd69-3a2...|e100d196-5e82-32e...|         FLD|     1|                null|f2d66a4d-0c08-3b4...|\n",
            "|56ef2b0f-0776-309...|e100d196-5e82-32e...|         FLD|     1|04368a56-c959-3e4...|f2d66a4d-0c08-3b4...|\n",
            "|ad67e659-fbf4-32a...|e100d196-5e82-32e...|         FLD|     1|04368a56-c959-3e4...|f2d66a4d-0c08-3b4...|\n",
            "|e80fe1ab-6b0b-32d...|e100d196-5e82-32e...|         FLD|     1|                null|f2d66a4d-0c08-3b4...|\n",
            "+--------------------+--------------------+------------+------+--------------------+--------------------+\n",
            "only showing top 20 rows\n",
            "\n"
          ]
        }
      ]
    },
    {
      "cell_type": "code",
      "source": [
        "df_list"
      ],
      "metadata": {
        "colab": {
          "base_uri": "https://localhost:8080/"
        },
        "outputId": "9683bb4f-8a23-4301-bb07-802b8ac16ac1",
        "id": "E4x3tY_q4Iqi"
      },
      "execution_count": 74,
      "outputs": [
        {
          "output_type": "execute_result",
          "data": {
            "text/plain": [
              "['schedules',\n",
              " 'grade_distributions',\n",
              " 'sections',\n",
              " 'courses',\n",
              " 'teachings',\n",
              " 'course_offerings',\n",
              " 'subjects',\n",
              " 'subject_memberships',\n",
              " 'rooms',\n",
              " 'instructors']"
            ]
          },
          "metadata": {},
          "execution_count": 74
        }
      ]
    },
    {
      "cell_type": "code",
      "source": [
        "step1 = rooms.join(sections, rooms.uuid == sections.room_uuid, how='left').select([rooms.uuid,rooms.facility_code,sections.course_offering_uuid,'number'])\n",
        "step1.limit(4).toPandas()"
      ],
      "metadata": {
        "colab": {
          "base_uri": "https://localhost:8080/",
          "height": 175
        },
        "id": "iAnTH8PHC97X",
        "outputId": "8a816c9e-ba5c-4512-bd2a-7a0a8944a562"
      },
      "execution_count": 75,
      "outputs": [
        {
          "output_type": "execute_result",
          "data": {
            "text/plain": [
              "                                   uuid facility_code  \\\n",
              "0  04368a56-c959-3e4b-8b3d-f4cc3538fea5    OFF CAMPUS   \n",
              "1  04368a56-c959-3e4b-8b3d-f4cc3538fea5    OFF CAMPUS   \n",
              "2  04368a56-c959-3e4b-8b3d-f4cc3538fea5    OFF CAMPUS   \n",
              "3  04368a56-c959-3e4b-8b3d-f4cc3538fea5    OFF CAMPUS   \n",
              "\n",
              "                   course_offering_uuid  number  \n",
              "0  ea3b717c-d66b-30dc-8b37-964d9688295f       1  \n",
              "1  ea3b717c-d66b-30dc-8b37-964d9688295f       1  \n",
              "2  075da420-5f49-3dd0-93df-13e3c152e1b1       1  \n",
              "3  2b4e216d-a728-3713-8c7c-19afffc6b2fd       1  "
            ],
            "text/html": [
              "\n",
              "  <div id=\"df-b793e238-8c6a-4db5-a98e-d0629ee4c6ca\">\n",
              "    <div class=\"colab-df-container\">\n",
              "      <div>\n",
              "<style scoped>\n",
              "    .dataframe tbody tr th:only-of-type {\n",
              "        vertical-align: middle;\n",
              "    }\n",
              "\n",
              "    .dataframe tbody tr th {\n",
              "        vertical-align: top;\n",
              "    }\n",
              "\n",
              "    .dataframe thead th {\n",
              "        text-align: right;\n",
              "    }\n",
              "</style>\n",
              "<table border=\"1\" class=\"dataframe\">\n",
              "  <thead>\n",
              "    <tr style=\"text-align: right;\">\n",
              "      <th></th>\n",
              "      <th>uuid</th>\n",
              "      <th>facility_code</th>\n",
              "      <th>course_offering_uuid</th>\n",
              "      <th>number</th>\n",
              "    </tr>\n",
              "  </thead>\n",
              "  <tbody>\n",
              "    <tr>\n",
              "      <th>0</th>\n",
              "      <td>04368a56-c959-3e4b-8b3d-f4cc3538fea5</td>\n",
              "      <td>OFF CAMPUS</td>\n",
              "      <td>ea3b717c-d66b-30dc-8b37-964d9688295f</td>\n",
              "      <td>1</td>\n",
              "    </tr>\n",
              "    <tr>\n",
              "      <th>1</th>\n",
              "      <td>04368a56-c959-3e4b-8b3d-f4cc3538fea5</td>\n",
              "      <td>OFF CAMPUS</td>\n",
              "      <td>ea3b717c-d66b-30dc-8b37-964d9688295f</td>\n",
              "      <td>1</td>\n",
              "    </tr>\n",
              "    <tr>\n",
              "      <th>2</th>\n",
              "      <td>04368a56-c959-3e4b-8b3d-f4cc3538fea5</td>\n",
              "      <td>OFF CAMPUS</td>\n",
              "      <td>075da420-5f49-3dd0-93df-13e3c152e1b1</td>\n",
              "      <td>1</td>\n",
              "    </tr>\n",
              "    <tr>\n",
              "      <th>3</th>\n",
              "      <td>04368a56-c959-3e4b-8b3d-f4cc3538fea5</td>\n",
              "      <td>OFF CAMPUS</td>\n",
              "      <td>2b4e216d-a728-3713-8c7c-19afffc6b2fd</td>\n",
              "      <td>1</td>\n",
              "    </tr>\n",
              "  </tbody>\n",
              "</table>\n",
              "</div>\n",
              "      <button class=\"colab-df-convert\" onclick=\"convertToInteractive('df-b793e238-8c6a-4db5-a98e-d0629ee4c6ca')\"\n",
              "              title=\"Convert this dataframe to an interactive table.\"\n",
              "              style=\"display:none;\">\n",
              "        \n",
              "  <svg xmlns=\"http://www.w3.org/2000/svg\" height=\"24px\"viewBox=\"0 0 24 24\"\n",
              "       width=\"24px\">\n",
              "    <path d=\"M0 0h24v24H0V0z\" fill=\"none\"/>\n",
              "    <path d=\"M18.56 5.44l.94 2.06.94-2.06 2.06-.94-2.06-.94-.94-2.06-.94 2.06-2.06.94zm-11 1L8.5 8.5l.94-2.06 2.06-.94-2.06-.94L8.5 2.5l-.94 2.06-2.06.94zm10 10l.94 2.06.94-2.06 2.06-.94-2.06-.94-.94-2.06-.94 2.06-2.06.94z\"/><path d=\"M17.41 7.96l-1.37-1.37c-.4-.4-.92-.59-1.43-.59-.52 0-1.04.2-1.43.59L10.3 9.45l-7.72 7.72c-.78.78-.78 2.05 0 2.83L4 21.41c.39.39.9.59 1.41.59.51 0 1.02-.2 1.41-.59l7.78-7.78 2.81-2.81c.8-.78.8-2.07 0-2.86zM5.41 20L4 18.59l7.72-7.72 1.47 1.35L5.41 20z\"/>\n",
              "  </svg>\n",
              "      </button>\n",
              "      \n",
              "  <style>\n",
              "    .colab-df-container {\n",
              "      display:flex;\n",
              "      flex-wrap:wrap;\n",
              "      gap: 12px;\n",
              "    }\n",
              "\n",
              "    .colab-df-convert {\n",
              "      background-color: #E8F0FE;\n",
              "      border: none;\n",
              "      border-radius: 50%;\n",
              "      cursor: pointer;\n",
              "      display: none;\n",
              "      fill: #1967D2;\n",
              "      height: 32px;\n",
              "      padding: 0 0 0 0;\n",
              "      width: 32px;\n",
              "    }\n",
              "\n",
              "    .colab-df-convert:hover {\n",
              "      background-color: #E2EBFA;\n",
              "      box-shadow: 0px 1px 2px rgba(60, 64, 67, 0.3), 0px 1px 3px 1px rgba(60, 64, 67, 0.15);\n",
              "      fill: #174EA6;\n",
              "    }\n",
              "\n",
              "    [theme=dark] .colab-df-convert {\n",
              "      background-color: #3B4455;\n",
              "      fill: #D2E3FC;\n",
              "    }\n",
              "\n",
              "    [theme=dark] .colab-df-convert:hover {\n",
              "      background-color: #434B5C;\n",
              "      box-shadow: 0px 1px 3px 1px rgba(0, 0, 0, 0.15);\n",
              "      filter: drop-shadow(0px 1px 2px rgba(0, 0, 0, 0.3));\n",
              "      fill: #FFFFFF;\n",
              "    }\n",
              "  </style>\n",
              "\n",
              "      <script>\n",
              "        const buttonEl =\n",
              "          document.querySelector('#df-b793e238-8c6a-4db5-a98e-d0629ee4c6ca button.colab-df-convert');\n",
              "        buttonEl.style.display =\n",
              "          google.colab.kernel.accessAllowed ? 'block' : 'none';\n",
              "\n",
              "        async function convertToInteractive(key) {\n",
              "          const element = document.querySelector('#df-b793e238-8c6a-4db5-a98e-d0629ee4c6ca');\n",
              "          const dataTable =\n",
              "            await google.colab.kernel.invokeFunction('convertToInteractive',\n",
              "                                                     [key], {});\n",
              "          if (!dataTable) return;\n",
              "\n",
              "          const docLinkHtml = 'Like what you see? Visit the ' +\n",
              "            '<a target=\"_blank\" href=https://colab.research.google.com/notebooks/data_table.ipynb>data table notebook</a>'\n",
              "            + ' to learn more about interactive tables.';\n",
              "          element.innerHTML = '';\n",
              "          dataTable['output_type'] = 'display_data';\n",
              "          await google.colab.output.renderOutput(dataTable, element);\n",
              "          const docLink = document.createElement('div');\n",
              "          docLink.innerHTML = docLinkHtml;\n",
              "          element.appendChild(docLink);\n",
              "        }\n",
              "      </script>\n",
              "    </div>\n",
              "  </div>\n",
              "  "
            ]
          },
          "metadata": {},
          "execution_count": 75
        }
      ]
    },
    {
      "cell_type": "code",
      "source": [
        "step2 = step1.join(course_offerings, step1.course_offering_uuid == course_offerings.uuid, how='left').select([rooms.uuid,rooms.facility_code,'number','term_code','name'])\n",
        "step2.limit(4).toPandas()"
      ],
      "metadata": {
        "colab": {
          "base_uri": "https://localhost:8080/",
          "height": 175
        },
        "id": "haJRvPsjC95C",
        "outputId": "307e57ed-c621-402b-bf08-8c6a157c178f"
      },
      "execution_count": 76,
      "outputs": [
        {
          "output_type": "execute_result",
          "data": {
            "text/plain": [
              "                                   uuid facility_code  number  term_code  \\\n",
              "0  04368a56-c959-3e4b-8b3d-f4cc3538fea5    OFF CAMPUS       1       1172   \n",
              "1  04368a56-c959-3e4b-8b3d-f4cc3538fea5    OFF CAMPUS       1       1172   \n",
              "2  04368a56-c959-3e4b-8b3d-f4cc3538fea5    OFF CAMPUS       1       1114   \n",
              "3  04368a56-c959-3e4b-8b3d-f4cc3538fea5    OFF CAMPUS       1       1104   \n",
              "\n",
              "                         name  \n",
              "0  Cooperative Education Prog  \n",
              "1  Cooperative Education Prog  \n",
              "2  Cooperative Education Prog  \n",
              "3  Cooperative Education Prog  "
            ],
            "text/html": [
              "\n",
              "  <div id=\"df-2f3b174c-0ac4-4138-ae09-1842fffede36\">\n",
              "    <div class=\"colab-df-container\">\n",
              "      <div>\n",
              "<style scoped>\n",
              "    .dataframe tbody tr th:only-of-type {\n",
              "        vertical-align: middle;\n",
              "    }\n",
              "\n",
              "    .dataframe tbody tr th {\n",
              "        vertical-align: top;\n",
              "    }\n",
              "\n",
              "    .dataframe thead th {\n",
              "        text-align: right;\n",
              "    }\n",
              "</style>\n",
              "<table border=\"1\" class=\"dataframe\">\n",
              "  <thead>\n",
              "    <tr style=\"text-align: right;\">\n",
              "      <th></th>\n",
              "      <th>uuid</th>\n",
              "      <th>facility_code</th>\n",
              "      <th>number</th>\n",
              "      <th>term_code</th>\n",
              "      <th>name</th>\n",
              "    </tr>\n",
              "  </thead>\n",
              "  <tbody>\n",
              "    <tr>\n",
              "      <th>0</th>\n",
              "      <td>04368a56-c959-3e4b-8b3d-f4cc3538fea5</td>\n",
              "      <td>OFF CAMPUS</td>\n",
              "      <td>1</td>\n",
              "      <td>1172</td>\n",
              "      <td>Cooperative Education Prog</td>\n",
              "    </tr>\n",
              "    <tr>\n",
              "      <th>1</th>\n",
              "      <td>04368a56-c959-3e4b-8b3d-f4cc3538fea5</td>\n",
              "      <td>OFF CAMPUS</td>\n",
              "      <td>1</td>\n",
              "      <td>1172</td>\n",
              "      <td>Cooperative Education Prog</td>\n",
              "    </tr>\n",
              "    <tr>\n",
              "      <th>2</th>\n",
              "      <td>04368a56-c959-3e4b-8b3d-f4cc3538fea5</td>\n",
              "      <td>OFF CAMPUS</td>\n",
              "      <td>1</td>\n",
              "      <td>1114</td>\n",
              "      <td>Cooperative Education Prog</td>\n",
              "    </tr>\n",
              "    <tr>\n",
              "      <th>3</th>\n",
              "      <td>04368a56-c959-3e4b-8b3d-f4cc3538fea5</td>\n",
              "      <td>OFF CAMPUS</td>\n",
              "      <td>1</td>\n",
              "      <td>1104</td>\n",
              "      <td>Cooperative Education Prog</td>\n",
              "    </tr>\n",
              "  </tbody>\n",
              "</table>\n",
              "</div>\n",
              "      <button class=\"colab-df-convert\" onclick=\"convertToInteractive('df-2f3b174c-0ac4-4138-ae09-1842fffede36')\"\n",
              "              title=\"Convert this dataframe to an interactive table.\"\n",
              "              style=\"display:none;\">\n",
              "        \n",
              "  <svg xmlns=\"http://www.w3.org/2000/svg\" height=\"24px\"viewBox=\"0 0 24 24\"\n",
              "       width=\"24px\">\n",
              "    <path d=\"M0 0h24v24H0V0z\" fill=\"none\"/>\n",
              "    <path d=\"M18.56 5.44l.94 2.06.94-2.06 2.06-.94-2.06-.94-.94-2.06-.94 2.06-2.06.94zm-11 1L8.5 8.5l.94-2.06 2.06-.94-2.06-.94L8.5 2.5l-.94 2.06-2.06.94zm10 10l.94 2.06.94-2.06 2.06-.94-2.06-.94-.94-2.06-.94 2.06-2.06.94z\"/><path d=\"M17.41 7.96l-1.37-1.37c-.4-.4-.92-.59-1.43-.59-.52 0-1.04.2-1.43.59L10.3 9.45l-7.72 7.72c-.78.78-.78 2.05 0 2.83L4 21.41c.39.39.9.59 1.41.59.51 0 1.02-.2 1.41-.59l7.78-7.78 2.81-2.81c.8-.78.8-2.07 0-2.86zM5.41 20L4 18.59l7.72-7.72 1.47 1.35L5.41 20z\"/>\n",
              "  </svg>\n",
              "      </button>\n",
              "      \n",
              "  <style>\n",
              "    .colab-df-container {\n",
              "      display:flex;\n",
              "      flex-wrap:wrap;\n",
              "      gap: 12px;\n",
              "    }\n",
              "\n",
              "    .colab-df-convert {\n",
              "      background-color: #E8F0FE;\n",
              "      border: none;\n",
              "      border-radius: 50%;\n",
              "      cursor: pointer;\n",
              "      display: none;\n",
              "      fill: #1967D2;\n",
              "      height: 32px;\n",
              "      padding: 0 0 0 0;\n",
              "      width: 32px;\n",
              "    }\n",
              "\n",
              "    .colab-df-convert:hover {\n",
              "      background-color: #E2EBFA;\n",
              "      box-shadow: 0px 1px 2px rgba(60, 64, 67, 0.3), 0px 1px 3px 1px rgba(60, 64, 67, 0.15);\n",
              "      fill: #174EA6;\n",
              "    }\n",
              "\n",
              "    [theme=dark] .colab-df-convert {\n",
              "      background-color: #3B4455;\n",
              "      fill: #D2E3FC;\n",
              "    }\n",
              "\n",
              "    [theme=dark] .colab-df-convert:hover {\n",
              "      background-color: #434B5C;\n",
              "      box-shadow: 0px 1px 3px 1px rgba(0, 0, 0, 0.15);\n",
              "      filter: drop-shadow(0px 1px 2px rgba(0, 0, 0, 0.3));\n",
              "      fill: #FFFFFF;\n",
              "    }\n",
              "  </style>\n",
              "\n",
              "      <script>\n",
              "        const buttonEl =\n",
              "          document.querySelector('#df-2f3b174c-0ac4-4138-ae09-1842fffede36 button.colab-df-convert');\n",
              "        buttonEl.style.display =\n",
              "          google.colab.kernel.accessAllowed ? 'block' : 'none';\n",
              "\n",
              "        async function convertToInteractive(key) {\n",
              "          const element = document.querySelector('#df-2f3b174c-0ac4-4138-ae09-1842fffede36');\n",
              "          const dataTable =\n",
              "            await google.colab.kernel.invokeFunction('convertToInteractive',\n",
              "                                                     [key], {});\n",
              "          if (!dataTable) return;\n",
              "\n",
              "          const docLinkHtml = 'Like what you see? Visit the ' +\n",
              "            '<a target=\"_blank\" href=https://colab.research.google.com/notebooks/data_table.ipynb>data table notebook</a>'\n",
              "            + ' to learn more about interactive tables.';\n",
              "          element.innerHTML = '';\n",
              "          dataTable['output_type'] = 'display_data';\n",
              "          await google.colab.output.renderOutput(dataTable, element);\n",
              "          const docLink = document.createElement('div');\n",
              "          docLink.innerHTML = docLinkHtml;\n",
              "          element.appendChild(docLink);\n",
              "        }\n",
              "      </script>\n",
              "    </div>\n",
              "  </div>\n",
              "  "
            ]
          },
          "metadata": {},
          "execution_count": 76
        }
      ]
    },
    {
      "cell_type": "code",
      "source": [
        "step3= step2.where(step2.facility_code == '0469')"
      ],
      "metadata": {
        "id": "qp1RyuGdC92V"
      },
      "execution_count": 77,
      "outputs": []
    },
    {
      "cell_type": "code",
      "source": [
        "step3.show()"
      ],
      "metadata": {
        "colab": {
          "base_uri": "https://localhost:8080/"
        },
        "id": "W-YcI1cmC9zu",
        "outputId": "041cec24-bae7-4881-a102-4a9924d03995"
      },
      "execution_count": 78,
      "outputs": [
        {
          "output_type": "stream",
          "name": "stdout",
          "text": [
            "+--------------------+-------------+------+---------+--------------------+\n",
            "|                uuid|facility_code|number|term_code|                name|\n",
            "+--------------------+-------------+------+---------+--------------------+\n",
            "|2da69d83-787a-3b0...|         0469|    18|     1182|Intro to Speech C...|\n",
            "|2da69d83-787a-3b0...|         0469|    23|     1172|Intro to College ...|\n",
            "|2da69d83-787a-3b0...|         0469|     2|     1172|Intro to College ...|\n",
            "|2da69d83-787a-3b0...|         0469|     9|     1164|Intro to College ...|\n",
            "|2da69d83-787a-3b0...|         0469|    16|     1164|Intro to College ...|\n",
            "|2da69d83-787a-3b0...|         0469|    12|     1154|Intro to College ...|\n",
            "|2da69d83-787a-3b0...|         0469|    18|     1154|Intro to College ...|\n",
            "|2da69d83-787a-3b0...|         0469|    20|     1154|Intro to College ...|\n",
            "|2da69d83-787a-3b0...|         0469|    29|     1162|Intro to College ...|\n",
            "|2da69d83-787a-3b0...|         0469|    25|     1162|Intro to College ...|\n",
            "|2da69d83-787a-3b0...|         0469|    51|     1162|Intro to College ...|\n",
            "|2da69d83-787a-3b0...|         0469|    41|     1162|Intro to College ...|\n",
            "|2da69d83-787a-3b0...|         0469|    17|     1162|Intro to College ...|\n",
            "|2da69d83-787a-3b0...|         0469|    29|     1152|Intro to College ...|\n",
            "|2da69d83-787a-3b0...|         0469|    17|     1152|Intro to College ...|\n",
            "|2da69d83-787a-3b0...|         0469|    13|     1174|Intro to College ...|\n",
            "|2da69d83-787a-3b0...|         0469|    23|     1174|Intro to College ...|\n",
            "|2da69d83-787a-3b0...|         0469|    12|     1174|Intro to College ...|\n",
            "|2da69d83-787a-3b0...|         0469|     3|     1144| Introduction to Art|\n",
            "|2da69d83-787a-3b0...|         0469|   353|     1074|Introduction to P...|\n",
            "+--------------------+-------------+------+---------+--------------------+\n",
            "only showing top 20 rows\n",
            "\n"
          ]
        }
      ]
    },
    {
      "cell_type": "code",
      "source": [
        "subject_memberships.show(1,False)"
      ],
      "metadata": {
        "colab": {
          "base_uri": "https://localhost:8080/"
        },
        "id": "32dybnPQC9xL",
        "outputId": "23a72c66-ac92-4d79-9f11-8c998bf9210e"
      },
      "execution_count": 80,
      "outputs": [
        {
          "output_type": "stream",
          "name": "stdout",
          "text": [
            "+------------+------------------------------------+\n",
            "|subject_code|course_offering_uuid                |\n",
            "+------------+------------------------------------+\n",
            "|220         |344b3ebe-da7e-314c-83ed-9425269695fd|\n",
            "+------------+------------------------------------+\n",
            "only showing top 1 row\n",
            "\n"
          ]
        }
      ]
    },
    {
      "cell_type": "code",
      "source": [
        "subjects.show(1,False)"
      ],
      "metadata": {
        "colab": {
          "base_uri": "https://localhost:8080/"
        },
        "id": "zei4QVc3C9ud",
        "outputId": "c38b07c1-ffe4-4d56-9c91-5a4b6a657abc"
      },
      "execution_count": 81,
      "outputs": [
        {
          "output_type": "stream",
          "name": "stdout",
          "text": [
            "+----+------------+------------+\n",
            "|code|name        |abbreviation|\n",
            "+----+------------+------------+\n",
            "|908 |Soil Science|SOIL SCI    |\n",
            "+----+------------+------------+\n",
            "only showing top 1 row\n",
            "\n"
          ]
        }
      ]
    },
    {
      "cell_type": "code",
      "source": [
        "sections.show(1,False)"
      ],
      "metadata": {
        "colab": {
          "base_uri": "https://localhost:8080/"
        },
        "id": "HxOWhDSIC9ns",
        "outputId": "9e4b9f68-b0b6-4315-caf7-617224887d44"
      },
      "execution_count": 82,
      "outputs": [
        {
          "output_type": "stream",
          "name": "stdout",
          "text": [
            "+------------------------------------+------------------------------------+------------+------+---------+------------------------------------+\n",
            "|uuid                                |course_offering_uuid                |section_type|number|room_uuid|schedule_uuid                       |\n",
            "+------------------------------------+------------------------------------+------------+------+---------+------------------------------------+\n",
            "|45adf63c-48c9-3659-8561-07556d2d4ddf|344b3ebe-da7e-314c-83ed-9425269695fd|FLD         |1     |null     |f2d66a4d-0c08-3b48-abf6-649fffd7ae90|\n",
            "+------------------------------------+------------------------------------+------------+------+---------+------------------------------------+\n",
            "only showing top 1 row\n",
            "\n"
          ]
        }
      ]
    },
    {
      "cell_type": "code",
      "source": [
        "step1 = subjects.join(subject_memberships, subject_memberships.subject_code == subjects.code, how='inner').\\\n",
        "select('course_offering_uuid','code','name','abbreviation').show(1,False)"
      ],
      "metadata": {
        "colab": {
          "base_uri": "https://localhost:8080/"
        },
        "id": "0luaU6AFKzEc",
        "outputId": "3face4ea-ebe1-43e3-b63d-57c7277c97a8"
      },
      "execution_count": 84,
      "outputs": [
        {
          "output_type": "stream",
          "name": "stdout",
          "text": [
            "+------------------------------------+----+-----------------------------------+------------+\n",
            "|course_offering_uuid                |code|name                               |abbreviation|\n",
            "+------------------------------------+----+-----------------------------------+------------+\n",
            "|344b3ebe-da7e-314c-83ed-9425269695fd|220 |Chemical and Biological Engineering|CBE         |\n",
            "+------------------------------------+----+-----------------------------------+------------+\n",
            "only showing top 1 row\n",
            "\n"
          ]
        }
      ]
    },
    {
      "cell_type": "code",
      "source": [],
      "metadata": {
        "id": "FXRi36frKzB-"
      },
      "execution_count": null,
      "outputs": []
    },
    {
      "cell_type": "code",
      "source": [],
      "metadata": {
        "id": "Fwcks9HKKy_b"
      },
      "execution_count": null,
      "outputs": []
    },
    {
      "cell_type": "code",
      "source": [],
      "metadata": {
        "id": "NlQUbfo7Ky9B"
      },
      "execution_count": null,
      "outputs": []
    },
    {
      "cell_type": "code",
      "source": [],
      "metadata": {
        "id": "SvIuNEfMKy6U"
      },
      "execution_count": null,
      "outputs": []
    },
    {
      "cell_type": "code",
      "source": [],
      "metadata": {
        "id": "hNuIuf0tKy1r"
      },
      "execution_count": null,
      "outputs": []
    },
    {
      "cell_type": "code",
      "source": [],
      "metadata": {
        "id": "9JP5n-VMKyzz"
      },
      "execution_count": null,
      "outputs": []
    },
    {
      "cell_type": "code",
      "source": [],
      "metadata": {
        "id": "v-VdR8SGKyxF"
      },
      "execution_count": null,
      "outputs": []
    },
    {
      "cell_type": "code",
      "source": [],
      "metadata": {
        "id": "mIzQ3naEKyuB"
      },
      "execution_count": null,
      "outputs": []
    },
    {
      "cell_type": "code",
      "source": [],
      "metadata": {
        "id": "mO68jc0PKyrS"
      },
      "execution_count": null,
      "outputs": []
    },
    {
      "cell_type": "code",
      "source": [],
      "metadata": {
        "id": "hXad3oZ4KyoS"
      },
      "execution_count": null,
      "outputs": []
    }
  ]
}