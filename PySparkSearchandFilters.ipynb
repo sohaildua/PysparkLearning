{
  "nbformat": 4,
  "nbformat_minor": 0,
  "metadata": {
    "colab": {
      "provenance": [],
      "collapsed_sections": [],
      "authorship_tag": "ABX9TyPPnQT6943TiEI7n1aEZPv9",
      "include_colab_link": true
    },
    "kernelspec": {
      "name": "python3",
      "display_name": "Python 3"
    },
    "language_info": {
      "name": "python"
    }
  },
  "cells": [
    {
      "cell_type": "markdown",
      "metadata": {
        "id": "view-in-github",
        "colab_type": "text"
      },
      "source": [
        "<a href=\"https://colab.research.google.com/github/sohaildua/PysparkLearning/blob/main/PySparkSearchandFilters.ipynb\" target=\"_parent\"><img src=\"https://colab.research.google.com/assets/colab-badge.svg\" alt=\"Open In Colab\"/></a>"
      ]
    },
    {
      "cell_type": "code",
      "execution_count": 1,
      "metadata": {
        "colab": {
          "base_uri": "https://localhost:8080/"
        },
        "id": "x2XNQ2B5sPtn",
        "outputId": "b2231f2b-9b26-4d45-e770-debdbfe53acf"
      },
      "outputs": [
        {
          "output_type": "stream",
          "name": "stdout",
          "text": [
            "Looking in indexes: https://pypi.org/simple, https://us-python.pkg.dev/colab-wheels/public/simple/\n",
            "Collecting pyspark\n",
            "  Downloading pyspark-3.3.0.tar.gz (281.3 MB)\n",
            "\u001b[K     |████████████████████████████████| 281.3 MB 51 kB/s \n",
            "\u001b[?25hCollecting py4j==0.10.9.5\n",
            "  Downloading py4j-0.10.9.5-py2.py3-none-any.whl (199 kB)\n",
            "\u001b[K     |████████████████████████████████| 199 kB 50.7 MB/s \n",
            "\u001b[?25hBuilding wheels for collected packages: pyspark\n",
            "  Building wheel for pyspark (setup.py) ... \u001b[?25l\u001b[?25hdone\n",
            "  Created wheel for pyspark: filename=pyspark-3.3.0-py2.py3-none-any.whl size=281764026 sha256=f6fad42a3528b696685a071d397ee115791e57aa5967b69f38ab66b111d53049\n",
            "  Stored in directory: /root/.cache/pip/wheels/7a/8e/1b/f73a52650d2e5f337708d9f6a1750d451a7349a867f928b885\n",
            "Successfully built pyspark\n",
            "Installing collected packages: py4j, pyspark\n",
            "Successfully installed py4j-0.10.9.5 pyspark-3.3.0\n"
          ]
        }
      ],
      "source": [
        "!pip install pyspark\n",
        "!pip install -U -q PyDrive --quiet "
      ]
    },
    {
      "cell_type": "code",
      "source": [
        "import pyspark\n",
        "from pyspark.sql import SparkSession\n",
        "spark = SparkSession.builder.appName(\"SearchAndF\").getOrCreate()\n",
        "spark"
      ],
      "metadata": {
        "colab": {
          "base_uri": "https://localhost:8080/",
          "height": 219
        },
        "id": "GTUnR23XydTQ",
        "outputId": "03e6b8b1-ddef-470f-fb57-52d4002b17f9"
      },
      "execution_count": 8,
      "outputs": [
        {
          "output_type": "execute_result",
          "data": {
            "text/plain": [
              "<pyspark.sql.session.SparkSession at 0x7f1eaad2a390>"
            ],
            "text/html": [
              "\n",
              "            <div>\n",
              "                <p><b>SparkSession - in-memory</b></p>\n",
              "                \n",
              "        <div>\n",
              "            <p><b>SparkContext</b></p>\n",
              "\n",
              "            <p><a href=\"http://394a48fde510:4040\">Spark UI</a></p>\n",
              "\n",
              "            <dl>\n",
              "              <dt>Version</dt>\n",
              "                <dd><code>v3.3.0</code></dd>\n",
              "              <dt>Master</dt>\n",
              "                <dd><code>local[*]</code></dd>\n",
              "              <dt>AppName</dt>\n",
              "                <dd><code>SearchAndF</code></dd>\n",
              "            </dl>\n",
              "        </div>\n",
              "        \n",
              "            </div>\n",
              "        "
            ]
          },
          "metadata": {},
          "execution_count": 8
        }
      ]
    },
    {
      "cell_type": "code",
      "source": [
        "fifa = spark.read.csv(\"fifa19.csv\", inferSchema=True , header=True)"
      ],
      "metadata": {
        "id": "GLwa4TLhydQe"
      },
      "execution_count": 12,
      "outputs": []
    },
    {
      "cell_type": "code",
      "source": [
        "fifa.limit(5).show()"
      ],
      "metadata": {
        "colab": {
          "base_uri": "https://localhost:8080/"
        },
        "id": "QcvzL2fWydNX",
        "outputId": "cb6e0889-794a-459d-bcd6-10feb6d668a9"
      },
      "execution_count": 13,
      "outputs": [
        {
          "output_type": "stream",
          "name": "stdout",
          "text": [
            "+---+------+-----------------+---+--------------------+-----------+--------------------+-------+---------+-------------------+--------------------+-------+-----+-------+--------------+------------------------+---------+-----------+--------------+----------+---------+--------+-------------+------------+-----------+--------------------+------+------+----+----+----+----+----+----+----+----+----+----+----+----+----+----+----+----+----+----+----+----+----+----+----+----+----+----+--------+---------+---------------+------------+-------+---------+-----+----------+-----------+-----------+------------+-----------+-------+---------+-------+---------+-------+-------+--------+---------+----------+-------------+-----------+------+---------+---------+-------+--------------+-------------+--------+----------+---------+-------------+----------+--------------+\n",
            "|_c0|    ID|             Name|Age|               Photo|Nationality|                Flag|Overall|Potential|               Club|           Club Logo|  Value| Wage|Special|Preferred Foot|International Reputation|Weak Foot|Skill Moves|     Work Rate| Body Type|Real Face|Position|Jersey Number|      Joined|Loaned From|Contract Valid Until|Height|Weight|  LS|  ST|  RS|  LW|  LF|  CF|  RF|  RW| LAM| CAM| RAM|  LM| LCM|  CM| RCM|  RM| LWB| LDM| CDM| RDM| RWB|  LB| LCB|  CB| RCB|  RB|Crossing|Finishing|HeadingAccuracy|ShortPassing|Volleys|Dribbling|Curve|FKAccuracy|LongPassing|BallControl|Acceleration|SprintSpeed|Agility|Reactions|Balance|ShotPower|Jumping|Stamina|Strength|LongShots|Aggression|Interceptions|Positioning|Vision|Penalties|Composure|Marking|StandingTackle|SlidingTackle|GKDiving|GKHandling|GKKicking|GKPositioning|GKReflexes|Release Clause|\n",
            "+---+------+-----------------+---+--------------------+-----------+--------------------+-------+---------+-------------------+--------------------+-------+-----+-------+--------------+------------------------+---------+-----------+--------------+----------+---------+--------+-------------+------------+-----------+--------------------+------+------+----+----+----+----+----+----+----+----+----+----+----+----+----+----+----+----+----+----+----+----+----+----+----+----+----+----+--------+---------+---------------+------------+-------+---------+-----+----------+-----------+-----------+------------+-----------+-------+---------+-------+---------+-------+-------+--------+---------+----------+-------------+-----------+------+---------+---------+-------+--------------+-------------+--------+----------+---------+-------------+----------+--------------+\n",
            "|  0|158023|         L. Messi| 31|https://cdn.sofif...|  Argentina|https://cdn.sofif...|     94|       94|       FC Barcelona|https://cdn.sofif...|€110.5M|€565K|   2202|          Left|                       5|        4|          4|Medium/ Medium|     Messi|      Yes|      RF|           10| Jul 1, 2004|       null|                2021|   5'7|159lbs|88+2|88+2|88+2|92+2|93+2|93+2|93+2|92+2|93+2|93+2|93+2|91+2|84+2|84+2|84+2|91+2|64+2|61+2|61+2|61+2|64+2|59+2|47+2|47+2|47+2|59+2|      84|       95|             70|          90|     86|       97|   93|        94|         87|         96|          91|         86|     91|       95|     95|       85|     68|     72|      59|       94|        48|           22|         94|    94|       75|       96|     33|            28|           26|       6|        11|       15|           14|         8|       €226.5M|\n",
            "|  1| 20801|Cristiano Ronaldo| 33|https://cdn.sofif...|   Portugal|https://cdn.sofif...|     94|       94|           Juventus|https://cdn.sofif...|   €77M|€405K|   2228|         Right|                       5|        4|          5|     High/ Low|C. Ronaldo|      Yes|      ST|            7|Jul 10, 2018|       null|                2022|   6'2|183lbs|91+3|91+3|91+3|89+3|90+3|90+3|90+3|89+3|88+3|88+3|88+3|88+3|81+3|81+3|81+3|88+3|65+3|61+3|61+3|61+3|65+3|61+3|53+3|53+3|53+3|61+3|      84|       94|             89|          81|     87|       88|   81|        76|         77|         94|          89|         91|     87|       96|     70|       95|     95|     88|      79|       93|        63|           29|         95|    82|       85|       95|     28|            31|           23|       7|        11|       15|           14|        11|       €127.1M|\n",
            "|  2|190871|        Neymar Jr| 26|https://cdn.sofif...|     Brazil|https://cdn.sofif...|     92|       93|Paris Saint-Germain|https://cdn.sofif...|€118.5M|€290K|   2143|         Right|                       5|        5|          5|  High/ Medium|    Neymar|      Yes|      LW|           10| Aug 3, 2017|       null|                2022|   5'9|150lbs|84+3|84+3|84+3|89+3|89+3|89+3|89+3|89+3|89+3|89+3|89+3|88+3|81+3|81+3|81+3|88+3|65+3|60+3|60+3|60+3|65+3|60+3|47+3|47+3|47+3|60+3|      79|       87|             62|          84|     84|       96|   88|        87|         78|         95|          94|         90|     96|       94|     84|       80|     61|     81|      49|       82|        56|           36|         89|    87|       81|       94|     27|            24|           33|       9|         9|       15|           15|        11|       €228.1M|\n",
            "|  3|193080|           De Gea| 27|https://cdn.sofif...|      Spain|https://cdn.sofif...|     91|       93|  Manchester United|https://cdn.sofif...|   €72M|€260K|   1471|         Right|                       4|        3|          1|Medium/ Medium|      Lean|      Yes|      GK|            1| Jul 1, 2011|       null|                2020|   6'4|168lbs|null|null|null|null|null|null|null|null|null|null|null|null|null|null|null|null|null|null|null|null|null|null|null|null|null|null|      17|       13|             21|          50|     13|       18|   21|        19|         51|         42|          57|         58|     60|       90|     43|       31|     67|     43|      64|       12|        38|           30|         12|    68|       40|       68|     15|            21|           13|      90|        85|       87|           88|        94|       €138.6M|\n",
            "|  4|192985|     K. De Bruyne| 27|https://cdn.sofif...|    Belgium|https://cdn.sofif...|     91|       92|    Manchester City|https://cdn.sofif...|  €102M|€355K|   2281|         Right|                       4|        5|          4|    High/ High|    Normal|      Yes|     RCM|            7|Aug 30, 2015|       null|                2023|  5'11|154lbs|82+3|82+3|82+3|87+3|87+3|87+3|87+3|87+3|88+3|88+3|88+3|88+3|87+3|87+3|87+3|88+3|77+3|77+3|77+3|77+3|77+3|73+3|66+3|66+3|66+3|73+3|      93|       82|             55|          92|     82|       86|   85|        83|         91|         91|          78|         76|     79|       91|     77|       91|     63|     90|      75|       91|        76|           61|         87|    94|       79|       88|     68|            58|           51|      15|        13|        5|           10|        13|       €196.4M|\n",
            "+---+------+-----------------+---+--------------------+-----------+--------------------+-------+---------+-------------------+--------------------+-------+-----+-------+--------------+------------------------+---------+-----------+--------------+----------+---------+--------+-------------+------------+-----------+--------------------+------+------+----+----+----+----+----+----+----+----+----+----+----+----+----+----+----+----+----+----+----+----+----+----+----+----+----+----+--------+---------+---------------+------------+-------+---------+-----+----------+-----------+-----------+------------+-----------+-------+---------+-------+---------+-------+-------+--------+---------+----------+-------------+-----------+------+---------+---------+-------+--------------+-------------+--------+----------+---------+-------------+----------+--------------+\n",
            "\n"
          ]
        }
      ]
    },
    {
      "cell_type": "code",
      "source": [
        "fifa.describe()"
      ],
      "metadata": {
        "colab": {
          "base_uri": "https://localhost:8080/"
        },
        "id": "0PXOQhWDydKI",
        "outputId": "f191499a-a129-498a-f926-be8ca130c3fb"
      },
      "execution_count": 14,
      "outputs": [
        {
          "output_type": "execute_result",
          "data": {
            "text/plain": [
              "DataFrame[summary: string, _c0: string, ID: string, Name: string, Age: string, Photo: string, Nationality: string, Flag: string, Overall: string, Potential: string, Club: string, Club Logo: string, Value: string, Wage: string, Special: string, Preferred Foot: string, International Reputation: string, Weak Foot: string, Skill Moves: string, Work Rate: string, Body Type: string, Real Face: string, Position: string, Jersey Number: string, Joined: string, Loaned From: string, Contract Valid Until: string, Height: string, Weight: string, LS: string, ST: string, RS: string, LW: string, LF: string, CF: string, RF: string, RW: string, LAM: string, CAM: string, RAM: string, LM: string, LCM: string, CM: string, RCM: string, RM: string, LWB: string, LDM: string, CDM: string, RDM: string, RWB: string, LB: string, LCB: string, CB: string, RCB: string, RB: string, Crossing: string, Finishing: string, HeadingAccuracy: string, ShortPassing: string, Volleys: string, Dribbling: string, Curve: string, FKAccuracy: string, LongPassing: string, BallControl: string, Acceleration: string, SprintSpeed: string, Agility: string, Reactions: string, Balance: string, ShotPower: string, Jumping: string, Stamina: string, Strength: string, LongShots: string, Aggression: string, Interceptions: string, Positioning: string, Vision: string, Penalties: string, Composure: string, Marking: string, StandingTackle: string, SlidingTackle: string, GKDiving: string, GKHandling: string, GKKicking: string, GKPositioning: string, GKReflexes: string, Release Clause: string]"
            ]
          },
          "metadata": {},
          "execution_count": 14
        }
      ]
    },
    {
      "cell_type": "code",
      "source": [
        "fifa.printSchema()"
      ],
      "metadata": {
        "colab": {
          "base_uri": "https://localhost:8080/"
        },
        "id": "AWxzgBsOydHE",
        "outputId": "a67c4400-2f4a-4f2f-d787-ea0885f87f6e"
      },
      "execution_count": 15,
      "outputs": [
        {
          "output_type": "stream",
          "name": "stdout",
          "text": [
            "root\n",
            " |-- _c0: integer (nullable = true)\n",
            " |-- ID: integer (nullable = true)\n",
            " |-- Name: string (nullable = true)\n",
            " |-- Age: integer (nullable = true)\n",
            " |-- Photo: string (nullable = true)\n",
            " |-- Nationality: string (nullable = true)\n",
            " |-- Flag: string (nullable = true)\n",
            " |-- Overall: integer (nullable = true)\n",
            " |-- Potential: integer (nullable = true)\n",
            " |-- Club: string (nullable = true)\n",
            " |-- Club Logo: string (nullable = true)\n",
            " |-- Value: string (nullable = true)\n",
            " |-- Wage: string (nullable = true)\n",
            " |-- Special: integer (nullable = true)\n",
            " |-- Preferred Foot: string (nullable = true)\n",
            " |-- International Reputation: integer (nullable = true)\n",
            " |-- Weak Foot: integer (nullable = true)\n",
            " |-- Skill Moves: integer (nullable = true)\n",
            " |-- Work Rate: string (nullable = true)\n",
            " |-- Body Type: string (nullable = true)\n",
            " |-- Real Face: string (nullable = true)\n",
            " |-- Position: string (nullable = true)\n",
            " |-- Jersey Number: integer (nullable = true)\n",
            " |-- Joined: string (nullable = true)\n",
            " |-- Loaned From: string (nullable = true)\n",
            " |-- Contract Valid Until: string (nullable = true)\n",
            " |-- Height: string (nullable = true)\n",
            " |-- Weight: string (nullable = true)\n",
            " |-- LS: string (nullable = true)\n",
            " |-- ST: string (nullable = true)\n",
            " |-- RS: string (nullable = true)\n",
            " |-- LW: string (nullable = true)\n",
            " |-- LF: string (nullable = true)\n",
            " |-- CF: string (nullable = true)\n",
            " |-- RF: string (nullable = true)\n",
            " |-- RW: string (nullable = true)\n",
            " |-- LAM: string (nullable = true)\n",
            " |-- CAM: string (nullable = true)\n",
            " |-- RAM: string (nullable = true)\n",
            " |-- LM: string (nullable = true)\n",
            " |-- LCM: string (nullable = true)\n",
            " |-- CM: string (nullable = true)\n",
            " |-- RCM: string (nullable = true)\n",
            " |-- RM: string (nullable = true)\n",
            " |-- LWB: string (nullable = true)\n",
            " |-- LDM: string (nullable = true)\n",
            " |-- CDM: string (nullable = true)\n",
            " |-- RDM: string (nullable = true)\n",
            " |-- RWB: string (nullable = true)\n",
            " |-- LB: string (nullable = true)\n",
            " |-- LCB: string (nullable = true)\n",
            " |-- CB: string (nullable = true)\n",
            " |-- RCB: string (nullable = true)\n",
            " |-- RB: string (nullable = true)\n",
            " |-- Crossing: integer (nullable = true)\n",
            " |-- Finishing: integer (nullable = true)\n",
            " |-- HeadingAccuracy: integer (nullable = true)\n",
            " |-- ShortPassing: integer (nullable = true)\n",
            " |-- Volleys: integer (nullable = true)\n",
            " |-- Dribbling: integer (nullable = true)\n",
            " |-- Curve: integer (nullable = true)\n",
            " |-- FKAccuracy: integer (nullable = true)\n",
            " |-- LongPassing: integer (nullable = true)\n",
            " |-- BallControl: integer (nullable = true)\n",
            " |-- Acceleration: integer (nullable = true)\n",
            " |-- SprintSpeed: integer (nullable = true)\n",
            " |-- Agility: integer (nullable = true)\n",
            " |-- Reactions: integer (nullable = true)\n",
            " |-- Balance: integer (nullable = true)\n",
            " |-- ShotPower: integer (nullable = true)\n",
            " |-- Jumping: integer (nullable = true)\n",
            " |-- Stamina: integer (nullable = true)\n",
            " |-- Strength: integer (nullable = true)\n",
            " |-- LongShots: integer (nullable = true)\n",
            " |-- Aggression: integer (nullable = true)\n",
            " |-- Interceptions: integer (nullable = true)\n",
            " |-- Positioning: integer (nullable = true)\n",
            " |-- Vision: integer (nullable = true)\n",
            " |-- Penalties: integer (nullable = true)\n",
            " |-- Composure: integer (nullable = true)\n",
            " |-- Marking: integer (nullable = true)\n",
            " |-- StandingTackle: integer (nullable = true)\n",
            " |-- SlidingTackle: integer (nullable = true)\n",
            " |-- GKDiving: integer (nullable = true)\n",
            " |-- GKHandling: integer (nullable = true)\n",
            " |-- GKKicking: integer (nullable = true)\n",
            " |-- GKPositioning: integer (nullable = true)\n",
            " |-- GKReflexes: integer (nullable = true)\n",
            " |-- Release Clause: string (nullable = true)\n",
            "\n"
          ]
        }
      ]
    },
    {
      "cell_type": "code",
      "source": [
        "fifa.limit(5).toPandas()"
      ],
      "metadata": {
        "colab": {
          "base_uri": "https://localhost:8080/",
          "height": 404
        },
        "id": "BRBWTCJ-ydEB",
        "outputId": "8a8dae41-41a6-4ba2-ca6a-b604c30de3f8"
      },
      "execution_count": 16,
      "outputs": [
        {
          "output_type": "execute_result",
          "data": {
            "text/plain": [
              "   _c0      ID               Name  Age  \\\n",
              "0    0  158023           L. Messi   31   \n",
              "1    1   20801  Cristiano Ronaldo   33   \n",
              "2    2  190871          Neymar Jr   26   \n",
              "3    3  193080             De Gea   27   \n",
              "4    4  192985       K. De Bruyne   27   \n",
              "\n",
              "                                            Photo Nationality  \\\n",
              "0  https://cdn.sofifa.org/players/4/19/158023.png   Argentina   \n",
              "1   https://cdn.sofifa.org/players/4/19/20801.png    Portugal   \n",
              "2  https://cdn.sofifa.org/players/4/19/190871.png      Brazil   \n",
              "3  https://cdn.sofifa.org/players/4/19/193080.png       Spain   \n",
              "4  https://cdn.sofifa.org/players/4/19/192985.png     Belgium   \n",
              "\n",
              "                                  Flag  Overall  Potential  \\\n",
              "0  https://cdn.sofifa.org/flags/52.png       94         94   \n",
              "1  https://cdn.sofifa.org/flags/38.png       94         94   \n",
              "2  https://cdn.sofifa.org/flags/54.png       92         93   \n",
              "3  https://cdn.sofifa.org/flags/45.png       91         93   \n",
              "4   https://cdn.sofifa.org/flags/7.png       91         92   \n",
              "\n",
              "                  Club  ... Composure Marking StandingTackle  SlidingTackle  \\\n",
              "0         FC Barcelona  ...        96      33             28             26   \n",
              "1             Juventus  ...        95      28             31             23   \n",
              "2  Paris Saint-Germain  ...        94      27             24             33   \n",
              "3    Manchester United  ...        68      15             21             13   \n",
              "4      Manchester City  ...        88      68             58             51   \n",
              "\n",
              "  GKDiving  GKHandling  GKKicking  GKPositioning GKReflexes Release Clause  \n",
              "0        6          11         15             14          8        €226.5M  \n",
              "1        7          11         15             14         11        €127.1M  \n",
              "2        9           9         15             15         11        €228.1M  \n",
              "3       90          85         87             88         94        €138.6M  \n",
              "4       15          13          5             10         13        €196.4M  \n",
              "\n",
              "[5 rows x 89 columns]"
            ],
            "text/html": [
              "\n",
              "  <div id=\"df-48d1eef3-256a-4d07-b3cc-b4488ca04631\">\n",
              "    <div class=\"colab-df-container\">\n",
              "      <div>\n",
              "<style scoped>\n",
              "    .dataframe tbody tr th:only-of-type {\n",
              "        vertical-align: middle;\n",
              "    }\n",
              "\n",
              "    .dataframe tbody tr th {\n",
              "        vertical-align: top;\n",
              "    }\n",
              "\n",
              "    .dataframe thead th {\n",
              "        text-align: right;\n",
              "    }\n",
              "</style>\n",
              "<table border=\"1\" class=\"dataframe\">\n",
              "  <thead>\n",
              "    <tr style=\"text-align: right;\">\n",
              "      <th></th>\n",
              "      <th>_c0</th>\n",
              "      <th>ID</th>\n",
              "      <th>Name</th>\n",
              "      <th>Age</th>\n",
              "      <th>Photo</th>\n",
              "      <th>Nationality</th>\n",
              "      <th>Flag</th>\n",
              "      <th>Overall</th>\n",
              "      <th>Potential</th>\n",
              "      <th>Club</th>\n",
              "      <th>...</th>\n",
              "      <th>Composure</th>\n",
              "      <th>Marking</th>\n",
              "      <th>StandingTackle</th>\n",
              "      <th>SlidingTackle</th>\n",
              "      <th>GKDiving</th>\n",
              "      <th>GKHandling</th>\n",
              "      <th>GKKicking</th>\n",
              "      <th>GKPositioning</th>\n",
              "      <th>GKReflexes</th>\n",
              "      <th>Release Clause</th>\n",
              "    </tr>\n",
              "  </thead>\n",
              "  <tbody>\n",
              "    <tr>\n",
              "      <th>0</th>\n",
              "      <td>0</td>\n",
              "      <td>158023</td>\n",
              "      <td>L. Messi</td>\n",
              "      <td>31</td>\n",
              "      <td>https://cdn.sofifa.org/players/4/19/158023.png</td>\n",
              "      <td>Argentina</td>\n",
              "      <td>https://cdn.sofifa.org/flags/52.png</td>\n",
              "      <td>94</td>\n",
              "      <td>94</td>\n",
              "      <td>FC Barcelona</td>\n",
              "      <td>...</td>\n",
              "      <td>96</td>\n",
              "      <td>33</td>\n",
              "      <td>28</td>\n",
              "      <td>26</td>\n",
              "      <td>6</td>\n",
              "      <td>11</td>\n",
              "      <td>15</td>\n",
              "      <td>14</td>\n",
              "      <td>8</td>\n",
              "      <td>€226.5M</td>\n",
              "    </tr>\n",
              "    <tr>\n",
              "      <th>1</th>\n",
              "      <td>1</td>\n",
              "      <td>20801</td>\n",
              "      <td>Cristiano Ronaldo</td>\n",
              "      <td>33</td>\n",
              "      <td>https://cdn.sofifa.org/players/4/19/20801.png</td>\n",
              "      <td>Portugal</td>\n",
              "      <td>https://cdn.sofifa.org/flags/38.png</td>\n",
              "      <td>94</td>\n",
              "      <td>94</td>\n",
              "      <td>Juventus</td>\n",
              "      <td>...</td>\n",
              "      <td>95</td>\n",
              "      <td>28</td>\n",
              "      <td>31</td>\n",
              "      <td>23</td>\n",
              "      <td>7</td>\n",
              "      <td>11</td>\n",
              "      <td>15</td>\n",
              "      <td>14</td>\n",
              "      <td>11</td>\n",
              "      <td>€127.1M</td>\n",
              "    </tr>\n",
              "    <tr>\n",
              "      <th>2</th>\n",
              "      <td>2</td>\n",
              "      <td>190871</td>\n",
              "      <td>Neymar Jr</td>\n",
              "      <td>26</td>\n",
              "      <td>https://cdn.sofifa.org/players/4/19/190871.png</td>\n",
              "      <td>Brazil</td>\n",
              "      <td>https://cdn.sofifa.org/flags/54.png</td>\n",
              "      <td>92</td>\n",
              "      <td>93</td>\n",
              "      <td>Paris Saint-Germain</td>\n",
              "      <td>...</td>\n",
              "      <td>94</td>\n",
              "      <td>27</td>\n",
              "      <td>24</td>\n",
              "      <td>33</td>\n",
              "      <td>9</td>\n",
              "      <td>9</td>\n",
              "      <td>15</td>\n",
              "      <td>15</td>\n",
              "      <td>11</td>\n",
              "      <td>€228.1M</td>\n",
              "    </tr>\n",
              "    <tr>\n",
              "      <th>3</th>\n",
              "      <td>3</td>\n",
              "      <td>193080</td>\n",
              "      <td>De Gea</td>\n",
              "      <td>27</td>\n",
              "      <td>https://cdn.sofifa.org/players/4/19/193080.png</td>\n",
              "      <td>Spain</td>\n",
              "      <td>https://cdn.sofifa.org/flags/45.png</td>\n",
              "      <td>91</td>\n",
              "      <td>93</td>\n",
              "      <td>Manchester United</td>\n",
              "      <td>...</td>\n",
              "      <td>68</td>\n",
              "      <td>15</td>\n",
              "      <td>21</td>\n",
              "      <td>13</td>\n",
              "      <td>90</td>\n",
              "      <td>85</td>\n",
              "      <td>87</td>\n",
              "      <td>88</td>\n",
              "      <td>94</td>\n",
              "      <td>€138.6M</td>\n",
              "    </tr>\n",
              "    <tr>\n",
              "      <th>4</th>\n",
              "      <td>4</td>\n",
              "      <td>192985</td>\n",
              "      <td>K. De Bruyne</td>\n",
              "      <td>27</td>\n",
              "      <td>https://cdn.sofifa.org/players/4/19/192985.png</td>\n",
              "      <td>Belgium</td>\n",
              "      <td>https://cdn.sofifa.org/flags/7.png</td>\n",
              "      <td>91</td>\n",
              "      <td>92</td>\n",
              "      <td>Manchester City</td>\n",
              "      <td>...</td>\n",
              "      <td>88</td>\n",
              "      <td>68</td>\n",
              "      <td>58</td>\n",
              "      <td>51</td>\n",
              "      <td>15</td>\n",
              "      <td>13</td>\n",
              "      <td>5</td>\n",
              "      <td>10</td>\n",
              "      <td>13</td>\n",
              "      <td>€196.4M</td>\n",
              "    </tr>\n",
              "  </tbody>\n",
              "</table>\n",
              "<p>5 rows × 89 columns</p>\n",
              "</div>\n",
              "      <button class=\"colab-df-convert\" onclick=\"convertToInteractive('df-48d1eef3-256a-4d07-b3cc-b4488ca04631')\"\n",
              "              title=\"Convert this dataframe to an interactive table.\"\n",
              "              style=\"display:none;\">\n",
              "        \n",
              "  <svg xmlns=\"http://www.w3.org/2000/svg\" height=\"24px\"viewBox=\"0 0 24 24\"\n",
              "       width=\"24px\">\n",
              "    <path d=\"M0 0h24v24H0V0z\" fill=\"none\"/>\n",
              "    <path d=\"M18.56 5.44l.94 2.06.94-2.06 2.06-.94-2.06-.94-.94-2.06-.94 2.06-2.06.94zm-11 1L8.5 8.5l.94-2.06 2.06-.94-2.06-.94L8.5 2.5l-.94 2.06-2.06.94zm10 10l.94 2.06.94-2.06 2.06-.94-2.06-.94-.94-2.06-.94 2.06-2.06.94z\"/><path d=\"M17.41 7.96l-1.37-1.37c-.4-.4-.92-.59-1.43-.59-.52 0-1.04.2-1.43.59L10.3 9.45l-7.72 7.72c-.78.78-.78 2.05 0 2.83L4 21.41c.39.39.9.59 1.41.59.51 0 1.02-.2 1.41-.59l7.78-7.78 2.81-2.81c.8-.78.8-2.07 0-2.86zM5.41 20L4 18.59l7.72-7.72 1.47 1.35L5.41 20z\"/>\n",
              "  </svg>\n",
              "      </button>\n",
              "      \n",
              "  <style>\n",
              "    .colab-df-container {\n",
              "      display:flex;\n",
              "      flex-wrap:wrap;\n",
              "      gap: 12px;\n",
              "    }\n",
              "\n",
              "    .colab-df-convert {\n",
              "      background-color: #E8F0FE;\n",
              "      border: none;\n",
              "      border-radius: 50%;\n",
              "      cursor: pointer;\n",
              "      display: none;\n",
              "      fill: #1967D2;\n",
              "      height: 32px;\n",
              "      padding: 0 0 0 0;\n",
              "      width: 32px;\n",
              "    }\n",
              "\n",
              "    .colab-df-convert:hover {\n",
              "      background-color: #E2EBFA;\n",
              "      box-shadow: 0px 1px 2px rgba(60, 64, 67, 0.3), 0px 1px 3px 1px rgba(60, 64, 67, 0.15);\n",
              "      fill: #174EA6;\n",
              "    }\n",
              "\n",
              "    [theme=dark] .colab-df-convert {\n",
              "      background-color: #3B4455;\n",
              "      fill: #D2E3FC;\n",
              "    }\n",
              "\n",
              "    [theme=dark] .colab-df-convert:hover {\n",
              "      background-color: #434B5C;\n",
              "      box-shadow: 0px 1px 3px 1px rgba(0, 0, 0, 0.15);\n",
              "      filter: drop-shadow(0px 1px 2px rgba(0, 0, 0, 0.3));\n",
              "      fill: #FFFFFF;\n",
              "    }\n",
              "  </style>\n",
              "\n",
              "      <script>\n",
              "        const buttonEl =\n",
              "          document.querySelector('#df-48d1eef3-256a-4d07-b3cc-b4488ca04631 button.colab-df-convert');\n",
              "        buttonEl.style.display =\n",
              "          google.colab.kernel.accessAllowed ? 'block' : 'none';\n",
              "\n",
              "        async function convertToInteractive(key) {\n",
              "          const element = document.querySelector('#df-48d1eef3-256a-4d07-b3cc-b4488ca04631');\n",
              "          const dataTable =\n",
              "            await google.colab.kernel.invokeFunction('convertToInteractive',\n",
              "                                                     [key], {});\n",
              "          if (!dataTable) return;\n",
              "\n",
              "          const docLinkHtml = 'Like what you see? Visit the ' +\n",
              "            '<a target=\"_blank\" href=https://colab.research.google.com/notebooks/data_table.ipynb>data table notebook</a>'\n",
              "            + ' to learn more about interactive tables.';\n",
              "          element.innerHTML = '';\n",
              "          dataTable['output_type'] = 'display_data';\n",
              "          await google.colab.output.renderOutput(dataTable, element);\n",
              "          const docLink = document.createElement('div');\n",
              "          docLink.innerHTML = docLinkHtml;\n",
              "          element.appendChild(docLink);\n",
              "        }\n",
              "      </script>\n",
              "    </div>\n",
              "  </div>\n",
              "  "
            ]
          },
          "metadata": {},
          "execution_count": 16
        }
      ]
    },
    {
      "cell_type": "code",
      "source": [
        "from pyspark.sql.functions import *"
      ],
      "metadata": {
        "id": "dPn5EM_FydBH"
      },
      "execution_count": 17,
      "outputs": []
    },
    {
      "cell_type": "code",
      "source": [
        "fifa.select(['Name','Wage','Age','Nationality' ,'Photo']).show(5,False)"
      ],
      "metadata": {
        "colab": {
          "base_uri": "https://localhost:8080/"
        },
        "id": "1WHB7LsWyc-L",
        "outputId": "62e753eb-b055-4506-e5a8-7f18de1b3f02"
      },
      "execution_count": 18,
      "outputs": [
        {
          "output_type": "stream",
          "name": "stdout",
          "text": [
            "+-----------------+-----+---+-----------+----------------------------------------------+\n",
            "|Name             |Wage |Age|Nationality|Photo                                         |\n",
            "+-----------------+-----+---+-----------+----------------------------------------------+\n",
            "|L. Messi         |€565K|31 |Argentina  |https://cdn.sofifa.org/players/4/19/158023.png|\n",
            "|Cristiano Ronaldo|€405K|33 |Portugal   |https://cdn.sofifa.org/players/4/19/20801.png |\n",
            "|Neymar Jr        |€290K|26 |Brazil     |https://cdn.sofifa.org/players/4/19/190871.png|\n",
            "|De Gea           |€260K|27 |Spain      |https://cdn.sofifa.org/players/4/19/193080.png|\n",
            "|K. De Bruyne     |€355K|27 |Belgium    |https://cdn.sofifa.org/players/4/19/192985.png|\n",
            "+-----------------+-----+---+-----------+----------------------------------------------+\n",
            "only showing top 5 rows\n",
            "\n"
          ]
        }
      ]
    },
    {
      "cell_type": "code",
      "source": [
        "fifa.select(['Name','Wage','Age','Nationality' ,'Photo']).orderBy(fifa[\"Age\"]).show(6)"
      ],
      "metadata": {
        "colab": {
          "base_uri": "https://localhost:8080/"
        },
        "id": "D_ai7CSPyc7c",
        "outputId": "dc158099-fb28-4dc6-a07c-f1a85c9786f2"
      },
      "execution_count": 19,
      "outputs": [
        {
          "output_type": "stream",
          "name": "stdout",
          "text": [
            "+-------------------+----+---+-----------+--------------------+\n",
            "|               Name|Wage|Age|Nationality|               Photo|\n",
            "+-------------------+----+---+-----------+--------------------+\n",
            "|    Vinícius Júnior|€66K| 17|     Brazil|https://cdn.sofif...|\n",
            "|         M. de Ligt|€11K| 18|Netherlands|https://cdn.sofif...|\n",
            "|       R. Sessegnon|€27K| 18|    England|https://cdn.sofif...|\n",
            "|          J. Sancho|€22K| 18|    England|https://cdn.sofif...|\n",
            "|          A. Lafont|€12K| 19|     France|https://cdn.sofif...|\n",
            "|T. Alexander-Arnold|€36K| 19|    England|https://cdn.sofif...|\n",
            "+-------------------+----+---+-----------+--------------------+\n",
            "only showing top 6 rows\n",
            "\n"
          ]
        }
      ]
    },
    {
      "cell_type": "code",
      "source": [
        "fifa.select(['Name','Wage','Age','Nationality' ,'Photo']).orderBy(fifa[\"Age\"].desc()).show(6)"
      ],
      "metadata": {
        "colab": {
          "base_uri": "https://localhost:8080/"
        },
        "id": "R3tvbosJyc4a",
        "outputId": "3f3e0d1d-6306-4373-dc04-029b0f2134f3"
      },
      "execution_count": 20,
      "outputs": [
        {
          "output_type": "stream",
          "name": "stdout",
          "text": [
            "+-------------+----+---+-----------+--------------------+\n",
            "|         Name|Wage|Age|Nationality|               Photo|\n",
            "+-------------+----+---+-----------+--------------------+\n",
            "|    J. Villar|  €0| 41|   Paraguay|https://cdn.sofif...|\n",
            "|    G. Buffon|€77K| 40|      Italy|https://cdn.sofif...|\n",
            "|  A. Bizzarri| €2K| 40|  Argentina|https://cdn.sofif...|\n",
            "|       Hilton|€18K| 40|     Brazil|https://cdn.sofif...|\n",
            "|S. Sorrentino|€10K| 39|      Italy|https://cdn.sofif...|\n",
            "|   P. Guiñazú|€10K| 39|  Argentina|https://cdn.sofif...|\n",
            "+-------------+----+---+-----------+--------------------+\n",
            "only showing top 6 rows\n",
            "\n"
          ]
        }
      ]
    },
    {
      "cell_type": "code",
      "source": [
        "fifa.select(['Name','Wage','Age','Nationality' ,'Photo']).where(fifa.Nationality.like(\"%ermany\")).show()"
      ],
      "metadata": {
        "colab": {
          "base_uri": "https://localhost:8080/"
        },
        "id": "lQfdW0eTyc2N",
        "outputId": "8d485be7-137f-4a96-d96d-301f3fed53c4"
      },
      "execution_count": 21,
      "outputs": [
        {
          "output_type": "stream",
          "name": "stdout",
          "text": [
            "+-------------+-----+---+-----------+--------------------+\n",
            "|         Name| Wage|Age|Nationality|               Photo|\n",
            "+-------------+-----+---+-----------+--------------------+\n",
            "|     T. Kroos|€355K| 28|    Germany|https://cdn.sofif...|\n",
            "|M. ter Stegen|€240K| 26|    Germany|https://cdn.sofif...|\n",
            "|     M. Neuer|€130K| 32|    Germany|https://cdn.sofif...|\n",
            "|   M. Hummels|€160K| 29|    Germany|https://cdn.sofif...|\n",
            "|      L. Sané|€195K| 22|    Germany|https://cdn.sofif...|\n",
            "|    T. Müller|€135K| 28|    Germany|https://cdn.sofif...|\n",
            "|      M. Reus|€100K| 29|    Germany|https://cdn.sofif...|\n",
            "|      M. Özil|€190K| 29|    Germany|https://cdn.sofif...|\n",
            "|   J. Kimmich| €92K| 23|    Germany|https://cdn.sofif...|\n",
            "|   J. Boateng|€115K| 29|    Germany|https://cdn.sofif...|\n",
            "|   S. Khedira|€160K| 31|    Germany|https://cdn.sofif...|\n",
            "|      N. Süle| €84K| 22|    Germany|https://cdn.sofif...|\n",
            "|      B. Leno|€115K| 26|    Germany|https://cdn.sofif...|\n",
            "|  I. Gündoğan|€175K| 27|    Germany|https://cdn.sofif...|\n",
            "|       J. Tah| €67K| 22|    Germany|https://cdn.sofif...|\n",
            "|    T. Werner| €70K| 22|    Germany|https://cdn.sofif...|\n",
            "|  L. Goretzka| €85K| 23|    Germany|https://cdn.sofif...|\n",
            "|    S. Gnabry| €85K| 22|    Germany|https://cdn.sofif...|\n",
            "|   J. Draxler| €91K| 24|    Germany|https://cdn.sofif...|\n",
            "|      T. Horn| €25K| 25|    Germany|https://cdn.sofif...|\n",
            "+-------------+-----+---+-----------+--------------------+\n",
            "only showing top 20 rows\n",
            "\n"
          ]
        }
      ]
    },
    {
      "cell_type": "code",
      "source": [
        "fifa.select(['Name','Wage','Age','Nationality','Club' ,'Photo',fifa.Photo.substr(-4,4)]).where(fifa.Nationality.like(\"%ermany\") & fifa.Name.like(\"%Horn%\")).show()"
      ],
      "metadata": {
        "colab": {
          "base_uri": "https://localhost:8080/"
        },
        "id": "LmXDIBLwyc0F",
        "outputId": "3f0fbf25-df99-4ab8-8d2f-08b4b1af2fe3"
      },
      "execution_count": 22,
      "outputs": [
        {
          "output_type": "stream",
          "name": "stdout",
          "text": [
            "+-------+----+---+-----------+----------+--------------------+-----------------------+\n",
            "|   Name|Wage|Age|Nationality|      Club|               Photo|substring(Photo, -4, 4)|\n",
            "+-------+----+---+-----------+----------+--------------------+-----------------------+\n",
            "|T. Horn|€25K| 25|    Germany|1. FC Köln|https://cdn.sofif...|                   .png|\n",
            "+-------+----+---+-----------+----------+--------------------+-----------------------+\n",
            "\n"
          ]
        }
      ]
    },
    {
      "cell_type": "code",
      "source": [
        "fifa[fifa.Club.isin(\"FC Barcelona\", \"Manchester United\")].show()"
      ],
      "metadata": {
        "colab": {
          "base_uri": "https://localhost:8080/"
        },
        "id": "BXOvvBhwycx6",
        "outputId": "1862983f-b7dd-441d-b63a-faa4dd6de6e3"
      },
      "execution_count": 23,
      "outputs": [
        {
          "output_type": "stream",
          "name": "stdout",
          "text": [
            "+---+------+---------------+---+--------------------+-----------+--------------------+-------+---------+-----------------+--------------------+-------+-----+-------+--------------+------------------------+---------+-----------+--------------+---------+---------+--------+-------------+------------+-----------+--------------------+------+------+----+----+----+----+----+----+----+----+----+----+----+----+----+----+----+----+----+----+----+----+----+----+----+----+----+----+--------+---------+---------------+------------+-------+---------+-----+----------+-----------+-----------+------------+-----------+-------+---------+-------+---------+-------+-------+--------+---------+----------+-------------+-----------+------+---------+---------+-------+--------------+-------------+--------+----------+---------+-------------+----------+--------------+\n",
            "|_c0|    ID|           Name|Age|               Photo|Nationality|                Flag|Overall|Potential|             Club|           Club Logo|  Value| Wage|Special|Preferred Foot|International Reputation|Weak Foot|Skill Moves|     Work Rate|Body Type|Real Face|Position|Jersey Number|      Joined|Loaned From|Contract Valid Until|Height|Weight|  LS|  ST|  RS|  LW|  LF|  CF|  RF|  RW| LAM| CAM| RAM|  LM| LCM|  CM| RCM|  RM| LWB| LDM| CDM| RDM| RWB|  LB| LCB|  CB| RCB|  RB|Crossing|Finishing|HeadingAccuracy|ShortPassing|Volleys|Dribbling|Curve|FKAccuracy|LongPassing|BallControl|Acceleration|SprintSpeed|Agility|Reactions|Balance|ShotPower|Jumping|Stamina|Strength|LongShots|Aggression|Interceptions|Positioning|Vision|Penalties|Composure|Marking|StandingTackle|SlidingTackle|GKDiving|GKHandling|GKKicking|GKPositioning|GKReflexes|Release Clause|\n",
            "+---+------+---------------+---+--------------------+-----------+--------------------+-------+---------+-----------------+--------------------+-------+-----+-------+--------------+------------------------+---------+-----------+--------------+---------+---------+--------+-------------+------------+-----------+--------------------+------+------+----+----+----+----+----+----+----+----+----+----+----+----+----+----+----+----+----+----+----+----+----+----+----+----+----+----+--------+---------+---------------+------------+-------+---------+-----+----------+-----------+-----------+------------+-----------+-------+---------+-------+---------+-------+-------+--------+---------+----------+-------------+-----------+------+---------+---------+-------+--------------+-------------+--------+----------+---------+-------------+----------+--------------+\n",
            "|  0|158023|       L. Messi| 31|https://cdn.sofif...|  Argentina|https://cdn.sofif...|     94|       94|     FC Barcelona|https://cdn.sofif...|€110.5M|€565K|   2202|          Left|                       5|        4|          4|Medium/ Medium|    Messi|      Yes|      RF|           10| Jul 1, 2004|       null|                2021|   5'7|159lbs|88+2|88+2|88+2|92+2|93+2|93+2|93+2|92+2|93+2|93+2|93+2|91+2|84+2|84+2|84+2|91+2|64+2|61+2|61+2|61+2|64+2|59+2|47+2|47+2|47+2|59+2|      84|       95|             70|          90|     86|       97|   93|        94|         87|         96|          91|         86|     91|       95|     95|       85|     68|     72|      59|       94|        48|           22|         94|    94|       75|       96|     33|            28|           26|       6|        11|       15|           14|         8|       €226.5M|\n",
            "|  3|193080|         De Gea| 27|https://cdn.sofif...|      Spain|https://cdn.sofif...|     91|       93|Manchester United|https://cdn.sofif...|   €72M|€260K|   1471|         Right|                       4|        3|          1|Medium/ Medium|     Lean|      Yes|      GK|            1| Jul 1, 2011|       null|                2020|   6'4|168lbs|null|null|null|null|null|null|null|null|null|null|null|null|null|null|null|null|null|null|null|null|null|null|null|null|null|null|      17|       13|             21|          50|     13|       18|   21|        19|         51|         42|          57|         58|     60|       90|     43|       31|     67|     43|      64|       12|        38|           30|         12|    68|       40|       68|     15|            21|           13|      90|        85|       87|           88|        94|       €138.6M|\n",
            "|  7|176580|      L. Suárez| 31|https://cdn.sofif...|    Uruguay|https://cdn.sofif...|     91|       91|     FC Barcelona|https://cdn.sofif...|   €80M|€455K|   2346|         Right|                       5|        4|          3|  High/ Medium|   Normal|      Yes|      RS|            9|Jul 11, 2014|       null|                2021|   6'0|190lbs|87+5|87+5|87+5|86+5|87+5|87+5|87+5|86+5|85+5|85+5|85+5|84+5|79+5|79+5|79+5|84+5|69+5|68+5|68+5|68+5|69+5|66+5|63+5|63+5|63+5|66+5|      77|       93|             77|          82|     88|       87|   86|        84|         64|         90|          86|         75|     82|       92|     83|       86|     69|     90|      83|       85|        87|           41|         92|    84|       85|       85|     62|            45|           38|      27|        25|       31|           33|        37|         €164M|\n",
            "| 18|192448|  M. ter Stegen| 26|https://cdn.sofif...|    Germany|https://cdn.sofif...|     89|       92|     FC Barcelona|https://cdn.sofif...|   €58M|€240K|   1328|         Right|                       3|        4|          1|Medium/ Medium|   Normal|      Yes|      GK|           22| Jul 1, 2014|       null|                2022|   6'2|187lbs|null|null|null|null|null|null|null|null|null|null|null|null|null|null|null|null|null|null|null|null|null|null|null|null|null|null|      15|       14|             11|          36|     14|       17|   18|        12|         42|         18|          38|         50|     37|       85|     43|       22|     79|     35|      79|       10|        43|           22|         11|    69|       25|       69|     25|            13|           10|      87|        85|       88|           85|        90|       €123.3M|\n",
            "| 20|189511|Sergio Busquets| 29|https://cdn.sofif...|      Spain|https://cdn.sofif...|     89|       89|     FC Barcelona|https://cdn.sofif...| €51.5M|€315K|   2065|         Right|                       4|        3|          3|Medium/ Medium|     Lean|      Yes|     CDM|            5| Sep 1, 2008|       null|                2023|   6'2|168lbs|71+3|71+3|71+3|74+3|76+3|76+3|76+3|74+3|79+3|79+3|79+3|76+3|83+3|83+3|83+3|76+3|79+3|86+3|86+3|86+3|79+3|78+3|82+3|82+3|82+3|78+3|      62|       67|             68|          89|     44|       80|   66|        68|         82|         88|          50|         52|     66|       87|     52|       61|     66|     86|      77|       54|        85|           87|         77|    87|       60|       90|     90|            86|           80|       5|         8|       13|            9|        13|       €105.6M|\n",
            "| 32|189242|       Coutinho| 26|https://cdn.sofif...|     Brazil|https://cdn.sofif...|     88|       89|     FC Barcelona|https://cdn.sofif...| €69.5M|€340K|   2175|         Right|                       3|        4|          5|    High/ High|   Normal|      Yes|      LW|            7| Jan 6, 2018|       null|                2023|   5'8|150lbs|79+3|79+3|79+3|86+3|85+3|85+3|85+3|86+3|87+3|87+3|87+3|85+3|83+3|83+3|83+3|85+3|71+3|70+3|70+3|70+3|71+3|67+3|58+3|58+3|58+3|67+3|      79|       79|             48|          88|     75|       91|   91|        86|         83|         92|          89|         75|     92|       83|     93|       83|     59|     79|      61|       93|        59|           49|         84|    90|       70|       85|     55|            54|           47|      12|         7|        9|           14|         6|       €147.7M|\n",
            "| 42|205600|      S. Umtiti| 24|https://cdn.sofif...|     France|https://cdn.sofif...|     87|       92|     FC Barcelona|https://cdn.sofif...|   €57M|€205K|   2147|          Left|                       3|        3|          2|  Medium/ High|   Normal|      Yes|      CB|           23|Jul 12, 2016|       null|                2023|   6'0|165lbs|70+3|70+3|70+3|69+3|69+3|69+3|69+3|69+3|69+3|69+3|69+3|70+3|73+3|73+3|73+3|70+3|80+3|81+3|81+3|81+3|80+3|81+3|84+3|84+3|84+3|81+3|      69|       51|             79|          81|     70|       69|   72|        62|         73|         77|          71|         73|     68|       82|     66|       83|     89|     78|      84|       74|        81|           87|         58|    58|       61|       82|     90|            89|           86|      15|        10|       14|           12|        15|       €121.1M|\n",
            "| 45|195864|       P. Pogba| 25|https://cdn.sofif...|     France|https://cdn.sofif...|     87|       91|Manchester United|https://cdn.sofif...|   €64M|€210K|   2247|         Right|                       4|        4|          5|     High/ Low|   Normal|      Yes|     RDM|            6| Aug 9, 2016|       null|                2021|   6'4|185lbs|81+3|81+3|81+3|82+3|82+3|82+3|82+3|82+3|83+3|83+3|83+3|83+3|84+3|84+3|84+3|83+3|77+3|78+3|78+3|78+3|77+3|75+3|74+3|74+3|74+3|75+3|      80|       73|             73|          86|     85|       87|   84|        82|         90|         90|          71|         79|     74|       81|     64|       90|     83|     88|      89|       81|        78|           66|         81|    87|       81|       87|     66|            70|           68|       5|         6|        2|            4|         3|       €123.2M|\n",
            "| 47|192505|      R. Lukaku| 25|https://cdn.sofif...|    Belgium|https://cdn.sofif...|     87|       89|Manchester United|https://cdn.sofif...| €62.5M|€230K|   2031|          Left|                       3|        3|          3|Medium/ Medium|   Stocky|      Yes|      ST|            9|Jul 10, 2017|       null|                2022|   6'3|207lbs|84+3|84+3|84+3|79+3|81+3|81+3|81+3|79+3|78+3|78+3|78+3|79+3|72+3|72+3|72+3|79+3|60+3|58+3|58+3|58+3|60+3|57+3|54+3|54+3|54+3|57+3|      78|       87|             86|          77|     79|       80|   74|        66|         73|         72|          77|         90|     60|       86|     46|       88|     71|     84|      94|       74|        75|           27|         89|    76|       78|       83|     30|            30|           30|       8|        15|       14|            7|        10|       €120.3M|\n",
            "| 49|189332|     Jordi Alba| 29|https://cdn.sofif...|      Spain|https://cdn.sofif...|     87|       87|     FC Barcelona|https://cdn.sofif...|   €38M|€250K|   2230|          Left|                       3|        3|          3|  High/ Medium|   Normal|      Yes|      LB|           18| Jul 1, 2012|       null|                2020|   5'7|150lbs|76+3|76+3|76+3|81+3|79+3|79+3|79+3|81+3|79+3|79+3|79+3|82+3|79+3|79+3|79+3|82+3|84+3|80+3|80+3|80+3|84+3|84+3|78+3|78+3|78+3|84+3|      87|       73|             70|          84|     60|       80|   80|        63|         74|         84|          93|         93|     90|       83|     85|       64|     81|     91|      61|       66|        75|           84|         79|    70|       59|       79|     72|            84|           85|      13|        15|       13|            6|        13|        €77.9M|\n",
            "| 53|168651|     I. Rakitić| 30|https://cdn.sofif...|    Croatia|https://cdn.sofif...|     87|       87|     FC Barcelona|https://cdn.sofif...| €46.5M|€260K|   2184|         Right|                       4|        3|          3|    High/ High|   Normal|      Yes|     RCM|            4| Jul 1, 2014|       null|                2021|   6'0|172lbs|77+3|77+3|77+3|80+3|81+3|81+3|81+3|80+3|82+3|82+3|82+3|81+3|84+3|84+3|84+3|81+3|77+3|79+3|79+3|79+3|77+3|75+3|70+3|70+3|70+3|75+3|      84|       83|             58|          87|     80|       84|   88|        84|         90|         87|          66|         59|     72|       77|     66|       84|     39|     84|      66|       90|        67|           75|         79|    86|       82|       81|     72|            74|           70|      14|        11|       12|            5|         9|        €95.3M|\n",
            "| 54|152729|          Piqué| 31|https://cdn.sofif...|      Spain|https://cdn.sofif...|     87|       87|     FC Barcelona|https://cdn.sofif...|   €34M|€240K|   1950|         Right|                       4|        3|          2|  High/ Medium|   Normal|      Yes|     RCB|            3| Jul 1, 2008|       null|                2022|   6'4|187lbs|68+3|68+3|68+3|64+3|66+3|66+3|66+3|64+3|67+3|67+3|67+3|66+3|73+3|73+3|73+3|66+3|75+3|81+3|81+3|81+3|75+3|77+3|83+3|83+3|83+3|77+3|      57|       64|             83|          81|     57|       59|   58|        43|         80|         78|          49|         60|     58|       84|     36|       62|     74|     65|      83|       51|        72|           88|         58|    62|       69|       86|     91|            86|           84|      10|        11|       14|           15|         8|        €69.7M|\n",
            "| 93|184941|     A. Sánchez| 29|https://cdn.sofif...|      Chile|https://cdn.sofif...|     85|       85|Manchester United|https://cdn.sofif...| €37.5M|€215K|   2172|         Right|                       4|        3|          4|    High/ High|   Normal|      Yes|      RW|            7|Jan 22, 2018|       null|                2022|   5'7|163lbs|81+3|81+3|81+3|82+3|82+3|82+3|82+3|82+3|82+3|82+3|82+3|82+3|77+3|77+3|77+3|82+3|65+3|64+3|64+3|64+3|65+3|62+3|57+3|57+3|57+3|62+3|      77|       80|             73|          77|     83|       87|   79|        78|         75|         86|          86|         79|     90|       83|     87|       84|     87|     83|      72|       81|        79|           46|         84|    82|       77|       84|     38|            44|           35|      10|        10|       15|           12|        13|        €69.4M|\n",
            "| 96|181872|       A. Vidal| 31|https://cdn.sofif...|      Chile|https://cdn.sofif...|     85|       85|     FC Barcelona|https://cdn.sofif...|   €26M|€205K|   2230|         Right|                       4|        4|          3|Medium/ Medium|   Normal|      Yes|     CAM|            8| Aug 6, 2018|       null|                2021|  5'11|165lbs|78+3|78+3|78+3|76+3|78+3|78+3|78+3|76+3|78+3|78+3|78+3|76+3|81+3|81+3|81+3|76+3|79+3|83+3|83+3|83+3|79+3|80+3|83+3|83+3|83+3|80+3|      76|       75|             82|          83|     78|       76|   76|        68|         79|         82|          60|         55|     74|       84|     75|       86|     85|     83|      79|       85|        93|           84|         80|    80|       81|       81|     82|            87|           86|       4|         2|        4|            2|         4|        €53.3M|\n",
            "|116|211300|     A. Martial| 22|https://cdn.sofif...|     France|https://cdn.sofif...|     84|       90|Manchester United|https://cdn.sofif...| €42.5M|€165K|   2064|         Right|                       3|        3|          4|Medium/ Medium|   Normal|      Yes|      LW|           11| Sep 1, 2015|       null|                2019|   6'0|168lbs|81+3|81+3|81+3|82+3|82+3|82+3|82+3|82+3|80+3|80+3|80+3|81+3|73+3|73+3|73+3|81+3|64+3|60+3|60+3|60+3|64+3|61+3|54+3|54+3|54+3|61+3|      76|       84|             69|          77|     74|       87|   84|        54|         60|         86|          88|         89|     85|       81|     81|       84|     74|     75|      75|       80|        58|           42|         83|    73|       81|       79|     38|            39|           36|       9|         8|        8|           15|        11|        €87.1M|\n",
            "|132|191202|       N. Matić| 29|https://cdn.sofif...|     Serbia|https://cdn.sofif...|     84|       84|Manchester United|https://cdn.sofif...|   €24M|€165K|   2100|          Left|                       3|        3|          3|  Medium/ High|     Lean|      Yes|     CDM|           31|Jul 31, 2017|       null|                2020|   6'4|187lbs|73+3|73+3|73+3|72+3|74+3|74+3|74+3|72+3|74+3|74+3|74+3|74+3|79+3|79+3|79+3|74+3|78+3|82+3|82+3|82+3|78+3|77+3|80+3|80+3|80+3|77+3|      71|       64|             74|          84|     73|       80|   72|        67|         83|         79|          52|         59|     44|       83|     50|       83|     67|     84|      85|       75|        80|           86|         69|    73|       64|       84|     83|            84|           75|       7|        15|       12|           14|         9|        €44.4M|\n",
            "|155|231443|     O. Dembélé| 21|https://cdn.sofif...|     France|https://cdn.sofif...|     83|       92|     FC Barcelona|https://cdn.sofif...|   €40M|€155K|   1993|          Left|                       3|        5|          4|     High/ Low|     Lean|      Yes|      RW|           11|Aug 28, 2017|       null|                2022|  5'10|148lbs|76+3|76+3|76+3|83+3|82+3|82+3|82+3|83+3|82+3|82+3|82+3|82+3|74+3|74+3|74+3|82+3|63+3|58+3|58+3|58+3|63+3|59+3|46+3|46+3|46+3|59+3|      78|       78|             43|          78|     76|       90|   78|        64|         70|         83|          93|         92|     90|       82|     85|       83|     59|     73|      46|       70|        54|           36|         79|    84|       75|       75|     42|            30|           33|       6|         6|       14|           10|        13|          €90M|\n",
            "|192|199564|  Sergi Roberto| 26|https://cdn.sofif...|      Spain|https://cdn.sofif...|     83|       86|     FC Barcelona|https://cdn.sofif...| €26.5M|€170K|   2106|         Right|                       3|        3|          4|    High/ High|   Normal|      Yes|      RB|           20| Jul 1, 2013|       null|                2022|  5'10|150lbs|71+3|71+3|71+3|77+3|76+3|76+3|76+3|77+3|78+3|78+3|78+3|79+3|80+3|80+3|80+3|79+3|82+3|80+3|80+3|80+3|82+3|81+3|76+3|76+3|76+3|81+3|      85|       63|             72|          86|     50|       78|   74|        60|         78|         83|          78|         79|     69|       80|     74|       65|     47|     85|      69|       66|        68|           81|         69|    83|       57|       76|     75|            83|           83|      14|        16|       11|           15|        10|        €56.3M|\n",
            "|211|178088|      Juan Mata| 30|https://cdn.sofif...|      Spain|https://cdn.sofif...|     83|       83|Manchester United|https://cdn.sofif...| €24.5M|€160K|   1984|          Left|                       3|        3|          4|Medium/ Medium|     Lean|      Yes|      RM|            8|Jan 25, 2014|       null|                2019|   5'7|139lbs|74+3|74+3|74+3|80+3|80+3|80+3|80+3|80+3|82+3|82+3|82+3|80+3|77+3|77+3|77+3|80+3|61+3|60+3|60+3|60+3|61+3|56+3|46+3|46+3|46+3|56+3|      83|       78|             56|          85|     71|       82|   84|        86|         79|         88|          69|         62|     84|       85|     89|       75|     70|     71|      37|       72|        50|           39|         83|    85|       81|       87|     42|            31|           21|       9|        10|       14|            5|         8|        €45.3M|\n",
            "|228|230658|         Arthur| 21|https://cdn.sofif...|     Brazil|https://cdn.sofif...|     82|       90|     FC Barcelona|https://cdn.sofif...| €32.5M|€125K|   2120|         Right|                       1|        3|          4|Medium/ Medium|   Normal|       No|     LCM|            8| Jul 9, 2018|       null|                2024|   5'7|161lbs|73+2|73+2|73+2|77+2|78+2|78+2|78+2|77+2|79+2|79+2|79+2|78+2|80+2|80+2|80+2|78+2|75+2|76+2|76+2|76+2|75+2|73+2|71+2|71+2|71+2|73+2|      70|       72|             58|          85|     63|       82|   68|        60|         80|         83|          68|         70|     79|       81|     86|       76|     83|     78|      62|       74|        73|           75|         77|    82|       69|       84|     65|            76|           70|       6|        13|       13|           11|        12|        €73.1M|\n",
            "+---+------+---------------+---+--------------------+-----------+--------------------+-------+---------+-----------------+--------------------+-------+-----+-------+--------------+------------------------+---------+-----------+--------------+---------+---------+--------+-------------+------------+-----------+--------------------+------+------+----+----+----+----+----+----+----+----+----+----+----+----+----+----+----+----+----+----+----+----+----+----+----+----+----+----+--------+---------+---------------+------------+-------+---------+-----+----------+-----------+-----------+------------+-----------+-------+---------+-------+---------+-------+-------+--------+---------+----------+-------------+-----------+------+---------+---------+-------+--------------+-------------+--------+----------+---------+-------------+----------+--------------+\n",
            "only showing top 20 rows\n",
            "\n"
          ]
        }
      ]
    },
    {
      "cell_type": "code",
      "source": [
        "fifa.select(['Name','Wage','Age','Nationality','Club' ,'Photo']).where(fifa.Name.startswith(\"J\") & fifa.Name.endswith(\"a\")).show()"
      ],
      "metadata": {
        "colab": {
          "base_uri": "https://localhost:8080/"
        },
        "id": "T0yPN-Goycuh",
        "outputId": "6cfed485-5105-47f2-a379-04a7408410e9"
      },
      "execution_count": 24,
      "outputs": [
        {
          "output_type": "stream",
          "name": "stdout",
          "text": [
            "+----------------+-----+---+--------------+--------------------+--------------------+\n",
            "|            Name| Wage|Age|   Nationality|                Club|               Photo|\n",
            "+----------------+-----+---+--------------+--------------------+--------------------+\n",
            "|      Jordi Alba|€250K| 29|         Spain|        FC Barcelona|https://cdn.sofif...|\n",
            "|Josué Chiamulera| €43K| 26|        Brazil|              Grêmio|https://cdn.sofif...|\n",
            "|       Juan Mata|€160K| 30|         Spain|   Manchester United|https://cdn.sofif...|\n",
            "|     J. Pavlenka| €30K| 26|Czech Republic|    SV Werder Bremen|https://cdn.sofif...|\n",
            "|  Jonathan Viera| €31K| 28|         Spain|Beijing Sinobo Gu...|https://cdn.sofif...|\n",
            "|       J. Corona| €18K| 25|        Mexico|            FC Porto|https://cdn.sofif...|\n",
            "|        J. Lerma| €55K| 23|      Colombia|         Bournemouth|https://cdn.sofif...|\n",
            "|     Jaume Costa| €34K| 30|         Spain|       Villarreal CF|https://cdn.sofif...|\n",
            "|       J. Correa| €42K| 23|     Argentina|               Lazio|https://cdn.sofif...|\n",
            "|       J. Mojica| €28K| 25|      Colombia|           Girona FC|https://cdn.sofif...|\n",
            "|     Javi García| €23K| 31|         Spain|          Real Betis|https://cdn.sofif...|\n",
            "|       J. Pinola| €16K| 35|     Argentina|         River Plate|https://cdn.sofif...|\n",
            "|     J. Valdivia| €10K| 34|         Chile|           Colo-Colo|https://cdn.sofif...|\n",
            "|    Jorge Molina| €20K| 36|         Spain|           Getafe CF|https://cdn.sofif...|\n",
            "|        J. Kucka| €32K| 31|      Slovakia|         Trabzonspor|https://cdn.sofif...|\n",
            "|      J. Maidana| €22K| 32|     Argentina|         River Plate|https://cdn.sofif...|\n",
            "|         J. Sosa| €30K| 33|     Argentina|         Trabzonspor|https://cdn.sofif...|\n",
            "|  Júnior Caiçara| €24K| 29|        Brazil|Medipol Başakşehi...|https://cdn.sofif...|\n",
            "|        J. Bruma| €35K| 26|   Netherlands|       VfL Wolfsburg|https://cdn.sofif...|\n",
            "|      J. Locadia| €40K| 24|   Netherlands|Brighton & Hove A...|https://cdn.sofif...|\n",
            "+----------------+-----+---+--------------+--------------------+--------------------+\n",
            "only showing top 20 rows\n",
            "\n"
          ]
        }
      ]
    },
    {
      "cell_type": "code",
      "source": [
        "fifa.count()"
      ],
      "metadata": {
        "colab": {
          "base_uri": "https://localhost:8080/"
        },
        "id": "J8m-oJ4_ycp8",
        "outputId": "7b8438d8-e811-4827-c951-86e6c73a93e7"
      },
      "execution_count": 26,
      "outputs": [
        {
          "output_type": "execute_result",
          "data": {
            "text/plain": [
              "2089"
            ]
          },
          "metadata": {},
          "execution_count": 26
        }
      ]
    },
    {
      "cell_type": "code",
      "source": [
        "fifa.filter(\"Overall>90\").show()"
      ],
      "metadata": {
        "colab": {
          "base_uri": "https://localhost:8080/"
        },
        "id": "K7LjYildycnJ",
        "outputId": "7d902f6a-2275-478b-eccf-f899949af390"
      },
      "execution_count": 25,
      "outputs": [
        {
          "output_type": "stream",
          "name": "stdout",
          "text": [
            "+---+------+-----------------+---+--------------------+-----------+--------------------+-------+---------+-------------------+--------------------+-------+-----+-------+--------------+------------------------+---------+-----------+--------------+----------+---------+--------+-------------+------------+-----------+--------------------+------+------+----+----+----+----+----+----+----+----+----+----+----+----+----+----+----+----+----+----+----+----+----+----+----+----+----+----+--------+---------+---------------+------------+-------+---------+-----+----------+-----------+-----------+------------+-----------+-------+---------+-------+---------+-------+-------+--------+---------+----------+-------------+-----------+------+---------+---------+-------+--------------+-------------+--------+----------+---------+-------------+----------+--------------+\n",
            "|_c0|    ID|             Name|Age|               Photo|Nationality|                Flag|Overall|Potential|               Club|           Club Logo|  Value| Wage|Special|Preferred Foot|International Reputation|Weak Foot|Skill Moves|     Work Rate| Body Type|Real Face|Position|Jersey Number|      Joined|Loaned From|Contract Valid Until|Height|Weight|  LS|  ST|  RS|  LW|  LF|  CF|  RF|  RW| LAM| CAM| RAM|  LM| LCM|  CM| RCM|  RM| LWB| LDM| CDM| RDM| RWB|  LB| LCB|  CB| RCB|  RB|Crossing|Finishing|HeadingAccuracy|ShortPassing|Volleys|Dribbling|Curve|FKAccuracy|LongPassing|BallControl|Acceleration|SprintSpeed|Agility|Reactions|Balance|ShotPower|Jumping|Stamina|Strength|LongShots|Aggression|Interceptions|Positioning|Vision|Penalties|Composure|Marking|StandingTackle|SlidingTackle|GKDiving|GKHandling|GKKicking|GKPositioning|GKReflexes|Release Clause|\n",
            "+---+------+-----------------+---+--------------------+-----------+--------------------+-------+---------+-------------------+--------------------+-------+-----+-------+--------------+------------------------+---------+-----------+--------------+----------+---------+--------+-------------+------------+-----------+--------------------+------+------+----+----+----+----+----+----+----+----+----+----+----+----+----+----+----+----+----+----+----+----+----+----+----+----+----+----+--------+---------+---------------+------------+-------+---------+-----+----------+-----------+-----------+------------+-----------+-------+---------+-------+---------+-------+-------+--------+---------+----------+-------------+-----------+------+---------+---------+-------+--------------+-------------+--------+----------+---------+-------------+----------+--------------+\n",
            "|  0|158023|         L. Messi| 31|https://cdn.sofif...|  Argentina|https://cdn.sofif...|     94|       94|       FC Barcelona|https://cdn.sofif...|€110.5M|€565K|   2202|          Left|                       5|        4|          4|Medium/ Medium|     Messi|      Yes|      RF|           10| Jul 1, 2004|       null|                2021|   5'7|159lbs|88+2|88+2|88+2|92+2|93+2|93+2|93+2|92+2|93+2|93+2|93+2|91+2|84+2|84+2|84+2|91+2|64+2|61+2|61+2|61+2|64+2|59+2|47+2|47+2|47+2|59+2|      84|       95|             70|          90|     86|       97|   93|        94|         87|         96|          91|         86|     91|       95|     95|       85|     68|     72|      59|       94|        48|           22|         94|    94|       75|       96|     33|            28|           26|       6|        11|       15|           14|         8|       €226.5M|\n",
            "|  1| 20801|Cristiano Ronaldo| 33|https://cdn.sofif...|   Portugal|https://cdn.sofif...|     94|       94|           Juventus|https://cdn.sofif...|   €77M|€405K|   2228|         Right|                       5|        4|          5|     High/ Low|C. Ronaldo|      Yes|      ST|            7|Jul 10, 2018|       null|                2022|   6'2|183lbs|91+3|91+3|91+3|89+3|90+3|90+3|90+3|89+3|88+3|88+3|88+3|88+3|81+3|81+3|81+3|88+3|65+3|61+3|61+3|61+3|65+3|61+3|53+3|53+3|53+3|61+3|      84|       94|             89|          81|     87|       88|   81|        76|         77|         94|          89|         91|     87|       96|     70|       95|     95|     88|      79|       93|        63|           29|         95|    82|       85|       95|     28|            31|           23|       7|        11|       15|           14|        11|       €127.1M|\n",
            "|  2|190871|        Neymar Jr| 26|https://cdn.sofif...|     Brazil|https://cdn.sofif...|     92|       93|Paris Saint-Germain|https://cdn.sofif...|€118.5M|€290K|   2143|         Right|                       5|        5|          5|  High/ Medium|    Neymar|      Yes|      LW|           10| Aug 3, 2017|       null|                2022|   5'9|150lbs|84+3|84+3|84+3|89+3|89+3|89+3|89+3|89+3|89+3|89+3|89+3|88+3|81+3|81+3|81+3|88+3|65+3|60+3|60+3|60+3|65+3|60+3|47+3|47+3|47+3|60+3|      79|       87|             62|          84|     84|       96|   88|        87|         78|         95|          94|         90|     96|       94|     84|       80|     61|     81|      49|       82|        56|           36|         89|    87|       81|       94|     27|            24|           33|       9|         9|       15|           15|        11|       €228.1M|\n",
            "|  3|193080|           De Gea| 27|https://cdn.sofif...|      Spain|https://cdn.sofif...|     91|       93|  Manchester United|https://cdn.sofif...|   €72M|€260K|   1471|         Right|                       4|        3|          1|Medium/ Medium|      Lean|      Yes|      GK|            1| Jul 1, 2011|       null|                2020|   6'4|168lbs|null|null|null|null|null|null|null|null|null|null|null|null|null|null|null|null|null|null|null|null|null|null|null|null|null|null|      17|       13|             21|          50|     13|       18|   21|        19|         51|         42|          57|         58|     60|       90|     43|       31|     67|     43|      64|       12|        38|           30|         12|    68|       40|       68|     15|            21|           13|      90|        85|       87|           88|        94|       €138.6M|\n",
            "|  4|192985|     K. De Bruyne| 27|https://cdn.sofif...|    Belgium|https://cdn.sofif...|     91|       92|    Manchester City|https://cdn.sofif...|  €102M|€355K|   2281|         Right|                       4|        5|          4|    High/ High|    Normal|      Yes|     RCM|            7|Aug 30, 2015|       null|                2023|  5'11|154lbs|82+3|82+3|82+3|87+3|87+3|87+3|87+3|87+3|88+3|88+3|88+3|88+3|87+3|87+3|87+3|88+3|77+3|77+3|77+3|77+3|77+3|73+3|66+3|66+3|66+3|73+3|      93|       82|             55|          92|     82|       86|   85|        83|         91|         91|          78|         76|     79|       91|     77|       91|     63|     90|      75|       91|        76|           61|         87|    94|       79|       88|     68|            58|           51|      15|        13|        5|           10|        13|       €196.4M|\n",
            "|  5|183277|        E. Hazard| 27|https://cdn.sofif...|    Belgium|https://cdn.sofif...|     91|       91|            Chelsea|https://cdn.sofif...|   €93M|€340K|   2142|         Right|                       4|        4|          4|  High/ Medium|    Normal|      Yes|      LF|           10| Jul 1, 2012|       null|                2020|   5'8|163lbs|83+3|83+3|83+3|89+3|88+3|88+3|88+3|89+3|89+3|89+3|89+3|89+3|82+3|82+3|82+3|89+3|66+3|63+3|63+3|63+3|66+3|60+3|49+3|49+3|49+3|60+3|      81|       84|             61|          89|     80|       95|   83|        79|         83|         94|          94|         88|     95|       90|     94|       82|     56|     83|      66|       80|        54|           41|         87|    89|       86|       91|     34|            27|           22|      11|        12|        6|            8|         8|       €172.1M|\n",
            "|  6|177003|        L. Modrić| 32|https://cdn.sofif...|    Croatia|https://cdn.sofif...|     91|       91|        Real Madrid|https://cdn.sofif...|   €67M|€420K|   2280|         Right|                       4|        4|          4|    High/ High|      Lean|      Yes|     RCM|           10| Aug 1, 2012|       null|                2020|   5'8|146lbs|77+3|77+3|77+3|85+3|84+3|84+3|84+3|85+3|87+3|87+3|87+3|86+3|88+3|88+3|88+3|86+3|82+3|81+3|81+3|81+3|82+3|79+3|71+3|71+3|71+3|79+3|      86|       72|             55|          93|     76|       90|   85|        78|         88|         93|          80|         72|     93|       90|     94|       79|     68|     89|      58|       82|        62|           83|         79|    92|       82|       84|     60|            76|           73|      13|         9|        7|           14|         9|       €137.4M|\n",
            "|  7|176580|        L. Suárez| 31|https://cdn.sofif...|    Uruguay|https://cdn.sofif...|     91|       91|       FC Barcelona|https://cdn.sofif...|   €80M|€455K|   2346|         Right|                       5|        4|          3|  High/ Medium|    Normal|      Yes|      RS|            9|Jul 11, 2014|       null|                2021|   6'0|190lbs|87+5|87+5|87+5|86+5|87+5|87+5|87+5|86+5|85+5|85+5|85+5|84+5|79+5|79+5|79+5|84+5|69+5|68+5|68+5|68+5|69+5|66+5|63+5|63+5|63+5|66+5|      77|       93|             77|          82|     88|       87|   86|        84|         64|         90|          86|         75|     82|       92|     83|       86|     69|     90|      83|       85|        87|           41|         92|    84|       85|       85|     62|            45|           38|      27|        25|       31|           33|        37|         €164M|\n",
            "|  8|155862|     Sergio Ramos| 32|https://cdn.sofif...|      Spain|https://cdn.sofif...|     91|       91|        Real Madrid|https://cdn.sofif...|   €51M|€380K|   2201|         Right|                       4|        3|          3|  High/ Medium|    Normal|      Yes|     RCB|           15| Aug 1, 2005|       null|                2020|   6'0|181lbs|73+3|73+3|73+3|70+3|71+3|71+3|71+3|70+3|71+3|71+3|71+3|72+3|75+3|75+3|75+3|72+3|81+3|84+3|84+3|84+3|81+3|84+3|87+3|87+3|87+3|84+3|      66|       60|             91|          78|     66|       63|   74|        72|         77|         84|          76|         75|     78|       85|     66|       79|     93|     84|      83|       59|        88|           90|         60|    63|       75|       82|     87|            92|           91|      11|         8|        9|            7|        11|       €104.6M|\n",
            "+---+------+-----------------+---+--------------------+-----------+--------------------+-------+---------+-------------------+--------------------+-------+-----+-------+--------------+------------------------+---------+-----------+--------------+----------+---------+--------+-------------+------------+-----------+--------------------+------+------+----+----+----+----+----+----+----+----+----+----+----+----+----+----+----+----+----+----+----+----+----+----+----+----+----+----+--------+---------+---------------+------------+-------+---------+-----+----------+-----------+-----------+------------+-----------+-------+---------+-------+---------+-------+-------+--------+---------+----------+-------------+-----------+------+---------+---------+-------+--------------+-------------+--------+----------+---------+-------------+----------+--------------+\n",
            "\n"
          ]
        }
      ]
    },
    {
      "cell_type": "code",
      "source": [
        "fifa.filter(\"Overall=90\").select([\"Name\",\"Age\"]).show()"
      ],
      "metadata": {
        "colab": {
          "base_uri": "https://localhost:8080/"
        },
        "id": "uS3OXuPIyckQ",
        "outputId": "77479b29-4a28-4bfe-ee52-ab398605725b"
      },
      "execution_count": null,
      "outputs": [
        {
          "output_type": "stream",
          "name": "stdout",
          "text": [
            "+--------------+---+\n",
            "|          Name|Age|\n",
            "+--------------+---+\n",
            "|      J. Oblak| 25|\n",
            "|R. Lewandowski| 29|\n",
            "|      T. Kroos| 28|\n",
            "|      D. Godín| 32|\n",
            "|   David Silva| 32|\n",
            "+--------------+---+\n",
            "\n"
          ]
        }
      ]
    },
    {
      "cell_type": "code",
      "source": [
        "res=fifa.filter(\"Overall=90\").\\\n",
        "select(['Name','Wage','Age','Nationality' ,'Photo']).\\\n",
        "orderBy(fifa[\"Age\"].desc()).collect()"
      ],
      "metadata": {
        "id": "40aR8vkwychp"
      },
      "execution_count": 27,
      "outputs": []
    },
    {
      "cell_type": "code",
      "source": [
        "res"
      ],
      "metadata": {
        "colab": {
          "base_uri": "https://localhost:8080/"
        },
        "id": "5qGSe-0NQmX6",
        "outputId": "07e55551-6cb1-4a44-c43b-10efccf5b210"
      },
      "execution_count": 28,
      "outputs": [
        {
          "output_type": "execute_result",
          "data": {
            "text/plain": [
              "[Row(Name='D. Godín', Wage='€125K', Age=32, Nationality='Uruguay', Photo='https://cdn.sofifa.org/players/4/19/182493.png'),\n",
              " Row(Name='David Silva', Wage='€285K', Age=32, Nationality='Spain', Photo='https://cdn.sofifa.org/players/4/19/168542.png'),\n",
              " Row(Name='R. Lewandowski', Wage='€205K', Age=29, Nationality='Poland', Photo='https://cdn.sofifa.org/players/4/19/188545.png'),\n",
              " Row(Name='T. Kroos', Wage='€355K', Age=28, Nationality='Germany', Photo='https://cdn.sofifa.org/players/4/19/182521.png'),\n",
              " Row(Name='J. Oblak', Wage='€94K', Age=25, Nationality='Slovenia', Photo='https://cdn.sofifa.org/players/4/19/200389.png')]"
            ]
          },
          "metadata": {},
          "execution_count": 28
        }
      ]
    },
    {
      "cell_type": "code",
      "source": [
        "type(res[0])"
      ],
      "metadata": {
        "id": "oQg3JK5wyceu"
      },
      "execution_count": null,
      "outputs": []
    },
    {
      "cell_type": "code",
      "source": [
        "res[0][1]"
      ],
      "metadata": {
        "colab": {
          "base_uri": "https://localhost:8080/",
          "height": 36
        },
        "id": "AEre9Hn0ycb1",
        "outputId": "a6cfcc13-9ff9-4622-f0a3-972b5c5fa76c"
      },
      "execution_count": 29,
      "outputs": [
        {
          "output_type": "execute_result",
          "data": {
            "text/plain": [
              "'€125K'"
            ],
            "application/vnd.google.colaboratory.intrinsic+json": {
              "type": "string"
            }
          },
          "metadata": {},
          "execution_count": 29
        }
      ]
    },
    {
      "cell_type": "code",
      "source": [
        "from pyspark.sql.functions import *"
      ],
      "metadata": {
        "id": "fTgK9uctycY1"
      },
      "execution_count": 30,
      "outputs": []
    },
    {
      "cell_type": "code",
      "source": [
        "fifa.select(\"*\").orderBy(\"Name\").show()"
      ],
      "metadata": {
        "id": "RQqDECL9ycVP",
        "colab": {
          "base_uri": "https://localhost:8080/"
        },
        "outputId": "f61ee2f3-341c-4447-fab0-e80bf174dbac"
      },
      "execution_count": 32,
      "outputs": [
        {
          "output_type": "stream",
          "name": "stdout",
          "text": [
            "+----+------+--------------+---+--------------------+------------------+--------------------+-------+---------+--------------------+--------------------+------+----+-------+--------------+------------------------+---------+-----------+--------------+---------+---------+--------+-------------+------------+------------+--------------------+------+------+----+----+----+----+----+----+----+----+----+----+----+----+----+----+----+----+----+----+----+----+----+----+----+----+----+----+--------+---------+---------------+------------+-------+---------+-----+----------+-----------+-----------+------------+-----------+-------+---------+-------+---------+-------+-------+--------+---------+----------+-------------+-----------+------+---------+---------+-------+--------------+-------------+--------+----------+---------+-------------+----------+--------------+\n",
            "| _c0|    ID|          Name|Age|               Photo|       Nationality|                Flag|Overall|Potential|                Club|           Club Logo| Value|Wage|Special|Preferred Foot|International Reputation|Weak Foot|Skill Moves|     Work Rate|Body Type|Real Face|Position|Jersey Number|      Joined| Loaned From|Contract Valid Until|Height|Weight|  LS|  ST|  RS|  LW|  LF|  CF|  RF|  RW| LAM| CAM| RAM|  LM| LCM|  CM| RCM|  RM| LWB| LDM| CDM| RDM| RWB|  LB| LCB|  CB| RCB|  RB|Crossing|Finishing|HeadingAccuracy|ShortPassing|Volleys|Dribbling|Curve|FKAccuracy|LongPassing|BallControl|Acceleration|SprintSpeed|Agility|Reactions|Balance|ShotPower|Jumping|Stamina|Strength|LongShots|Aggression|Interceptions|Positioning|Vision|Penalties|Composure|Marking|StandingTackle|SlidingTackle|GKDiving|GKHandling|GKKicking|GKPositioning|GKReflexes|Release Clause|\n",
            "+----+------+--------------+---+--------------------+------------------+--------------------+-------+---------+--------------------+--------------------+------+----+-------+--------------+------------------------+---------+-----------+--------------+---------+---------+--------+-------------+------------+------------+--------------------+------+------+----+----+----+----+----+----+----+----+----+----+----+----+----+----+----+----+----+----+----+----+----+----+----+----+----+----+--------+---------+---------------+------------+-------+---------+-----+----------+-----------+-----------+------------+-----------+-------+---------+-------+---------+-------+-------+--------+---------+----------+-------------+-----------+------+---------+---------+-------+--------------+-------------+--------+----------+---------+-------------+----------+--------------+\n",
            "|1893|186783|     A. Adomah| 30|https://cdn.sofif...|             Ghana|https://cdn.sofif...|     75|       75|         Aston Villa|https://cdn.sofif...| €6.5M|€20K|   1853|         Right|                       1|        3|          4|Medium/ Medium|     Lean|      Yes|      RM|           37|Aug 31, 2016|        null|                2020|   6'0|163lbs|70+2|70+2|70+2|73+2|73+2|73+2|73+2|73+2|72+2|72+2|72+2|73+2|69+2|69+2|69+2|73+2|65+2|63+2|63+2|63+2|65+2|63+2|58+2|58+2|58+2|63+2|      70|       73|             51|          68|     59|       74|   63|        53|         64|         74|          86|         88|     74|       71|     62|       71|     66|     74|      68|       64|        55|           61|         74|    70|       68|       73|     49|            60|           38|       1|         1|        1|            1|         1|        €12.4M|\n",
            "| 372|193105|     A. Areola| 25|https://cdn.sofif...|            France|https://cdn.sofif...|     81|       85| Paris Saint-Germain|https://cdn.sofif...|€16.5M|€61K|   1266|         Right|                       2|        3|          1|Medium/ Medium|   Normal|      Yes|      GK|           23| Jul 1, 2010|        null|                2019|   6'5|207lbs|null|null|null|null|null|null|null|null|null|null|null|null|null|null|null|null|null|null|null|null|null|null|null|null|null|null|      20|       19|             14|          41|     16|       12|   16|        16|         32|         22|          54|         52|     53|       77|     58|       25|     59|     28|      80|       14|        26|           23|         17|    34|       25|       64|     11|            18|           12|      83|        78|       70|           77|        84|        €31.8M|\n",
            "|1118|176571|       A. Ayew| 28|https://cdn.sofif...|             Ghana|https://cdn.sofif...|     77|       77|       Fenerbahçe SK|https://cdn.sofif...|   €9M|€35K|   2074|          Left|                       3|        3|          4|  High/ Medium|   Normal|      Yes|      RM|           20|        null|Swansea City|        May 31, 2019|   5'9|159lbs|75+3|75+3|75+3|76+3|76+3|76+3|76+3|76+3|76+3|76+3|76+3|76+3|73+3|73+3|73+3|76+3|68+3|67+3|67+3|67+3|68+3|67+3|64+3|64+3|64+3|67+3|      75|       73|             75|          76|     64|       78|   74|        57|         69|         79|          75|         75|     86|       77|     81|       75|     89|     84|      69|       74|        78|           52|         78|    74|       71|       74|     49|            60|           57|      10|         6|       12|            7|        15|          null|\n",
            "|1234|186905|     A. Barnes| 28|https://cdn.sofif...|           Austria|https://cdn.sofif...|     76|       76|             Burnley|https://cdn.sofif...|   €8M|€55K|   1946|         Right|                       1|        4|          3|    High/ High|   Normal|      Yes|      ST|           10|Jan 10, 2014|        null|                2021|   6'1|185lbs|75+2|75+2|75+2|71+2|73+2|73+2|73+2|71+2|72+2|72+2|72+2|71+2|69+2|69+2|69+2|71+2|59+2|61+2|61+2|61+2|59+2|57+2|58+2|58+2|58+2|57+2|      66|       77|             78|          70|     72|       74|   60|        56|         63|         77|          64|         60|     68|       76|     71|       81|     82|     77|      78|       67|        87|           41|         79|    70|       77|       78|     43|            46|           39|       6|        10|       11|           10|        10|        €15.2M|\n",
            "|1609|192274|    A. Barrada| 29|https://cdn.sofif...|           Morocco|https://cdn.sofif...|     75|       75|         Antalyaspor|https://cdn.sofif...| €6.5M|€18K|   1925|         Right|                       1|        3|          3|Medium/ Medium|   Normal|       No|     CAM|           32|Aug 28, 2018|        null|                2020|  5'10|161lbs|70+2|70+2|70+2|73+2|73+2|73+2|73+2|73+2|74+2|74+2|74+2|73+2|70+2|70+2|70+2|73+2|59+2|59+2|59+2|59+2|59+2|56+2|53+2|53+2|53+2|56+2|      74|       64|             61|          76|     63|       76|   76|        78|         75|         78|          73|         76|     80|       75|     72|       71|     68|     63|      68|       70|        70|           36|         71|    74|       71|       68|     44|            42|           33|      11|         7|        6|           16|         7|          €13M|\n",
            "|1725|220493|    A. Barreca| 23|https://cdn.sofif...|             Italy|https://cdn.sofif...|     75|       80|           AS Monaco|https://cdn.sofif...| €7.5M|€42K|   1798|          Left|                       1|        2|          3|  High/ Medium|     Lean|       No|      LB|            3|Jul 10, 2018|        null|                2021|  5'11|154lbs|58+2|58+2|58+2|66+2|62+2|62+2|62+2|66+2|63+2|63+2|63+2|68+2|64+2|64+2|64+2|68+2|74+2|68+2|68+2|68+2|74+2|74+2|69+2|69+2|69+2|74+2|      78|       21|             65|          66|     33|       75|   67|        21|         58|         75|          78|         91|     79|       75|     78|       53|     67|     78|      65|       42|        62|           70|         58|    51|       22|       68|     69|            74|           72|      11|         7|        9|           13|        15|        €14.8M|\n",
            "| 152|137186|   A. Barzagli| 37|https://cdn.sofif...|             Italy|https://cdn.sofif...|     84|       84|            Juventus|https://cdn.sofif...| €4.2M|€95K|   1740|         Right|                       3|        3|          2|     Low/ High|   Normal|      Yes|      CB|           15| Jan 1, 2011|        null|                2019|   6'2|192lbs|52+3|52+3|52+3|54+3|55+3|55+3|55+3|54+3|57+3|57+3|57+3|57+3|63+3|63+3|63+3|57+3|71+3|75+3|75+3|75+3|71+3|74+3|82+3|82+3|82+3|74+3|      40|       21|             72|          65|     35|       64|   50|        31|         65|         65|          61|         77|     52|       80|     64|       54|     81|     53|      83|       39|        66|           90|         28|    62|       60|       88|     94|            90|           82|       4|         2|        4|            2|         4|         €6.9M|\n",
            "|1183|236791|      A. Barák| 23|https://cdn.sofif...|    Czech Republic|https://cdn.sofif...|     77|       84|             Udinese|https://cdn.sofif...|€12.5M|€24K|   1965|          Left|                       1|        3|          4|  High/ Medium|     Lean|       No|      CM|           72| Jul 1, 2017|        null|                2022|   6'3|190lbs|72+2|72+2|72+2|74+2|74+2|74+2|74+2|74+2|75+2|75+2|75+2|74+2|76+2|76+2|76+2|74+2|67+2|67+2|67+2|67+2|67+2|65+2|61+2|61+2|61+2|65+2|      72|       68|             60|          80|     64|       78|   62|        66|         78|         80|          66|         68|     63|       72|     63|       81|     58|     77|      78|       78|        58|           64|         74|    76|       66|       76|     25|            66|           62|      14|        15|       10|           12|        11|          €25M|\n",
            "| 704|172723|    A. Begović| 31|https://cdn.sofif...|Bosnia Herzegovina|https://cdn.sofif...|     79|       79|         Bournemouth|https://cdn.sofif...| €7.5M|€52K|   1234|         Right|                       3|        2|          1|Medium/ Medium|     Lean|      Yes|      GK|           27|May 30, 2017|        null|                2020|   6'6|183lbs|null|null|null|null|null|null|null|null|null|null|null|null|null|null|null|null|null|null|null|null|null|null|null|null|null|null|      14|       19|             12|          26|     12|       16|   17|        15|         32|         24|          52|         58|     52|       74|     40|       28|     38|     36|      80|       12|        42|           21|         11|    34|       40|       61|     18|            11|           12|      80|        80|       72|           77|        79|        €14.3M|\n",
            "| 252|208596|    A. Belotti| 24|https://cdn.sofif...|             Italy|https://cdn.sofif...|     82|       87|              Torino|https://cdn.sofif...|  €30M|€58K|   1962|         Right|                       3|        5|          3|    High/ High|   Normal|      Yes|      LS|            9|Aug 17, 2015|        null|                2021|  5'11|159lbs|80+3|80+3|80+3|73+3|77+3|77+3|77+3|73+3|72+3|72+3|72+3|71+3|64+3|64+3|64+3|71+3|56+3|55+3|55+3|55+3|56+3|54+3|55+3|55+3|55+3|54+3|      42|       88|             84|          68|     80|       78|   64|        56|         42|         75|          78|         79|     79|       76|     75|       81|     83|     83|      84|       67|        83|           31|         85|    61|       77|       75|     55|            23|           32|      13|         7|       12|           14|         7|        €53.3M|\n",
            "| 978|192073| A. Bertolacci| 27|https://cdn.sofif...|             Italy|https://cdn.sofif...|     77|       77|               Milan|https://cdn.sofif...|   €9M|€75K|   2041|          Left|                       2|        3|          4|Medium/ Medium|   Normal|       No|      CM|           16| Jul 2, 2015|        null|                2019|  5'10|165lbs|72+2|72+2|72+2|74+2|74+2|74+2|74+2|74+2|76+2|76+2|76+2|75+2|76+2|76+2|76+2|75+2|73+2|73+2|73+2|73+2|73+2|72+2|70+2|70+2|70+2|72+2|      72|       62|             64|          80|     69|       79|   70|        64|         76|         79|          69|         73|     77|       74|     75|       78|     65|     77|      67|       76|        69|           70|         76|    76|       56|       72|     74|            68|           68|       7|         8|        7|            7|         9|        €15.3M|\n",
            "|1294| 14907|   A. Bizzarri| 40|https://cdn.sofif...|         Argentina|https://cdn.sofif...|     76|       76|              Foggia|https://cdn.sofif...| €525K| €2K|   1198|         Right|                       2|        3|          1|Medium/ Medium|   Normal|       No|      GK|            1|Jul 17, 2018|        null|                2019|   6'2|196lbs|null|null|null|null|null|null|null|null|null|null|null|null|null|null|null|null|null|null|null|null|null|null|null|null|null|null|      11|       17|             10|          27|     19|       18|   19|        18|         26|         23|          55|         45|     53|       68|     51|       19|     68|     31|      55|       19|        40|           19|         10|    49|       20|       60|     11|            12|           11|      76|        74|       66|           82|        76|         €840K|\n",
            "|1798|216939|      A. Blake| 27|https://cdn.sofif...|           Jamaica|https://cdn.sofif...|     75|       78|  Philadelphia Union|https://cdn.sofif...| €5.5M| €6K|   1148|         Right|                       1|        2|          1|Medium/ Medium|     Lean|      Yes|      GK|           18|Jan 16, 2014|        null|                2019|   6'4|174lbs|null|null|null|null|null|null|null|null|null|null|null|null|null|null|null|null|null|null|null|null|null|null|null|null|null|null|      12|       13|             24|          32|     11|       11|   24|        12|         33|         28|          43|         49|     48|       71|     42|       14|     70|     41|      68|       11|        27|           15|         12|    11|       19|       55|     14|            14|           13|      78|        69|       67|           69|        83|         €8.7M|\n",
            "| 393|173221|   A. Candreva| 31|https://cdn.sofif...|             Italy|https://cdn.sofif...|     81|       81|               Inter|https://cdn.sofif...|€15.5M|€74K|   2084|         Right|                       3|        4|          4|Medium/ Medium|   Normal|       No|      RM|           87| Aug 3, 2016|        null|                2021|  5'11|154lbs|76+3|76+3|76+3|79+3|78+3|78+3|78+3|79+3|78+3|78+3|78+3|79+3|77+3|77+3|77+3|79+3|73+3|71+3|71+3|71+3|73+3|70+3|64+3|64+3|64+3|70+3|      83|       73|             55|          78|     75|       82|   74|        71|         73|         83|          77|         78|     74|       78|     76|       87|     35|     86|      69|       82|        66|           67|         79|    77|       83|       73|     61|            63|           53|      10|         4|       14|            4|        14|        €26.4M|\n",
            "| 832|203299|   A. Carrillo| 27|https://cdn.sofif...|              Peru|https://cdn.sofif...|     78|       78|            Al Hilal|https://cdn.sofif...|  €11M|€14K|   1928|         Right|                       2|        4|          4|  High/ Medium|   Normal|      Yes|      RM|           19|        null|  SL Benfica|        Jun 30, 2019|  5'11|172lbs|76+2|76+2|76+2|78+2|77+2|77+2|77+2|78+2|76+2|76+2|76+2|77+2|69+2|69+2|69+2|77+2|58+2|53+2|53+2|53+2|58+2|54+2|47+2|47+2|47+2|54+2|      78|       73|             70|          73|     74|       85|   78|        55|         60|         82|          86|         86|     80|       74|     76|       76|     73|     67|      72|       75|        53|           34|         74|    73|       68|       73|     19|            32|           25|      11|        14|       13|           12|         7|          null|\n",
            "| 952|182836|    A. Carroll| 29|https://cdn.sofif...|           England|https://cdn.sofif...|     77|       77|     West Ham United|https://cdn.sofif...|   €9M|€80K|   1839|          Left|                       2|        3|          2|  Medium/ High|   Normal|      Yes|      ST|            9|Jun 19, 2013|        null|                2019|   6'4|174lbs|75+2|75+2|75+2|67+2|70+2|70+2|70+2|67+2|68+2|68+2|68+2|65+2|65+2|65+2|65+2|65+2|53+2|57+2|57+2|57+2|53+2|53+2|59+2|59+2|59+2|53+2|      60|       77|             91|          66|     74|       67|   53|        42|         57|         74|          43|         50|     57|       77|     47|       83|     83|     50|      92|       76|        88|           45|         78|    65|       73|       76|     26|            46|           43|      14|        14|       12|           10|         6|        €17.1M|\n",
            "| 336|213661|A. Christensen| 22|https://cdn.sofif...|           Denmark|https://cdn.sofif...|     81|       88|             Chelsea|https://cdn.sofif...|€21.5M|€91K|   1717|         Right|                       2|        3|          2|   Low/ Medium|     Lean|      Yes|     LCB|            6|Apr 10, 2013|        null|                2022|   6'2|179lbs|55+2|55+2|55+2|59+2|58+2|58+2|58+2|59+2|62+2|62+2|62+2|63+2|68+2|68+2|68+2|63+2|73+2|77+2|77+2|77+2|73+2|75+2|79+2|79+2|79+2|75+2|      49|       36|             80|          77|     25|       68|   32|        22|         72|         74|          66|         70|     61|       80|     61|       31|     72|     69|      73|       20|        73|           82|         32|    62|       36|       77|     80|            86|           84|      10|        12|        8|            6|         8|        €44.1M|\n",
            "| 312|163489|   A. Consigli| 31|https://cdn.sofif...|             Italy|https://cdn.sofif...|     82|       82|            Sassuolo|https://cdn.sofif...|€13.5M|€52K|   1180|         Right|                       2|        3|          1|Medium/ Medium|     Lean|       No|      GK|           47| Sep 1, 2014|        null|                2022|   6'2|181lbs|null|null|null|null|null|null|null|null|null|null|null|null|null|null|null|null|null|null|null|null|null|null|null|null|null|null|      10|       10|             10|          31|     19|       10|   15|        15|         27|         23|          48|         34|     57|       75|     40|       24|     80|     31|      51|       19|        11|           15|         10|    46|       21|       63|     10|            17|           19|      82|        83|       72|           82|        83|          €23M|\n",
            "|1775|223329|      A. Conti| 24|https://cdn.sofif...|             Italy|https://cdn.sofif...|     75|       79|               Milan|https://cdn.sofif...| €8.5M|€58K|   1965|         Right|                       2|        2|          3|    High/ High|     Lean|       No|      RM|           12| Jul 7, 2017|        null|                2022|   6'0|168lbs|68+2|68+2|68+2|72+2|70+2|70+2|70+2|72+2|70+2|70+2|70+2|73+2|72+2|72+2|72+2|73+2|76+2|73+2|73+2|73+2|76+2|75+2|71+2|71+2|71+2|75+2|      76|       58|             64|          76|     59|       74|   67|        42|         69|         76|          75|         82|     79|       76|     68|       68|     53|     87|      59|       49|        73|           73|         73|    63|       48|       72|     76|            74|           74|       9|        13|       13|            9|        10|        €15.1M|\n",
            "|2001|201943|  A. Cornelius| 25|https://cdn.sofif...|           Denmark|https://cdn.sofif...|     75|       79|FC Girondins de B...|https://cdn.sofif...| €8.5M|€26K|   1745|          Left|                       2|        3|          3|     High/ Low|   Normal|       No|      ST|           21|        null|    Atalanta|        Jun 30, 2019|   6'4|201lbs|74+2|74+2|74+2|66+2|70+2|70+2|70+2|66+2|66+2|66+2|66+2|64+2|60+2|60+2|60+2|64+2|49+2|51+2|51+2|51+2|49+2|47+2|52+2|52+2|52+2|47+2|      42|       75|             79|          67|     67|       67|   45|        56|         43|         74|          67|         69|     49|       68|     60|       77|     72|     66|      93|       68|        72|           28|         76|    56|       65|       71|     54|            26|           12|      15|         9|        8|           11|         9|          null|\n",
            "+----+------+--------------+---+--------------------+------------------+--------------------+-------+---------+--------------------+--------------------+------+----+-------+--------------+------------------------+---------+-----------+--------------+---------+---------+--------+-------------+------------+------------+--------------------+------+------+----+----+----+----+----+----+----+----+----+----+----+----+----+----+----+----+----+----+----+----+----+----+----+----+----+----+--------+---------+---------------+------------+-------+---------+-----+----------+-----------+-----------+------------+-----------+-------+---------+-------+---------+-------+-------+--------+---------+----------+-------------+-----------+------+---------+---------+-------+--------------+-------------+--------+----------+---------+-------------+----------+--------------+\n",
            "only showing top 20 rows\n",
            "\n"
          ]
        }
      ]
    },
    {
      "cell_type": "code",
      "source": [
        "fifa.select([\"Name\",\"Age\"]).orderBy(fifa[\"Age\"].desc()).show(1)"
      ],
      "metadata": {
        "colab": {
          "base_uri": "https://localhost:8080/"
        },
        "id": "eLw0IlQ_4Rjw",
        "outputId": "5e402e26-39ac-470c-a472-4978c233c420"
      },
      "execution_count": 36,
      "outputs": [
        {
          "output_type": "stream",
          "name": "stdout",
          "text": [
            "+---------+---+\n",
            "|     Name|Age|\n",
            "+---------+---+\n",
            "|J. Villar| 41|\n",
            "+---------+---+\n",
            "only showing top 1 row\n",
            "\n"
          ]
        }
      ]
    },
    {
      "cell_type": "code",
      "source": [],
      "metadata": {
        "id": "q_ZRDiFm4-aa"
      },
      "execution_count": null,
      "outputs": []
    },
    {
      "cell_type": "code",
      "source": [
        "fifa.select(\"*\").where((fifa.Name=='L. Messi') | (fifa.Name=='Cristiano Ronaldo')).show()"
      ],
      "metadata": {
        "colab": {
          "base_uri": "https://localhost:8080/"
        },
        "id": "SwU8EVlB4RhA",
        "outputId": "ba4762b0-e3af-4f8e-9f71-333c6a7c2d08"
      },
      "execution_count": 39,
      "outputs": [
        {
          "output_type": "stream",
          "name": "stdout",
          "text": [
            "+---+------+-----------------+---+--------------------+-----------+--------------------+-------+---------+------------+--------------------+-------+-----+-------+--------------+------------------------+---------+-----------+--------------+----------+---------+--------+-------------+------------+-----------+--------------------+------+------+----+----+----+----+----+----+----+----+----+----+----+----+----+----+----+----+----+----+----+----+----+----+----+----+----+----+--------+---------+---------------+------------+-------+---------+-----+----------+-----------+-----------+------------+-----------+-------+---------+-------+---------+-------+-------+--------+---------+----------+-------------+-----------+------+---------+---------+-------+--------------+-------------+--------+----------+---------+-------------+----------+--------------+\n",
            "|_c0|    ID|             Name|Age|               Photo|Nationality|                Flag|Overall|Potential|        Club|           Club Logo|  Value| Wage|Special|Preferred Foot|International Reputation|Weak Foot|Skill Moves|     Work Rate| Body Type|Real Face|Position|Jersey Number|      Joined|Loaned From|Contract Valid Until|Height|Weight|  LS|  ST|  RS|  LW|  LF|  CF|  RF|  RW| LAM| CAM| RAM|  LM| LCM|  CM| RCM|  RM| LWB| LDM| CDM| RDM| RWB|  LB| LCB|  CB| RCB|  RB|Crossing|Finishing|HeadingAccuracy|ShortPassing|Volleys|Dribbling|Curve|FKAccuracy|LongPassing|BallControl|Acceleration|SprintSpeed|Agility|Reactions|Balance|ShotPower|Jumping|Stamina|Strength|LongShots|Aggression|Interceptions|Positioning|Vision|Penalties|Composure|Marking|StandingTackle|SlidingTackle|GKDiving|GKHandling|GKKicking|GKPositioning|GKReflexes|Release Clause|\n",
            "+---+------+-----------------+---+--------------------+-----------+--------------------+-------+---------+------------+--------------------+-------+-----+-------+--------------+------------------------+---------+-----------+--------------+----------+---------+--------+-------------+------------+-----------+--------------------+------+------+----+----+----+----+----+----+----+----+----+----+----+----+----+----+----+----+----+----+----+----+----+----+----+----+----+----+--------+---------+---------------+------------+-------+---------+-----+----------+-----------+-----------+------------+-----------+-------+---------+-------+---------+-------+-------+--------+---------+----------+-------------+-----------+------+---------+---------+-------+--------------+-------------+--------+----------+---------+-------------+----------+--------------+\n",
            "|  0|158023|         L. Messi| 31|https://cdn.sofif...|  Argentina|https://cdn.sofif...|     94|       94|FC Barcelona|https://cdn.sofif...|€110.5M|€565K|   2202|          Left|                       5|        4|          4|Medium/ Medium|     Messi|      Yes|      RF|           10| Jul 1, 2004|       null|                2021|   5'7|159lbs|88+2|88+2|88+2|92+2|93+2|93+2|93+2|92+2|93+2|93+2|93+2|91+2|84+2|84+2|84+2|91+2|64+2|61+2|61+2|61+2|64+2|59+2|47+2|47+2|47+2|59+2|      84|       95|             70|          90|     86|       97|   93|        94|         87|         96|          91|         86|     91|       95|     95|       85|     68|     72|      59|       94|        48|           22|         94|    94|       75|       96|     33|            28|           26|       6|        11|       15|           14|         8|       €226.5M|\n",
            "|  1| 20801|Cristiano Ronaldo| 33|https://cdn.sofif...|   Portugal|https://cdn.sofif...|     94|       94|    Juventus|https://cdn.sofif...|   €77M|€405K|   2228|         Right|                       5|        4|          5|     High/ Low|C. Ronaldo|      Yes|      ST|            7|Jul 10, 2018|       null|                2022|   6'2|183lbs|91+3|91+3|91+3|89+3|90+3|90+3|90+3|89+3|88+3|88+3|88+3|88+3|81+3|81+3|81+3|88+3|65+3|61+3|61+3|61+3|65+3|61+3|53+3|53+3|53+3|61+3|      84|       94|             89|          81|     87|       88|   81|        76|         77|         94|          89|         91|     87|       96|     70|       95|     95|     88|      79|       93|        63|           29|         95|    82|       85|       95|     28|            31|           23|       7|        11|       15|           14|        11|       €127.1M|\n",
            "+---+------+-----------------+---+--------------------+-----------+--------------------+-------+---------+------------+--------------------+-------+-----+-------+--------------+------------------------+---------+-----------+--------------+----------+---------+--------+-------------+------------+-----------+--------------------+------+------+----+----+----+----+----+----+----+----+----+----+----+----+----+----+----+----+----+----+----+----+----+----+----+----+----+----+--------+---------+---------------+------------+-------+---------+-----+----------+-----------+-----------+------------+-----------+-------+---------+-------+---------+-------+-------+--------+---------+----------+-------------+-----------+------+---------+---------+-------+--------------+-------------+--------+----------+---------+-------------+----------+--------------+\n",
            "\n"
          ]
        }
      ]
    },
    {
      "cell_type": "code",
      "source": [
        "fifa.select([\"*\",fifa[\"Release Clause\"].substr(1,1)]).show()"
      ],
      "metadata": {
        "colab": {
          "base_uri": "https://localhost:8080/"
        },
        "id": "Rzsu5uSM4Reb",
        "outputId": "5e3ccf65-1916-4cc9-8f99-c0aa4aeddd07"
      },
      "execution_count": 41,
      "outputs": [
        {
          "output_type": "stream",
          "name": "stdout",
          "text": [
            "+---+------+-----------------+---+--------------------+-----------+--------------------+-------+---------+-------------------+--------------------+-------+-----+-------+--------------+------------------------+---------+-----------+--------------+----------+---------+--------+-------------+------------+-----------+--------------------+------+------+----+----+----+----+----+----+----+----+----+----+----+----+----+----+----+----+----+----+----+----+----+----+----+----+----+----+--------+---------+---------------+------------+-------+---------+-----+----------+-----------+-----------+------------+-----------+-------+---------+-------+---------+-------+-------+--------+---------+----------+-------------+-----------+------+---------+---------+-------+--------------+-------------+--------+----------+---------+-------------+----------+--------------+-------------------------------+\n",
            "|_c0|    ID|             Name|Age|               Photo|Nationality|                Flag|Overall|Potential|               Club|           Club Logo|  Value| Wage|Special|Preferred Foot|International Reputation|Weak Foot|Skill Moves|     Work Rate| Body Type|Real Face|Position|Jersey Number|      Joined|Loaned From|Contract Valid Until|Height|Weight|  LS|  ST|  RS|  LW|  LF|  CF|  RF|  RW| LAM| CAM| RAM|  LM| LCM|  CM| RCM|  RM| LWB| LDM| CDM| RDM| RWB|  LB| LCB|  CB| RCB|  RB|Crossing|Finishing|HeadingAccuracy|ShortPassing|Volleys|Dribbling|Curve|FKAccuracy|LongPassing|BallControl|Acceleration|SprintSpeed|Agility|Reactions|Balance|ShotPower|Jumping|Stamina|Strength|LongShots|Aggression|Interceptions|Positioning|Vision|Penalties|Composure|Marking|StandingTackle|SlidingTackle|GKDiving|GKHandling|GKKicking|GKPositioning|GKReflexes|Release Clause|substring(Release Clause, 1, 1)|\n",
            "+---+------+-----------------+---+--------------------+-----------+--------------------+-------+---------+-------------------+--------------------+-------+-----+-------+--------------+------------------------+---------+-----------+--------------+----------+---------+--------+-------------+------------+-----------+--------------------+------+------+----+----+----+----+----+----+----+----+----+----+----+----+----+----+----+----+----+----+----+----+----+----+----+----+----+----+--------+---------+---------------+------------+-------+---------+-----+----------+-----------+-----------+------------+-----------+-------+---------+-------+---------+-------+-------+--------+---------+----------+-------------+-----------+------+---------+---------+-------+--------------+-------------+--------+----------+---------+-------------+----------+--------------+-------------------------------+\n",
            "|  0|158023|         L. Messi| 31|https://cdn.sofif...|  Argentina|https://cdn.sofif...|     94|       94|       FC Barcelona|https://cdn.sofif...|€110.5M|€565K|   2202|          Left|                       5|        4|          4|Medium/ Medium|     Messi|      Yes|      RF|           10| Jul 1, 2004|       null|                2021|   5'7|159lbs|88+2|88+2|88+2|92+2|93+2|93+2|93+2|92+2|93+2|93+2|93+2|91+2|84+2|84+2|84+2|91+2|64+2|61+2|61+2|61+2|64+2|59+2|47+2|47+2|47+2|59+2|      84|       95|             70|          90|     86|       97|   93|        94|         87|         96|          91|         86|     91|       95|     95|       85|     68|     72|      59|       94|        48|           22|         94|    94|       75|       96|     33|            28|           26|       6|        11|       15|           14|         8|       €226.5M|                              €|\n",
            "|  1| 20801|Cristiano Ronaldo| 33|https://cdn.sofif...|   Portugal|https://cdn.sofif...|     94|       94|           Juventus|https://cdn.sofif...|   €77M|€405K|   2228|         Right|                       5|        4|          5|     High/ Low|C. Ronaldo|      Yes|      ST|            7|Jul 10, 2018|       null|                2022|   6'2|183lbs|91+3|91+3|91+3|89+3|90+3|90+3|90+3|89+3|88+3|88+3|88+3|88+3|81+3|81+3|81+3|88+3|65+3|61+3|61+3|61+3|65+3|61+3|53+3|53+3|53+3|61+3|      84|       94|             89|          81|     87|       88|   81|        76|         77|         94|          89|         91|     87|       96|     70|       95|     95|     88|      79|       93|        63|           29|         95|    82|       85|       95|     28|            31|           23|       7|        11|       15|           14|        11|       €127.1M|                              €|\n",
            "|  2|190871|        Neymar Jr| 26|https://cdn.sofif...|     Brazil|https://cdn.sofif...|     92|       93|Paris Saint-Germain|https://cdn.sofif...|€118.5M|€290K|   2143|         Right|                       5|        5|          5|  High/ Medium|    Neymar|      Yes|      LW|           10| Aug 3, 2017|       null|                2022|   5'9|150lbs|84+3|84+3|84+3|89+3|89+3|89+3|89+3|89+3|89+3|89+3|89+3|88+3|81+3|81+3|81+3|88+3|65+3|60+3|60+3|60+3|65+3|60+3|47+3|47+3|47+3|60+3|      79|       87|             62|          84|     84|       96|   88|        87|         78|         95|          94|         90|     96|       94|     84|       80|     61|     81|      49|       82|        56|           36|         89|    87|       81|       94|     27|            24|           33|       9|         9|       15|           15|        11|       €228.1M|                              €|\n",
            "|  3|193080|           De Gea| 27|https://cdn.sofif...|      Spain|https://cdn.sofif...|     91|       93|  Manchester United|https://cdn.sofif...|   €72M|€260K|   1471|         Right|                       4|        3|          1|Medium/ Medium|      Lean|      Yes|      GK|            1| Jul 1, 2011|       null|                2020|   6'4|168lbs|null|null|null|null|null|null|null|null|null|null|null|null|null|null|null|null|null|null|null|null|null|null|null|null|null|null|      17|       13|             21|          50|     13|       18|   21|        19|         51|         42|          57|         58|     60|       90|     43|       31|     67|     43|      64|       12|        38|           30|         12|    68|       40|       68|     15|            21|           13|      90|        85|       87|           88|        94|       €138.6M|                              €|\n",
            "|  4|192985|     K. De Bruyne| 27|https://cdn.sofif...|    Belgium|https://cdn.sofif...|     91|       92|    Manchester City|https://cdn.sofif...|  €102M|€355K|   2281|         Right|                       4|        5|          4|    High/ High|    Normal|      Yes|     RCM|            7|Aug 30, 2015|       null|                2023|  5'11|154lbs|82+3|82+3|82+3|87+3|87+3|87+3|87+3|87+3|88+3|88+3|88+3|88+3|87+3|87+3|87+3|88+3|77+3|77+3|77+3|77+3|77+3|73+3|66+3|66+3|66+3|73+3|      93|       82|             55|          92|     82|       86|   85|        83|         91|         91|          78|         76|     79|       91|     77|       91|     63|     90|      75|       91|        76|           61|         87|    94|       79|       88|     68|            58|           51|      15|        13|        5|           10|        13|       €196.4M|                              €|\n",
            "|  5|183277|        E. Hazard| 27|https://cdn.sofif...|    Belgium|https://cdn.sofif...|     91|       91|            Chelsea|https://cdn.sofif...|   €93M|€340K|   2142|         Right|                       4|        4|          4|  High/ Medium|    Normal|      Yes|      LF|           10| Jul 1, 2012|       null|                2020|   5'8|163lbs|83+3|83+3|83+3|89+3|88+3|88+3|88+3|89+3|89+3|89+3|89+3|89+3|82+3|82+3|82+3|89+3|66+3|63+3|63+3|63+3|66+3|60+3|49+3|49+3|49+3|60+3|      81|       84|             61|          89|     80|       95|   83|        79|         83|         94|          94|         88|     95|       90|     94|       82|     56|     83|      66|       80|        54|           41|         87|    89|       86|       91|     34|            27|           22|      11|        12|        6|            8|         8|       €172.1M|                              €|\n",
            "|  6|177003|        L. Modrić| 32|https://cdn.sofif...|    Croatia|https://cdn.sofif...|     91|       91|        Real Madrid|https://cdn.sofif...|   €67M|€420K|   2280|         Right|                       4|        4|          4|    High/ High|      Lean|      Yes|     RCM|           10| Aug 1, 2012|       null|                2020|   5'8|146lbs|77+3|77+3|77+3|85+3|84+3|84+3|84+3|85+3|87+3|87+3|87+3|86+3|88+3|88+3|88+3|86+3|82+3|81+3|81+3|81+3|82+3|79+3|71+3|71+3|71+3|79+3|      86|       72|             55|          93|     76|       90|   85|        78|         88|         93|          80|         72|     93|       90|     94|       79|     68|     89|      58|       82|        62|           83|         79|    92|       82|       84|     60|            76|           73|      13|         9|        7|           14|         9|       €137.4M|                              €|\n",
            "|  7|176580|        L. Suárez| 31|https://cdn.sofif...|    Uruguay|https://cdn.sofif...|     91|       91|       FC Barcelona|https://cdn.sofif...|   €80M|€455K|   2346|         Right|                       5|        4|          3|  High/ Medium|    Normal|      Yes|      RS|            9|Jul 11, 2014|       null|                2021|   6'0|190lbs|87+5|87+5|87+5|86+5|87+5|87+5|87+5|86+5|85+5|85+5|85+5|84+5|79+5|79+5|79+5|84+5|69+5|68+5|68+5|68+5|69+5|66+5|63+5|63+5|63+5|66+5|      77|       93|             77|          82|     88|       87|   86|        84|         64|         90|          86|         75|     82|       92|     83|       86|     69|     90|      83|       85|        87|           41|         92|    84|       85|       85|     62|            45|           38|      27|        25|       31|           33|        37|         €164M|                              €|\n",
            "|  8|155862|     Sergio Ramos| 32|https://cdn.sofif...|      Spain|https://cdn.sofif...|     91|       91|        Real Madrid|https://cdn.sofif...|   €51M|€380K|   2201|         Right|                       4|        3|          3|  High/ Medium|    Normal|      Yes|     RCB|           15| Aug 1, 2005|       null|                2020|   6'0|181lbs|73+3|73+3|73+3|70+3|71+3|71+3|71+3|70+3|71+3|71+3|71+3|72+3|75+3|75+3|75+3|72+3|81+3|84+3|84+3|84+3|81+3|84+3|87+3|87+3|87+3|84+3|      66|       60|             91|          78|     66|       63|   74|        72|         77|         84|          76|         75|     78|       85|     66|       79|     93|     84|      83|       59|        88|           90|         60|    63|       75|       82|     87|            92|           91|      11|         8|        9|            7|        11|       €104.6M|                              €|\n",
            "|  9|200389|         J. Oblak| 25|https://cdn.sofif...|   Slovenia|https://cdn.sofif...|     90|       93|    Atlético Madrid|https://cdn.sofif...|   €68M| €94K|   1331|         Right|                       3|        3|          1|Medium/ Medium|    Normal|      Yes|      GK|            1|Jul 16, 2014|       null|                2021|   6'2|192lbs|null|null|null|null|null|null|null|null|null|null|null|null|null|null|null|null|null|null|null|null|null|null|null|null|null|null|      13|       11|             15|          29|     13|       12|   13|        14|         26|         16|          43|         60|     67|       86|     49|       22|     76|     41|      78|       12|        34|           19|         11|    70|       11|       70|     27|            12|           18|      86|        92|       78|           88|        89|       €144.5M|                              €|\n",
            "| 10|188545|   R. Lewandowski| 29|https://cdn.sofif...|     Poland|https://cdn.sofif...|     90|       90|  FC Bayern München|https://cdn.sofif...|   €77M|€205K|   2152|         Right|                       4|        4|          4|  High/ Medium|    Normal|      Yes|      ST|            9| Jul 1, 2014|       null|                2021|   6'0|176lbs|87+3|87+3|87+3|83+3|86+3|86+3|86+3|83+3|83+3|83+3|83+3|81+3|77+3|77+3|77+3|81+3|61+3|62+3|62+3|62+3|61+3|58+3|57+3|57+3|57+3|58+3|      62|       91|             85|          83|     89|       85|   77|        86|         65|         89|          77|         78|     78|       90|     78|       88|     84|     78|      84|       84|        80|           39|         91|    77|       88|       86|     34|            42|           19|      15|         6|       12|            8|        10|       €127.1M|                              €|\n",
            "| 11|182521|         T. Kroos| 28|https://cdn.sofif...|    Germany|https://cdn.sofif...|     90|       90|        Real Madrid|https://cdn.sofif...| €76.5M|€355K|   2190|         Right|                       4|        5|          3|Medium/ Medium|    Normal|      Yes|     LCM|            8|Jul 17, 2014|       null|                2022|   6'0|168lbs|78+3|78+3|78+3|81+3|82+3|82+3|82+3|81+3|84+3|84+3|84+3|82+3|86+3|86+3|86+3|82+3|79+3|82+3|82+3|82+3|79+3|77+3|72+3|72+3|72+3|77+3|      88|       76|             54|          92|     82|       81|   86|        84|         93|         90|          64|         62|     70|       89|     71|       87|     30|     75|      73|       92|        60|           82|         79|    86|       73|       85|     72|            79|           69|      10|        11|       13|            7|        10|       €156.8M|                              €|\n",
            "| 12|182493|         D. Godín| 32|https://cdn.sofif...|    Uruguay|https://cdn.sofif...|     90|       90|    Atlético Madrid|https://cdn.sofif...|   €44M|€125K|   1946|         Right|                       3|        3|          2|  Medium/ High|      Lean|      Yes|      CB|           10| Aug 4, 2010|       null|                2019|   6'2|172lbs|64+3|64+3|64+3|61+3|62+3|62+3|62+3|61+3|62+3|62+3|62+3|63+3|68+3|68+3|68+3|63+3|76+3|81+3|81+3|81+3|76+3|79+3|87+3|87+3|87+3|79+3|      55|       42|             92|          79|     47|       53|   49|        51|         70|         76|          68|         68|     58|       85|     54|       67|     91|     66|      88|       43|        89|           88|         48|    52|       50|       82|     90|            89|           89|       6|         8|       15|            5|        15|        €90.2M|                              €|\n",
            "| 13|168542|      David Silva| 32|https://cdn.sofif...|      Spain|https://cdn.sofif...|     90|       90|    Manchester City|https://cdn.sofif...|   €60M|€285K|   2115|          Left|                       4|        2|          4|  High/ Medium|    Normal|      Yes|     LCM|           21|Jul 14, 2010|       null|                2020|   5'8|148lbs|77+3|77+3|77+3|85+3|84+3|84+3|84+3|85+3|87+3|87+3|87+3|85+3|85+3|85+3|85+3|85+3|69+3|70+3|70+3|70+3|69+3|64+3|57+3|57+3|57+3|64+3|      84|       76|             54|          93|     82|       89|   82|        77|         87|         94|          70|         64|     92|       90|     90|       72|     64|     78|      52|       75|        57|           50|         89|    92|       75|       93|     59|            53|           29|       6|        15|        7|            6|        12|         €111M|                              €|\n",
            "| 14|215914|         N. Kanté| 27|https://cdn.sofif...|     France|https://cdn.sofif...|     89|       90|            Chelsea|https://cdn.sofif...|   €63M|€225K|   2189|         Right|                       3|        3|          2|  Medium/ High|      Lean|      Yes|     LDM|           13|Jul 16, 2016|       null|                2023|   5'6|159lbs|72+3|72+3|72+3|77+3|77+3|77+3|77+3|77+3|79+3|79+3|79+3|79+3|82+3|82+3|82+3|79+3|85+3|87+3|87+3|87+3|85+3|84+3|83+3|83+3|83+3|84+3|      68|       65|             54|          86|     56|       79|   49|        49|         81|         80|          82|         78|     82|       93|     92|       71|     77|     96|      76|       69|        90|           92|         71|    79|       54|       85|     90|            91|           85|      15|        12|       10|            7|        10|       €121.3M|                              €|\n",
            "| 15|211110|        P. Dybala| 24|https://cdn.sofif...|  Argentina|https://cdn.sofif...|     89|       94|           Juventus|https://cdn.sofif...|   €89M|€205K|   2092|          Left|                       3|        3|          4|  High/ Medium|    Normal|      Yes|      LF|           21| Jul 1, 2015|       null|                2022|  5'10|165lbs|83+3|83+3|83+3|87+3|86+3|86+3|86+3|87+3|87+3|87+3|87+3|86+3|79+3|79+3|79+3|86+3|62+3|58+3|58+3|58+3|62+3|56+3|45+3|45+3|45+3|56+3|      82|       84|             68|          87|     88|       92|   88|        88|         75|         92|          87|         83|     91|       86|     85|       82|     75|     80|      65|       88|        48|           32|         84|    87|       86|       84|     23|            20|           20|       5|         4|        4|            5|         8|       €153.5M|                              €|\n",
            "| 16|202126|          H. Kane| 24|https://cdn.sofif...|    England|https://cdn.sofif...|     89|       91|  Tottenham Hotspur|https://cdn.sofif...| €83.5M|€205K|   2165|         Right|                       3|        4|          3|    High/ High|    Normal|      Yes|      ST|            9| Jul 1, 2010|       null|                2024|   6'2|196lbs|86+3|86+3|86+3|82+3|84+3|84+3|84+3|82+3|82+3|82+3|82+3|81+3|79+3|79+3|79+3|81+3|65+3|66+3|66+3|66+3|65+3|62+3|60+3|60+3|60+3|62+3|      75|       94|             85|          80|     84|       80|   78|        68|         82|         84|          68|         72|     71|       91|     71|       88|     78|     89|      84|       85|        76|           35|         93|    80|       90|       89|     56|            36|           38|       8|        10|       11|           14|        11|       €160.7M|                              €|\n",
            "| 17|194765|     A. Griezmann| 27|https://cdn.sofif...|     France|https://cdn.sofif...|     89|       90|    Atlético Madrid|https://cdn.sofif...|   €78M|€145K|   2246|          Left|                       4|        3|          4|    High/ High|      Lean|      Yes|     CAM|            7|Jul 28, 2014|       null|                2023|   5'9|161lbs|86+3|86+3|86+3|87+3|87+3|87+3|87+3|87+3|86+3|86+3|86+3|86+3|80+3|80+3|80+3|86+3|70+3|67+3|67+3|67+3|70+3|67+3|61+3|61+3|61+3|67+3|      82|       90|             84|          83|     87|       88|   84|        78|         76|         90|          88|         85|     90|       90|     80|       80|     90|     83|      62|       82|        69|           35|         91|    83|       79|       87|     59|            47|           48|      14|         8|       14|           13|        14|       €165.8M|                              €|\n",
            "| 18|192448|    M. ter Stegen| 26|https://cdn.sofif...|    Germany|https://cdn.sofif...|     89|       92|       FC Barcelona|https://cdn.sofif...|   €58M|€240K|   1328|         Right|                       3|        4|          1|Medium/ Medium|    Normal|      Yes|      GK|           22| Jul 1, 2014|       null|                2022|   6'2|187lbs|null|null|null|null|null|null|null|null|null|null|null|null|null|null|null|null|null|null|null|null|null|null|null|null|null|null|      15|       14|             11|          36|     14|       17|   18|        12|         42|         18|          38|         50|     37|       85|     43|       22|     79|     35|      79|       10|        43|           22|         11|    69|       25|       69|     25|            13|           10|      87|        85|       88|           85|        90|       €123.3M|                              €|\n",
            "| 19|192119|      T. Courtois| 26|https://cdn.sofif...|    Belgium|https://cdn.sofif...|     89|       90|        Real Madrid|https://cdn.sofif...| €53.5M|€240K|   1311|          Left|                       4|        2|          1|Medium/ Medium|  Courtois|      Yes|      GK|            1| Aug 9, 2018|       null|                2024|   6'6|212lbs|null|null|null|null|null|null|null|null|null|null|null|null|null|null|null|null|null|null|null|null|null|null|null|null|null|null|      14|       14|             13|          33|     12|       13|   19|        20|         35|         23|          46|         52|     61|       84|     45|       36|     68|     38|      70|       17|        23|           15|         13|    44|       27|       66|     20|            18|           16|      85|        91|       72|           86|        88|       €113.7M|                              €|\n",
            "+---+------+-----------------+---+--------------------+-----------+--------------------+-------+---------+-------------------+--------------------+-------+-----+-------+--------------+------------------------+---------+-----------+--------------+----------+---------+--------+-------------+------------+-----------+--------------------+------+------+----+----+----+----+----+----+----+----+----+----+----+----+----+----+----+----+----+----+----+----+----+----+----+----+----+----+--------+---------+---------------+------------+-------+---------+-----+----------+-----------+-----------+------------+-----------+-------+---------+-------+---------+-------+-------+--------+---------+----------+-------------+-----------+------+---------+---------+-------+--------------+-------------+--------+----------+---------+-------------+----------+--------------+-------------------------------+\n",
            "only showing top 20 rows\n",
            "\n"
          ]
        }
      ]
    },
    {
      "cell_type": "code",
      "source": [],
      "metadata": {
        "id": "5OMh9M6G4Rbp"
      },
      "execution_count": null,
      "outputs": []
    },
    {
      "cell_type": "code",
      "source": [
        "fifa.filter(\"Age>40\").show()"
      ],
      "metadata": {
        "colab": {
          "base_uri": "https://localhost:8080/"
        },
        "outputId": "a86a1357-71f3-41f8-edb9-a38c5bb2f4d1",
        "id": "1lolXZwm6_WF"
      },
      "execution_count": 44,
      "outputs": [
        {
          "output_type": "stream",
          "name": "stdout",
          "text": [
            "+----+------+---------+---+--------------------+-----------+--------------------+-------+---------+----+--------------------+-----+----+-------+--------------+------------------------+---------+-----------+--------------+---------+---------+--------+-------------+------+-----------+--------------------+------+------+----+----+----+----+----+----+----+----+----+----+----+----+----+----+----+----+----+----+----+----+----+----+----+----+----+----+--------+---------+---------------+------------+-------+---------+-----+----------+-----------+-----------+------------+-----------+-------+---------+-------+---------+-------+-------+--------+---------+----------+-------------+-----------+------+---------+---------+-------+--------------+-------------+--------+----------+---------+-------------+----------+--------------+\n",
            "| _c0|    ID|     Name|Age|               Photo|Nationality|                Flag|Overall|Potential|Club|           Club Logo|Value|Wage|Special|Preferred Foot|International Reputation|Weak Foot|Skill Moves|     Work Rate|Body Type|Real Face|Position|Jersey Number|Joined|Loaned From|Contract Valid Until|Height|Weight|  LS|  ST|  RS|  LW|  LF|  CF|  RF|  RW| LAM| CAM| RAM|  LM| LCM|  CM| RCM|  RM| LWB| LDM| CDM| RDM| RWB|  LB| LCB|  CB| RCB|  RB|Crossing|Finishing|HeadingAccuracy|ShortPassing|Volleys|Dribbling|Curve|FKAccuracy|LongPassing|BallControl|Acceleration|SprintSpeed|Agility|Reactions|Balance|ShotPower|Jumping|Stamina|Strength|LongShots|Aggression|Interceptions|Positioning|Vision|Penalties|Composure|Marking|StandingTackle|SlidingTackle|GKDiving|GKHandling|GKKicking|GKPositioning|GKReflexes|Release Clause|\n",
            "+----+------+---------+---+--------------------+-----------+--------------------+-------+---------+----+--------------------+-----+----+-------+--------------+------------------------+---------+-----------+--------------+---------+---------+--------+-------------+------+-----------+--------------------+------+------+----+----+----+----+----+----+----+----+----+----+----+----+----+----+----+----+----+----+----+----+----+----+----+----+----+----+--------+---------+---------------+------------+-------+---------+-----+----------+-----------+-----------+------------+-----------+-------+---------+-------+---------+-------+-------+--------+---------+----------+-------------+-----------+------+---------+---------+-------+--------------+-------------+--------+----------+---------+-------------+----------+--------------+\n",
            "|1120|156092|J. Villar| 41|https://cdn.sofif...|   Paraguay|https://cdn.sofif...|     77|       77|null|https://cdn.sofif...|   €0|  €0|   1168|         Right|                       2|        3|          1|Medium/ Medium|   Normal|       No|      GK|            1|  null|       null|                null|  5'11|187lbs|null|null|null|null|null|null|null|null|null|null|null|null|null|null|null|null|null|null|null|null|null|null|null|null|null|null|      14|       12|             12|          30|      8|       21|   15|        22|         22|         24|          31|         32|     50|       73|     68|       29|     56|     22|      62|       16|        22|           22|         14|    51|       21|       55|     13|            13|           14|      75|        75|       74|           78|        77|          null|\n",
            "+----+------+---------+---+--------------------+-----------+--------------------+-------+---------+----+--------------------+-----+----+-------+--------------+------------------------+---------+-----------+--------------+---------+---------+--------+-------------+------+-----------+--------------------+------+------+----+----+----+----+----+----+----+----+----+----+----+----+----+----+----+----+----+----+----+----+----+----+----+----+----+----+--------+---------+---------------+------------+-------+---------+-----+----------+-----------+-----------+------------+-----------+-------+---------+-------+---------+-------+-------+--------+---------+----------+-------------+-----------+------+---------+---------+-------+--------------+-------------+--------+----------+---------+-------------+----------+--------------+\n",
            "\n"
          ]
        }
      ]
    },
    {
      "cell_type": "code",
      "source": [],
      "metadata": {
        "id": "QCATXD9T4RY6"
      },
      "execution_count": null,
      "outputs": []
    },
    {
      "cell_type": "code",
      "source": [],
      "metadata": {
        "id": "nbBe9P8o4RV8"
      },
      "execution_count": null,
      "outputs": []
    },
    {
      "cell_type": "code",
      "source": [],
      "metadata": {
        "id": "P2quUdgP4RTA"
      },
      "execution_count": null,
      "outputs": []
    },
    {
      "cell_type": "code",
      "source": [],
      "metadata": {
        "id": "85KnjLIQ4RQD"
      },
      "execution_count": null,
      "outputs": []
    },
    {
      "cell_type": "code",
      "source": [],
      "metadata": {
        "id": "xvtmSjwT4RNJ"
      },
      "execution_count": null,
      "outputs": []
    },
    {
      "cell_type": "code",
      "source": [],
      "metadata": {
        "id": "AGTepQGz4RKQ"
      },
      "execution_count": null,
      "outputs": []
    },
    {
      "cell_type": "code",
      "source": [],
      "metadata": {
        "id": "4KzmUIU54RHk"
      },
      "execution_count": null,
      "outputs": []
    },
    {
      "cell_type": "code",
      "source": [],
      "metadata": {
        "id": "mVhV0n_D4REo"
      },
      "execution_count": null,
      "outputs": []
    },
    {
      "cell_type": "code",
      "source": [],
      "metadata": {
        "id": "gXyv3IhN4RB3"
      },
      "execution_count": null,
      "outputs": []
    },
    {
      "cell_type": "code",
      "source": [],
      "metadata": {
        "id": "LYxo3Uot4Q_A"
      },
      "execution_count": null,
      "outputs": []
    },
    {
      "cell_type": "code",
      "source": [],
      "metadata": {
        "id": "Hbw5-lp14Q8Y"
      },
      "execution_count": null,
      "outputs": []
    },
    {
      "cell_type": "code",
      "source": [],
      "metadata": {
        "id": "Pq2o02wo4Q5R"
      },
      "execution_count": null,
      "outputs": []
    },
    {
      "cell_type": "code",
      "source": [],
      "metadata": {
        "id": "u8brXeyv4Q2l"
      },
      "execution_count": null,
      "outputs": []
    },
    {
      "cell_type": "code",
      "source": [],
      "metadata": {
        "id": "ladqq2K84Qz4"
      },
      "execution_count": null,
      "outputs": []
    },
    {
      "cell_type": "code",
      "source": [],
      "metadata": {
        "id": "X9zUmpK64QxC"
      },
      "execution_count": null,
      "outputs": []
    },
    {
      "cell_type": "code",
      "source": [],
      "metadata": {
        "id": "Jhk_Qh8M4QuY"
      },
      "execution_count": null,
      "outputs": []
    },
    {
      "cell_type": "code",
      "source": [],
      "metadata": {
        "id": "aysXSfRm4Qo4"
      },
      "execution_count": null,
      "outputs": []
    },
    {
      "cell_type": "code",
      "source": [],
      "metadata": {
        "id": "eYLZKB5A4QmZ"
      },
      "execution_count": null,
      "outputs": []
    },
    {
      "cell_type": "code",
      "source": [],
      "metadata": {
        "id": "qwnDBWF_4Qj5"
      },
      "execution_count": null,
      "outputs": []
    }
  ]
}