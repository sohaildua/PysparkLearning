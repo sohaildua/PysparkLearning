{
  "nbformat": 4,
  "nbformat_minor": 0,
  "metadata": {
    "colab": {
      "provenance": [],
      "authorship_tag": "ABX9TyNiNwmSx4+qcCfa0qUZghvU",
      "include_colab_link": true
    },
    "kernelspec": {
      "name": "python3",
      "display_name": "Python 3"
    },
    "language_info": {
      "name": "python"
    }
  },
  "cells": [
    {
      "cell_type": "markdown",
      "metadata": {
        "id": "view-in-github",
        "colab_type": "text"
      },
      "source": [
        "<a href=\"https://colab.research.google.com/github/sohaildua/PysparkLearning/blob/main/MissingData.ipynb\" target=\"_parent\"><img src=\"https://colab.research.google.com/assets/colab-badge.svg\" alt=\"Open In Colab\"/></a>"
      ]
    },
    {
      "cell_type": "code",
      "execution_count": 1,
      "metadata": {
        "colab": {
          "base_uri": "https://localhost:8080/"
        },
        "id": "M6MtHhU-JSQ0",
        "outputId": "e36a3f47-e3ed-4b75-feb2-965d5ea96c13"
      },
      "outputs": [
        {
          "output_type": "stream",
          "name": "stdout",
          "text": [
            "Looking in indexes: https://pypi.org/simple, https://us-python.pkg.dev/colab-wheels/public/simple/\n",
            "Collecting pyspark\n",
            "  Downloading pyspark-3.3.0.tar.gz (281.3 MB)\n",
            "\u001b[K     |████████████████████████████████| 281.3 MB 41 kB/s \n",
            "\u001b[?25hCollecting py4j==0.10.9.5\n",
            "  Downloading py4j-0.10.9.5-py2.py3-none-any.whl (199 kB)\n",
            "\u001b[K     |████████████████████████████████| 199 kB 36.7 MB/s \n",
            "\u001b[?25hBuilding wheels for collected packages: pyspark\n",
            "  Building wheel for pyspark (setup.py) ... \u001b[?25l\u001b[?25hdone\n",
            "  Created wheel for pyspark: filename=pyspark-3.3.0-py2.py3-none-any.whl size=281764026 sha256=b239e5420e7870efb7fa25e9fbde90d95ec77c5bec158e03f199e48d5587ffe0\n",
            "  Stored in directory: /root/.cache/pip/wheels/7a/8e/1b/f73a52650d2e5f337708d9f6a1750d451a7349a867f928b885\n",
            "Successfully built pyspark\n",
            "Installing collected packages: py4j, pyspark\n",
            "Successfully installed py4j-0.10.9.5 pyspark-3.3.0\n"
          ]
        }
      ],
      "source": [
        "!pip install pyspark\n",
        "!pip install -U -q PyDrive --quiet \n",
        "\n"
      ]
    },
    {
      "cell_type": "code",
      "source": [
        "import pyspark\n",
        "from pyspark.sql import SparkSession\n",
        "spark = SparkSession.builder.appName(\"mising\").getOrCreate()\n",
        "spark"
      ],
      "metadata": {
        "colab": {
          "base_uri": "https://localhost:8080/",
          "height": 219
        },
        "id": "NvgmbEhrJnf2",
        "outputId": "b9f497e4-30f4-4b2c-ca0f-c06b6b508fab"
      },
      "execution_count": 4,
      "outputs": [
        {
          "output_type": "execute_result",
          "data": {
            "text/plain": [
              "<pyspark.sql.session.SparkSession at 0x7f6322300490>"
            ],
            "text/html": [
              "\n",
              "            <div>\n",
              "                <p><b>SparkSession - in-memory</b></p>\n",
              "                \n",
              "        <div>\n",
              "            <p><b>SparkContext</b></p>\n",
              "\n",
              "            <p><a href=\"http://c79aa42b10ab:4040\">Spark UI</a></p>\n",
              "\n",
              "            <dl>\n",
              "              <dt>Version</dt>\n",
              "                <dd><code>v3.3.0</code></dd>\n",
              "              <dt>Master</dt>\n",
              "                <dd><code>local[*]</code></dd>\n",
              "              <dt>AppName</dt>\n",
              "                <dd><code>Manipulate</code></dd>\n",
              "            </dl>\n",
              "        </div>\n",
              "        \n",
              "            </div>\n",
              "        "
            ]
          },
          "metadata": {},
          "execution_count": 4
        }
      ]
    },
    {
      "cell_type": "code",
      "source": [
        "zomato = spark.read.csv('zomato.csv', inferSchema=True, header=True)"
      ],
      "metadata": {
        "id": "1E-iaSRrJnc0"
      },
      "execution_count": 3,
      "outputs": []
    },
    {
      "cell_type": "code",
      "source": [
        "zomato.limit(4).toPandas()"
      ],
      "metadata": {
        "colab": {
          "base_uri": "https://localhost:8080/",
          "height": 551
        },
        "id": "E01RHZgbJnZ6",
        "outputId": "09b36113-8b3e-4663-adde-823662d00bb6"
      },
      "execution_count": 5,
      "outputs": [
        {
          "output_type": "execute_result",
          "data": {
            "text/plain": [
              "                                                 url  \\\n",
              "0  https://www.zomato.com/bangalore/jalsa-banasha...   \n",
              "1                                    +91 9743772233\"   \n",
              "2  https://www.zomato.com/bangalore/spice-elephan...   \n",
              "3  https://www.zomato.com/SanchurroBangalore?cont...   \n",
              "\n",
              "                                             address             name  \\\n",
              "0  942, 21st Main Road, 2nd Stage, Banashankari, ...            Jalsa   \n",
              "1                                       Banashankari    Casual Dining   \n",
              "2  2nd Floor, 80 Feet Road, Near Big Bazaar, 6th ...   Spice Elephant   \n",
              "3  1112, Next to KIMS Medical College, 17th Cross...  San Churro Cafe   \n",
              "\n",
              "                                        online_order  \\\n",
              "0                                                Yes   \n",
              "1  Pasta, Lunch Buffet, Masala Papad, Paneer Laja...   \n",
              "2                                                Yes   \n",
              "3                                                Yes   \n",
              "\n",
              "                       book_table   rate  \\\n",
              "0                             Yes  4.1/5   \n",
              "1  North Indian, Mughlai, Chinese    800   \n",
              "2                              No  4.1/5   \n",
              "3                              No  3.8/5   \n",
              "\n",
              "                                               votes           phone  \\\n",
              "0                                                775    080 42297555   \n",
              "1  \"[('Rated 4.0', 'RATED\\n  A beautiful place to...    ('Rated 4.0'   \n",
              "2                                                787    080 41714161   \n",
              "3                                                918  +91 9663487993   \n",
              "\n",
              "                                            location            rest_type  \\\n",
              "0                                               None                 None   \n",
              "1   'RATED\\n  You canÃ\\x83Ã\\x83Ã\\x82Ã\\x82Ã\\x...         ('Rated 5.0'   \n",
              "2                                       Banashankari        Casual Dining   \n",
              "3                                       Banashankari  Cafe, Casual Dining   \n",
              "\n",
              "                                          dish_liked  \\\n",
              "0                                               None   \n",
              "1   'RATED\\n  Overdelighted by the service and fo...   \n",
              "2  Momos, Lunch Buffet, Chocolate Nirvana, Thai G...   \n",
              "3  Churros, Cannelloni, Minestrone Soup, Hot Choc...   \n",
              "\n",
              "                      cuisines  \\\n",
              "0                         None   \n",
              "1                 ('Rated 4.0'   \n",
              "2  Chinese, North Indian, Thai   \n",
              "3       Cafe, Mexican, Italian   \n",
              "\n",
              "                         approx_cost(for two people)  \\\n",
              "0                                               None   \n",
              "1   'RATED\\n  The place is nice and comfortable. ...   \n",
              "2                                                800   \n",
              "3                                                800   \n",
              "\n",
              "                                        reviews_list  \\\n",
              "0                                               None   \n",
              "1                                       ('Rated 4.0'   \n",
              "2  \"[('Rated 4.0', 'RATED\\n  Had been here for di...   \n",
              "3  \"[('Rated 3.0', \"\"RATED\\n  Ambience is not tha...   \n",
              "\n",
              "                                           menu_item  \\\n",
              "0                                               None   \n",
              "1   'RATED\\n  The place is nice and comfortable. ...   \n",
              "2  rice was well cooked and overall was great\\n\\n...   \n",
              "3                                       ('Rated 3.0'   \n",
              "\n",
              "                                     listed_in(type)  \\\n",
              "0                                               None   \n",
              "1                                       ('Rated 4.0'   \n",
              "2                                       ('Rated 5.0'   \n",
              "3   \"\"RATED\\n \\nWent there for a quick bite with ...   \n",
              "\n",
              "                                     listed_in(city)  \n",
              "0                                               None  \n",
              "1   'RATED\\n  The place is nice and comfortable. ...  \n",
              "2   'RATED\\n  This place just cool ? with good am...  \n",
              "3   pasta churros and lasagne.\\n\\nNachos were pat...  "
            ],
            "text/html": [
              "\n",
              "  <div id=\"df-3b49b0ce-a1e2-4472-8866-98d6f64cb4f6\">\n",
              "    <div class=\"colab-df-container\">\n",
              "      <div>\n",
              "<style scoped>\n",
              "    .dataframe tbody tr th:only-of-type {\n",
              "        vertical-align: middle;\n",
              "    }\n",
              "\n",
              "    .dataframe tbody tr th {\n",
              "        vertical-align: top;\n",
              "    }\n",
              "\n",
              "    .dataframe thead th {\n",
              "        text-align: right;\n",
              "    }\n",
              "</style>\n",
              "<table border=\"1\" class=\"dataframe\">\n",
              "  <thead>\n",
              "    <tr style=\"text-align: right;\">\n",
              "      <th></th>\n",
              "      <th>url</th>\n",
              "      <th>address</th>\n",
              "      <th>name</th>\n",
              "      <th>online_order</th>\n",
              "      <th>book_table</th>\n",
              "      <th>rate</th>\n",
              "      <th>votes</th>\n",
              "      <th>phone</th>\n",
              "      <th>location</th>\n",
              "      <th>rest_type</th>\n",
              "      <th>dish_liked</th>\n",
              "      <th>cuisines</th>\n",
              "      <th>approx_cost(for two people)</th>\n",
              "      <th>reviews_list</th>\n",
              "      <th>menu_item</th>\n",
              "      <th>listed_in(type)</th>\n",
              "      <th>listed_in(city)</th>\n",
              "    </tr>\n",
              "  </thead>\n",
              "  <tbody>\n",
              "    <tr>\n",
              "      <th>0</th>\n",
              "      <td>https://www.zomato.com/bangalore/jalsa-banasha...</td>\n",
              "      <td>942, 21st Main Road, 2nd Stage, Banashankari, ...</td>\n",
              "      <td>Jalsa</td>\n",
              "      <td>Yes</td>\n",
              "      <td>Yes</td>\n",
              "      <td>4.1/5</td>\n",
              "      <td>775</td>\n",
              "      <td>080 42297555</td>\n",
              "      <td>None</td>\n",
              "      <td>None</td>\n",
              "      <td>None</td>\n",
              "      <td>None</td>\n",
              "      <td>None</td>\n",
              "      <td>None</td>\n",
              "      <td>None</td>\n",
              "      <td>None</td>\n",
              "      <td>None</td>\n",
              "    </tr>\n",
              "    <tr>\n",
              "      <th>1</th>\n",
              "      <td>+91 9743772233\"</td>\n",
              "      <td>Banashankari</td>\n",
              "      <td>Casual Dining</td>\n",
              "      <td>Pasta, Lunch Buffet, Masala Papad, Paneer Laja...</td>\n",
              "      <td>North Indian, Mughlai, Chinese</td>\n",
              "      <td>800</td>\n",
              "      <td>\"[('Rated 4.0', 'RATED\\n  A beautiful place to...</td>\n",
              "      <td>('Rated 4.0'</td>\n",
              "      <td>'RATED\\n  You canÃ\\x83Ã\\x83Ã\\x82Ã\\x82Ã\\x...</td>\n",
              "      <td>('Rated 5.0'</td>\n",
              "      <td>'RATED\\n  Overdelighted by the service and fo...</td>\n",
              "      <td>('Rated 4.0'</td>\n",
              "      <td>'RATED\\n  The place is nice and comfortable. ...</td>\n",
              "      <td>('Rated 4.0'</td>\n",
              "      <td>'RATED\\n  The place is nice and comfortable. ...</td>\n",
              "      <td>('Rated 4.0'</td>\n",
              "      <td>'RATED\\n  The place is nice and comfortable. ...</td>\n",
              "    </tr>\n",
              "    <tr>\n",
              "      <th>2</th>\n",
              "      <td>https://www.zomato.com/bangalore/spice-elephan...</td>\n",
              "      <td>2nd Floor, 80 Feet Road, Near Big Bazaar, 6th ...</td>\n",
              "      <td>Spice Elephant</td>\n",
              "      <td>Yes</td>\n",
              "      <td>No</td>\n",
              "      <td>4.1/5</td>\n",
              "      <td>787</td>\n",
              "      <td>080 41714161</td>\n",
              "      <td>Banashankari</td>\n",
              "      <td>Casual Dining</td>\n",
              "      <td>Momos, Lunch Buffet, Chocolate Nirvana, Thai G...</td>\n",
              "      <td>Chinese, North Indian, Thai</td>\n",
              "      <td>800</td>\n",
              "      <td>\"[('Rated 4.0', 'RATED\\n  Had been here for di...</td>\n",
              "      <td>rice was well cooked and overall was great\\n\\n...</td>\n",
              "      <td>('Rated 5.0'</td>\n",
              "      <td>'RATED\\n  This place just cool ? with good am...</td>\n",
              "    </tr>\n",
              "    <tr>\n",
              "      <th>3</th>\n",
              "      <td>https://www.zomato.com/SanchurroBangalore?cont...</td>\n",
              "      <td>1112, Next to KIMS Medical College, 17th Cross...</td>\n",
              "      <td>San Churro Cafe</td>\n",
              "      <td>Yes</td>\n",
              "      <td>No</td>\n",
              "      <td>3.8/5</td>\n",
              "      <td>918</td>\n",
              "      <td>+91 9663487993</td>\n",
              "      <td>Banashankari</td>\n",
              "      <td>Cafe, Casual Dining</td>\n",
              "      <td>Churros, Cannelloni, Minestrone Soup, Hot Choc...</td>\n",
              "      <td>Cafe, Mexican, Italian</td>\n",
              "      <td>800</td>\n",
              "      <td>\"[('Rated 3.0', \"\"RATED\\n  Ambience is not tha...</td>\n",
              "      <td>('Rated 3.0'</td>\n",
              "      <td>\"\"RATED\\n \\nWent there for a quick bite with ...</td>\n",
              "      <td>pasta churros and lasagne.\\n\\nNachos were pat...</td>\n",
              "    </tr>\n",
              "  </tbody>\n",
              "</table>\n",
              "</div>\n",
              "      <button class=\"colab-df-convert\" onclick=\"convertToInteractive('df-3b49b0ce-a1e2-4472-8866-98d6f64cb4f6')\"\n",
              "              title=\"Convert this dataframe to an interactive table.\"\n",
              "              style=\"display:none;\">\n",
              "        \n",
              "  <svg xmlns=\"http://www.w3.org/2000/svg\" height=\"24px\"viewBox=\"0 0 24 24\"\n",
              "       width=\"24px\">\n",
              "    <path d=\"M0 0h24v24H0V0z\" fill=\"none\"/>\n",
              "    <path d=\"M18.56 5.44l.94 2.06.94-2.06 2.06-.94-2.06-.94-.94-2.06-.94 2.06-2.06.94zm-11 1L8.5 8.5l.94-2.06 2.06-.94-2.06-.94L8.5 2.5l-.94 2.06-2.06.94zm10 10l.94 2.06.94-2.06 2.06-.94-2.06-.94-.94-2.06-.94 2.06-2.06.94z\"/><path d=\"M17.41 7.96l-1.37-1.37c-.4-.4-.92-.59-1.43-.59-.52 0-1.04.2-1.43.59L10.3 9.45l-7.72 7.72c-.78.78-.78 2.05 0 2.83L4 21.41c.39.39.9.59 1.41.59.51 0 1.02-.2 1.41-.59l7.78-7.78 2.81-2.81c.8-.78.8-2.07 0-2.86zM5.41 20L4 18.59l7.72-7.72 1.47 1.35L5.41 20z\"/>\n",
              "  </svg>\n",
              "      </button>\n",
              "      \n",
              "  <style>\n",
              "    .colab-df-container {\n",
              "      display:flex;\n",
              "      flex-wrap:wrap;\n",
              "      gap: 12px;\n",
              "    }\n",
              "\n",
              "    .colab-df-convert {\n",
              "      background-color: #E8F0FE;\n",
              "      border: none;\n",
              "      border-radius: 50%;\n",
              "      cursor: pointer;\n",
              "      display: none;\n",
              "      fill: #1967D2;\n",
              "      height: 32px;\n",
              "      padding: 0 0 0 0;\n",
              "      width: 32px;\n",
              "    }\n",
              "\n",
              "    .colab-df-convert:hover {\n",
              "      background-color: #E2EBFA;\n",
              "      box-shadow: 0px 1px 2px rgba(60, 64, 67, 0.3), 0px 1px 3px 1px rgba(60, 64, 67, 0.15);\n",
              "      fill: #174EA6;\n",
              "    }\n",
              "\n",
              "    [theme=dark] .colab-df-convert {\n",
              "      background-color: #3B4455;\n",
              "      fill: #D2E3FC;\n",
              "    }\n",
              "\n",
              "    [theme=dark] .colab-df-convert:hover {\n",
              "      background-color: #434B5C;\n",
              "      box-shadow: 0px 1px 3px 1px rgba(0, 0, 0, 0.15);\n",
              "      filter: drop-shadow(0px 1px 2px rgba(0, 0, 0, 0.3));\n",
              "      fill: #FFFFFF;\n",
              "    }\n",
              "  </style>\n",
              "\n",
              "      <script>\n",
              "        const buttonEl =\n",
              "          document.querySelector('#df-3b49b0ce-a1e2-4472-8866-98d6f64cb4f6 button.colab-df-convert');\n",
              "        buttonEl.style.display =\n",
              "          google.colab.kernel.accessAllowed ? 'block' : 'none';\n",
              "\n",
              "        async function convertToInteractive(key) {\n",
              "          const element = document.querySelector('#df-3b49b0ce-a1e2-4472-8866-98d6f64cb4f6');\n",
              "          const dataTable =\n",
              "            await google.colab.kernel.invokeFunction('convertToInteractive',\n",
              "                                                     [key], {});\n",
              "          if (!dataTable) return;\n",
              "\n",
              "          const docLinkHtml = 'Like what you see? Visit the ' +\n",
              "            '<a target=\"_blank\" href=https://colab.research.google.com/notebooks/data_table.ipynb>data table notebook</a>'\n",
              "            + ' to learn more about interactive tables.';\n",
              "          element.innerHTML = '';\n",
              "          dataTable['output_type'] = 'display_data';\n",
              "          await google.colab.output.renderOutput(dataTable, element);\n",
              "          const docLink = document.createElement('div');\n",
              "          docLink.innerHTML = docLinkHtml;\n",
              "          element.appendChild(docLink);\n",
              "        }\n",
              "      </script>\n",
              "    </div>\n",
              "  </div>\n",
              "  "
            ]
          },
          "metadata": {},
          "execution_count": 5
        }
      ]
    },
    {
      "cell_type": "code",
      "source": [
        "zomato.printSchema()"
      ],
      "metadata": {
        "colab": {
          "base_uri": "https://localhost:8080/"
        },
        "id": "_6paDsABJnXQ",
        "outputId": "001c2649-dd4e-4b21-8ef0-16eff68a643d"
      },
      "execution_count": 6,
      "outputs": [
        {
          "output_type": "stream",
          "name": "stdout",
          "text": [
            "root\n",
            " |-- url: string (nullable = true)\n",
            " |-- address: string (nullable = true)\n",
            " |-- name: string (nullable = true)\n",
            " |-- online_order: string (nullable = true)\n",
            " |-- book_table: string (nullable = true)\n",
            " |-- rate: string (nullable = true)\n",
            " |-- votes: string (nullable = true)\n",
            " |-- phone: string (nullable = true)\n",
            " |-- location: string (nullable = true)\n",
            " |-- rest_type: string (nullable = true)\n",
            " |-- dish_liked: string (nullable = true)\n",
            " |-- cuisines: string (nullable = true)\n",
            " |-- approx_cost(for two people): string (nullable = true)\n",
            " |-- reviews_list: string (nullable = true)\n",
            " |-- menu_item: string (nullable = true)\n",
            " |-- listed_in(type): string (nullable = true)\n",
            " |-- listed_in(city): string (nullable = true)\n",
            "\n"
          ]
        }
      ]
    },
    {
      "cell_type": "code",
      "source": [
        "from pyspark.sql.types import *\n",
        "from pyspark.sql.functions import *\n",
        "\n",
        "df = zomato.withColumn(\"approx_cost(for two people)\", zomato[\"approx_cost(for two people)\"].cast(IntegerType())) \\\n",
        "        .withColumn(\"votes\", zomato[\"votes\"].cast(IntegerType()))\n",
        "#QA\n",
        "print(df.printSchema())"
      ],
      "metadata": {
        "colab": {
          "base_uri": "https://localhost:8080/"
        },
        "id": "OltBwcnPJnUh",
        "outputId": "45632711-71a5-40d0-8bc1-3efe81c2bdbd"
      },
      "execution_count": 7,
      "outputs": [
        {
          "output_type": "stream",
          "name": "stdout",
          "text": [
            "root\n",
            " |-- url: string (nullable = true)\n",
            " |-- address: string (nullable = true)\n",
            " |-- name: string (nullable = true)\n",
            " |-- online_order: string (nullable = true)\n",
            " |-- book_table: string (nullable = true)\n",
            " |-- rate: string (nullable = true)\n",
            " |-- votes: integer (nullable = true)\n",
            " |-- phone: string (nullable = true)\n",
            " |-- location: string (nullable = true)\n",
            " |-- rest_type: string (nullable = true)\n",
            " |-- dish_liked: string (nullable = true)\n",
            " |-- cuisines: string (nullable = true)\n",
            " |-- approx_cost(for two people): integer (nullable = true)\n",
            " |-- reviews_list: string (nullable = true)\n",
            " |-- menu_item: string (nullable = true)\n",
            " |-- listed_in(type): string (nullable = true)\n",
            " |-- listed_in(city): string (nullable = true)\n",
            "\n",
            "None\n"
          ]
        }
      ]
    },
    {
      "cell_type": "code",
      "source": [],
      "metadata": {
        "id": "A10xczdfJnSA"
      },
      "execution_count": null,
      "outputs": []
    },
    {
      "cell_type": "code",
      "source": [],
      "metadata": {
        "id": "nrxvNpsuJnPa"
      },
      "execution_count": null,
      "outputs": []
    },
    {
      "cell_type": "code",
      "source": [],
      "metadata": {
        "id": "yxx26DRiJnMp"
      },
      "execution_count": null,
      "outputs": []
    },
    {
      "cell_type": "code",
      "source": [],
      "metadata": {
        "id": "DqXvngIzJnJy"
      },
      "execution_count": null,
      "outputs": []
    },
    {
      "cell_type": "code",
      "source": [],
      "metadata": {
        "id": "bmoy5wBXJnFQ"
      },
      "execution_count": null,
      "outputs": []
    },
    {
      "cell_type": "code",
      "source": [],
      "metadata": {
        "id": "4_7y1V2NJnBh"
      },
      "execution_count": null,
      "outputs": []
    }
  ]
}