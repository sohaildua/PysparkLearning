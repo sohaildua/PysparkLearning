{
  "nbformat": 4,
  "nbformat_minor": 0,
  "metadata": {
    "colab": {
      "provenance": [],
      "collapsed_sections": [],
      "authorship_tag": "ABX9TyNdU984pKXFLH3GmEyioErs",
      "include_colab_link": true
    },
    "kernelspec": {
      "name": "python3",
      "display_name": "Python 3"
    },
    "language_info": {
      "name": "python"
    }
  },
  "cells": [
    {
      "cell_type": "markdown",
      "metadata": {
        "id": "view-in-github",
        "colab_type": "text"
      },
      "source": [
        "<a href=\"https://colab.research.google.com/github/sohaildua/PysparkLearning/blob/main/Manipulate.ipynb\" target=\"_parent\"><img src=\"https://colab.research.google.com/assets/colab-badge.svg\" alt=\"Open In Colab\"/></a>"
      ]
    },
    {
      "cell_type": "code",
      "execution_count": 1,
      "metadata": {
        "colab": {
          "base_uri": "https://localhost:8080/"
        },
        "id": "JC0rMQJ-vQaf",
        "outputId": "bef2a81d-5672-487c-d6fd-0e1b7bbeab2e"
      },
      "outputs": [
        {
          "output_type": "stream",
          "name": "stdout",
          "text": [
            "Looking in indexes: https://pypi.org/simple, https://us-python.pkg.dev/colab-wheels/public/simple/\n",
            "Collecting pyspark\n",
            "  Downloading pyspark-3.3.0.tar.gz (281.3 MB)\n",
            "\u001b[K     |████████████████████████████████| 281.3 MB 47 kB/s \n",
            "\u001b[?25hCollecting py4j==0.10.9.5\n",
            "  Downloading py4j-0.10.9.5-py2.py3-none-any.whl (199 kB)\n",
            "\u001b[K     |████████████████████████████████| 199 kB 49.7 MB/s \n",
            "\u001b[?25hBuilding wheels for collected packages: pyspark\n",
            "  Building wheel for pyspark (setup.py) ... \u001b[?25l\u001b[?25hdone\n",
            "  Created wheel for pyspark: filename=pyspark-3.3.0-py2.py3-none-any.whl size=281764026 sha256=426275a161b60211a78d6626566226a676f0f46fc15f15c1c976e308c588d665\n",
            "  Stored in directory: /root/.cache/pip/wheels/7a/8e/1b/f73a52650d2e5f337708d9f6a1750d451a7349a867f928b885\n",
            "Successfully built pyspark\n",
            "Installing collected packages: py4j, pyspark\n",
            "Successfully installed py4j-0.10.9.5 pyspark-3.3.0\n"
          ]
        }
      ],
      "source": [
        "!pip install pyspark\n",
        "!pip install -U -q PyDrive --quiet \n",
        "\n"
      ]
    },
    {
      "cell_type": "code",
      "source": [
        "import pyspark\n",
        "from pyspark.sql import SparkSession\n",
        "spark = SparkSession.builder.appName(\"Manipulate\").getOrCreate()\n",
        "spark"
      ],
      "metadata": {
        "colab": {
          "base_uri": "https://localhost:8080/",
          "height": 222
        },
        "id": "ast1K_d24eaf",
        "outputId": "a26a9d58-b29f-43c2-c4bc-cfa832ccc0ee"
      },
      "execution_count": 419,
      "outputs": [
        {
          "output_type": "execute_result",
          "data": {
            "text/plain": [
              "<pyspark.sql.session.SparkSession at 0x7f185b062a90>"
            ],
            "text/html": [
              "\n",
              "            <div>\n",
              "                <p><b>SparkSession - in-memory</b></p>\n",
              "                \n",
              "        <div>\n",
              "            <p><b>SparkContext</b></p>\n",
              "\n",
              "            <p><a href=\"http://962facc54469:4040\">Spark UI</a></p>\n",
              "\n",
              "            <dl>\n",
              "              <dt>Version</dt>\n",
              "                <dd><code>v3.3.0</code></dd>\n",
              "              <dt>Master</dt>\n",
              "                <dd><code>local[*]</code></dd>\n",
              "              <dt>AppName</dt>\n",
              "                <dd><code>Manipulate</code></dd>\n",
              "            </dl>\n",
              "        </div>\n",
              "        \n",
              "            </div>\n",
              "        "
            ]
          },
          "metadata": {},
          "execution_count": 419
        }
      ]
    },
    {
      "cell_type": "code",
      "source": [
        "from pyspark.sql.functions import concat_ws,col\n",
        "data = [('James','','Smith','1991-04-01','M',3000),\n",
        "  ('Michael','Rose','','2000-05-19','M',4000),\n",
        "  ('Robert','','Williams','1978-09-05','M',4000),\n",
        "  ('Maria','Anne','Jones','1967-12-01','F',4000),\n",
        "  ('Jen','Mary','Brown','1980-02-17','F',-1)\n",
        "]\n",
        "\n",
        "columns = [\"firstname\",\"middlename\",\"lastname\",\"dob\",\"gender\",\"salary\"]\n",
        "df = spark.createDataFrame(data=data, schema = columns)\n",
        "df2=df.select(concat_ws('_!_',df.firstname,df.middlename,df.lastname)\n",
        "              .alias(\"FullName\"),\"dob\",\"gender\",\"salary\")\n",
        "df2.show(truncate=False)"
      ],
      "metadata": {
        "colab": {
          "base_uri": "https://localhost:8080/"
        },
        "id": "WUkfJnQz4eXo",
        "outputId": "88e78835-d881-4a7f-cb46-ce89c3e20507"
      },
      "execution_count": 420,
      "outputs": [
        {
          "output_type": "stream",
          "name": "stdout",
          "text": [
            "+--------------------+----------+------+------+\n",
            "|FullName            |dob       |gender|salary|\n",
            "+--------------------+----------+------+------+\n",
            "|James_!__!_Smith    |1991-04-01|M     |3000  |\n",
            "|Michael_!_Rose_!_   |2000-05-19|M     |4000  |\n",
            "|Robert_!__!_Williams|1978-09-05|M     |4000  |\n",
            "|Maria_!_Anne_!_Jones|1967-12-01|F     |4000  |\n",
            "|Jen_!_Mary_!_Brown  |1980-02-17|F     |-1    |\n",
            "+--------------------+----------+------+------+\n",
            "\n"
          ]
        }
      ]
    },
    {
      "cell_type": "code",
      "source": [
        "videos = spark.read.csv('youtubevideos.csv', inferSchema=True, header=True)"
      ],
      "metadata": {
        "id": "INChH7J54eUf"
      },
      "execution_count": 421,
      "outputs": []
    },
    {
      "cell_type": "code",
      "source": [
        "videos.printSchema()"
      ],
      "metadata": {
        "colab": {
          "base_uri": "https://localhost:8080/"
        },
        "id": "GTOXgv194eRn",
        "outputId": "588b3dd3-987f-43ce-d22d-bf29994dad13"
      },
      "execution_count": 422,
      "outputs": [
        {
          "output_type": "stream",
          "name": "stdout",
          "text": [
            "root\n",
            " |-- video_id: string (nullable = true)\n",
            " |-- trending_date: string (nullable = true)\n",
            " |-- title: string (nullable = true)\n",
            " |-- channel_title: string (nullable = true)\n",
            " |-- category_id: string (nullable = true)\n",
            " |-- publish_time: string (nullable = true)\n",
            " |-- tags: string (nullable = true)\n",
            " |-- views: string (nullable = true)\n",
            " |-- likes: string (nullable = true)\n",
            " |-- dislikes: string (nullable = true)\n",
            " |-- comment_count: string (nullable = true)\n",
            " |-- thumbnail_link: string (nullable = true)\n",
            " |-- comments_disabled: string (nullable = true)\n",
            " |-- ratings_disabled: string (nullable = true)\n",
            " |-- video_error_or_removed: string (nullable = true)\n",
            " |-- description: string (nullable = true)\n",
            "\n"
          ]
        }
      ]
    },
    {
      "cell_type": "code",
      "source": [
        "videos.show(5, False)"
      ],
      "metadata": {
        "colab": {
          "base_uri": "https://localhost:8080/"
        },
        "id": "lNkvk5w04eOw",
        "outputId": "45498b46-0f0c-438c-b53b-26facffc60a5"
      },
      "execution_count": 423,
      "outputs": [
        {
          "output_type": "stream",
          "name": "stdout",
          "text": [
            "+-----------+-------------+--------------------------------------------------------------+---------------------+-----------+------------------------+-----------------------------------------------------------------------------------------------------------------------------------------------------------------------------------------------------------------------------------------------------------------------------------------------------------------------------------------------------------------------------------------------------------------------------------------------------------------------------------------------+-------+------+--------+-------------+----------------------------------------------+-----------------+----------------+----------------------+------------------------------------------------------------------------------------------------------------------------------------------------------------------------------------------------------------------------------------------------------------------------------------------------------------------------------------------------------------------------------------------------------------------------------------------------------------------------------------------------------------------------------------------------------------------------------------------------------------------------------------------------------------------------------------------------------------------------------------------------------------------------------------------------------------------------------------------------------------------------------------------------------------------------------------------------------------------------------------------------------------------------------------------------------------------------------------------------------------------------------------------------------------------------------------------------------------------------------------------------------------------------------------------------------------------------------------------------------------------------------------------------------------------------------------------------------------------+\n",
            "|video_id   |trending_date|title                                                         |channel_title        |category_id|publish_time            |tags                                                                                                                                                                                                                                                                                                                                                                                                                                                                                           |views  |likes |dislikes|comment_count|thumbnail_link                                |comments_disabled|ratings_disabled|video_error_or_removed|description                                                                                                                                                                                                                                                                                                                                                                                                                                                                                                                                                                                                                                                                                                                                                                                                                                                                                                                                                                                                                                                                                                                                                                                                                                                                                                                                                                                                                                                       |\n",
            "+-----------+-------------+--------------------------------------------------------------+---------------------+-----------+------------------------+-----------------------------------------------------------------------------------------------------------------------------------------------------------------------------------------------------------------------------------------------------------------------------------------------------------------------------------------------------------------------------------------------------------------------------------------------------------------------------------------------+-------+------+--------+-------------+----------------------------------------------+-----------------+----------------+----------------------+------------------------------------------------------------------------------------------------------------------------------------------------------------------------------------------------------------------------------------------------------------------------------------------------------------------------------------------------------------------------------------------------------------------------------------------------------------------------------------------------------------------------------------------------------------------------------------------------------------------------------------------------------------------------------------------------------------------------------------------------------------------------------------------------------------------------------------------------------------------------------------------------------------------------------------------------------------------------------------------------------------------------------------------------------------------------------------------------------------------------------------------------------------------------------------------------------------------------------------------------------------------------------------------------------------------------------------------------------------------------------------------------------------------------------------------------------------------+\n",
            "|2kyS6SvSYSE|17.14.11     |WE WANT TO TALK ABOUT OUR MARRIAGE                            |CaseyNeistat         |22         |2017-11-13T17:13:01.000Z|SHANtell martin                                                                                                                                                                                                                                                                                                                                                                                                                                                                                |748374 |57527 |2966    |15954        |https://i.ytimg.com/vi/2kyS6SvSYSE/default.jpg|False            |False           |False                 |SHANTELL'S CHANNEL - https://www.youtube.com/shantellmartin\\nCANDICE - https://www.lovebilly.com\\n\\nfilmed this video in 4k on this -- http://amzn.to/2sTDnRZ\\nwith this lens -- http://amzn.to/2rUJOmD\\nbig drone - http://tinyurl.com/h4ft3oy\\nOTHER GEAR ---  http://amzn.to/2o3GLX5\\nSony CAMERA http://amzn.to/2nOBmnv\\nOLD CAMERA; http://amzn.to/2o2cQBT\\nMAIN LENS; http://amzn.to/2od5gBJ\\nBIG SONY CAMERA; http://amzn.to/2nrdJRO\\nBIG Canon CAMERA; http://tinyurl.com/jn4q4vz\\nBENDY TRIPOD THING; http://tinyurl.com/gw3ylz2\\nYOU NEED THIS FOR THE BENDY TRIPOD; http://tinyurl.com/j8mzzua\\nWIDE LENS; http://tinyurl.com/jkfcm8t\\nMORE EXPENSIVE WIDE LENS; http://tinyurl.com/zrdgtou\\nSMALL CAMERA; http://tinyurl.com/hrrzhor\\nMICROPHONE; http://tinyurl.com/zefm4jy\\nOTHER MICROPHONE; http://tinyurl.com/jxgpj86\\nOLD DRONE (cheaper but still great);http://tinyurl.com/zcfmnmd\\n\\nfollow me; on http://instagram.com/caseyneistat\\non https://www.facebook.com/cneistat\\non https://twitter.com/CaseyNeistat\\n\\namazing intro song by https://soundcloud.com/discoteeth\\n\\nad disclosure.  THIS IS NOT AN AD.  not selling or promoting anything.  but samsung did produce the Shantell Video as a 'GALAXY PROJECT' which is an initiative that enables creators like Shantell and me to make projects we might otherwise not have the opportunity to make.  hope that's clear.  if not ask in the comments and i'll answer any specifics.|\n",
            "|1ZAPwfrtAFY|17.14.11     |The Trump Presidency: Last Week Tonight with John Oliver (HBO)|LastWeekTonight      |24         |2017-11-13T07:30:00.000Z|\"last week tonight trump presidency\"|\"last week tonight donald trump\"|\"john oliver trump\"|\"donald trump\"                                                                                                                                                                                                                                                                                                                                                                                       |2418783|97185 |6146    |12703        |https://i.ytimg.com/vi/1ZAPwfrtAFY/default.jpg|False            |False           |False                 |One year after the presidential election, John Oliver discusses what we've learned so far and enlists our catheter cowboy to teach Donald Trump what he hasn't.\\n\\nConnect with Last Week Tonight online...\\n\\nSubscribe to the Last Week Tonight YouTube channel for more almost news as it almost happens: www.youtube.com/user/LastWeekTonight\\n\\nFind Last Week Tonight on Facebook like your mom would: http://Facebook.com/LastWeekTonight\\n\\nFollow us on Twitter for news about jokes and jokes about news: http://Twitter.com/LastWeekTonight\\n\\nVisit our official site for all that other stuff at once: http://www.hbo.com/lastweektonight                                                                                                                                                                                                                                                                                                                                                                                                                                                                                                                                                                                                                                                                                                                                                                                                            |\n",
            "|5qpjK5DgCt4|17.14.11     |Racist Superman | Rudy Mancuso, King Bach & Lele Pons         |Rudy Mancuso         |23         |2017-11-12T19:05:24.000Z|\"racist superman\"|\"rudy\"|\"mancuso\"|\"king\"|\"bach\"|\"racist\"|\"superman\"|\"love\"|\"rudy mancuso poo bear black white official music video\"|\"iphone x by pineapple\"|\"lelepons\"|\"hannahstocking\"|\"rudymancuso\"|\"inanna\"|\"anwar\"|\"sarkis\"|\"shots\"|\"shotsstudios\"|\"alesso\"|\"anitta\"|\"brazil\"|\"Getting My Driver's License | Lele Pons\"                                                                                                                                                                   |3191434|146033|5339    |8181         |https://i.ytimg.com/vi/5qpjK5DgCt4/default.jpg|False            |False           |False                 |WATCH MY PREVIOUS VIDEO ▶ \\n\\nSUBSCRIBE ► https://www.youtube.com/channel/UC5jkXpfnBhlDjqh0ir5FsIQ?sub_confirmation=1\\n\\nTHANKS FOR WATCHING! LIKE & SUBSCRIBE FOR MORE VIDEOS!\\n-----------------------------------------------------------\\nFIND ME ON: \\nInstagram | http://instagram.com/rudymancuso\\nTwitter | http://twitter.com/rudymancuso\\nFacebook | http://facebook.com/rudymancuso\\n\\nCAST: \\nRudy Mancuso | http://youtube.com/c/rudymancuso\\nLele Pons | http://youtube.com/c/lelepons\\nKing Bach | https://youtube.com/user/BachelorsPadTv\\n\\nVideo Effects: \\nCaleb Natale | https://instagram.com/calebnatale\\n\\nPA:\\nPaulina Gregory\\n\\n\\nShots Studios Channels:\\nAlesso | https://youtube.com/c/alesso\\nAnitta | http://youtube.com/c/anitta\\nAnwar Jibawi | http://youtube.com/c/anwar\\nAwkward Puppets | http://youtube.com/c/awkwardpuppets\\nHannah Stocking | http://youtube.com/c/hannahstocking\\nInanna Sarkis | http://youtube.com/c/inanna\\nLele Pons | http://youtube.com/c/lelepons\\nMaejor | http://youtube.com/c/maejor\\nMike Tyson | http://youtube.com/c/miketyson \\nRudy Mancuso | http://youtube.com/c/rudymancuso\\nShots Studios | http://youtube.com/c/shots\\n\\n#Rudy\\n#RudyMancuso                                                                                                                                                                                                                                         |\n",
            "|puqaWrEC7tY|17.14.11     |Nickelback Lyrics: Real or Fake?                              |Good Mythical Morning|24         |2017-11-13T11:00:04.000Z|\"rhett and link\"|\"gmm\"|\"good mythical morning\"|\"rhett and link good mythical morning\"|\"good mythical morning rhett and link\"|\"mythical morning\"|\"Season 12\"|\"nickelback lyrics\"|\"nickelback lyrics real or fake\"|\"nickelback\"|\"nickelback songs\"|\"nickelback song\"|\"rhett link nickelback\"|\"gmm nickelback\"|\"lyrics (website category)\"|\"nickelback (musical group)\"|\"rock\"|\"music\"|\"lyrics\"|\"chad kroeger\"|\"canada\"|\"music (industry)\"|\"mythical\"|\"gmm challenge\"|\"comedy\"|\"funny\"|\"challenge\"|343168 |10172 |666     |2146         |https://i.ytimg.com/vi/puqaWrEC7tY/default.jpg|False            |False           |False                 |Today we find out if Link is a Nickelback amateur or a secret Nickelback devotee. GMM #1218\\nDon't miss an all new Ear Biscuits: https://goo.gl/xeZNQt\\nWatch Part 4: https://youtu.be/MhCdiiB8CQg | Watch Part 2: https://youtu.be/7qiOrNao9fg\\nWatch today's episode from the start: http://bit.ly/GMM1218\\n\\nPick up all of the official GMM merch only at https://mythical.store\\n\\nFollow Rhett & Link: \\nInstagram: https://instagram.com/rhettandlink\\nFacebook: https://facebook.com/rhettandlink\\nTwitter: https://twitter.com/rhettandlink\\nTumblr: https://rhettandlink.tumblr.com\\nSnapchat: @realrhettlink\\nWebsite: https://mythical.co/\\n\\nCheck Out Our Other Mythical Channels:\\nGood Mythical MORE: https://youtube.com/goodmythicalmore\\nRhett & Link: https://youtube.com/rhettandlink\\nThis Is Mythical: https://youtube.com/thisismythical\\nEar Biscuits: https://applepodcasts.com/earbiscuits\\n\\nWant to send us something? https://mythical.co/contact\\nHave you made a Wheel of Mythicality intro video? Submit it here: https://bit.ly/GMMWheelIntro\\n\\nIntro Animation by Digital Twigs: https://www.digitaltwigs.com\\nIntro & Outro Music by Jeff Zeigler & Sarah Schimeneck https://www.jeffzeigler.com\\nWheel of Mythicality theme: https://www.royaltyfreemusiclibrary.com/\\nAll Supplemental Music fromOpus 1 Music: https://opus1.sourceaudio.com/\\nWe use ‘The Mouse’ by Blue Microphones https://www.bluemic.com/mouse/       |\n",
            "|d380meD0W0M|17.14.11     |I Dare You: GOING BALD!?                                      |nigahiga             |24         |2017-11-12T18:01:41.000Z|\"ryan\"|\"higa\"|\"higatv\"|\"nigahiga\"|\"i dare you\"|\"idy\"|\"rhpc\"|\"dares\"|\"no truth\"|\"comments\"|\"comedy\"|\"funny\"|\"stupid\"|\"fail\"                                                                                                                                                                                                                                                                                                                                                                     |2095731|132235|1989    |17518        |https://i.ytimg.com/vi/d380meD0W0M/default.jpg|False            |False           |False                 |I know it's been a while since we did this show, but we're back with what might be the best episode yet!\\nLeave your dares in the comment section! \\n\\nOrder my book how to write good \\nhttp://higatv.com/ryan-higas-how-to-write-good-pre-order-links/\\n\\nJust Launched New Official Store\\nhttps://www.gianthugs.com/collections/ryan\\n\\nHigaTV Channel\\nhttp://www.youtube.com/higatv\\n\\nTwitter\\nhttp://www.twitter.com/therealryanhiga\\n\\nFacebook\\nhttp://www.facebook.com/higatv\\n\\nWebsite\\nhttp://www.higatv.com\\n\\nInstagram\\nhttp://www.instagram.com/notryanhiga\\n\\nSend us mail or whatever you want here!\\nPO Box 232355\\nLas Vegas, NV 89105                                                                                                                                                                                                                                                                                                                                                                                                                                                                                                                                                                                                                                                                                                                                                                                                      |\n",
            "+-----------+-------------+--------------------------------------------------------------+---------------------+-----------+------------------------+-----------------------------------------------------------------------------------------------------------------------------------------------------------------------------------------------------------------------------------------------------------------------------------------------------------------------------------------------------------------------------------------------------------------------------------------------------------------------------------------------+-------+------+--------+-------------+----------------------------------------------+-----------------+----------------+----------------------+------------------------------------------------------------------------------------------------------------------------------------------------------------------------------------------------------------------------------------------------------------------------------------------------------------------------------------------------------------------------------------------------------------------------------------------------------------------------------------------------------------------------------------------------------------------------------------------------------------------------------------------------------------------------------------------------------------------------------------------------------------------------------------------------------------------------------------------------------------------------------------------------------------------------------------------------------------------------------------------------------------------------------------------------------------------------------------------------------------------------------------------------------------------------------------------------------------------------------------------------------------------------------------------------------------------------------------------------------------------------------------------------------------------------------------------------------------------+\n",
            "only showing top 5 rows\n",
            "\n"
          ]
        }
      ]
    },
    {
      "cell_type": "code",
      "source": [
        "videos.limit(4).toPandas()"
      ],
      "metadata": {
        "colab": {
          "base_uri": "https://localhost:8080/",
          "height": 499
        },
        "id": "iBy_HcCU4eL8",
        "outputId": "4493c203-d1d0-4a50-8f01-00a2afc6f992"
      },
      "execution_count": 424,
      "outputs": [
        {
          "output_type": "execute_result",
          "data": {
            "text/plain": [
              "      video_id trending_date  \\\n",
              "0  2kyS6SvSYSE      17.14.11   \n",
              "1  1ZAPwfrtAFY      17.14.11   \n",
              "2  5qpjK5DgCt4      17.14.11   \n",
              "3  puqaWrEC7tY      17.14.11   \n",
              "\n",
              "                                               title          channel_title  \\\n",
              "0                 WE WANT TO TALK ABOUT OUR MARRIAGE           CaseyNeistat   \n",
              "1  The Trump Presidency: Last Week Tonight with J...        LastWeekTonight   \n",
              "2  Racist Superman | Rudy Mancuso, King Bach & Le...           Rudy Mancuso   \n",
              "3                   Nickelback Lyrics: Real or Fake?  Good Mythical Morning   \n",
              "\n",
              "  category_id              publish_time  \\\n",
              "0          22  2017-11-13T17:13:01.000Z   \n",
              "1          24  2017-11-13T07:30:00.000Z   \n",
              "2          23  2017-11-12T19:05:24.000Z   \n",
              "3          24  2017-11-13T11:00:04.000Z   \n",
              "\n",
              "                                                tags    views   likes  \\\n",
              "0                                    SHANtell martin   748374   57527   \n",
              "1  \"last week tonight trump presidency\"|\"last wee...  2418783   97185   \n",
              "2  \"racist superman\"|\"rudy\"|\"mancuso\"|\"king\"|\"bac...  3191434  146033   \n",
              "3  \"rhett and link\"|\"gmm\"|\"good mythical morning\"...   343168   10172   \n",
              "\n",
              "  dislikes comment_count                                  thumbnail_link  \\\n",
              "0     2966         15954  https://i.ytimg.com/vi/2kyS6SvSYSE/default.jpg   \n",
              "1     6146         12703  https://i.ytimg.com/vi/1ZAPwfrtAFY/default.jpg   \n",
              "2     5339          8181  https://i.ytimg.com/vi/5qpjK5DgCt4/default.jpg   \n",
              "3      666          2146  https://i.ytimg.com/vi/puqaWrEC7tY/default.jpg   \n",
              "\n",
              "  comments_disabled ratings_disabled video_error_or_removed  \\\n",
              "0             False            False                  False   \n",
              "1             False            False                  False   \n",
              "2             False            False                  False   \n",
              "3             False            False                  False   \n",
              "\n",
              "                                         description  \n",
              "0  SHANTELL'S CHANNEL - https://www.youtube.com/s...  \n",
              "1  One year after the presidential election, John...  \n",
              "2  WATCH MY PREVIOUS VIDEO ▶ \\n\\nSUBSCRIBE ► http...  \n",
              "3  Today we find out if Link is a Nickelback amat...  "
            ],
            "text/html": [
              "\n",
              "  <div id=\"df-407d2662-4ad0-4b94-b111-3f92c6e7d833\">\n",
              "    <div class=\"colab-df-container\">\n",
              "      <div>\n",
              "<style scoped>\n",
              "    .dataframe tbody tr th:only-of-type {\n",
              "        vertical-align: middle;\n",
              "    }\n",
              "\n",
              "    .dataframe tbody tr th {\n",
              "        vertical-align: top;\n",
              "    }\n",
              "\n",
              "    .dataframe thead th {\n",
              "        text-align: right;\n",
              "    }\n",
              "</style>\n",
              "<table border=\"1\" class=\"dataframe\">\n",
              "  <thead>\n",
              "    <tr style=\"text-align: right;\">\n",
              "      <th></th>\n",
              "      <th>video_id</th>\n",
              "      <th>trending_date</th>\n",
              "      <th>title</th>\n",
              "      <th>channel_title</th>\n",
              "      <th>category_id</th>\n",
              "      <th>publish_time</th>\n",
              "      <th>tags</th>\n",
              "      <th>views</th>\n",
              "      <th>likes</th>\n",
              "      <th>dislikes</th>\n",
              "      <th>comment_count</th>\n",
              "      <th>thumbnail_link</th>\n",
              "      <th>comments_disabled</th>\n",
              "      <th>ratings_disabled</th>\n",
              "      <th>video_error_or_removed</th>\n",
              "      <th>description</th>\n",
              "    </tr>\n",
              "  </thead>\n",
              "  <tbody>\n",
              "    <tr>\n",
              "      <th>0</th>\n",
              "      <td>2kyS6SvSYSE</td>\n",
              "      <td>17.14.11</td>\n",
              "      <td>WE WANT TO TALK ABOUT OUR MARRIAGE</td>\n",
              "      <td>CaseyNeistat</td>\n",
              "      <td>22</td>\n",
              "      <td>2017-11-13T17:13:01.000Z</td>\n",
              "      <td>SHANtell martin</td>\n",
              "      <td>748374</td>\n",
              "      <td>57527</td>\n",
              "      <td>2966</td>\n",
              "      <td>15954</td>\n",
              "      <td>https://i.ytimg.com/vi/2kyS6SvSYSE/default.jpg</td>\n",
              "      <td>False</td>\n",
              "      <td>False</td>\n",
              "      <td>False</td>\n",
              "      <td>SHANTELL'S CHANNEL - https://www.youtube.com/s...</td>\n",
              "    </tr>\n",
              "    <tr>\n",
              "      <th>1</th>\n",
              "      <td>1ZAPwfrtAFY</td>\n",
              "      <td>17.14.11</td>\n",
              "      <td>The Trump Presidency: Last Week Tonight with J...</td>\n",
              "      <td>LastWeekTonight</td>\n",
              "      <td>24</td>\n",
              "      <td>2017-11-13T07:30:00.000Z</td>\n",
              "      <td>\"last week tonight trump presidency\"|\"last wee...</td>\n",
              "      <td>2418783</td>\n",
              "      <td>97185</td>\n",
              "      <td>6146</td>\n",
              "      <td>12703</td>\n",
              "      <td>https://i.ytimg.com/vi/1ZAPwfrtAFY/default.jpg</td>\n",
              "      <td>False</td>\n",
              "      <td>False</td>\n",
              "      <td>False</td>\n",
              "      <td>One year after the presidential election, John...</td>\n",
              "    </tr>\n",
              "    <tr>\n",
              "      <th>2</th>\n",
              "      <td>5qpjK5DgCt4</td>\n",
              "      <td>17.14.11</td>\n",
              "      <td>Racist Superman | Rudy Mancuso, King Bach &amp; Le...</td>\n",
              "      <td>Rudy Mancuso</td>\n",
              "      <td>23</td>\n",
              "      <td>2017-11-12T19:05:24.000Z</td>\n",
              "      <td>\"racist superman\"|\"rudy\"|\"mancuso\"|\"king\"|\"bac...</td>\n",
              "      <td>3191434</td>\n",
              "      <td>146033</td>\n",
              "      <td>5339</td>\n",
              "      <td>8181</td>\n",
              "      <td>https://i.ytimg.com/vi/5qpjK5DgCt4/default.jpg</td>\n",
              "      <td>False</td>\n",
              "      <td>False</td>\n",
              "      <td>False</td>\n",
              "      <td>WATCH MY PREVIOUS VIDEO ▶ \\n\\nSUBSCRIBE ► http...</td>\n",
              "    </tr>\n",
              "    <tr>\n",
              "      <th>3</th>\n",
              "      <td>puqaWrEC7tY</td>\n",
              "      <td>17.14.11</td>\n",
              "      <td>Nickelback Lyrics: Real or Fake?</td>\n",
              "      <td>Good Mythical Morning</td>\n",
              "      <td>24</td>\n",
              "      <td>2017-11-13T11:00:04.000Z</td>\n",
              "      <td>\"rhett and link\"|\"gmm\"|\"good mythical morning\"...</td>\n",
              "      <td>343168</td>\n",
              "      <td>10172</td>\n",
              "      <td>666</td>\n",
              "      <td>2146</td>\n",
              "      <td>https://i.ytimg.com/vi/puqaWrEC7tY/default.jpg</td>\n",
              "      <td>False</td>\n",
              "      <td>False</td>\n",
              "      <td>False</td>\n",
              "      <td>Today we find out if Link is a Nickelback amat...</td>\n",
              "    </tr>\n",
              "  </tbody>\n",
              "</table>\n",
              "</div>\n",
              "      <button class=\"colab-df-convert\" onclick=\"convertToInteractive('df-407d2662-4ad0-4b94-b111-3f92c6e7d833')\"\n",
              "              title=\"Convert this dataframe to an interactive table.\"\n",
              "              style=\"display:none;\">\n",
              "        \n",
              "  <svg xmlns=\"http://www.w3.org/2000/svg\" height=\"24px\"viewBox=\"0 0 24 24\"\n",
              "       width=\"24px\">\n",
              "    <path d=\"M0 0h24v24H0V0z\" fill=\"none\"/>\n",
              "    <path d=\"M18.56 5.44l.94 2.06.94-2.06 2.06-.94-2.06-.94-.94-2.06-.94 2.06-2.06.94zm-11 1L8.5 8.5l.94-2.06 2.06-.94-2.06-.94L8.5 2.5l-.94 2.06-2.06.94zm10 10l.94 2.06.94-2.06 2.06-.94-2.06-.94-.94-2.06-.94 2.06-2.06.94z\"/><path d=\"M17.41 7.96l-1.37-1.37c-.4-.4-.92-.59-1.43-.59-.52 0-1.04.2-1.43.59L10.3 9.45l-7.72 7.72c-.78.78-.78 2.05 0 2.83L4 21.41c.39.39.9.59 1.41.59.51 0 1.02-.2 1.41-.59l7.78-7.78 2.81-2.81c.8-.78.8-2.07 0-2.86zM5.41 20L4 18.59l7.72-7.72 1.47 1.35L5.41 20z\"/>\n",
              "  </svg>\n",
              "      </button>\n",
              "      \n",
              "  <style>\n",
              "    .colab-df-container {\n",
              "      display:flex;\n",
              "      flex-wrap:wrap;\n",
              "      gap: 12px;\n",
              "    }\n",
              "\n",
              "    .colab-df-convert {\n",
              "      background-color: #E8F0FE;\n",
              "      border: none;\n",
              "      border-radius: 50%;\n",
              "      cursor: pointer;\n",
              "      display: none;\n",
              "      fill: #1967D2;\n",
              "      height: 32px;\n",
              "      padding: 0 0 0 0;\n",
              "      width: 32px;\n",
              "    }\n",
              "\n",
              "    .colab-df-convert:hover {\n",
              "      background-color: #E2EBFA;\n",
              "      box-shadow: 0px 1px 2px rgba(60, 64, 67, 0.3), 0px 1px 3px 1px rgba(60, 64, 67, 0.15);\n",
              "      fill: #174EA6;\n",
              "    }\n",
              "\n",
              "    [theme=dark] .colab-df-convert {\n",
              "      background-color: #3B4455;\n",
              "      fill: #D2E3FC;\n",
              "    }\n",
              "\n",
              "    [theme=dark] .colab-df-convert:hover {\n",
              "      background-color: #434B5C;\n",
              "      box-shadow: 0px 1px 3px 1px rgba(0, 0, 0, 0.15);\n",
              "      filter: drop-shadow(0px 1px 2px rgba(0, 0, 0, 0.3));\n",
              "      fill: #FFFFFF;\n",
              "    }\n",
              "  </style>\n",
              "\n",
              "      <script>\n",
              "        const buttonEl =\n",
              "          document.querySelector('#df-407d2662-4ad0-4b94-b111-3f92c6e7d833 button.colab-df-convert');\n",
              "        buttonEl.style.display =\n",
              "          google.colab.kernel.accessAllowed ? 'block' : 'none';\n",
              "\n",
              "        async function convertToInteractive(key) {\n",
              "          const element = document.querySelector('#df-407d2662-4ad0-4b94-b111-3f92c6e7d833');\n",
              "          const dataTable =\n",
              "            await google.colab.kernel.invokeFunction('convertToInteractive',\n",
              "                                                     [key], {});\n",
              "          if (!dataTable) return;\n",
              "\n",
              "          const docLinkHtml = 'Like what you see? Visit the ' +\n",
              "            '<a target=\"_blank\" href=https://colab.research.google.com/notebooks/data_table.ipynb>data table notebook</a>'\n",
              "            + ' to learn more about interactive tables.';\n",
              "          element.innerHTML = '';\n",
              "          dataTable['output_type'] = 'display_data';\n",
              "          await google.colab.output.renderOutput(dataTable, element);\n",
              "          const docLink = document.createElement('div');\n",
              "          docLink.innerHTML = docLinkHtml;\n",
              "          element.appendChild(docLink);\n",
              "        }\n",
              "      </script>\n",
              "    </div>\n",
              "  </div>\n",
              "  "
            ]
          },
          "metadata": {},
          "execution_count": 424
        }
      ]
    },
    {
      "cell_type": "code",
      "source": [
        "from pyspark.sql.types import *\n",
        "from pyspark.sql.functions import *"
      ],
      "metadata": {
        "id": "gqwTZ2x14eJG"
      },
      "execution_count": 425,
      "outputs": []
    },
    {
      "cell_type": "code",
      "source": [
        "\n",
        "df_videos = videos.withColumn(\"views\",videos[\"views\"].cast(IntegerType())).\\\n",
        "withColumn(\"dislikes\",videos[\"dislikes\"].cast(IntegerType())).\\\n",
        "withColumn(\"likes\",videos.likes.cast(IntegerType())).\\\n",
        "withColumn(\"trending_date\",to_date(videos.trending_date,'yy.dd.mm'))\n",
        "#withColumn(\"publish_time\",to_timestamp(videos.publish_time,'yyyy-MM-dd HH:mm:ss')).\\"
      ],
      "metadata": {
        "id": "bugdGvKf4eF-"
      },
      "execution_count": 426,
      "outputs": []
    },
    {
      "cell_type": "code",
      "source": [
        "df_videos.printSchema()"
      ],
      "metadata": {
        "colab": {
          "base_uri": "https://localhost:8080/"
        },
        "id": "8HJDV6uS4eDQ",
        "outputId": "c3c3ccb5-9591-41e6-a260-5102e084993c"
      },
      "execution_count": 427,
      "outputs": [
        {
          "output_type": "stream",
          "name": "stdout",
          "text": [
            "root\n",
            " |-- video_id: string (nullable = true)\n",
            " |-- trending_date: date (nullable = true)\n",
            " |-- title: string (nullable = true)\n",
            " |-- channel_title: string (nullable = true)\n",
            " |-- category_id: string (nullable = true)\n",
            " |-- publish_time: string (nullable = true)\n",
            " |-- tags: string (nullable = true)\n",
            " |-- views: integer (nullable = true)\n",
            " |-- likes: integer (nullable = true)\n",
            " |-- dislikes: integer (nullable = true)\n",
            " |-- comment_count: string (nullable = true)\n",
            " |-- thumbnail_link: string (nullable = true)\n",
            " |-- comments_disabled: string (nullable = true)\n",
            " |-- ratings_disabled: string (nullable = true)\n",
            " |-- video_error_or_removed: string (nullable = true)\n",
            " |-- description: string (nullable = true)\n",
            "\n"
          ]
        }
      ]
    },
    {
      "cell_type": "code",
      "source": [
        "df_videos.show()"
      ],
      "metadata": {
        "colab": {
          "base_uri": "https://localhost:8080/"
        },
        "id": "U7_YedBB4eAg",
        "outputId": "5f86d6cd-bfcb-4f25-9b86-112a0700848e"
      },
      "execution_count": 428,
      "outputs": [
        {
          "output_type": "stream",
          "name": "stdout",
          "text": [
            "+-----------+-------------+--------------------+--------------------+-----------+--------------------+--------------------+-------+------+--------+-------------+--------------------+-----------------+----------------+----------------------+--------------------+\n",
            "|   video_id|trending_date|               title|       channel_title|category_id|        publish_time|                tags|  views| likes|dislikes|comment_count|      thumbnail_link|comments_disabled|ratings_disabled|video_error_or_removed|         description|\n",
            "+-----------+-------------+--------------------+--------------------+-----------+--------------------+--------------------+-------+------+--------+-------------+--------------------+-----------------+----------------+----------------------+--------------------+\n",
            "|2kyS6SvSYSE|   2017-01-14|WE WANT TO TALK A...|        CaseyNeistat|         22|2017-11-13T17:13:...|     SHANtell martin| 748374| 57527|    2966|        15954|https://i.ytimg.c...|            False|           False|                 False|SHANTELL'S CHANNE...|\n",
            "|1ZAPwfrtAFY|   2017-01-14|The Trump Preside...|     LastWeekTonight|         24|2017-11-13T07:30:...|\"last week tonigh...|2418783| 97185|    6146|        12703|https://i.ytimg.c...|            False|           False|                 False|One year after th...|\n",
            "|5qpjK5DgCt4|   2017-01-14|Racist Superman |...|        Rudy Mancuso|         23|2017-11-12T19:05:...|\"racist superman\"...|3191434|146033|    5339|         8181|https://i.ytimg.c...|            False|           False|                 False|WATCH MY PREVIOUS...|\n",
            "|puqaWrEC7tY|   2017-01-14|Nickelback Lyrics...|Good Mythical Mor...|         24|2017-11-13T11:00:...|\"rhett and link\"|...| 343168| 10172|     666|         2146|https://i.ytimg.c...|            False|           False|                 False|Today we find out...|\n",
            "|d380meD0W0M|   2017-01-14|I Dare You: GOING...|            nigahiga|         24|2017-11-12T18:01:...|\"ryan\"|\"higa\"|\"hi...|2095731|132235|    1989|        17518|https://i.ytimg.c...|            False|           False|                 False|I know it's been ...|\n",
            "|gHZ1Qz0KiKM|   2017-01-14|2 Weeks with iPho...|            iJustine|         28|2017-11-13T19:07:...|\"ijustine\"|\"week ...| 119180|  9763|     511|         1434|https://i.ytimg.c...|            False|           False|                 False|Using the iPhone ...|\n",
            "|39idVpFF7NQ|   2017-01-14|Roy Moore & Jeff ...| Saturday Night Live|         24|2017-11-12T05:37:...|\"SNL\"|\"Saturday N...|2103417| 15993|    2445|         1970|https://i.ytimg.c...|            False|           False|                 False|Embattled Alabama...|\n",
            "|nc99ccSXST0|   2017-01-14|5 Ice Cream Gadge...|  CrazyRussianHacker|         28|2017-11-12T21:50:...|\"5 Ice Cream Gadg...| 817732| 23663|     778|         3432|https://i.ytimg.c...|            False|           False|                 False|Ice Cream Pint Co...|\n",
            "|jr9QtXwC9vc|   2017-01-14|The Greatest Show...|    20th Century Fox|          1|2017-11-13T14:00:...|\"Trailer\"|\"Hugh J...| 826059|  3543|     119|          340|https://i.ytimg.c...|            False|           False|                 False|Inspired by the i...|\n",
            "|TUmyygCMMGA|   2017-01-14|Why the rise of t...|                 Vox|         25|2017-11-13T13:45:...|\"vox.com\"|\"vox\"|\"...| 256426| 12654|    1363|         2368|https://i.ytimg.c...|            False|           False|                 False|For now, at least...|\n",
            "|9wRQljFNDW8|   2017-01-14|Dion Lewis' 103-Y...|                 NFL|         17|2017-11-13T02:05:...|\"NFL\"|\"Football\"|...|  81377|   655|      25|          177|https://i.ytimg.c...|            False|           False|                 False|New England Patri...|\n",
            "|VifQlJit6A0|   2017-01-14|(SPOILERS) 'Shiva...|                 amc|         24|2017-11-13T03:00:...|\"The Walking Dead...| 104578|  1576|     303|         1279|https://i.ytimg.c...|            False|           False|                 False|Shiva arrives jus...|\n",
            "|5E4ZBSInqUU|   2017-01-14|Marshmello - Bloc...|          marshmello|         10|2017-11-13T17:00:...|\"marshmello\"|\"blo...| 687582|114188|    1333|         8371|https://i.ytimg.c...|            False|           False|                 False|WATCH SILENCE MUS...|\n",
            "|GgVmn66oK_A|   2017-01-14|Which Countries A...|       NowThis World|         25|2017-11-12T14:00:...|\"nowthis\"|\"nowthi...| 544770|  7848|    1171|         3981|https://i.ytimg.c...|            False|           False|                 False|The world at larg...|\n",
            "|TaTleo4cOs8|   2017-01-14|SHOPPING FOR NEW ...|     The king of DIY|         15|2017-11-12T18:30:...|\"shopping for new...| 207532|  7473|     246|         2120|https://i.ytimg.c...|            False|           False|                 False|Today we go shopp...|\n",
            "|kgaO45SyaO4|   2017-01-14|    The New SpotMini|      BostonDynamics|         28|2017-11-13T20:09:...|\"Robots\"|\"Boston ...|  75752|  9419|      52|         1230|https://i.ytimg.c...|            False|           False|                 False|For more informat...|\n",
            "|ZAQs-ctOqXQ|   2017-01-14|One Change That W...|             Cracked|         23|2017-11-12T17:00:...|\"pacific rim\"|\"pa...| 295639|  8011|     638|         1256|https://i.ytimg.c...|            False|           False|                 False|Pacific Rim was s...|\n",
            "|YVfyYrEmzgM|   2017-01-14|How does your bod...|              TED-Ed|         27|2017-11-13T16:00:...|\"TED\"|\"TED-Ed\"|\"T...|  78044|  5398|      53|          385|https://i.ytimg.c...|            False|           False|                 False|Check out our Pat...|\n",
            "|eNSN6qet1kE|   2017-01-14|HomeMade Electric...|         PeterSripol|         28|2017-11-13T15:30:...|\"ultralight\"|\"air...|  97007| 11963|      36|         2211|https://i.ytimg.c...|            False|           False|                 False|aaaannnd now to f...|\n",
            "|B5HORANmzHw|   2017-01-14|Founding An Inbre...|             SciShow|         27|2017-11-12T22:00:...|\"SciShow\"|\"scienc...| 223871|  8421|     191|         1214|https://i.ytimg.c...|            False|           False|                 False|Thanks to 23AndMe...|\n",
            "+-----------+-------------+--------------------+--------------------+-----------+--------------------+--------------------+-------+------+--------+-------------+--------------------+-----------------+----------------+----------------------+--------------------+\n",
            "only showing top 20 rows\n",
            "\n"
          ]
        }
      ]
    },
    {
      "cell_type": "code",
      "source": [
        "df_videos = df_videos.withColumn('publish_time_2',regexp_replace(df_videos.publish_time, 'T', ' '))"
      ],
      "metadata": {
        "id": "tr-aiWuh4d99"
      },
      "execution_count": 429,
      "outputs": []
    },
    {
      "cell_type": "code",
      "source": [
        "df_videos.show(4,False)"
      ],
      "metadata": {
        "colab": {
          "base_uri": "https://localhost:8080/"
        },
        "id": "OQxUO-Mk4d7W",
        "outputId": "4fd8b36d-8c4a-47b3-ab33-72b518b3ae4d"
      },
      "execution_count": 430,
      "outputs": [
        {
          "output_type": "stream",
          "name": "stdout",
          "text": [
            "+-----------+-------------+--------------------------------------------------------------+---------------------+-----------+------------------------+-----------------------------------------------------------------------------------------------------------------------------------------------------------------------------------------------------------------------------------------------------------------------------------------------------------------------------------------------------------------------------------------------------------------------------------------------------------------------------------------------+-------+------+--------+-------------+----------------------------------------------+-----------------+----------------+----------------------+------------------------------------------------------------------------------------------------------------------------------------------------------------------------------------------------------------------------------------------------------------------------------------------------------------------------------------------------------------------------------------------------------------------------------------------------------------------------------------------------------------------------------------------------------------------------------------------------------------------------------------------------------------------------------------------------------------------------------------------------------------------------------------------------------------------------------------------------------------------------------------------------------------------------------------------------------------------------------------------------------------------------------------------------------------------------------------------------------------------------------------------------------------------------------------------------------------------------------------------------------------------------------------------------------------------------------------------------------------------------------------------------------------------------------------------------------------------+------------------------+\n",
            "|video_id   |trending_date|title                                                         |channel_title        |category_id|publish_time            |tags                                                                                                                                                                                                                                                                                                                                                                                                                                                                                           |views  |likes |dislikes|comment_count|thumbnail_link                                |comments_disabled|ratings_disabled|video_error_or_removed|description                                                                                                                                                                                                                                                                                                                                                                                                                                                                                                                                                                                                                                                                                                                                                                                                                                                                                                                                                                                                                                                                                                                                                                                                                                                                                                                                                                                                                                                       |publish_time_2          |\n",
            "+-----------+-------------+--------------------------------------------------------------+---------------------+-----------+------------------------+-----------------------------------------------------------------------------------------------------------------------------------------------------------------------------------------------------------------------------------------------------------------------------------------------------------------------------------------------------------------------------------------------------------------------------------------------------------------------------------------------+-------+------+--------+-------------+----------------------------------------------+-----------------+----------------+----------------------+------------------------------------------------------------------------------------------------------------------------------------------------------------------------------------------------------------------------------------------------------------------------------------------------------------------------------------------------------------------------------------------------------------------------------------------------------------------------------------------------------------------------------------------------------------------------------------------------------------------------------------------------------------------------------------------------------------------------------------------------------------------------------------------------------------------------------------------------------------------------------------------------------------------------------------------------------------------------------------------------------------------------------------------------------------------------------------------------------------------------------------------------------------------------------------------------------------------------------------------------------------------------------------------------------------------------------------------------------------------------------------------------------------------------------------------------------------------+------------------------+\n",
            "|2kyS6SvSYSE|2017-01-14   |WE WANT TO TALK ABOUT OUR MARRIAGE                            |CaseyNeistat         |22         |2017-11-13T17:13:01.000Z|SHANtell martin                                                                                                                                                                                                                                                                                                                                                                                                                                                                                |748374 |57527 |2966    |15954        |https://i.ytimg.com/vi/2kyS6SvSYSE/default.jpg|False            |False           |False                 |SHANTELL'S CHANNEL - https://www.youtube.com/shantellmartin\\nCANDICE - https://www.lovebilly.com\\n\\nfilmed this video in 4k on this -- http://amzn.to/2sTDnRZ\\nwith this lens -- http://amzn.to/2rUJOmD\\nbig drone - http://tinyurl.com/h4ft3oy\\nOTHER GEAR ---  http://amzn.to/2o3GLX5\\nSony CAMERA http://amzn.to/2nOBmnv\\nOLD CAMERA; http://amzn.to/2o2cQBT\\nMAIN LENS; http://amzn.to/2od5gBJ\\nBIG SONY CAMERA; http://amzn.to/2nrdJRO\\nBIG Canon CAMERA; http://tinyurl.com/jn4q4vz\\nBENDY TRIPOD THING; http://tinyurl.com/gw3ylz2\\nYOU NEED THIS FOR THE BENDY TRIPOD; http://tinyurl.com/j8mzzua\\nWIDE LENS; http://tinyurl.com/jkfcm8t\\nMORE EXPENSIVE WIDE LENS; http://tinyurl.com/zrdgtou\\nSMALL CAMERA; http://tinyurl.com/hrrzhor\\nMICROPHONE; http://tinyurl.com/zefm4jy\\nOTHER MICROPHONE; http://tinyurl.com/jxgpj86\\nOLD DRONE (cheaper but still great);http://tinyurl.com/zcfmnmd\\n\\nfollow me; on http://instagram.com/caseyneistat\\non https://www.facebook.com/cneistat\\non https://twitter.com/CaseyNeistat\\n\\namazing intro song by https://soundcloud.com/discoteeth\\n\\nad disclosure.  THIS IS NOT AN AD.  not selling or promoting anything.  but samsung did produce the Shantell Video as a 'GALAXY PROJECT' which is an initiative that enables creators like Shantell and me to make projects we might otherwise not have the opportunity to make.  hope that's clear.  if not ask in the comments and i'll answer any specifics.|2017-11-13 17:13:01.000Z|\n",
            "|1ZAPwfrtAFY|2017-01-14   |The Trump Presidency: Last Week Tonight with John Oliver (HBO)|LastWeekTonight      |24         |2017-11-13T07:30:00.000Z|\"last week tonight trump presidency\"|\"last week tonight donald trump\"|\"john oliver trump\"|\"donald trump\"                                                                                                                                                                                                                                                                                                                                                                                       |2418783|97185 |6146    |12703        |https://i.ytimg.com/vi/1ZAPwfrtAFY/default.jpg|False            |False           |False                 |One year after the presidential election, John Oliver discusses what we've learned so far and enlists our catheter cowboy to teach Donald Trump what he hasn't.\\n\\nConnect with Last Week Tonight online...\\n\\nSubscribe to the Last Week Tonight YouTube channel for more almost news as it almost happens: www.youtube.com/user/LastWeekTonight\\n\\nFind Last Week Tonight on Facebook like your mom would: http://Facebook.com/LastWeekTonight\\n\\nFollow us on Twitter for news about jokes and jokes about news: http://Twitter.com/LastWeekTonight\\n\\nVisit our official site for all that other stuff at once: http://www.hbo.com/lastweektonight                                                                                                                                                                                                                                                                                                                                                                                                                                                                                                                                                                                                                                                                                                                                                                                                            |2017-11-13 07:30:00.000Z|\n",
            "|5qpjK5DgCt4|2017-01-14   |Racist Superman | Rudy Mancuso, King Bach & Lele Pons         |Rudy Mancuso         |23         |2017-11-12T19:05:24.000Z|\"racist superman\"|\"rudy\"|\"mancuso\"|\"king\"|\"bach\"|\"racist\"|\"superman\"|\"love\"|\"rudy mancuso poo bear black white official music video\"|\"iphone x by pineapple\"|\"lelepons\"|\"hannahstocking\"|\"rudymancuso\"|\"inanna\"|\"anwar\"|\"sarkis\"|\"shots\"|\"shotsstudios\"|\"alesso\"|\"anitta\"|\"brazil\"|\"Getting My Driver's License | Lele Pons\"                                                                                                                                                                   |3191434|146033|5339    |8181         |https://i.ytimg.com/vi/5qpjK5DgCt4/default.jpg|False            |False           |False                 |WATCH MY PREVIOUS VIDEO ▶ \\n\\nSUBSCRIBE ► https://www.youtube.com/channel/UC5jkXpfnBhlDjqh0ir5FsIQ?sub_confirmation=1\\n\\nTHANKS FOR WATCHING! LIKE & SUBSCRIBE FOR MORE VIDEOS!\\n-----------------------------------------------------------\\nFIND ME ON: \\nInstagram | http://instagram.com/rudymancuso\\nTwitter | http://twitter.com/rudymancuso\\nFacebook | http://facebook.com/rudymancuso\\n\\nCAST: \\nRudy Mancuso | http://youtube.com/c/rudymancuso\\nLele Pons | http://youtube.com/c/lelepons\\nKing Bach | https://youtube.com/user/BachelorsPadTv\\n\\nVideo Effects: \\nCaleb Natale | https://instagram.com/calebnatale\\n\\nPA:\\nPaulina Gregory\\n\\n\\nShots Studios Channels:\\nAlesso | https://youtube.com/c/alesso\\nAnitta | http://youtube.com/c/anitta\\nAnwar Jibawi | http://youtube.com/c/anwar\\nAwkward Puppets | http://youtube.com/c/awkwardpuppets\\nHannah Stocking | http://youtube.com/c/hannahstocking\\nInanna Sarkis | http://youtube.com/c/inanna\\nLele Pons | http://youtube.com/c/lelepons\\nMaejor | http://youtube.com/c/maejor\\nMike Tyson | http://youtube.com/c/miketyson \\nRudy Mancuso | http://youtube.com/c/rudymancuso\\nShots Studios | http://youtube.com/c/shots\\n\\n#Rudy\\n#RudyMancuso                                                                                                                                                                                                                                         |2017-11-12 19:05:24.000Z|\n",
            "|puqaWrEC7tY|2017-01-14   |Nickelback Lyrics: Real or Fake?                              |Good Mythical Morning|24         |2017-11-13T11:00:04.000Z|\"rhett and link\"|\"gmm\"|\"good mythical morning\"|\"rhett and link good mythical morning\"|\"good mythical morning rhett and link\"|\"mythical morning\"|\"Season 12\"|\"nickelback lyrics\"|\"nickelback lyrics real or fake\"|\"nickelback\"|\"nickelback songs\"|\"nickelback song\"|\"rhett link nickelback\"|\"gmm nickelback\"|\"lyrics (website category)\"|\"nickelback (musical group)\"|\"rock\"|\"music\"|\"lyrics\"|\"chad kroeger\"|\"canada\"|\"music (industry)\"|\"mythical\"|\"gmm challenge\"|\"comedy\"|\"funny\"|\"challenge\"|343168 |10172 |666     |2146         |https://i.ytimg.com/vi/puqaWrEC7tY/default.jpg|False            |False           |False                 |Today we find out if Link is a Nickelback amateur or a secret Nickelback devotee. GMM #1218\\nDon't miss an all new Ear Biscuits: https://goo.gl/xeZNQt\\nWatch Part 4: https://youtu.be/MhCdiiB8CQg | Watch Part 2: https://youtu.be/7qiOrNao9fg\\nWatch today's episode from the start: http://bit.ly/GMM1218\\n\\nPick up all of the official GMM merch only at https://mythical.store\\n\\nFollow Rhett & Link: \\nInstagram: https://instagram.com/rhettandlink\\nFacebook: https://facebook.com/rhettandlink\\nTwitter: https://twitter.com/rhettandlink\\nTumblr: https://rhettandlink.tumblr.com\\nSnapchat: @realrhettlink\\nWebsite: https://mythical.co/\\n\\nCheck Out Our Other Mythical Channels:\\nGood Mythical MORE: https://youtube.com/goodmythicalmore\\nRhett & Link: https://youtube.com/rhettandlink\\nThis Is Mythical: https://youtube.com/thisismythical\\nEar Biscuits: https://applepodcasts.com/earbiscuits\\n\\nWant to send us something? https://mythical.co/contact\\nHave you made a Wheel of Mythicality intro video? Submit it here: https://bit.ly/GMMWheelIntro\\n\\nIntro Animation by Digital Twigs: https://www.digitaltwigs.com\\nIntro & Outro Music by Jeff Zeigler & Sarah Schimeneck https://www.jeffzeigler.com\\nWheel of Mythicality theme: https://www.royaltyfreemusiclibrary.com/\\nAll Supplemental Music fromOpus 1 Music: https://opus1.sourceaudio.com/\\nWe use ‘The Mouse’ by Blue Microphones https://www.bluemic.com/mouse/       |2017-11-13 11:00:04.000Z|\n",
            "+-----------+-------------+--------------------------------------------------------------+---------------------+-----------+------------------------+-----------------------------------------------------------------------------------------------------------------------------------------------------------------------------------------------------------------------------------------------------------------------------------------------------------------------------------------------------------------------------------------------------------------------------------------------------------------------------------------------+-------+------+--------+-------------+----------------------------------------------+-----------------+----------------+----------------------+------------------------------------------------------------------------------------------------------------------------------------------------------------------------------------------------------------------------------------------------------------------------------------------------------------------------------------------------------------------------------------------------------------------------------------------------------------------------------------------------------------------------------------------------------------------------------------------------------------------------------------------------------------------------------------------------------------------------------------------------------------------------------------------------------------------------------------------------------------------------------------------------------------------------------------------------------------------------------------------------------------------------------------------------------------------------------------------------------------------------------------------------------------------------------------------------------------------------------------------------------------------------------------------------------------------------------------------------------------------------------------------------------------------------------------------------------------------+------------------------+\n",
            "only showing top 4 rows\n",
            "\n"
          ]
        }
      ]
    },
    {
      "cell_type": "code",
      "source": [
        "\n",
        "df_videos = df_videos.withColumn('publish_time_2',regexp_replace(df_videos.publish_time_2, 'Z', ' '))\n",
        "df_videos=df_videos.withColumnRenamed(\"publish_time\",\"publish_time_extra\")"
      ],
      "metadata": {
        "id": "pMIQM6wz4d43"
      },
      "execution_count": 431,
      "outputs": []
    },
    {
      "cell_type": "code",
      "source": [
        "df_videos.show(4,False)"
      ],
      "metadata": {
        "colab": {
          "base_uri": "https://localhost:8080/"
        },
        "id": "uiwcMeuZHgx1",
        "outputId": "e4313434-de9f-4a9c-c6f3-10c7812f8e55"
      },
      "execution_count": 432,
      "outputs": [
        {
          "output_type": "stream",
          "name": "stdout",
          "text": [
            "+-----------+-------------+--------------------------------------------------------------+---------------------+-----------+------------------------+-----------------------------------------------------------------------------------------------------------------------------------------------------------------------------------------------------------------------------------------------------------------------------------------------------------------------------------------------------------------------------------------------------------------------------------------------------------------------------------------------+-------+------+--------+-------------+----------------------------------------------+-----------------+----------------+----------------------+------------------------------------------------------------------------------------------------------------------------------------------------------------------------------------------------------------------------------------------------------------------------------------------------------------------------------------------------------------------------------------------------------------------------------------------------------------------------------------------------------------------------------------------------------------------------------------------------------------------------------------------------------------------------------------------------------------------------------------------------------------------------------------------------------------------------------------------------------------------------------------------------------------------------------------------------------------------------------------------------------------------------------------------------------------------------------------------------------------------------------------------------------------------------------------------------------------------------------------------------------------------------------------------------------------------------------------------------------------------------------------------------------------------------------------------------------------------+------------------------+\n",
            "|video_id   |trending_date|title                                                         |channel_title        |category_id|publish_time_extra      |tags                                                                                                                                                                                                                                                                                                                                                                                                                                                                                           |views  |likes |dislikes|comment_count|thumbnail_link                                |comments_disabled|ratings_disabled|video_error_or_removed|description                                                                                                                                                                                                                                                                                                                                                                                                                                                                                                                                                                                                                                                                                                                                                                                                                                                                                                                                                                                                                                                                                                                                                                                                                                                                                                                                                                                                                                                       |publish_time_2          |\n",
            "+-----------+-------------+--------------------------------------------------------------+---------------------+-----------+------------------------+-----------------------------------------------------------------------------------------------------------------------------------------------------------------------------------------------------------------------------------------------------------------------------------------------------------------------------------------------------------------------------------------------------------------------------------------------------------------------------------------------+-------+------+--------+-------------+----------------------------------------------+-----------------+----------------+----------------------+------------------------------------------------------------------------------------------------------------------------------------------------------------------------------------------------------------------------------------------------------------------------------------------------------------------------------------------------------------------------------------------------------------------------------------------------------------------------------------------------------------------------------------------------------------------------------------------------------------------------------------------------------------------------------------------------------------------------------------------------------------------------------------------------------------------------------------------------------------------------------------------------------------------------------------------------------------------------------------------------------------------------------------------------------------------------------------------------------------------------------------------------------------------------------------------------------------------------------------------------------------------------------------------------------------------------------------------------------------------------------------------------------------------------------------------------------------------+------------------------+\n",
            "|2kyS6SvSYSE|2017-01-14   |WE WANT TO TALK ABOUT OUR MARRIAGE                            |CaseyNeistat         |22         |2017-11-13T17:13:01.000Z|SHANtell martin                                                                                                                                                                                                                                                                                                                                                                                                                                                                                |748374 |57527 |2966    |15954        |https://i.ytimg.com/vi/2kyS6SvSYSE/default.jpg|False            |False           |False                 |SHANTELL'S CHANNEL - https://www.youtube.com/shantellmartin\\nCANDICE - https://www.lovebilly.com\\n\\nfilmed this video in 4k on this -- http://amzn.to/2sTDnRZ\\nwith this lens -- http://amzn.to/2rUJOmD\\nbig drone - http://tinyurl.com/h4ft3oy\\nOTHER GEAR ---  http://amzn.to/2o3GLX5\\nSony CAMERA http://amzn.to/2nOBmnv\\nOLD CAMERA; http://amzn.to/2o2cQBT\\nMAIN LENS; http://amzn.to/2od5gBJ\\nBIG SONY CAMERA; http://amzn.to/2nrdJRO\\nBIG Canon CAMERA; http://tinyurl.com/jn4q4vz\\nBENDY TRIPOD THING; http://tinyurl.com/gw3ylz2\\nYOU NEED THIS FOR THE BENDY TRIPOD; http://tinyurl.com/j8mzzua\\nWIDE LENS; http://tinyurl.com/jkfcm8t\\nMORE EXPENSIVE WIDE LENS; http://tinyurl.com/zrdgtou\\nSMALL CAMERA; http://tinyurl.com/hrrzhor\\nMICROPHONE; http://tinyurl.com/zefm4jy\\nOTHER MICROPHONE; http://tinyurl.com/jxgpj86\\nOLD DRONE (cheaper but still great);http://tinyurl.com/zcfmnmd\\n\\nfollow me; on http://instagram.com/caseyneistat\\non https://www.facebook.com/cneistat\\non https://twitter.com/CaseyNeistat\\n\\namazing intro song by https://soundcloud.com/discoteeth\\n\\nad disclosure.  THIS IS NOT AN AD.  not selling or promoting anything.  but samsung did produce the Shantell Video as a 'GALAXY PROJECT' which is an initiative that enables creators like Shantell and me to make projects we might otherwise not have the opportunity to make.  hope that's clear.  if not ask in the comments and i'll answer any specifics.|2017-11-13 17:13:01.000 |\n",
            "|1ZAPwfrtAFY|2017-01-14   |The Trump Presidency: Last Week Tonight with John Oliver (HBO)|LastWeekTonight      |24         |2017-11-13T07:30:00.000Z|\"last week tonight trump presidency\"|\"last week tonight donald trump\"|\"john oliver trump\"|\"donald trump\"                                                                                                                                                                                                                                                                                                                                                                                       |2418783|97185 |6146    |12703        |https://i.ytimg.com/vi/1ZAPwfrtAFY/default.jpg|False            |False           |False                 |One year after the presidential election, John Oliver discusses what we've learned so far and enlists our catheter cowboy to teach Donald Trump what he hasn't.\\n\\nConnect with Last Week Tonight online...\\n\\nSubscribe to the Last Week Tonight YouTube channel for more almost news as it almost happens: www.youtube.com/user/LastWeekTonight\\n\\nFind Last Week Tonight on Facebook like your mom would: http://Facebook.com/LastWeekTonight\\n\\nFollow us on Twitter for news about jokes and jokes about news: http://Twitter.com/LastWeekTonight\\n\\nVisit our official site for all that other stuff at once: http://www.hbo.com/lastweektonight                                                                                                                                                                                                                                                                                                                                                                                                                                                                                                                                                                                                                                                                                                                                                                                                            |2017-11-13 07:30:00.000 |\n",
            "|5qpjK5DgCt4|2017-01-14   |Racist Superman | Rudy Mancuso, King Bach & Lele Pons         |Rudy Mancuso         |23         |2017-11-12T19:05:24.000Z|\"racist superman\"|\"rudy\"|\"mancuso\"|\"king\"|\"bach\"|\"racist\"|\"superman\"|\"love\"|\"rudy mancuso poo bear black white official music video\"|\"iphone x by pineapple\"|\"lelepons\"|\"hannahstocking\"|\"rudymancuso\"|\"inanna\"|\"anwar\"|\"sarkis\"|\"shots\"|\"shotsstudios\"|\"alesso\"|\"anitta\"|\"brazil\"|\"Getting My Driver's License | Lele Pons\"                                                                                                                                                                   |3191434|146033|5339    |8181         |https://i.ytimg.com/vi/5qpjK5DgCt4/default.jpg|False            |False           |False                 |WATCH MY PREVIOUS VIDEO ▶ \\n\\nSUBSCRIBE ► https://www.youtube.com/channel/UC5jkXpfnBhlDjqh0ir5FsIQ?sub_confirmation=1\\n\\nTHANKS FOR WATCHING! LIKE & SUBSCRIBE FOR MORE VIDEOS!\\n-----------------------------------------------------------\\nFIND ME ON: \\nInstagram | http://instagram.com/rudymancuso\\nTwitter | http://twitter.com/rudymancuso\\nFacebook | http://facebook.com/rudymancuso\\n\\nCAST: \\nRudy Mancuso | http://youtube.com/c/rudymancuso\\nLele Pons | http://youtube.com/c/lelepons\\nKing Bach | https://youtube.com/user/BachelorsPadTv\\n\\nVideo Effects: \\nCaleb Natale | https://instagram.com/calebnatale\\n\\nPA:\\nPaulina Gregory\\n\\n\\nShots Studios Channels:\\nAlesso | https://youtube.com/c/alesso\\nAnitta | http://youtube.com/c/anitta\\nAnwar Jibawi | http://youtube.com/c/anwar\\nAwkward Puppets | http://youtube.com/c/awkwardpuppets\\nHannah Stocking | http://youtube.com/c/hannahstocking\\nInanna Sarkis | http://youtube.com/c/inanna\\nLele Pons | http://youtube.com/c/lelepons\\nMaejor | http://youtube.com/c/maejor\\nMike Tyson | http://youtube.com/c/miketyson \\nRudy Mancuso | http://youtube.com/c/rudymancuso\\nShots Studios | http://youtube.com/c/shots\\n\\n#Rudy\\n#RudyMancuso                                                                                                                                                                                                                                         |2017-11-12 19:05:24.000 |\n",
            "|puqaWrEC7tY|2017-01-14   |Nickelback Lyrics: Real or Fake?                              |Good Mythical Morning|24         |2017-11-13T11:00:04.000Z|\"rhett and link\"|\"gmm\"|\"good mythical morning\"|\"rhett and link good mythical morning\"|\"good mythical morning rhett and link\"|\"mythical morning\"|\"Season 12\"|\"nickelback lyrics\"|\"nickelback lyrics real or fake\"|\"nickelback\"|\"nickelback songs\"|\"nickelback song\"|\"rhett link nickelback\"|\"gmm nickelback\"|\"lyrics (website category)\"|\"nickelback (musical group)\"|\"rock\"|\"music\"|\"lyrics\"|\"chad kroeger\"|\"canada\"|\"music (industry)\"|\"mythical\"|\"gmm challenge\"|\"comedy\"|\"funny\"|\"challenge\"|343168 |10172 |666     |2146         |https://i.ytimg.com/vi/puqaWrEC7tY/default.jpg|False            |False           |False                 |Today we find out if Link is a Nickelback amateur or a secret Nickelback devotee. GMM #1218\\nDon't miss an all new Ear Biscuits: https://goo.gl/xeZNQt\\nWatch Part 4: https://youtu.be/MhCdiiB8CQg | Watch Part 2: https://youtu.be/7qiOrNao9fg\\nWatch today's episode from the start: http://bit.ly/GMM1218\\n\\nPick up all of the official GMM merch only at https://mythical.store\\n\\nFollow Rhett & Link: \\nInstagram: https://instagram.com/rhettandlink\\nFacebook: https://facebook.com/rhettandlink\\nTwitter: https://twitter.com/rhettandlink\\nTumblr: https://rhettandlink.tumblr.com\\nSnapchat: @realrhettlink\\nWebsite: https://mythical.co/\\n\\nCheck Out Our Other Mythical Channels:\\nGood Mythical MORE: https://youtube.com/goodmythicalmore\\nRhett & Link: https://youtube.com/rhettandlink\\nThis Is Mythical: https://youtube.com/thisismythical\\nEar Biscuits: https://applepodcasts.com/earbiscuits\\n\\nWant to send us something? https://mythical.co/contact\\nHave you made a Wheel of Mythicality intro video? Submit it here: https://bit.ly/GMMWheelIntro\\n\\nIntro Animation by Digital Twigs: https://www.digitaltwigs.com\\nIntro & Outro Music by Jeff Zeigler & Sarah Schimeneck https://www.jeffzeigler.com\\nWheel of Mythicality theme: https://www.royaltyfreemusiclibrary.com/\\nAll Supplemental Music fromOpus 1 Music: https://opus1.sourceaudio.com/\\nWe use ‘The Mouse’ by Blue Microphones https://www.bluemic.com/mouse/       |2017-11-13 11:00:04.000 |\n",
            "+-----------+-------------+--------------------------------------------------------------+---------------------+-----------+------------------------+-----------------------------------------------------------------------------------------------------------------------------------------------------------------------------------------------------------------------------------------------------------------------------------------------------------------------------------------------------------------------------------------------------------------------------------------------------------------------------------------------+-------+------+--------+-------------+----------------------------------------------+-----------------+----------------+----------------------+------------------------------------------------------------------------------------------------------------------------------------------------------------------------------------------------------------------------------------------------------------------------------------------------------------------------------------------------------------------------------------------------------------------------------------------------------------------------------------------------------------------------------------------------------------------------------------------------------------------------------------------------------------------------------------------------------------------------------------------------------------------------------------------------------------------------------------------------------------------------------------------------------------------------------------------------------------------------------------------------------------------------------------------------------------------------------------------------------------------------------------------------------------------------------------------------------------------------------------------------------------------------------------------------------------------------------------------------------------------------------------------------------------------------------------------------------------------+------------------------+\n",
            "only showing top 4 rows\n",
            "\n"
          ]
        }
      ]
    },
    {
      "cell_type": "code",
      "source": [
        "spark.sql(\"set spark.sql.legacy.timeParserPolicy=LEGACY\")\n",
        "\n",
        "df_videos = df_videos.withColumn(\"publish_time_3\",to_timestamp(df_videos.publish_time_2,'yyyy-MM-dd HH:mm:ss.SSS'))"
      ],
      "metadata": {
        "id": "0qJGQOSF4d2O"
      },
      "execution_count": 433,
      "outputs": []
    },
    {
      "cell_type": "code",
      "source": [
        "df_videos.show(1)"
      ],
      "metadata": {
        "colab": {
          "base_uri": "https://localhost:8080/"
        },
        "id": "T1SPbqv84dzu",
        "outputId": "61cf5549-b47f-4fc7-e42c-deb2a13609a1"
      },
      "execution_count": 434,
      "outputs": [
        {
          "output_type": "stream",
          "name": "stdout",
          "text": [
            "+-----------+-------------+--------------------+-------------+-----------+--------------------+---------------+------+-----+--------+-------------+--------------------+-----------------+----------------+----------------------+--------------------+--------------------+-------------------+\n",
            "|   video_id|trending_date|               title|channel_title|category_id|  publish_time_extra|           tags| views|likes|dislikes|comment_count|      thumbnail_link|comments_disabled|ratings_disabled|video_error_or_removed|         description|      publish_time_2|     publish_time_3|\n",
            "+-----------+-------------+--------------------+-------------+-----------+--------------------+---------------+------+-----+--------+-------------+--------------------+-----------------+----------------+----------------------+--------------------+--------------------+-------------------+\n",
            "|2kyS6SvSYSE|   2017-01-14|WE WANT TO TALK A...| CaseyNeistat|         22|2017-11-13T17:13:...|SHANtell martin|748374|57527|    2966|        15954|https://i.ytimg.c...|            False|           False|                 False|SHANTELL'S CHANNE...|2017-11-13 17:13:...|2017-11-13 17:13:01|\n",
            "+-----------+-------------+--------------------+-------------+-----------+--------------------+---------------+------+-----+--------+-------------+--------------------+-----------------+----------------+----------------------+--------------------+--------------------+-------------------+\n",
            "only showing top 1 row\n",
            "\n"
          ]
        }
      ]
    },
    {
      "cell_type": "code",
      "source": [
        "df_videos=df_videos.withColumnRenamed(\"publish_time_3\",\"publish_time\")"
      ],
      "metadata": {
        "id": "j0-Rzey_4dxN"
      },
      "execution_count": 435,
      "outputs": []
    },
    {
      "cell_type": "code",
      "source": [
        "df_videos.show(4,False)"
      ],
      "metadata": {
        "colab": {
          "base_uri": "https://localhost:8080/"
        },
        "id": "u-Sdm14c4du1",
        "outputId": "3478cc17-d04c-4e1c-a825-ba83f453e3a5"
      },
      "execution_count": 436,
      "outputs": [
        {
          "output_type": "stream",
          "name": "stdout",
          "text": [
            "+-----------+-------------+--------------------------------------------------------------+---------------------+-----------+------------------------+-----------------------------------------------------------------------------------------------------------------------------------------------------------------------------------------------------------------------------------------------------------------------------------------------------------------------------------------------------------------------------------------------------------------------------------------------------------------------------------------------+-------+------+--------+-------------+----------------------------------------------+-----------------+----------------+----------------------+------------------------------------------------------------------------------------------------------------------------------------------------------------------------------------------------------------------------------------------------------------------------------------------------------------------------------------------------------------------------------------------------------------------------------------------------------------------------------------------------------------------------------------------------------------------------------------------------------------------------------------------------------------------------------------------------------------------------------------------------------------------------------------------------------------------------------------------------------------------------------------------------------------------------------------------------------------------------------------------------------------------------------------------------------------------------------------------------------------------------------------------------------------------------------------------------------------------------------------------------------------------------------------------------------------------------------------------------------------------------------------------------------------------------------------------------------------------+------------------------+-------------------+\n",
            "|video_id   |trending_date|title                                                         |channel_title        |category_id|publish_time_extra      |tags                                                                                                                                                                                                                                                                                                                                                                                                                                                                                           |views  |likes |dislikes|comment_count|thumbnail_link                                |comments_disabled|ratings_disabled|video_error_or_removed|description                                                                                                                                                                                                                                                                                                                                                                                                                                                                                                                                                                                                                                                                                                                                                                                                                                                                                                                                                                                                                                                                                                                                                                                                                                                                                                                                                                                                                                                       |publish_time_2          |publish_time       |\n",
            "+-----------+-------------+--------------------------------------------------------------+---------------------+-----------+------------------------+-----------------------------------------------------------------------------------------------------------------------------------------------------------------------------------------------------------------------------------------------------------------------------------------------------------------------------------------------------------------------------------------------------------------------------------------------------------------------------------------------+-------+------+--------+-------------+----------------------------------------------+-----------------+----------------+----------------------+------------------------------------------------------------------------------------------------------------------------------------------------------------------------------------------------------------------------------------------------------------------------------------------------------------------------------------------------------------------------------------------------------------------------------------------------------------------------------------------------------------------------------------------------------------------------------------------------------------------------------------------------------------------------------------------------------------------------------------------------------------------------------------------------------------------------------------------------------------------------------------------------------------------------------------------------------------------------------------------------------------------------------------------------------------------------------------------------------------------------------------------------------------------------------------------------------------------------------------------------------------------------------------------------------------------------------------------------------------------------------------------------------------------------------------------------------------------+------------------------+-------------------+\n",
            "|2kyS6SvSYSE|2017-01-14   |WE WANT TO TALK ABOUT OUR MARRIAGE                            |CaseyNeistat         |22         |2017-11-13T17:13:01.000Z|SHANtell martin                                                                                                                                                                                                                                                                                                                                                                                                                                                                                |748374 |57527 |2966    |15954        |https://i.ytimg.com/vi/2kyS6SvSYSE/default.jpg|False            |False           |False                 |SHANTELL'S CHANNEL - https://www.youtube.com/shantellmartin\\nCANDICE - https://www.lovebilly.com\\n\\nfilmed this video in 4k on this -- http://amzn.to/2sTDnRZ\\nwith this lens -- http://amzn.to/2rUJOmD\\nbig drone - http://tinyurl.com/h4ft3oy\\nOTHER GEAR ---  http://amzn.to/2o3GLX5\\nSony CAMERA http://amzn.to/2nOBmnv\\nOLD CAMERA; http://amzn.to/2o2cQBT\\nMAIN LENS; http://amzn.to/2od5gBJ\\nBIG SONY CAMERA; http://amzn.to/2nrdJRO\\nBIG Canon CAMERA; http://tinyurl.com/jn4q4vz\\nBENDY TRIPOD THING; http://tinyurl.com/gw3ylz2\\nYOU NEED THIS FOR THE BENDY TRIPOD; http://tinyurl.com/j8mzzua\\nWIDE LENS; http://tinyurl.com/jkfcm8t\\nMORE EXPENSIVE WIDE LENS; http://tinyurl.com/zrdgtou\\nSMALL CAMERA; http://tinyurl.com/hrrzhor\\nMICROPHONE; http://tinyurl.com/zefm4jy\\nOTHER MICROPHONE; http://tinyurl.com/jxgpj86\\nOLD DRONE (cheaper but still great);http://tinyurl.com/zcfmnmd\\n\\nfollow me; on http://instagram.com/caseyneistat\\non https://www.facebook.com/cneistat\\non https://twitter.com/CaseyNeistat\\n\\namazing intro song by https://soundcloud.com/discoteeth\\n\\nad disclosure.  THIS IS NOT AN AD.  not selling or promoting anything.  but samsung did produce the Shantell Video as a 'GALAXY PROJECT' which is an initiative that enables creators like Shantell and me to make projects we might otherwise not have the opportunity to make.  hope that's clear.  if not ask in the comments and i'll answer any specifics.|2017-11-13 17:13:01.000 |2017-11-13 17:13:01|\n",
            "|1ZAPwfrtAFY|2017-01-14   |The Trump Presidency: Last Week Tonight with John Oliver (HBO)|LastWeekTonight      |24         |2017-11-13T07:30:00.000Z|\"last week tonight trump presidency\"|\"last week tonight donald trump\"|\"john oliver trump\"|\"donald trump\"                                                                                                                                                                                                                                                                                                                                                                                       |2418783|97185 |6146    |12703        |https://i.ytimg.com/vi/1ZAPwfrtAFY/default.jpg|False            |False           |False                 |One year after the presidential election, John Oliver discusses what we've learned so far and enlists our catheter cowboy to teach Donald Trump what he hasn't.\\n\\nConnect with Last Week Tonight online...\\n\\nSubscribe to the Last Week Tonight YouTube channel for more almost news as it almost happens: www.youtube.com/user/LastWeekTonight\\n\\nFind Last Week Tonight on Facebook like your mom would: http://Facebook.com/LastWeekTonight\\n\\nFollow us on Twitter for news about jokes and jokes about news: http://Twitter.com/LastWeekTonight\\n\\nVisit our official site for all that other stuff at once: http://www.hbo.com/lastweektonight                                                                                                                                                                                                                                                                                                                                                                                                                                                                                                                                                                                                                                                                                                                                                                                                            |2017-11-13 07:30:00.000 |2017-11-13 07:30:00|\n",
            "|5qpjK5DgCt4|2017-01-14   |Racist Superman | Rudy Mancuso, King Bach & Lele Pons         |Rudy Mancuso         |23         |2017-11-12T19:05:24.000Z|\"racist superman\"|\"rudy\"|\"mancuso\"|\"king\"|\"bach\"|\"racist\"|\"superman\"|\"love\"|\"rudy mancuso poo bear black white official music video\"|\"iphone x by pineapple\"|\"lelepons\"|\"hannahstocking\"|\"rudymancuso\"|\"inanna\"|\"anwar\"|\"sarkis\"|\"shots\"|\"shotsstudios\"|\"alesso\"|\"anitta\"|\"brazil\"|\"Getting My Driver's License | Lele Pons\"                                                                                                                                                                   |3191434|146033|5339    |8181         |https://i.ytimg.com/vi/5qpjK5DgCt4/default.jpg|False            |False           |False                 |WATCH MY PREVIOUS VIDEO ▶ \\n\\nSUBSCRIBE ► https://www.youtube.com/channel/UC5jkXpfnBhlDjqh0ir5FsIQ?sub_confirmation=1\\n\\nTHANKS FOR WATCHING! LIKE & SUBSCRIBE FOR MORE VIDEOS!\\n-----------------------------------------------------------\\nFIND ME ON: \\nInstagram | http://instagram.com/rudymancuso\\nTwitter | http://twitter.com/rudymancuso\\nFacebook | http://facebook.com/rudymancuso\\n\\nCAST: \\nRudy Mancuso | http://youtube.com/c/rudymancuso\\nLele Pons | http://youtube.com/c/lelepons\\nKing Bach | https://youtube.com/user/BachelorsPadTv\\n\\nVideo Effects: \\nCaleb Natale | https://instagram.com/calebnatale\\n\\nPA:\\nPaulina Gregory\\n\\n\\nShots Studios Channels:\\nAlesso | https://youtube.com/c/alesso\\nAnitta | http://youtube.com/c/anitta\\nAnwar Jibawi | http://youtube.com/c/anwar\\nAwkward Puppets | http://youtube.com/c/awkwardpuppets\\nHannah Stocking | http://youtube.com/c/hannahstocking\\nInanna Sarkis | http://youtube.com/c/inanna\\nLele Pons | http://youtube.com/c/lelepons\\nMaejor | http://youtube.com/c/maejor\\nMike Tyson | http://youtube.com/c/miketyson \\nRudy Mancuso | http://youtube.com/c/rudymancuso\\nShots Studios | http://youtube.com/c/shots\\n\\n#Rudy\\n#RudyMancuso                                                                                                                                                                                                                                         |2017-11-12 19:05:24.000 |2017-11-12 19:05:24|\n",
            "|puqaWrEC7tY|2017-01-14   |Nickelback Lyrics: Real or Fake?                              |Good Mythical Morning|24         |2017-11-13T11:00:04.000Z|\"rhett and link\"|\"gmm\"|\"good mythical morning\"|\"rhett and link good mythical morning\"|\"good mythical morning rhett and link\"|\"mythical morning\"|\"Season 12\"|\"nickelback lyrics\"|\"nickelback lyrics real or fake\"|\"nickelback\"|\"nickelback songs\"|\"nickelback song\"|\"rhett link nickelback\"|\"gmm nickelback\"|\"lyrics (website category)\"|\"nickelback (musical group)\"|\"rock\"|\"music\"|\"lyrics\"|\"chad kroeger\"|\"canada\"|\"music (industry)\"|\"mythical\"|\"gmm challenge\"|\"comedy\"|\"funny\"|\"challenge\"|343168 |10172 |666     |2146         |https://i.ytimg.com/vi/puqaWrEC7tY/default.jpg|False            |False           |False                 |Today we find out if Link is a Nickelback amateur or a secret Nickelback devotee. GMM #1218\\nDon't miss an all new Ear Biscuits: https://goo.gl/xeZNQt\\nWatch Part 4: https://youtu.be/MhCdiiB8CQg | Watch Part 2: https://youtu.be/7qiOrNao9fg\\nWatch today's episode from the start: http://bit.ly/GMM1218\\n\\nPick up all of the official GMM merch only at https://mythical.store\\n\\nFollow Rhett & Link: \\nInstagram: https://instagram.com/rhettandlink\\nFacebook: https://facebook.com/rhettandlink\\nTwitter: https://twitter.com/rhettandlink\\nTumblr: https://rhettandlink.tumblr.com\\nSnapchat: @realrhettlink\\nWebsite: https://mythical.co/\\n\\nCheck Out Our Other Mythical Channels:\\nGood Mythical MORE: https://youtube.com/goodmythicalmore\\nRhett & Link: https://youtube.com/rhettandlink\\nThis Is Mythical: https://youtube.com/thisismythical\\nEar Biscuits: https://applepodcasts.com/earbiscuits\\n\\nWant to send us something? https://mythical.co/contact\\nHave you made a Wheel of Mythicality intro video? Submit it here: https://bit.ly/GMMWheelIntro\\n\\nIntro Animation by Digital Twigs: https://www.digitaltwigs.com\\nIntro & Outro Music by Jeff Zeigler & Sarah Schimeneck https://www.jeffzeigler.com\\nWheel of Mythicality theme: https://www.royaltyfreemusiclibrary.com/\\nAll Supplemental Music fromOpus 1 Music: https://opus1.sourceaudio.com/\\nWe use ‘The Mouse’ by Blue Microphones https://www.bluemic.com/mouse/       |2017-11-13 11:00:04.000 |2017-11-13 11:00:04|\n",
            "+-----------+-------------+--------------------------------------------------------------+---------------------+-----------+------------------------+-----------------------------------------------------------------------------------------------------------------------------------------------------------------------------------------------------------------------------------------------------------------------------------------------------------------------------------------------------------------------------------------------------------------------------------------------------------------------------------------------+-------+------+--------+-------------+----------------------------------------------+-----------------+----------------+----------------------+------------------------------------------------------------------------------------------------------------------------------------------------------------------------------------------------------------------------------------------------------------------------------------------------------------------------------------------------------------------------------------------------------------------------------------------------------------------------------------------------------------------------------------------------------------------------------------------------------------------------------------------------------------------------------------------------------------------------------------------------------------------------------------------------------------------------------------------------------------------------------------------------------------------------------------------------------------------------------------------------------------------------------------------------------------------------------------------------------------------------------------------------------------------------------------------------------------------------------------------------------------------------------------------------------------------------------------------------------------------------------------------------------------------------------------------------------------------+------------------------+-------------------+\n",
            "only showing top 4 rows\n",
            "\n"
          ]
        }
      ]
    },
    {
      "cell_type": "code",
      "source": [
        "df_videos.select(\"publish_time\").show(4,False)"
      ],
      "metadata": {
        "colab": {
          "base_uri": "https://localhost:8080/"
        },
        "id": "qG0IT2zL4dsS",
        "outputId": "4a527b1c-64cf-46be-df58-d91334173857"
      },
      "execution_count": 437,
      "outputs": [
        {
          "output_type": "stream",
          "name": "stdout",
          "text": [
            "+-------------------+\n",
            "|publish_time       |\n",
            "+-------------------+\n",
            "|2017-11-13 17:13:01|\n",
            "|2017-11-13 07:30:00|\n",
            "|2017-11-12 19:05:24|\n",
            "|2017-11-13 11:00:04|\n",
            "+-------------------+\n",
            "only showing top 4 rows\n",
            "\n"
          ]
        }
      ]
    },
    {
      "cell_type": "code",
      "source": [
        "df = spark.createDataFrame([[\"Alex\", 20], [\"Bob\", 30], [\"Cathy\", 40]], [\"name\", \"age\"])\n",
        "df.show()"
      ],
      "metadata": {
        "colab": {
          "base_uri": "https://localhost:8080/"
        },
        "id": "i4lH9dZi4dpy",
        "outputId": "92ea70a8-2225-4b69-a6d9-89618bf9342c"
      },
      "execution_count": 438,
      "outputs": [
        {
          "output_type": "stream",
          "name": "stdout",
          "text": [
            "+-----+---+\n",
            "| name|age|\n",
            "+-----+---+\n",
            "| Alex| 20|\n",
            "|  Bob| 30|\n",
            "|Cathy| 40|\n",
            "+-----+---+\n",
            "\n"
          ]
        }
      ]
    },
    {
      "cell_type": "code",
      "source": [
        "\n",
        "df.select(translate(\"name\", \"Aeo\", \"#@%\")).show()"
      ],
      "metadata": {
        "colab": {
          "base_uri": "https://localhost:8080/"
        },
        "id": "K5bykdL64dm4",
        "outputId": "16f23a1a-5cae-4be9-9154-c6a9689a2a4c"
      },
      "execution_count": 439,
      "outputs": [
        {
          "output_type": "stream",
          "name": "stdout",
          "text": [
            "+-------------------------+\n",
            "|translate(name, Aeo, #@%)|\n",
            "+-------------------------+\n",
            "|                     #l@x|\n",
            "|                      B%b|\n",
            "|                    Cathy|\n",
            "+-------------------------+\n",
            "\n"
          ]
        }
      ]
    },
    {
      "cell_type": "code",
      "source": [
        "df_videos.select(\"title\").show(4,False)"
      ],
      "metadata": {
        "colab": {
          "base_uri": "https://localhost:8080/"
        },
        "id": "oHlFsDQT4dkW",
        "outputId": "e8cd604f-58fe-466d-9a46-b9ccc25721c2"
      },
      "execution_count": 440,
      "outputs": [
        {
          "output_type": "stream",
          "name": "stdout",
          "text": [
            "+--------------------------------------------------------------+\n",
            "|title                                                         |\n",
            "+--------------------------------------------------------------+\n",
            "|WE WANT TO TALK ABOUT OUR MARRIAGE                            |\n",
            "|The Trump Presidency: Last Week Tonight with John Oliver (HBO)|\n",
            "|Racist Superman | Rudy Mancuso, King Bach & Lele Pons         |\n",
            "|Nickelback Lyrics: Real or Fake?                              |\n",
            "+--------------------------------------------------------------+\n",
            "only showing top 4 rows\n",
            "\n"
          ]
        }
      ]
    },
    {
      "cell_type": "code",
      "source": [
        "df_videos = df_videos.withColumn(\"title\",trim(df_videos.title))"
      ],
      "metadata": {
        "id": "x3S6yuub4dhx"
      },
      "execution_count": 441,
      "outputs": []
    },
    {
      "cell_type": "code",
      "source": [
        "df_videos.show()"
      ],
      "metadata": {
        "colab": {
          "base_uri": "https://localhost:8080/"
        },
        "id": "IpyyjfhR4dfR",
        "outputId": "a3990a22-7323-4ed8-f37b-dc81f0b93305"
      },
      "execution_count": 411,
      "outputs": [
        {
          "output_type": "stream",
          "name": "stdout",
          "text": [
            "+-----------+-------------+--------------------+--------------------+-----------+--------------------+--------------------+-------+------+--------+-------------+--------------------+-----------------+----------------+----------------------+--------------------+--------------------+-------------------+\n",
            "|   video_id|trending_date|               title|       channel_title|category_id|  publish_time_extra|                tags|  views| likes|dislikes|comment_count|      thumbnail_link|comments_disabled|ratings_disabled|video_error_or_removed|         description|      publish_time_2|       publish_time|\n",
            "+-----------+-------------+--------------------+--------------------+-----------+--------------------+--------------------+-------+------+--------+-------------+--------------------+-----------------+----------------+----------------------+--------------------+--------------------+-------------------+\n",
            "|2kyS6SvSYSE|   2017-01-14|WE WANT TO TALK A...|        CaseyNeistat|         22|2017-11-13T17:13:...|     SHANtell martin| 748374| 57527|    2966|        15954|https://i.ytimg.c...|            False|           False|                 False|SHANTELL'S CHANNE...|2017-11-13 17:13:...|2017-11-13 17:13:01|\n",
            "|1ZAPwfrtAFY|   2017-01-14|The Trump Preside...|     LastWeekTonight|         24|2017-11-13T07:30:...|\"last week tonigh...|2418783| 97185|    6146|        12703|https://i.ytimg.c...|            False|           False|                 False|One year after th...|2017-11-13 07:30:...|2017-11-13 07:30:00|\n",
            "|5qpjK5DgCt4|   2017-01-14|Racist Superman |...|        Rudy Mancuso|         23|2017-11-12T19:05:...|\"racist superman\"...|3191434|146033|    5339|         8181|https://i.ytimg.c...|            False|           False|                 False|WATCH MY PREVIOUS...|2017-11-12 19:05:...|2017-11-12 19:05:24|\n",
            "|puqaWrEC7tY|   2017-01-14|Nickelback Lyrics...|Good Mythical Mor...|         24|2017-11-13T11:00:...|\"rhett and link\"|...| 343168| 10172|     666|         2146|https://i.ytimg.c...|            False|           False|                 False|Today we find out...|2017-11-13 11:00:...|2017-11-13 11:00:04|\n",
            "|d380meD0W0M|   2017-01-14|I Dare You: GOING...|            nigahiga|         24|2017-11-12T18:01:...|\"ryan\"|\"higa\"|\"hi...|2095731|132235|    1989|        17518|https://i.ytimg.c...|            False|           False|                 False|I know it's been ...|2017-11-12 18:01:...|2017-11-12 18:01:41|\n",
            "|gHZ1Qz0KiKM|   2017-01-14|2 Weeks with iPho...|            iJustine|         28|2017-11-13T19:07:...|\"ijustine\"|\"week ...| 119180|  9763|     511|         1434|https://i.ytimg.c...|            False|           False|                 False|Using the iPhone ...|2017-11-13 19:07:...|2017-11-13 19:07:23|\n",
            "|39idVpFF7NQ|   2017-01-14|Roy Moore & Jeff ...| Saturday Night Live|         24|2017-11-12T05:37:...|\"SNL\"|\"Saturday N...|2103417| 15993|    2445|         1970|https://i.ytimg.c...|            False|           False|                 False|Embattled Alabama...|2017-11-12 05:37:...|2017-11-12 05:37:17|\n",
            "|nc99ccSXST0|   2017-01-14|5 Ice Cream Gadge...|  CrazyRussianHacker|         28|2017-11-12T21:50:...|\"5 Ice Cream Gadg...| 817732| 23663|     778|         3432|https://i.ytimg.c...|            False|           False|                 False|Ice Cream Pint Co...|2017-11-12 21:50:...|2017-11-12 21:50:37|\n",
            "|jr9QtXwC9vc|   2017-01-14|The Greatest Show...|    20th Century Fox|          1|2017-11-13T14:00:...|\"Trailer\"|\"Hugh J...| 826059|  3543|     119|          340|https://i.ytimg.c...|            False|           False|                 False|Inspired by the i...|2017-11-13 14:00:...|2017-11-13 14:00:23|\n",
            "|TUmyygCMMGA|   2017-01-14|Why the rise of t...|                 Vox|         25|2017-11-13T13:45:...|\"vox.com\"|\"vox\"|\"...| 256426| 12654|    1363|         2368|https://i.ytimg.c...|            False|           False|                 False|For now, at least...|2017-11-13 13:45:...|2017-11-13 13:45:16|\n",
            "|9wRQljFNDW8|   2017-01-14|Dion Lewis' 103-Y...|                 NFL|         17|2017-11-13T02:05:...|\"NFL\"|\"Football\"|...|  81377|   655|      25|          177|https://i.ytimg.c...|            False|           False|                 False|New England Patri...|2017-11-13 02:05:...|2017-11-13 02:05:26|\n",
            "|VifQlJit6A0|   2017-01-14|(SPOILERS) 'Shiva...|                 amc|         24|2017-11-13T03:00:...|\"The Walking Dead...| 104578|  1576|     303|         1279|https://i.ytimg.c...|            False|           False|                 False|Shiva arrives jus...|2017-11-13 03:00:...|2017-11-13 03:00:00|\n",
            "|5E4ZBSInqUU|   2017-01-14|Marshmello - Bloc...|          marshmello|         10|2017-11-13T17:00:...|\"marshmello\"|\"blo...| 687582|114188|    1333|         8371|https://i.ytimg.c...|            False|           False|                 False|WATCH SILENCE MUS...|2017-11-13 17:00:...|2017-11-13 17:00:00|\n",
            "|GgVmn66oK_A|   2017-01-14|Which Countries A...|       NowThis World|         25|2017-11-12T14:00:...|\"nowthis\"|\"nowthi...| 544770|  7848|    1171|         3981|https://i.ytimg.c...|            False|           False|                 False|The world at larg...|2017-11-12 14:00:...|2017-11-12 14:00:00|\n",
            "|TaTleo4cOs8|   2017-01-14|SHOPPING FOR NEW ...|     The king of DIY|         15|2017-11-12T18:30:...|\"shopping for new...| 207532|  7473|     246|         2120|https://i.ytimg.c...|            False|           False|                 False|Today we go shopp...|2017-11-12 18:30:...|2017-11-12 18:30:01|\n",
            "|kgaO45SyaO4|   2017-01-14|    The New SpotMini|      BostonDynamics|         28|2017-11-13T20:09:...|\"Robots\"|\"Boston ...|  75752|  9419|      52|         1230|https://i.ytimg.c...|            False|           False|                 False|For more informat...|2017-11-13 20:09:...|2017-11-13 20:09:58|\n",
            "|ZAQs-ctOqXQ|   2017-01-14|One Change That W...|             Cracked|         23|2017-11-12T17:00:...|\"pacific rim\"|\"pa...| 295639|  8011|     638|         1256|https://i.ytimg.c...|            False|           False|                 False|Pacific Rim was s...|2017-11-12 17:00:...|2017-11-12 17:00:05|\n",
            "|YVfyYrEmzgM|   2017-01-14|How does your bod...|              TED-Ed|         27|2017-11-13T16:00:...|\"TED\"|\"TED-Ed\"|\"T...|  78044|  5398|      53|          385|https://i.ytimg.c...|            False|           False|                 False|Check out our Pat...|2017-11-13 16:00:...|2017-11-13 16:00:07|\n",
            "|eNSN6qet1kE|   2017-01-14|HomeMade Electric...|         PeterSripol|         28|2017-11-13T15:30:...|\"ultralight\"|\"air...|  97007| 11963|      36|         2211|https://i.ytimg.c...|            False|           False|                 False|aaaannnd now to f...|2017-11-13 15:30:...|2017-11-13 15:30:17|\n",
            "|B5HORANmzHw|   2017-01-14|Founding An Inbre...|             SciShow|         27|2017-11-12T22:00:...|\"SciShow\"|\"scienc...| 223871|  8421|     191|         1214|https://i.ytimg.c...|            False|           False|                 False|Thanks to 23AndMe...|2017-11-12 22:00:...|2017-11-12 22:00:01|\n",
            "+-----------+-------------+--------------------+--------------------+-----------+--------------------+--------------------+-------+------+--------+-------------+--------------------+-----------------+----------------+----------------------+--------------------+--------------------+-------------------+\n",
            "only showing top 20 rows\n",
            "\n"
          ]
        }
      ]
    },
    {
      "cell_type": "code",
      "source": [
        "df_videos.withColumn(\"title\",lower(df_videos.title)).show(4,False)\n"
      ],
      "metadata": {
        "colab": {
          "base_uri": "https://localhost:8080/"
        },
        "id": "QFNiDEka4ddg",
        "outputId": "4dfe5cfa-3d7a-4783-efe6-f0186d3ed75d"
      },
      "execution_count": 442,
      "outputs": [
        {
          "output_type": "stream",
          "name": "stdout",
          "text": [
            "+-----------+-------------+--------------------------------------------------------------+---------------------+-----------+------------------------+-----------------------------------------------------------------------------------------------------------------------------------------------------------------------------------------------------------------------------------------------------------------------------------------------------------------------------------------------------------------------------------------------------------------------------------------------------------------------------------------------+-------+------+--------+-------------+----------------------------------------------+-----------------+----------------+----------------------+------------------------------------------------------------------------------------------------------------------------------------------------------------------------------------------------------------------------------------------------------------------------------------------------------------------------------------------------------------------------------------------------------------------------------------------------------------------------------------------------------------------------------------------------------------------------------------------------------------------------------------------------------------------------------------------------------------------------------------------------------------------------------------------------------------------------------------------------------------------------------------------------------------------------------------------------------------------------------------------------------------------------------------------------------------------------------------------------------------------------------------------------------------------------------------------------------------------------------------------------------------------------------------------------------------------------------------------------------------------------------------------------------------------------------------------------------------------+------------------------+-------------------+\n",
            "|video_id   |trending_date|title                                                         |channel_title        |category_id|publish_time_extra      |tags                                                                                                                                                                                                                                                                                                                                                                                                                                                                                           |views  |likes |dislikes|comment_count|thumbnail_link                                |comments_disabled|ratings_disabled|video_error_or_removed|description                                                                                                                                                                                                                                                                                                                                                                                                                                                                                                                                                                                                                                                                                                                                                                                                                                                                                                                                                                                                                                                                                                                                                                                                                                                                                                                                                                                                                                                       |publish_time_2          |publish_time       |\n",
            "+-----------+-------------+--------------------------------------------------------------+---------------------+-----------+------------------------+-----------------------------------------------------------------------------------------------------------------------------------------------------------------------------------------------------------------------------------------------------------------------------------------------------------------------------------------------------------------------------------------------------------------------------------------------------------------------------------------------+-------+------+--------+-------------+----------------------------------------------+-----------------+----------------+----------------------+------------------------------------------------------------------------------------------------------------------------------------------------------------------------------------------------------------------------------------------------------------------------------------------------------------------------------------------------------------------------------------------------------------------------------------------------------------------------------------------------------------------------------------------------------------------------------------------------------------------------------------------------------------------------------------------------------------------------------------------------------------------------------------------------------------------------------------------------------------------------------------------------------------------------------------------------------------------------------------------------------------------------------------------------------------------------------------------------------------------------------------------------------------------------------------------------------------------------------------------------------------------------------------------------------------------------------------------------------------------------------------------------------------------------------------------------------------------+------------------------+-------------------+\n",
            "|2kyS6SvSYSE|2017-01-14   |we want to talk about our marriage                            |CaseyNeistat         |22         |2017-11-13T17:13:01.000Z|SHANtell martin                                                                                                                                                                                                                                                                                                                                                                                                                                                                                |748374 |57527 |2966    |15954        |https://i.ytimg.com/vi/2kyS6SvSYSE/default.jpg|False            |False           |False                 |SHANTELL'S CHANNEL - https://www.youtube.com/shantellmartin\\nCANDICE - https://www.lovebilly.com\\n\\nfilmed this video in 4k on this -- http://amzn.to/2sTDnRZ\\nwith this lens -- http://amzn.to/2rUJOmD\\nbig drone - http://tinyurl.com/h4ft3oy\\nOTHER GEAR ---  http://amzn.to/2o3GLX5\\nSony CAMERA http://amzn.to/2nOBmnv\\nOLD CAMERA; http://amzn.to/2o2cQBT\\nMAIN LENS; http://amzn.to/2od5gBJ\\nBIG SONY CAMERA; http://amzn.to/2nrdJRO\\nBIG Canon CAMERA; http://tinyurl.com/jn4q4vz\\nBENDY TRIPOD THING; http://tinyurl.com/gw3ylz2\\nYOU NEED THIS FOR THE BENDY TRIPOD; http://tinyurl.com/j8mzzua\\nWIDE LENS; http://tinyurl.com/jkfcm8t\\nMORE EXPENSIVE WIDE LENS; http://tinyurl.com/zrdgtou\\nSMALL CAMERA; http://tinyurl.com/hrrzhor\\nMICROPHONE; http://tinyurl.com/zefm4jy\\nOTHER MICROPHONE; http://tinyurl.com/jxgpj86\\nOLD DRONE (cheaper but still great);http://tinyurl.com/zcfmnmd\\n\\nfollow me; on http://instagram.com/caseyneistat\\non https://www.facebook.com/cneistat\\non https://twitter.com/CaseyNeistat\\n\\namazing intro song by https://soundcloud.com/discoteeth\\n\\nad disclosure.  THIS IS NOT AN AD.  not selling or promoting anything.  but samsung did produce the Shantell Video as a 'GALAXY PROJECT' which is an initiative that enables creators like Shantell and me to make projects we might otherwise not have the opportunity to make.  hope that's clear.  if not ask in the comments and i'll answer any specifics.|2017-11-13 17:13:01.000 |2017-11-13 17:13:01|\n",
            "|1ZAPwfrtAFY|2017-01-14   |the trump presidency: last week tonight with john oliver (hbo)|LastWeekTonight      |24         |2017-11-13T07:30:00.000Z|\"last week tonight trump presidency\"|\"last week tonight donald trump\"|\"john oliver trump\"|\"donald trump\"                                                                                                                                                                                                                                                                                                                                                                                       |2418783|97185 |6146    |12703        |https://i.ytimg.com/vi/1ZAPwfrtAFY/default.jpg|False            |False           |False                 |One year after the presidential election, John Oliver discusses what we've learned so far and enlists our catheter cowboy to teach Donald Trump what he hasn't.\\n\\nConnect with Last Week Tonight online...\\n\\nSubscribe to the Last Week Tonight YouTube channel for more almost news as it almost happens: www.youtube.com/user/LastWeekTonight\\n\\nFind Last Week Tonight on Facebook like your mom would: http://Facebook.com/LastWeekTonight\\n\\nFollow us on Twitter for news about jokes and jokes about news: http://Twitter.com/LastWeekTonight\\n\\nVisit our official site for all that other stuff at once: http://www.hbo.com/lastweektonight                                                                                                                                                                                                                                                                                                                                                                                                                                                                                                                                                                                                                                                                                                                                                                                                            |2017-11-13 07:30:00.000 |2017-11-13 07:30:00|\n",
            "|5qpjK5DgCt4|2017-01-14   |racist superman | rudy mancuso, king bach & lele pons         |Rudy Mancuso         |23         |2017-11-12T19:05:24.000Z|\"racist superman\"|\"rudy\"|\"mancuso\"|\"king\"|\"bach\"|\"racist\"|\"superman\"|\"love\"|\"rudy mancuso poo bear black white official music video\"|\"iphone x by pineapple\"|\"lelepons\"|\"hannahstocking\"|\"rudymancuso\"|\"inanna\"|\"anwar\"|\"sarkis\"|\"shots\"|\"shotsstudios\"|\"alesso\"|\"anitta\"|\"brazil\"|\"Getting My Driver's License | Lele Pons\"                                                                                                                                                                   |3191434|146033|5339    |8181         |https://i.ytimg.com/vi/5qpjK5DgCt4/default.jpg|False            |False           |False                 |WATCH MY PREVIOUS VIDEO ▶ \\n\\nSUBSCRIBE ► https://www.youtube.com/channel/UC5jkXpfnBhlDjqh0ir5FsIQ?sub_confirmation=1\\n\\nTHANKS FOR WATCHING! LIKE & SUBSCRIBE FOR MORE VIDEOS!\\n-----------------------------------------------------------\\nFIND ME ON: \\nInstagram | http://instagram.com/rudymancuso\\nTwitter | http://twitter.com/rudymancuso\\nFacebook | http://facebook.com/rudymancuso\\n\\nCAST: \\nRudy Mancuso | http://youtube.com/c/rudymancuso\\nLele Pons | http://youtube.com/c/lelepons\\nKing Bach | https://youtube.com/user/BachelorsPadTv\\n\\nVideo Effects: \\nCaleb Natale | https://instagram.com/calebnatale\\n\\nPA:\\nPaulina Gregory\\n\\n\\nShots Studios Channels:\\nAlesso | https://youtube.com/c/alesso\\nAnitta | http://youtube.com/c/anitta\\nAnwar Jibawi | http://youtube.com/c/anwar\\nAwkward Puppets | http://youtube.com/c/awkwardpuppets\\nHannah Stocking | http://youtube.com/c/hannahstocking\\nInanna Sarkis | http://youtube.com/c/inanna\\nLele Pons | http://youtube.com/c/lelepons\\nMaejor | http://youtube.com/c/maejor\\nMike Tyson | http://youtube.com/c/miketyson \\nRudy Mancuso | http://youtube.com/c/rudymancuso\\nShots Studios | http://youtube.com/c/shots\\n\\n#Rudy\\n#RudyMancuso                                                                                                                                                                                                                                         |2017-11-12 19:05:24.000 |2017-11-12 19:05:24|\n",
            "|puqaWrEC7tY|2017-01-14   |nickelback lyrics: real or fake?                              |Good Mythical Morning|24         |2017-11-13T11:00:04.000Z|\"rhett and link\"|\"gmm\"|\"good mythical morning\"|\"rhett and link good mythical morning\"|\"good mythical morning rhett and link\"|\"mythical morning\"|\"Season 12\"|\"nickelback lyrics\"|\"nickelback lyrics real or fake\"|\"nickelback\"|\"nickelback songs\"|\"nickelback song\"|\"rhett link nickelback\"|\"gmm nickelback\"|\"lyrics (website category)\"|\"nickelback (musical group)\"|\"rock\"|\"music\"|\"lyrics\"|\"chad kroeger\"|\"canada\"|\"music (industry)\"|\"mythical\"|\"gmm challenge\"|\"comedy\"|\"funny\"|\"challenge\"|343168 |10172 |666     |2146         |https://i.ytimg.com/vi/puqaWrEC7tY/default.jpg|False            |False           |False                 |Today we find out if Link is a Nickelback amateur or a secret Nickelback devotee. GMM #1218\\nDon't miss an all new Ear Biscuits: https://goo.gl/xeZNQt\\nWatch Part 4: https://youtu.be/MhCdiiB8CQg | Watch Part 2: https://youtu.be/7qiOrNao9fg\\nWatch today's episode from the start: http://bit.ly/GMM1218\\n\\nPick up all of the official GMM merch only at https://mythical.store\\n\\nFollow Rhett & Link: \\nInstagram: https://instagram.com/rhettandlink\\nFacebook: https://facebook.com/rhettandlink\\nTwitter: https://twitter.com/rhettandlink\\nTumblr: https://rhettandlink.tumblr.com\\nSnapchat: @realrhettlink\\nWebsite: https://mythical.co/\\n\\nCheck Out Our Other Mythical Channels:\\nGood Mythical MORE: https://youtube.com/goodmythicalmore\\nRhett & Link: https://youtube.com/rhettandlink\\nThis Is Mythical: https://youtube.com/thisismythical\\nEar Biscuits: https://applepodcasts.com/earbiscuits\\n\\nWant to send us something? https://mythical.co/contact\\nHave you made a Wheel of Mythicality intro video? Submit it here: https://bit.ly/GMMWheelIntro\\n\\nIntro Animation by Digital Twigs: https://www.digitaltwigs.com\\nIntro & Outro Music by Jeff Zeigler & Sarah Schimeneck https://www.jeffzeigler.com\\nWheel of Mythicality theme: https://www.royaltyfreemusiclibrary.com/\\nAll Supplemental Music fromOpus 1 Music: https://opus1.sourceaudio.com/\\nWe use ‘The Mouse’ by Blue Microphones https://www.bluemic.com/mouse/       |2017-11-13 11:00:04.000 |2017-11-13 11:00:04|\n",
            "+-----------+-------------+--------------------------------------------------------------+---------------------+-----------+------------------------+-----------------------------------------------------------------------------------------------------------------------------------------------------------------------------------------------------------------------------------------------------------------------------------------------------------------------------------------------------------------------------------------------------------------------------------------------------------------------------------------------+-------+------+--------+-------------+----------------------------------------------+-----------------+----------------+----------------------+------------------------------------------------------------------------------------------------------------------------------------------------------------------------------------------------------------------------------------------------------------------------------------------------------------------------------------------------------------------------------------------------------------------------------------------------------------------------------------------------------------------------------------------------------------------------------------------------------------------------------------------------------------------------------------------------------------------------------------------------------------------------------------------------------------------------------------------------------------------------------------------------------------------------------------------------------------------------------------------------------------------------------------------------------------------------------------------------------------------------------------------------------------------------------------------------------------------------------------------------------------------------------------------------------------------------------------------------------------------------------------------------------------------------------------------------------------------+------------------------+-------------------+\n",
            "only showing top 4 rows\n",
            "\n"
          ]
        }
      ]
    },
    {
      "cell_type": "code",
      "source": [
        "df=df_videos"
      ],
      "metadata": {
        "id": "agpACXHLn9-E"
      },
      "execution_count": 443,
      "outputs": []
    },
    {
      "cell_type": "code",
      "source": [
        "#when-otherwise operator \n",
        "#new one for me\n",
        "#end case\n",
        "df_videos.select(\"likes\",\"dislikes\",(when(df_videos.likes>df_videos.dislikes,\"good\").when(df_videos.likes<df_videos.dislikes,\"bad\").otherwise(\"adad\")).alias(\"asa\")).show(3)"
      ],
      "metadata": {
        "colab": {
          "base_uri": "https://localhost:8080/"
        },
        "id": "s-X2Kz5K4da-",
        "outputId": "48f98880-3bd9-4758-ae85-e2a8928da92e"
      },
      "execution_count": 446,
      "outputs": [
        {
          "output_type": "stream",
          "name": "stdout",
          "text": [
            "+------+--------+----+\n",
            "| likes|dislikes| asa|\n",
            "+------+--------+----+\n",
            "| 57527|    2966|good|\n",
            "| 97185|    6146|good|\n",
            "|146033|    5339|good|\n",
            "+------+--------+----+\n",
            "only showing top 3 rows\n",
            "\n"
          ]
        }
      ]
    },
    {
      "cell_type": "code",
      "source": [
        "df.selectExpr(\"likes\",\"dislikes\",\"CASE WHEN likes > dislikes THEN 'GOOD' WHEN likes < dislikes THEN 'BAD' ELSE 'NOGH_JOS' END AS ajsaskl\").show(3)"
      ],
      "metadata": {
        "colab": {
          "base_uri": "https://localhost:8080/"
        },
        "id": "4UfaHsmy4dYM",
        "outputId": "3d3138d6-438b-47ba-80af-40cdbd634b79"
      },
      "execution_count": 448,
      "outputs": [
        {
          "output_type": "stream",
          "name": "stdout",
          "text": [
            "+------+--------+-------+\n",
            "| likes|dislikes|ajsaskl|\n",
            "+------+--------+-------+\n",
            "| 57527|    2966|   GOOD|\n",
            "| 97185|    6146|   GOOD|\n",
            "|146033|    5339|   GOOD|\n",
            "+------+--------+-------+\n",
            "only showing top 3 rows\n",
            "\n"
          ]
        }
      ]
    },
    {
      "cell_type": "code",
      "source": [
        "#concat_ws to conticate data"
      ],
      "metadata": {
        "id": "dAsr6cF54dVG"
      },
      "execution_count": 449,
      "outputs": []
    },
    {
      "cell_type": "code",
      "source": [
        "df.select(\"trending_date\", year(\"trending_date\"), month(\"trending_date\")).show()"
      ],
      "metadata": {
        "colab": {
          "base_uri": "https://localhost:8080/"
        },
        "id": "jV2jNKg3rRa9",
        "outputId": "d7726825-2ef3-4911-c2cd-5176107b61ce"
      },
      "execution_count": 451,
      "outputs": [
        {
          "output_type": "stream",
          "name": "stdout",
          "text": [
            "+-------------+-------------------+--------------------+\n",
            "|trending_date|year(trending_date)|month(trending_date)|\n",
            "+-------------+-------------------+--------------------+\n",
            "|   2017-01-14|               2017|                   1|\n",
            "|   2017-01-14|               2017|                   1|\n",
            "|   2017-01-14|               2017|                   1|\n",
            "|   2017-01-14|               2017|                   1|\n",
            "|   2017-01-14|               2017|                   1|\n",
            "|   2017-01-14|               2017|                   1|\n",
            "|   2017-01-14|               2017|                   1|\n",
            "|   2017-01-14|               2017|                   1|\n",
            "|   2017-01-14|               2017|                   1|\n",
            "|   2017-01-14|               2017|                   1|\n",
            "|   2017-01-14|               2017|                   1|\n",
            "|   2017-01-14|               2017|                   1|\n",
            "|   2017-01-14|               2017|                   1|\n",
            "|   2017-01-14|               2017|                   1|\n",
            "|   2017-01-14|               2017|                   1|\n",
            "|   2017-01-14|               2017|                   1|\n",
            "|   2017-01-14|               2017|                   1|\n",
            "|   2017-01-14|               2017|                   1|\n",
            "|   2017-01-14|               2017|                   1|\n",
            "|   2017-01-14|               2017|                   1|\n",
            "+-------------+-------------------+--------------------+\n",
            "only showing top 20 rows\n",
            "\n"
          ]
        }
      ]
    },
    {
      "cell_type": "code",
      "source": [
        "df.select(\"trending_date\", year(\"trending_date\"), month(\"trending_date\"),\"publish_time\",datediff(df.publish_time,df.trending_date)).show()"
      ],
      "metadata": {
        "colab": {
          "base_uri": "https://localhost:8080/"
        },
        "id": "PygEfnMOrRXk",
        "outputId": "30e91ae8-4ef3-4efe-958c-8134c8cae508"
      },
      "execution_count": 454,
      "outputs": [
        {
          "output_type": "stream",
          "name": "stdout",
          "text": [
            "+-------------+-------------------+--------------------+-------------------+-------------------------------------+\n",
            "|trending_date|year(trending_date)|month(trending_date)|       publish_time|datediff(publish_time, trending_date)|\n",
            "+-------------+-------------------+--------------------+-------------------+-------------------------------------+\n",
            "|   2017-01-14|               2017|                   1|2017-11-13 17:13:01|                                  303|\n",
            "|   2017-01-14|               2017|                   1|2017-11-13 07:30:00|                                  303|\n",
            "|   2017-01-14|               2017|                   1|2017-11-12 19:05:24|                                  302|\n",
            "|   2017-01-14|               2017|                   1|2017-11-13 11:00:04|                                  303|\n",
            "|   2017-01-14|               2017|                   1|2017-11-12 18:01:41|                                  302|\n",
            "|   2017-01-14|               2017|                   1|2017-11-13 19:07:23|                                  303|\n",
            "|   2017-01-14|               2017|                   1|2017-11-12 05:37:17|                                  302|\n",
            "|   2017-01-14|               2017|                   1|2017-11-12 21:50:37|                                  302|\n",
            "|   2017-01-14|               2017|                   1|2017-11-13 14:00:23|                                  303|\n",
            "|   2017-01-14|               2017|                   1|2017-11-13 13:45:16|                                  303|\n",
            "|   2017-01-14|               2017|                   1|2017-11-13 02:05:26|                                  303|\n",
            "|   2017-01-14|               2017|                   1|2017-11-13 03:00:00|                                  303|\n",
            "|   2017-01-14|               2017|                   1|2017-11-13 17:00:00|                                  303|\n",
            "|   2017-01-14|               2017|                   1|2017-11-12 14:00:00|                                  302|\n",
            "|   2017-01-14|               2017|                   1|2017-11-12 18:30:01|                                  302|\n",
            "|   2017-01-14|               2017|                   1|2017-11-13 20:09:58|                                  303|\n",
            "|   2017-01-14|               2017|                   1|2017-11-12 17:00:05|                                  302|\n",
            "|   2017-01-14|               2017|                   1|2017-11-13 16:00:07|                                  303|\n",
            "|   2017-01-14|               2017|                   1|2017-11-13 15:30:17|                                  303|\n",
            "|   2017-01-14|               2017|                   1|2017-11-12 22:00:01|                                  302|\n",
            "+-------------+-------------------+--------------------+-------------------+-------------------------------------+\n",
            "only showing top 20 rows\n",
            "\n"
          ]
        }
      ]
    },
    {
      "cell_type": "code",
      "source": [
        "array = df.select(\"title\", split(df.title,' ').alias(\"data\"))"
      ],
      "metadata": {
        "id": "jCZTPtkMrRTn"
      },
      "execution_count": 459,
      "outputs": []
    },
    {
      "cell_type": "code",
      "source": [
        "array.show(121,False)"
      ],
      "metadata": {
        "colab": {
          "base_uri": "https://localhost:8080/"
        },
        "id": "Sx-XmN6BrRQ8",
        "outputId": "8f099bf8-67a7-47f7-fc6c-9ee138ece868"
      },
      "execution_count": 460,
      "outputs": [
        {
          "output_type": "stream",
          "name": "stdout",
          "text": [
            "+----------------------------------------------------------------------------------------------------+----------------------------------------------------------------------------------------------------------------------+\n",
            "|title                                                                                               |data                                                                                                                  |\n",
            "+----------------------------------------------------------------------------------------------------+----------------------------------------------------------------------------------------------------------------------+\n",
            "|WE WANT TO TALK ABOUT OUR MARRIAGE                                                                  |[WE, WANT, TO, TALK, ABOUT, OUR, MARRIAGE]                                                                            |\n",
            "|The Trump Presidency: Last Week Tonight with John Oliver (HBO)                                      |[The, Trump, Presidency:, Last, Week, Tonight, with, John, Oliver, (HBO)]                                             |\n",
            "|Racist Superman | Rudy Mancuso, King Bach & Lele Pons                                               |[Racist, Superman, |, Rudy, Mancuso,, King, Bach, &, Lele, Pons]                                                      |\n",
            "|Nickelback Lyrics: Real or Fake?                                                                    |[Nickelback, Lyrics:, Real, or, Fake?]                                                                                |\n",
            "|I Dare You: GOING BALD!?                                                                            |[I, Dare, You:, GOING, BALD!?]                                                                                        |\n",
            "|2 Weeks with iPhone X                                                                               |[2, Weeks, with, iPhone, X]                                                                                           |\n",
            "|Roy Moore & Jeff Sessions Cold Open - SNL                                                           |[Roy, Moore, &, Jeff, Sessions, Cold, Open, -, SNL]                                                                   |\n",
            "|5 Ice Cream Gadgets put to the Test                                                                 |[5, Ice, Cream, Gadgets, put, to, the, Test]                                                                          |\n",
            "|The Greatest Showman | Official Trailer 2 [HD] | 20th Century FOX                                   |[The, Greatest, Showman, |, Official, Trailer, 2, [HD], |, 20th, Century, FOX]                                        |\n",
            "|Why the rise of the robots won’t mean the end of work                                               |[Why, the, rise, of, the, robots, won’t, mean, the, end, of, work]                                                    |\n",
            "|Dion Lewis' 103-Yd Kick Return TD vs. Denver! | Can't-Miss Play | NFL Wk 10 Highlights              |[Dion, Lewis', 103-Yd, Kick, Return, TD, vs., Denver!, |, Can't-Miss, Play, |, NFL, Wk, 10, Highlights]               |\n",
            "|(SPOILERS) 'Shiva Saves the Day' Talked About Scene Ep. 804 | The Walking Dead                      |[(SPOILERS), 'Shiva, Saves, the, Day', Talked, About, Scene, Ep., 804, |, The, Walking, Dead]                         |\n",
            "|Marshmello - Blocks (Official Music Video)                                                          |[Marshmello, -, Blocks, (Official, Music, Video)]                                                                     |\n",
            "|Which Countries Are About To Collapse?                                                              |[Which, Countries, Are, About, To, Collapse?]                                                                         |\n",
            "|SHOPPING FOR NEW FISH!!!                                                                            |[SHOPPING, FOR, NEW, FISH!!!]                                                                                         |\n",
            "|The New SpotMini                                                                                    |[The, New, SpotMini]                                                                                                  |\n",
            "|One Change That Would Make Pacific Rim a Classic                                                    |[One, Change, That, Would, Make, Pacific, Rim, a, Classic]                                                            |\n",
            "|How does your body know you're full? - Hilary Coller                                                |[How, does, your, body, know, you're, full?, -, Hilary, Coller]                                                       |\n",
            "|HomeMade Electric Airplane                                                                          |[HomeMade, Electric, Airplane]                                                                                        |\n",
            "|Founding An Inbreeding-Free Space Colony                                                            |[Founding, An, Inbreeding-Free, Space, Colony]                                                                        |\n",
            "|How Can You Control Your Dreams?                                                                    |[How, Can, You, Control, Your, Dreams?]                                                                               |\n",
            "|The Making of Hela's Headdress from Thor: Ragnarok                                                  |[The, Making, of, Hela's, Headdress, from, Thor:, Ragnarok]                                                           |\n",
            "|Is It Dangerous To Talk To A Camera While Driving?                                                  |[Is, It, Dangerous, To, Talk, To, A, Camera, While, Driving?]                                                         |\n",
            "|What $4,800 Will Get You In NYC | Sweet Digs Home Tour | Refinery29                                 |[What, $4,800, Will, Get, You, In, NYC, |, Sweet, Digs, Home, Tour, |, Refinery29]                                    |\n",
            "|Using Other People's Showers                                                                        |[Using, Other, People's, Showers]                                                                                     |\n",
            "|SPAGHETTI BURRITO VS SPAGHETTI BURRITO                                                              |[SPAGHETTI, BURRITO, VS, SPAGHETTI, BURRITO]                                                                          |\n",
            "|78557 and Proth Primes - Numberphile                                                                |[78557, and, Proth, Primes, -, Numberphile]                                                                           |\n",
            "|A Smart... MUG?! - Take apart a Heated Thermos!                                                     |[A, Smart..., MUG?!, -, Take, apart, a, Heated, Thermos!]                                                             |\n",
            "|LeBron James admits he was ripping Phil Jackson and thinks DeShaun Watson should be the Browns qu...|[LeBron, James, admits, he, was, ripping, Phil, Jackson, and, thinks, DeShaun, Watson, should, be, the, Browns, qu...]|\n",
            "|Nick Andopolis: Drummer                                                                             |[Nick, Andopolis:, Drummer]                                                                                           |\n",
            "|I TOOK THE $3,000,000 LAMBO TO CARMAX! They offered me......                                        |[I, TOOK, THE, $3,000,000, LAMBO, TO, CARMAX!, They, offered, me......]                                               |\n",
            "|Amazon Christmas Advert 2017 - Toys & Games                                                         |[Amazon, Christmas, Advert, 2017, -, Toys, &, Games]                                                                  |\n",
            "|Eminem - Walk On Water (Audio) ft. Beyoncé                                                          |[Eminem, -, Walk, On, Water, (Audio), ft., Beyoncé]                                                                   |\n",
            "|What's Inside a Detectives Car?                                                                     |[What's, Inside, a, Detectives, Car?]                                                                                 |\n",
            "|New Emirates First Class Suite | Boeing 777 | Emirates                                              |[New, Emirates, First, Class, Suite, |, Boeing, 777, |, Emirates]                                                     |\n",
            "|Me-O Cats Commercial                                                                                |[Me-O, Cats, Commercial]                                                                                              |\n",
            "|TL;DW - Every DCEU Movie Before Justice League                                                      |[TL;DW, -, Every, DCEU, Movie, Before, Justice, League]                                                               |\n",
            "|Hunter Hayes - You Should Be Loved (Part One Of Pictures)                                           |[Hunter, Hayes, -, You, Should, Be, Loved, (Part, One, Of, Pictures)]                                                 |\n",
            "|Celebrities on Thanksgiving 2017!                                                                   |[Celebrities, on, Thanksgiving, 2017!]                                                                                |\n",
            "|Nickelback - The Betrayal Act III [Official Video]                                                  |[Nickelback, -, The, Betrayal, Act, III, [Official, Video]]                                                           |\n",
            "|U2 - The Blackout                                                                                   |[U2, -, The, Blackout]                                                                                                |\n",
            "|Iraq-Iran earthquake: Deadly tremor hits border region - BBC News                                   |[Iraq-Iran, earthquake:, Deadly, tremor, hits, border, region, -, BBC, News]                                          |\n",
            "|Dennis Smith Jr. and LeBron James go back and forth                                                 |[Dennis, Smith, Jr., and, LeBron, James, go, back, and, forth]                                                        |\n",
            "|Matthew Santoro - FACTS (Official Music Video) f. Ellevan & Humble the Poet                         |[Matthew, Santoro, -, FACTS, (Official, Music, Video), f., Ellevan, &, Humble, the, Poet]                             |\n",
            "|AFFAIRS, EX BOYFRIENDS, $18MILLION NET WORTH - GOOGLE US | Shawn and Andrew                         |[AFFAIRS,, EX, BOYFRIENDS,, $18MILLION, NET, WORTH, -, GOOGLE, US, |, Shawn, and, Andrew]                             |\n",
            "|iPhone X vs Makeup Transformation (Face ID TEST)                                                    |[iPhone, X, vs, Makeup, Transformation, (Face, ID, TEST)]                                                             |\n",
            "|People are Awesome & The Pet Collective present Pets are Awesome!                                   |[People, are, Awesome, &, The, Pet, Collective, present, Pets, are, Awesome!]                                         |\n",
            "|Stephon Marbury and Jimmer Fredette fight in China                                                  |[Stephon, Marbury, and, Jimmer, Fredette, fight, in, China]                                                           |\n",
            "|Heidelberg's nifty hook-and-lateral to the left tackle                                              |[Heidelberg's, nifty, hook-and-lateral, to, the, left, tackle]                                                        |\n",
            "|ELDERS REACT TO iPHONE X (Facial Recognition, Animojis)                                             |[ELDERS, REACT, TO, iPHONE, X, (Facial, Recognition,, Animojis)]                                                      |\n",
            "|Will It Watermarble?! Sister Edition | Watermarbling 9 random objects in nail polish!               |[Will, It, Watermarble?!, Sister, Edition, |, Watermarbling, 9, random, objects, in, nail, polish!]                   |\n",
            "|Lin-Manuel Miranda's next act: Helping rebuild Puerto Rico                                          |[Lin-Manuel, Miranda's, next, act:, Helping, rebuild, Puerto, Rico]                                                   |\n",
            "|Wildest Superstar distractions: WWE Top 10, Nov. 11, 2017                                           |[Wildest, Superstar, distractions:, WWE, Top, 10,, Nov., 11,, 2017]                                                   |\n",
            "|null                                                                                                |null                                                                                                                  |\n",
            "|null                                                                                                |null                                                                                                                  |\n",
            "|null                                                                                                |null                                                                                                                  |\n",
            "|Jennifer Lopez - Amor, Amor, Amor (Official Video) ft. Wisin                                        |[Jennifer, Lopez, -, Amor,, Amor,, Amor, (Official, Video), ft., Wisin]                                               |\n",
            "|BLIND(folded) CAKE DECORATING CONTEST (with Molly Burke) // Grace Helbig                            |[BLIND(folded), CAKE, DECORATING, CONTEST, (with, Molly, Burke), //, Grace, Helbig]                                   |\n",
            "|Jason Momoa Wows Hugh Grant With Some Dothraki | The Graham Norton Show                             |[Jason, Momoa, Wows, Hugh, Grant, With, Some, Dothraki, |, The, Graham, Norton, Show]                                 |\n",
            "|JaVale McGee's Parking Lot Chronicles: Episode 3                                                    |[JaVale, McGee's, Parking, Lot, Chronicles:, Episode, 3]                                                              |\n",
            "|Kellyanne Conway on Roy Moore This Week Abc: Trump’s Not Being Briefed On This Bit By Bit 11/12/17  |[Kellyanne, Conway, on, Roy, Moore, This, Week, Abc:, Trump’s, Not, Being, Briefed, On, This, Bit, By, Bit, 11/12/17] |\n",
            "|Train Swipes Parked Vehicle                                                                         |[Train, Swipes, Parked, Vehicle]                                                                                      |\n",
            "|Daddy's Home 2 - Movie Review                                                                       |[Daddy's, Home, 2, -, Movie, Review]                                                                                  |\n",
            "|The Super Google Pixel 2 Camera Upgrade!                                                            |[The, Super, Google, Pixel, 2, Camera, Upgrade!]                                                                      |\n",
            "|7.3 Magnitude Earthquake Along Iraq-Iran Border Leaves At Least 400 Dead, 7,200 Injured | TIME      |[7.3, Magnitude, Earthquake, Along, Iraq-Iran, Border, Leaves, At, Least, 400, Dead,, 7,200, Injured, |, TIME]        |\n",
            "|#VeteransDay: Thank You for Everything                                                              |[#VeteransDay:, Thank, You, for, Everything]                                                                          |\n",
            "|G-Eazy - The Plan (Official Video)                                                                  |[G-Eazy, -, The, Plan, (Official, Video)]                                                                             |\n",
            "|U.S. Navy Three Carrier Formation in Western Pacific Ocean                                          |[U.S., Navy, Three, Carrier, Formation, in, Western, Pacific, Ocean]                                                  |\n",
            "|Batman: Gotham by Gaslight - Exclusive Trailer (2018)                                               |[Batman:, Gotham, by, Gaslight, -, Exclusive, Trailer, (2018)]                                                        |\n",
            "|Wearing Online Dollar Store Makeup For A Week                                                       |[Wearing, Online, Dollar, Store, Makeup, For, A, Week]                                                                |\n",
            "|Getting My Driver's License | Lele Pons                                                             |[Getting, My, Driver's, License, |, Lele, Pons]                                                                       |\n",
            "|Watch Norman Reedus Come Face to Face with his ‘Walking Dead’ Double                                |[Watch, Norman, Reedus, Come, Face, to, Face, with, his, ‘Walking, Dead’, Double]                                     |\n",
            "|John Lewis Christmas Ad 2017 - #MozTheMonster                                                       |[John, Lewis, Christmas, Ad, 2017, -, #MozTheMonster]                                                                 |\n",
            "|Ed Sheeran - Perfect (Official Music Video)                                                         |[Ed, Sheeran, -, Perfect, (Official, Music, Video)]                                                                   |\n",
            "|Top 10 iPhone Apps for Productivity & Content Creation                                              |[Top, 10, iPhone, Apps, for, Productivity, &, Content, Creation]                                                      |\n",
            "|Reacting to Running a Half Marathon | MEGANBYTES EP. 101                                            |[Reacting, to, Running, a, Half, Marathon, |, MEGANBYTES, EP., 101]                                                   |\n",
            "|Justice League Reactions, Should Disney Buy Netflix - The John Campea Show                          |[Justice, League, Reactions,, Should, Disney, Buy, Netflix, -, The, John, Campea, Show]                               |\n",
            "|Foster The People - Sit Next to Me (Official Video)                                                 |[Foster, The, People, -, Sit, Next, to, Me, (Official, Video)]                                                        |\n",
            "|Rosie O’Donnell On Donald Trump’s Hostility Toward Her | WWHL                                       |[Rosie, O’Donnell, On, Donald, Trump’s, Hostility, Toward, Her, |, WWHL]                                              |\n",
            "|Mayo Clinic's first face transplant patient meets donor’s family                                    |[Mayo, Clinic's, first, face, transplant, patient, meets, donor’s, family]                                            |\n",
            "|Jason Derulo - Tip Toe feat. French Montana (Official Lyric Video)                                  |[Jason, Derulo, -, Tip, Toe, feat., French, Montana, (Official, Lyric, Video)]                                        |\n",
            "|Jason Momoa & Lisa Bonet: Love at First Sight                                                       |[Jason, Momoa, &, Lisa, Bonet:, Love, at, First, Sight]                                                               |\n",
            "|Howard Stern: George Takei Talks About Harvey Weinstein and Sexually Assault                        |[Howard, Stern:, George, Takei, Talks, About, Harvey, Weinstein, and, Sexually, Assault]                              |\n",
            "|A VERY #EXTRA EBAY SHOPPING HAUL!                                                                   |[A, VERY, #EXTRA, EBAY, SHOPPING, HAUL!]                                                                              |\n",
            "|EXTREME GOLDEN TAN TRANSFORMATION                                                                   |[EXTREME, GOLDEN, TAN, TRANSFORMATION]                                                                                |\n",
            "|Inside the Cheese-Aging Caves 30 Feet Under Brooklyn | I Got a Guy | Bon Appétit                    |[Inside, the, Cheese-Aging, Caves, 30, Feet, Under, Brooklyn, |, I, Got, a, Guy, |, Bon, Appétit]                     |\n",
            "|null                                                                                                |null                                                                                                                  |\n",
            "|null                                                                                                |null                                                                                                                  |\n",
            "|videos                                                                                              |[videos]                                                                                                              |\n",
            "|Some NFL players call for an end to Thursday night football after 8 players were injured last week  |[Some, NFL, players, call, for, an, end, to, Thursday, night, football, after, 8, players, were, injured, last, week] |\n",
            "|ICE PRIMER? DOES IT WORK?!                                                                          |[ICE, PRIMER?, DOES, IT, WORK?!]                                                                                      |\n",
            "|Mark Ruffalo Reads Hilarious Thirst Tweets                                                          |[Mark, Ruffalo, Reads, Hilarious, Thirst, Tweets]                                                                     |\n",
            "|Game Night Official Trailer #1 (2018) Rachel McAdams, Jason Bateman Comedy Movie HD                 |[Game, Night, Official, Trailer, #1, (2018), Rachel, McAdams,, Jason, Bateman, Comedy, Movie, HD]                     |\n",
            "|Little Big Town with Jimmy Webb - Wichita Lineman (Live from the CMA Awards)                        |[Little, Big, Town, with, Jimmy, Webb, -, Wichita, Lineman, (Live, from, the, CMA, Awards)]                           |\n",
            "|Alan Walker - All Falls Down (Behind The Scenes)                                                    |[Alan, Walker, -, All, Falls, Down, (Behind, The, Scenes)]                                                            |\n",
            "|FANTASY (feat. Amber Liu) by SUPERFRUIT                                                             |[FANTASY, (feat., Amber, Liu), by, SUPERFRUIT]                                                                        |\n",
            "|2017 Champions Showdown: Day 3                                                                      |[2017, Champions, Showdown:, Day, 3]                                                                                  |\n",
            "|Taylor Swift - “New Year’s Day” Fan Performance                                                     |[Taylor, Swift, -, “New, Year’s, Day”, Fan, Performance]                                                              |\n",
            "|Animal Adventure Park Giraffe Cam                                                                   |[Animal, Adventure, Park, Giraffe, Cam]                                                                               |\n",
            "|How To Dry a Shirt in 30 Seconds                                                                    |[How, To, Dry, a, Shirt, in, 30, Seconds]                                                                             |\n",
            "|Everything Wrong With Baby Driver In 14 Minutes Or Less                                             |[Everything, Wrong, With, Baby, Driver, In, 14, Minutes, Or, Less]                                                    |\n",
            "|Kimbra - Top of the World (Official Music Video)                                                    |[Kimbra, -, Top, of, the, World, (Official, Music, Video)]                                                            |\n",
            "|Camila Cabello COMPLETELY NAILS 'Finish The Lyric'                                                  |[Camila, Cabello, COMPLETELY, NAILS, 'Finish, The, Lyric']                                                            |\n",
            "|Edna's registered owner thought she was dead for 2 years!!!                                         |[Edna's, registered, owner, thought, she, was, dead, for, 2, years!!!]                                                |\n",
            "|When Someone Has A Crush on You | Lilly Singh                                                       |[When, Someone, Has, A, Crush, on, You, |, Lilly, Singh]                                                              |\n",
            "|Neck Deep - Parachute (Official Music Video)                                                        |[Neck, Deep, -, Parachute, (Official, Music, Video)]                                                                  |\n",
            "|Idiot's Guide to Japanese Squat Toilets                                                             |[Idiot's, Guide, to, Japanese, Squat, Toilets]                                                                        |\n",
            "|Sam Smith surprises brides at their wedding! (At The BBC)                                           |[Sam, Smith, surprises, brides, at, their, wedding!, (At, The, BBC)]                                                  |\n",
            "|Mark Wahlberg's Kids Use Him for His Celeb Connections                                              |[Mark, Wahlberg's, Kids, Use, Him, for, His, Celeb, Connections]                                                      |\n",
            "|H&M Holiday 2017 starring Nicki Minaj – official teaser                                             |[H&M, Holiday, 2017, starring, Nicki, Minaj, –, official, teaser]                                                     |\n",
            "|Camila Cabello - Havana (Vertical Video) ft. Young Thug                                             |[Camila, Cabello, -, Havana, (Vertical, Video), ft., Young, Thug]                                                     |\n",
            "|FIRST TIME IM DOING THIS! TALKS WITH LIZA.                                                          |[FIRST, TIME, IM, DOING, THIS!, TALKS, WITH, LIZA.]                                                                   |\n",
            "|Owen Wilson on Meeting Julia Roberts, and Tandem Biking                                             |[Owen, Wilson, on, Meeting, Julia, Roberts,, and, Tandem, Biking]                                                     |\n",
            "|Surprise After Surprise | October Vlog                                                              |[Surprise, After, Surprise, |, October, Vlog]                                                                         |\n",
            "|THE SHAPE OF WATER - Final Trailer                                                                  |[THE, SHAPE, OF, WATER, -, Final, Trailer]                                                                            |\n",
            "|Luke Bryan - O Holy Night (Audio)                                                                   |[Luke, Bryan, -, O, Holy, Night, (Audio)]                                                                             |\n",
            "|Niall Horan - Too Much To Ask (Acoustic)                                                            |[Niall, Horan, -, Too, Much, To, Ask, (Acoustic)]                                                                     |\n",
            "|Empire Of The Sun - Way To Go                                                                       |[Empire, Of, The, Sun, -, Way, To, Go]                                                                                |\n",
            "|NF - Let You Down                                                                                   |[NF, -, Let, You, Down]                                                                                               |\n",
            "|Google Pixelbook: $1000 of Weird!                                                                   |[Google, Pixelbook:, $1000, of, Weird!]                                                                               |\n",
            "|Bastille - World Gone Mad (from Bright: The Album) [Official Music Video]                           |[Bastille, -, World, Gone, Mad, (from, Bright:, The, Album), [Official, Music, Video]]                                |\n",
            "+----------------------------------------------------------------------------------------------------+----------------------------------------------------------------------------------------------------------------------+\n",
            "only showing top 121 rows\n",
            "\n"
          ]
        }
      ]
    },
    {
      "cell_type": "code",
      "source": [
        "array.select('title',array_contains(array.data,\"ABOUT\")).show()"
      ],
      "metadata": {
        "colab": {
          "base_uri": "https://localhost:8080/"
        },
        "id": "ckaxcbRBrROW",
        "outputId": "293700d3-3948-499b-9b87-50a6eb944742"
      },
      "execution_count": 462,
      "outputs": [
        {
          "output_type": "stream",
          "name": "stdout",
          "text": [
            "+--------------------+---------------------------+\n",
            "|               title|array_contains(data, ABOUT)|\n",
            "+--------------------+---------------------------+\n",
            "|WE WANT TO TALK A...|                       true|\n",
            "|The Trump Preside...|                      false|\n",
            "|Racist Superman |...|                      false|\n",
            "|Nickelback Lyrics...|                      false|\n",
            "|I Dare You: GOING...|                      false|\n",
            "|2 Weeks with iPho...|                      false|\n",
            "|Roy Moore & Jeff ...|                      false|\n",
            "|5 Ice Cream Gadge...|                      false|\n",
            "|The Greatest Show...|                      false|\n",
            "|Why the rise of t...|                      false|\n",
            "|Dion Lewis' 103-Y...|                      false|\n",
            "|(SPOILERS) 'Shiva...|                      false|\n",
            "|Marshmello - Bloc...|                      false|\n",
            "|Which Countries A...|                      false|\n",
            "|SHOPPING FOR NEW ...|                      false|\n",
            "|    The New SpotMini|                      false|\n",
            "|One Change That W...|                      false|\n",
            "|How does your bod...|                      false|\n",
            "|HomeMade Electric...|                      false|\n",
            "|Founding An Inbre...|                      false|\n",
            "+--------------------+---------------------------+\n",
            "only showing top 20 rows\n",
            "\n"
          ]
        }
      ]
    },
    {
      "cell_type": "code",
      "source": [
        "array.select('title',array_distinct(array.data)).show()"
      ],
      "metadata": {
        "colab": {
          "base_uri": "https://localhost:8080/"
        },
        "id": "f73j2sWkrRLy",
        "outputId": "99a7113c-1506-4b6a-d729-46906d8ac6cd"
      },
      "execution_count": 463,
      "outputs": [
        {
          "output_type": "stream",
          "name": "stdout",
          "text": [
            "+--------------------+--------------------+\n",
            "|               title|array_distinct(data)|\n",
            "+--------------------+--------------------+\n",
            "|WE WANT TO TALK A...|[WE, WANT, TO, TA...|\n",
            "|The Trump Preside...|[The, Trump, Pres...|\n",
            "|Racist Superman |...|[Racist, Superman...|\n",
            "|Nickelback Lyrics...|[Nickelback, Lyri...|\n",
            "|I Dare You: GOING...|[I, Dare, You:, G...|\n",
            "|2 Weeks with iPho...|[2, Weeks, with, ...|\n",
            "|Roy Moore & Jeff ...|[Roy, Moore, &, J...|\n",
            "|5 Ice Cream Gadge...|[5, Ice, Cream, G...|\n",
            "|The Greatest Show...|[The, Greatest, S...|\n",
            "|Why the rise of t...|[Why, the, rise, ...|\n",
            "|Dion Lewis' 103-Y...|[Dion, Lewis', 10...|\n",
            "|(SPOILERS) 'Shiva...|[(SPOILERS), 'Shi...|\n",
            "|Marshmello - Bloc...|[Marshmello, -, B...|\n",
            "|Which Countries A...|[Which, Countries...|\n",
            "|SHOPPING FOR NEW ...|[SHOPPING, FOR, N...|\n",
            "|    The New SpotMini|[The, New, SpotMini]|\n",
            "|One Change That W...|[One, Change, Tha...|\n",
            "|How does your bod...|[How, does, your,...|\n",
            "|HomeMade Electric...|[HomeMade, Electr...|\n",
            "|Founding An Inbre...|[Founding, An, In...|\n",
            "+--------------------+--------------------+\n",
            "only showing top 20 rows\n",
            "\n"
          ]
        }
      ]
    },
    {
      "cell_type": "code",
      "source": [],
      "metadata": {
        "id": "aouxLtfxrRJU"
      },
      "execution_count": null,
      "outputs": []
    },
    {
      "cell_type": "code",
      "source": [],
      "metadata": {
        "id": "-HeRQQVPrRGz"
      },
      "execution_count": null,
      "outputs": []
    },
    {
      "cell_type": "code",
      "source": [],
      "metadata": {
        "id": "lmPJAcmgrREs"
      },
      "execution_count": null,
      "outputs": []
    },
    {
      "cell_type": "code",
      "source": [],
      "metadata": {
        "id": "A1dmjDdSrRB3"
      },
      "execution_count": null,
      "outputs": []
    },
    {
      "cell_type": "code",
      "source": [],
      "metadata": {
        "id": "nUiqgBSKrQ_W"
      },
      "execution_count": null,
      "outputs": []
    },
    {
      "cell_type": "code",
      "source": [],
      "metadata": {
        "id": "vaEO2_NwrQ9D"
      },
      "execution_count": null,
      "outputs": []
    },
    {
      "cell_type": "code",
      "source": [],
      "metadata": {
        "id": "FpaeAtTDrQ6x"
      },
      "execution_count": null,
      "outputs": []
    },
    {
      "cell_type": "code",
      "source": [],
      "metadata": {
        "id": "Z8ubiPZvrQ4n"
      },
      "execution_count": null,
      "outputs": []
    },
    {
      "cell_type": "code",
      "source": [],
      "metadata": {
        "id": "k11hzhUirQ2X"
      },
      "execution_count": null,
      "outputs": []
    },
    {
      "cell_type": "code",
      "source": [],
      "metadata": {
        "id": "m0bPyh3trQz7"
      },
      "execution_count": null,
      "outputs": []
    },
    {
      "cell_type": "code",
      "source": [],
      "metadata": {
        "id": "40OLd_mYrQw_"
      },
      "execution_count": null,
      "outputs": []
    }
  ]
}